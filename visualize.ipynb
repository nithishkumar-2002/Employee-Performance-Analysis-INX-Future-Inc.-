{
 "cells": [
  {
   "cell_type": "code",
   "execution_count": 1,
   "id": "c6d86c35",
   "metadata": {},
   "outputs": [
    {
     "data": {
      "text/html": [
       "        <script type=\"text/javascript\">\n",
       "        window.PlotlyConfig = {MathJaxConfig: 'local'};\n",
       "        if (window.MathJax) {MathJax.Hub.Config({SVG: {font: \"STIX-Web\"}});}\n",
       "        if (typeof require !== 'undefined') {\n",
       "        require.undef(\"plotly\");\n",
       "        requirejs.config({\n",
       "            paths: {\n",
       "                'plotly': ['https://cdn.plot.ly/plotly-2.9.0.min']\n",
       "            }\n",
       "        });\n",
       "        require(['plotly'], function(Plotly) {\n",
       "            window._Plotly = Plotly;\n",
       "        });\n",
       "        }\n",
       "        </script>\n",
       "        "
      ]
     },
     "metadata": {},
     "output_type": "display_data"
    },
    {
     "data": {
      "text/html": [
       "        <script type=\"text/javascript\">\n",
       "        window.PlotlyConfig = {MathJaxConfig: 'local'};\n",
       "        if (window.MathJax) {MathJax.Hub.Config({SVG: {font: \"STIX-Web\"}});}\n",
       "        if (typeof require !== 'undefined') {\n",
       "        require.undef(\"plotly\");\n",
       "        requirejs.config({\n",
       "            paths: {\n",
       "                'plotly': ['https://cdn.plot.ly/plotly-2.9.0.min']\n",
       "            }\n",
       "        });\n",
       "        require(['plotly'], function(Plotly) {\n",
       "            window._Plotly = Plotly;\n",
       "        });\n",
       "        }\n",
       "        </script>\n",
       "        "
      ]
     },
     "metadata": {},
     "output_type": "display_data"
    }
   ],
   "source": [
    "# data analysis and wrangling\n",
    "import pandas as pd\n",
    "import numpy as np\n",
    "import random as rnd\n",
    "\n",
    "\n",
    "# visualization\n",
    "import seaborn as sns\n",
    "import matplotlib.pyplot as plt\n",
    "%matplotlib inline\n",
    "\n",
    "# Import statements required for Plotly \n",
    "import plotly.offline as py\n",
    "py.init_notebook_mode(connected=True)\n",
    "import plotly.graph_objs as go\n",
    "import plotly.tools as tls\n",
    "\n",
    "\n",
    "# for warnings \n",
    "import warnings\n",
    "warnings.filterwarnings('ignore')\n",
    "\n",
    "\n",
    "\n",
    "import numpy as np # linear algebra\n",
    "import pandas as pd # data processing, CSV file I/O (e.g. pd.read_csv)\n",
    "import seaborn as sns\n",
    "import matplotlib.pyplot as plt\n",
    "%matplotlib inline\n",
    "\n",
    "# Import statements required for Plotly \n",
    "import plotly.offline as py\n",
    "py.init_notebook_mode(connected=True)\n",
    "import plotly.graph_objs as go\n",
    "import plotly.tools as tls\n",
    "\n",
    "# Import and suppress warnings\n",
    "import warnings\n",
    "warnings.filterwarnings('ignore')"
   ]
  },
  {
   "cell_type": "code",
   "execution_count": 2,
   "id": "921fa6a7",
   "metadata": {},
   "outputs": [],
   "source": [
    "# Importing the excel file\n",
    "df=r\"C:\\Users\\nithi\\Desktop\\INX-Future-INC---Employee-Performance-Analysis--master\\INX-Future-INC---Employee-Performance-Analysis--master\\2. Data\\1. Raw Data\\INX_Future_Inc_Employee_Performance_CDS_Project2_Data_V1.8.xls\"\n",
    "original_data=pd.read_excel(df)"
   ]
  },
  {
   "cell_type": "markdown",
   "id": "e1e20474",
   "metadata": {},
   "source": [
    "# 1. Top 3 Important Factors effecting employee performance"
   ]
  },
  {
   "cell_type": "code",
   "execution_count": 3,
   "id": "16f260ca",
   "metadata": {},
   "outputs": [
    {
     "data": {
      "text/plain": [
       "(1200, 28)"
      ]
     },
     "execution_count": 3,
     "metadata": {},
     "output_type": "execute_result"
    }
   ],
   "source": [
    "# Printing the number of rows and columns using thr \"shape()\" function\n",
    "original_data.shape"
   ]
  },
  {
   "cell_type": "code",
   "execution_count": 4,
   "id": "e60ad900",
   "metadata": {},
   "outputs": [
    {
     "data": {
      "text/html": [
       "<div>\n",
       "<style scoped>\n",
       "    .dataframe tbody tr th:only-of-type {\n",
       "        vertical-align: middle;\n",
       "    }\n",
       "\n",
       "    .dataframe tbody tr th {\n",
       "        vertical-align: top;\n",
       "    }\n",
       "\n",
       "    .dataframe thead th {\n",
       "        text-align: right;\n",
       "    }\n",
       "</style>\n",
       "<table border=\"1\" class=\"dataframe\">\n",
       "  <thead>\n",
       "    <tr style=\"text-align: right;\">\n",
       "      <th></th>\n",
       "      <th>EmpNumber</th>\n",
       "      <th>Age</th>\n",
       "      <th>Gender</th>\n",
       "      <th>EducationBackground</th>\n",
       "      <th>MaritalStatus</th>\n",
       "      <th>EmpDepartment</th>\n",
       "      <th>EmpJobRole</th>\n",
       "      <th>BusinessTravelFrequency</th>\n",
       "      <th>DistanceFromHome</th>\n",
       "      <th>EmpEducationLevel</th>\n",
       "      <th>...</th>\n",
       "      <th>EmpRelationshipSatisfaction</th>\n",
       "      <th>TotalWorkExperienceInYears</th>\n",
       "      <th>TrainingTimesLastYear</th>\n",
       "      <th>EmpWorkLifeBalance</th>\n",
       "      <th>ExperienceYearsAtThisCompany</th>\n",
       "      <th>ExperienceYearsInCurrentRole</th>\n",
       "      <th>YearsSinceLastPromotion</th>\n",
       "      <th>YearsWithCurrManager</th>\n",
       "      <th>Attrition</th>\n",
       "      <th>PerformanceRating</th>\n",
       "    </tr>\n",
       "  </thead>\n",
       "  <tbody>\n",
       "    <tr>\n",
       "      <th>0</th>\n",
       "      <td>E1001000</td>\n",
       "      <td>32</td>\n",
       "      <td>Male</td>\n",
       "      <td>Marketing</td>\n",
       "      <td>Single</td>\n",
       "      <td>Sales</td>\n",
       "      <td>Sales Executive</td>\n",
       "      <td>Travel_Rarely</td>\n",
       "      <td>10</td>\n",
       "      <td>3</td>\n",
       "      <td>...</td>\n",
       "      <td>4</td>\n",
       "      <td>10</td>\n",
       "      <td>2</td>\n",
       "      <td>2</td>\n",
       "      <td>10</td>\n",
       "      <td>7</td>\n",
       "      <td>0</td>\n",
       "      <td>8</td>\n",
       "      <td>No</td>\n",
       "      <td>3</td>\n",
       "    </tr>\n",
       "    <tr>\n",
       "      <th>1</th>\n",
       "      <td>E1001006</td>\n",
       "      <td>47</td>\n",
       "      <td>Male</td>\n",
       "      <td>Marketing</td>\n",
       "      <td>Single</td>\n",
       "      <td>Sales</td>\n",
       "      <td>Sales Executive</td>\n",
       "      <td>Travel_Rarely</td>\n",
       "      <td>14</td>\n",
       "      <td>4</td>\n",
       "      <td>...</td>\n",
       "      <td>4</td>\n",
       "      <td>20</td>\n",
       "      <td>2</td>\n",
       "      <td>3</td>\n",
       "      <td>7</td>\n",
       "      <td>7</td>\n",
       "      <td>1</td>\n",
       "      <td>7</td>\n",
       "      <td>No</td>\n",
       "      <td>3</td>\n",
       "    </tr>\n",
       "    <tr>\n",
       "      <th>2</th>\n",
       "      <td>E1001007</td>\n",
       "      <td>40</td>\n",
       "      <td>Male</td>\n",
       "      <td>Life Sciences</td>\n",
       "      <td>Married</td>\n",
       "      <td>Sales</td>\n",
       "      <td>Sales Executive</td>\n",
       "      <td>Travel_Frequently</td>\n",
       "      <td>5</td>\n",
       "      <td>4</td>\n",
       "      <td>...</td>\n",
       "      <td>3</td>\n",
       "      <td>20</td>\n",
       "      <td>2</td>\n",
       "      <td>3</td>\n",
       "      <td>18</td>\n",
       "      <td>13</td>\n",
       "      <td>1</td>\n",
       "      <td>12</td>\n",
       "      <td>No</td>\n",
       "      <td>4</td>\n",
       "    </tr>\n",
       "    <tr>\n",
       "      <th>3</th>\n",
       "      <td>E1001009</td>\n",
       "      <td>41</td>\n",
       "      <td>Male</td>\n",
       "      <td>Human Resources</td>\n",
       "      <td>Divorced</td>\n",
       "      <td>Human Resources</td>\n",
       "      <td>Manager</td>\n",
       "      <td>Travel_Rarely</td>\n",
       "      <td>10</td>\n",
       "      <td>4</td>\n",
       "      <td>...</td>\n",
       "      <td>2</td>\n",
       "      <td>23</td>\n",
       "      <td>2</td>\n",
       "      <td>2</td>\n",
       "      <td>21</td>\n",
       "      <td>6</td>\n",
       "      <td>12</td>\n",
       "      <td>6</td>\n",
       "      <td>No</td>\n",
       "      <td>3</td>\n",
       "    </tr>\n",
       "    <tr>\n",
       "      <th>4</th>\n",
       "      <td>E1001010</td>\n",
       "      <td>60</td>\n",
       "      <td>Male</td>\n",
       "      <td>Marketing</td>\n",
       "      <td>Single</td>\n",
       "      <td>Sales</td>\n",
       "      <td>Sales Executive</td>\n",
       "      <td>Travel_Rarely</td>\n",
       "      <td>16</td>\n",
       "      <td>4</td>\n",
       "      <td>...</td>\n",
       "      <td>4</td>\n",
       "      <td>10</td>\n",
       "      <td>1</td>\n",
       "      <td>3</td>\n",
       "      <td>2</td>\n",
       "      <td>2</td>\n",
       "      <td>2</td>\n",
       "      <td>2</td>\n",
       "      <td>No</td>\n",
       "      <td>3</td>\n",
       "    </tr>\n",
       "  </tbody>\n",
       "</table>\n",
       "<p>5 rows × 28 columns</p>\n",
       "</div>"
      ],
      "text/plain": [
       "  EmpNumber  Age Gender EducationBackground MaritalStatus    EmpDepartment  \\\n",
       "0  E1001000   32   Male           Marketing        Single            Sales   \n",
       "1  E1001006   47   Male           Marketing        Single            Sales   \n",
       "2  E1001007   40   Male       Life Sciences       Married            Sales   \n",
       "3  E1001009   41   Male     Human Resources      Divorced  Human Resources   \n",
       "4  E1001010   60   Male           Marketing        Single            Sales   \n",
       "\n",
       "        EmpJobRole BusinessTravelFrequency  DistanceFromHome  \\\n",
       "0  Sales Executive           Travel_Rarely                10   \n",
       "1  Sales Executive           Travel_Rarely                14   \n",
       "2  Sales Executive       Travel_Frequently                 5   \n",
       "3          Manager           Travel_Rarely                10   \n",
       "4  Sales Executive           Travel_Rarely                16   \n",
       "\n",
       "   EmpEducationLevel  ...  EmpRelationshipSatisfaction  \\\n",
       "0                  3  ...                            4   \n",
       "1                  4  ...                            4   \n",
       "2                  4  ...                            3   \n",
       "3                  4  ...                            2   \n",
       "4                  4  ...                            4   \n",
       "\n",
       "   TotalWorkExperienceInYears  TrainingTimesLastYear  EmpWorkLifeBalance  \\\n",
       "0                          10                      2                   2   \n",
       "1                          20                      2                   3   \n",
       "2                          20                      2                   3   \n",
       "3                          23                      2                   2   \n",
       "4                          10                      1                   3   \n",
       "\n",
       "   ExperienceYearsAtThisCompany  ExperienceYearsInCurrentRole  \\\n",
       "0                            10                             7   \n",
       "1                             7                             7   \n",
       "2                            18                            13   \n",
       "3                            21                             6   \n",
       "4                             2                             2   \n",
       "\n",
       "  YearsSinceLastPromotion  YearsWithCurrManager  Attrition  PerformanceRating  \n",
       "0                       0                     8         No                  3  \n",
       "1                       1                     7         No                  3  \n",
       "2                       1                    12         No                  4  \n",
       "3                      12                     6         No                  3  \n",
       "4                       2                     2         No                  3  \n",
       "\n",
       "[5 rows x 28 columns]"
      ]
     },
     "execution_count": 4,
     "metadata": {},
     "output_type": "execute_result"
    }
   ],
   "source": [
    "# Displaying the first 4 rows of the dataset using the 'head()' function where 4 is given as a parameter\n",
    "original_data.head()"
   ]
  },
  {
   "cell_type": "code",
   "execution_count": 5,
   "id": "7120a651",
   "metadata": {},
   "outputs": [],
   "source": [
    "# A new pandas Dataframe is created to analyze department wise performance as asked.\n",
    "dept = original_data.iloc[:,[5,27]].copy()\n",
    "dept_per = dept.copy()"
   ]
  },
  {
   "cell_type": "code",
   "execution_count": 6,
   "id": "3eb3c347",
   "metadata": {},
   "outputs": [
    {
     "data": {
      "text/plain": [
       "EmpDepartment\n",
       "Data Science              3.050000\n",
       "Development               3.085873\n",
       "Finance                   2.775510\n",
       "Human Resources           2.925926\n",
       "Research & Development    2.921283\n",
       "Sales                     2.860590\n",
       "Name: PerformanceRating, dtype: float64"
      ]
     },
     "execution_count": 6,
     "metadata": {},
     "output_type": "execute_result"
    }
   ],
   "source": [
    "# Finding out the mean performance of all the departments and plotting its bar graph using seaborn.\n",
    "dept_per.groupby(by='EmpDepartment')['PerformanceRating'].mean()"
   ]
  },
  {
   "cell_type": "code",
   "execution_count": 7,
   "id": "6e071e05",
   "metadata": {},
   "outputs": [
    {
     "data": {
      "text/plain": [
       "<AxesSubplot:xlabel='EmpDepartment', ylabel='PerformanceRating'>"
      ]
     },
     "execution_count": 7,
     "metadata": {},
     "output_type": "execute_result"
    },
    {
     "data": {
      "image/png": "[encoded data removed]",
      "text/plain": [
       "<Figure size 720x324 with 1 Axes>"
      ]
     },
     "metadata": {
      "needs_background": "light"
     },
     "output_type": "display_data"
    }
   ],
   "source": [
    "plt.figure(figsize=(10,4.5))\n",
    "sns.barplot(dept_per['EmpDepartment'],dept_per['PerformanceRating'])"
   ]
  },
  {
   "cell_type": "markdown",
   "id": "28e14925",
   "metadata": {},
   "source": [
    "- The development has the best performance compared to others\n",
    "- The Finance has the lowest performance "
   ]
  },
  {
   "cell_type": "markdown",
   "id": "d03f048d",
   "metadata": {},
   "source": [
    "# 2.Department wise performances"
   ]
  },
  {
   "cell_type": "markdown",
   "id": "de81f8e6",
   "metadata": {},
   "source": [
    "In department wise performance,  we have to analyze the data by each department present in the category. The data frame has to be separated or sliced according to department wise. \n",
    "\n",
    "In Employee department feature there are six departments available. \n",
    "- Sales \n",
    "- Human Resoruces \n",
    "- Development \n",
    "- Data Science \n",
    "- Reserch & Devlopment \n",
    "-  Finace "
   ]
  },
  {
   "cell_type": "markdown",
   "id": "0f35b789",
   "metadata": {},
   "source": [
    "## Sales Department "
   ]
  },
  {
   "cell_type": "code",
   "execution_count": 8,
   "id": "c74a15cb",
   "metadata": {},
   "outputs": [
    {
     "data": {
      "text/html": [
       "<div>\n",
       "<style scoped>\n",
       "    .dataframe tbody tr th:only-of-type {\n",
       "        vertical-align: middle;\n",
       "    }\n",
       "\n",
       "    .dataframe tbody tr th {\n",
       "        vertical-align: top;\n",
       "    }\n",
       "\n",
       "    .dataframe thead th {\n",
       "        text-align: right;\n",
       "    }\n",
       "</style>\n",
       "<table border=\"1\" class=\"dataframe\">\n",
       "  <thead>\n",
       "    <tr style=\"text-align: right;\">\n",
       "      <th></th>\n",
       "      <th>EmpNumber</th>\n",
       "      <th>Age</th>\n",
       "      <th>Gender</th>\n",
       "      <th>EducationBackground</th>\n",
       "      <th>MaritalStatus</th>\n",
       "      <th>EmpDepartment</th>\n",
       "      <th>EmpJobRole</th>\n",
       "      <th>BusinessTravelFrequency</th>\n",
       "      <th>DistanceFromHome</th>\n",
       "      <th>EmpEducationLevel</th>\n",
       "      <th>...</th>\n",
       "      <th>EmpRelationshipSatisfaction</th>\n",
       "      <th>TotalWorkExperienceInYears</th>\n",
       "      <th>TrainingTimesLastYear</th>\n",
       "      <th>EmpWorkLifeBalance</th>\n",
       "      <th>ExperienceYearsAtThisCompany</th>\n",
       "      <th>ExperienceYearsInCurrentRole</th>\n",
       "      <th>YearsSinceLastPromotion</th>\n",
       "      <th>YearsWithCurrManager</th>\n",
       "      <th>Attrition</th>\n",
       "      <th>PerformanceRating</th>\n",
       "    </tr>\n",
       "  </thead>\n",
       "  <tbody>\n",
       "    <tr>\n",
       "      <th>0</th>\n",
       "      <td>E1001000</td>\n",
       "      <td>32</td>\n",
       "      <td>Male</td>\n",
       "      <td>Marketing</td>\n",
       "      <td>Single</td>\n",
       "      <td>Sales</td>\n",
       "      <td>Sales Executive</td>\n",
       "      <td>Travel_Rarely</td>\n",
       "      <td>10</td>\n",
       "      <td>3</td>\n",
       "      <td>...</td>\n",
       "      <td>4</td>\n",
       "      <td>10</td>\n",
       "      <td>2</td>\n",
       "      <td>2</td>\n",
       "      <td>10</td>\n",
       "      <td>7</td>\n",
       "      <td>0</td>\n",
       "      <td>8</td>\n",
       "      <td>No</td>\n",
       "      <td>3</td>\n",
       "    </tr>\n",
       "  </tbody>\n",
       "</table>\n",
       "<p>1 rows × 28 columns</p>\n",
       "</div>"
      ],
      "text/plain": [
       "  EmpNumber  Age Gender EducationBackground MaritalStatus EmpDepartment  \\\n",
       "0  E1001000   32   Male           Marketing        Single         Sales   \n",
       "\n",
       "        EmpJobRole BusinessTravelFrequency  DistanceFromHome  \\\n",
       "0  Sales Executive           Travel_Rarely                10   \n",
       "\n",
       "   EmpEducationLevel  ...  EmpRelationshipSatisfaction  \\\n",
       "0                  3  ...                            4   \n",
       "\n",
       "   TotalWorkExperienceInYears  TrainingTimesLastYear  EmpWorkLifeBalance  \\\n",
       "0                          10                      2                   2   \n",
       "\n",
       "   ExperienceYearsAtThisCompany  ExperienceYearsInCurrentRole  \\\n",
       "0                            10                             7   \n",
       "\n",
       "  YearsSinceLastPromotion  YearsWithCurrManager  Attrition  PerformanceRating  \n",
       "0                       0                     8         No                  3  \n",
       "\n",
       "[1 rows x 28 columns]"
      ]
     },
     "execution_count": 8,
     "metadata": {},
     "output_type": "execute_result"
    }
   ],
   "source": [
    "sales = original_data[original_data.EmpDepartment == 'Sales'] # Slicing the all coloums of Sales Row \n",
    "sales.head(1)"
   ]
  },
  {
   "cell_type": "markdown",
   "id": "51712897",
   "metadata": {},
   "source": [
    "###  (i) Performance Rating with respect to number of employees"
   ]
  },
  {
   "cell_type": "code",
   "execution_count": 9,
   "id": "8efece65",
   "metadata": {},
   "outputs": [
    {
     "data": {
      "image/png": "[encoded data removed]",
      "text/plain": [
       "<Figure size 432x288 with 1 Axes>"
      ]
     },
     "metadata": {
      "needs_background": "light"
     },
     "output_type": "display_data"
    }
   ],
   "source": [
    "sns.countplot(y=\"PerformanceRating\", data=sales, palette=\"Greens_d\");"
   ]
  },
  {
   "cell_type": "markdown",
   "id": "fb0ef92c",
   "metadata": {},
   "source": [
    "###  (ii) Performance Rating with respect to Age Group"
   ]
  },
  {
   "cell_type": "code",
   "execution_count": 10,
   "id": "ade6ab5e",
   "metadata": {},
   "outputs": [
    {
     "data": {
      "text/plain": [
       "<AxesSubplot:xlabel='PerformanceRating', ylabel='Age'>"
      ]
     },
     "execution_count": 10,
     "metadata": {},
     "output_type": "execute_result"
    },
    {
     "data": {
      "image/png": "[encoded data removed]",
      "text/plain": [
       "<Figure size 432x288 with 1 Axes>"
      ]
     },
     "metadata": {
      "needs_background": "light"
     },
     "output_type": "display_data"
    }
   ],
   "source": [
    "sns.boxplot(sales['PerformanceRating'], sales['Age'])"
   ]
  },
  {
   "cell_type": "markdown",
   "id": "db0bf435",
   "metadata": {},
   "source": [
    "### (iii) Performance based on Gender"
   ]
  },
  {
   "cell_type": "code",
   "execution_count": 11,
   "id": "da99ce72",
   "metadata": {},
   "outputs": [
    {
     "data": {
      "text/plain": [
       "<AxesSubplot:xlabel='Gender', ylabel='PerformanceRating'>"
      ]
     },
     "execution_count": 11,
     "metadata": {},
     "output_type": "execute_result"
    },
    {
     "data": {
      "image/png": "[encoded data removed]",
      "text/plain": [
       "<Figure size 432x288 with 1 Axes>"
      ]
     },
     "metadata": {
      "needs_background": "light"
     },
     "output_type": "display_data"
    }
   ],
   "source": [
    "sns.barplot(sales['Gender'], sales['PerformanceRating'])"
   ]
  },
  {
   "cell_type": "markdown",
   "id": "63878941",
   "metadata": {},
   "source": [
    "### (iv) Performance According to the Experience Level"
   ]
  },
  {
   "cell_type": "code",
   "execution_count": 12,
   "id": "31e986c1",
   "metadata": {},
   "outputs": [
    {
     "data": {
      "application/vnd.plotly.v1+json": {
       "config": {
        "linkText": "Export to plot.ly",
        "plotlyServerURL": "https://plot.ly",
        "showLink": false
       },
       "data": [
        {
         "boxmean": false,
         "marker": {
          "color": "#3D9970"
         },
         "name": "TotalWorkExperienceInYears",
         "orientation": "h",
         "type": "box",
         "x": [
          10,
          20,
          20,
          10,
          4,
          28,
          10,
          1,
          2,
          34,
          6,
          9,
          8,
          6,
          10,
          6,
          5,
          3,
          6,
          6,
          9,
          12,
          8,
          29,
          18,
          35,
          18,
          9,
          5,
          10,
          3,
          28,
          10,
          8,
          10,
          2,
          3,
          10,
          13,
          9,
          1,
          1,
          16,
          17,
          3,
          5,
          22,
          10,
          12,
          9,
          22,
          12,
          10,
          9,
          21,
          19,
          7,
          33,
          23,
          19,
          3,
          26,
          16,
          14,
          1,
          8,
          13,
          18,
          2,
          5,
          4,
          15,
          9,
          23,
          10,
          3,
          5,
          22,
          6,
          6,
          11,
          22,
          9,
          10,
          7,
          1,
          28,
          8,
          5,
          15,
          10,
          5,
          26,
          26,
          26,
          4,
          31,
          23,
          10,
          9,
          10,
          10,
          19,
          10,
          11,
          10,
          17,
          5,
          8,
          24,
          3,
          5,
          8,
          14,
          8,
          4,
          6,
          6,
          15,
          1,
          8,
          6,
          5,
          13,
          5,
          15,
          4,
          11,
          5,
          16,
          1,
          1,
          10,
          11,
          5,
          23,
          10,
          9,
          6,
          7,
          18,
          8,
          10,
          9,
          36,
          10,
          15,
          11,
          27,
          10,
          10,
          0,
          7,
          2,
          13,
          10,
          6,
          10,
          2,
          7,
          19,
          6,
          10,
          17,
          4,
          13,
          16,
          10,
          10,
          21,
          6,
          2,
          12,
          13,
          8,
          11,
          15,
          6,
          1,
          13,
          6,
          7,
          23,
          10,
          37,
          9,
          20,
          5,
          10,
          7,
          4,
          7,
          25,
          9,
          1,
          1,
          10,
          9,
          9,
          12,
          14,
          8,
          9,
          10,
          7,
          10,
          6,
          29,
          14,
          6,
          14,
          9,
          20,
          10,
          7,
          10,
          15,
          21,
          15,
          16,
          3,
          3,
          6,
          16,
          2,
          1,
          10,
          8,
          15,
          14,
          10,
          12,
          8,
          20,
          21,
          5,
          17,
          8,
          31,
          10,
          22,
          3,
          2,
          10,
          9,
          10,
          14,
          9,
          5,
          9,
          28,
          16,
          24,
          3,
          9,
          11,
          11,
          12,
          4,
          5,
          38,
          6,
          12,
          25,
          8,
          12,
          0,
          16,
          4,
          12,
          6,
          10,
          13,
          9,
          15,
          6,
          12,
          12,
          1,
          9,
          24,
          4,
          10,
          14,
          7,
          16,
          9,
          23,
          16,
          13,
          11,
          10,
          32,
          22,
          33,
          4,
          10,
          13,
          28,
          10,
          7,
          8,
          20,
          2,
          8,
          23,
          12,
          22,
          0,
          13,
          13,
          5,
          13,
          12,
          9,
          6,
          6,
          10,
          8,
          7,
          5,
          4,
          8,
          3,
          7,
          16,
          3,
          8,
          8,
          1,
          7,
          18,
          9,
          1,
          10,
          8,
          5,
          6,
          10,
          6,
          3,
          21,
          10,
          32,
          15,
          4,
          10,
          14,
          37,
          16,
          15,
          10,
          9,
          10,
          0,
          20,
          5,
          10,
          22,
          6,
          7,
          9,
          13,
          17,
          8,
          5,
          3,
          6,
          4,
          8,
          12,
          6,
          4
         ],
         "y": [
          3,
          3,
          4,
          3,
          3,
          3,
          4,
          3,
          3,
          4,
          4,
          3,
          3,
          4,
          3,
          3,
          3,
          3,
          3,
          3,
          3,
          3,
          3,
          3,
          3,
          3,
          3,
          3,
          3,
          3,
          3,
          3,
          3,
          4,
          3,
          3,
          3,
          3,
          3,
          3,
          3,
          3,
          3,
          2,
          3,
          3,
          3,
          3,
          3,
          3,
          3,
          3,
          3,
          3,
          4,
          3,
          2,
          2,
          3,
          3,
          2,
          3,
          3,
          3,
          4,
          3,
          3,
          3,
          3,
          3,
          3,
          2,
          3,
          2,
          3,
          3,
          3,
          3,
          3,
          2,
          2,
          3,
          4,
          3,
          2,
          3,
          4,
          3,
          3,
          3,
          3,
          3,
          2,
          2,
          3,
          3,
          4,
          3,
          3,
          3,
          2,
          3,
          3,
          3,
          2,
          3,
          2,
          3,
          4,
          2,
          3,
          3,
          2,
          2,
          2,
          3,
          2,
          3,
          3,
          3,
          3,
          2,
          3,
          2,
          3,
          3,
          3,
          3,
          2,
          2,
          3,
          3,
          3,
          3,
          3,
          3,
          3,
          2,
          2,
          4,
          3,
          2,
          2,
          3,
          4,
          3,
          3,
          3,
          3,
          2,
          3,
          3,
          2,
          3,
          4,
          3,
          3,
          3,
          3,
          4,
          3,
          3,
          3,
          3,
          3,
          3,
          2,
          3,
          3,
          2,
          4,
          2,
          3,
          3,
          3,
          4,
          3,
          3,
          3,
          2,
          2,
          3,
          3,
          2,
          2,
          2,
          3,
          3,
          4,
          2,
          3,
          3,
          2,
          2,
          3,
          3,
          2,
          3,
          3,
          2,
          4,
          3,
          3,
          3,
          3,
          2,
          3,
          3,
          3,
          2,
          2,
          3,
          3,
          3,
          3,
          3,
          2,
          2,
          2,
          3,
          2,
          2,
          3,
          3,
          3,
          3,
          2,
          4,
          4,
          3,
          2,
          4,
          3,
          3,
          2,
          3,
          3,
          2,
          2,
          3,
          2,
          3,
          3,
          3,
          3,
          2,
          3,
          2,
          3,
          2,
          2,
          3,
          3,
          3,
          3,
          3,
          3,
          2,
          3,
          4,
          3,
          3,
          3,
          3,
          3,
          2,
          3,
          3,
          2,
          3,
          2,
          3,
          2,
          2,
          3,
          3,
          2,
          4,
          4,
          3,
          2,
          3,
          2,
          3,
          3,
          3,
          3,
          3,
          3,
          2,
          2,
          4,
          3,
          4,
          2,
          3,
          3,
          3,
          3,
          3,
          4,
          4,
          2,
          3,
          3,
          3,
          3,
          3,
          3,
          3,
          3,
          3,
          3,
          3,
          4,
          3,
          3,
          3,
          3,
          3,
          3,
          3,
          3,
          2,
          3,
          2,
          2,
          2,
          3,
          3,
          3,
          3,
          3,
          3,
          2,
          3,
          2,
          2,
          3,
          3,
          3,
          3,
          3,
          3,
          3,
          3,
          2,
          2,
          2,
          3,
          2,
          3,
          3,
          4,
          3,
          3,
          3,
          3,
          2,
          3,
          3,
          3,
          2,
          3,
          3,
          3,
          3,
          3,
          4,
          4,
          3,
          4,
          2
         ]
        },
        {
         "boxmean": false,
         "marker": {
          "color": "#FF4136"
         },
         "name": "ExperienceYearsAtThisCompany",
         "orientation": "h",
         "type": "box",
         "x": [
          10,
          7,
          18,
          2,
          2,
          22,
          8,
          1,
          2,
          34,
          6,
          8,
          5,
          6,
          10,
          4,
          4,
          3,
          3,
          3,
          9,
          9,
          8,
          20,
          18,
          5,
          5,
          1,
          5,
          10,
          2,
          2,
          5,
          7,
          10,
          2,
          3,
          5,
          7,
          9,
          1,
          1,
          16,
          14,
          3,
          5,
          17,
          8,
          10,
          8,
          1,
          7,
          10,
          9,
          1,
          1,
          2,
          32,
          12,
          18,
          2,
          9,
          15,
          6,
          1,
          7,
          9,
          1,
          2,
          0,
          3,
          15,
          8,
          12,
          1,
          2,
          5,
          9,
          5,
          6,
          11,
          21,
          6,
          10,
          4,
          1,
          26,
          4,
          0,
          7,
          10,
          4,
          22,
          24,
          11,
          3,
          29,
          21,
          10,
          5,
          8,
          10,
          19,
          9,
          7,
          10,
          15,
          1,
          6,
          19,
          1,
          5,
          5,
          4,
          5,
          3,
          3,
          6,
          5,
          1,
          3,
          3,
          5,
          13,
          4,
          13,
          2,
          1,
          3,
          15,
          1,
          1,
          10,
          5,
          4,
          13,
          10,
          8,
          5,
          3,
          8,
          2,
          10,
          4,
          36,
          9,
          1,
          7,
          1,
          10,
          5,
          0,
          2,
          2,
          11,
          10,
          6,
          10,
          2,
          6,
          9,
          6,
          10,
          13,
          1,
          10,
          2,
          0,
          4,
          21,
          5,
          2,
          7,
          11,
          5,
          0,
          15,
          2,
          1,
          12,
          2,
          2,
          22,
          10,
          16,
          3,
          4,
          5,
          8,
          7,
          0,
          2,
          19,
          9,
          1,
          1,
          10,
          5,
          8,
          4,
          5,
          5,
          4,
          10,
          7,
          3,
          0,
          1,
          0,
          5,
          14,
          8,
          1,
          10,
          7,
          10,
          2,
          20,
          11,
          15,
          2,
          2,
          5,
          9,
          2,
          1,
          9,
          8,
          15,
          5,
          10,
          6,
          6,
          3,
          20,
          4,
          9,
          6,
          25,
          9,
          2,
          3,
          2,
          5,
          9,
          9,
          9,
          4,
          2,
          9,
          21,
          15,
          1,
          0,
          9,
          10,
          11,
          11,
          3,
          5,
          37,
          6,
          5,
          25,
          7,
          7,
          0,
          2,
          2,
          9,
          2,
          10,
          7,
          9,
          12,
          4,
          10,
          8,
          0,
          5,
          24,
          4,
          10,
          14,
          7,
          1,
          6,
          19,
          6,
          9,
          11,
          10,
          7,
          17,
          33,
          3,
          3,
          8,
          7,
          0,
          5,
          8,
          20,
          2,
          8,
          20,
          11,
          22,
          0,
          13,
          13,
          5,
          7,
          1,
          7,
          5,
          4,
          10,
          8,
          7,
          0,
          4,
          8,
          3,
          1,
          13,
          3,
          8,
          6,
          1,
          7,
          7,
          5,
          1,
          10,
          5,
          5,
          5,
          10,
          5,
          2,
          20,
          9,
          1,
          3,
          3,
          10,
          9,
          10,
          14,
          11,
          6,
          8,
          5,
          0,
          1,
          5,
          10,
          18,
          5,
          7,
          3,
          7,
          3,
          8,
          4,
          3,
          6,
          3,
          7,
          2,
          6,
          2
         ],
         "y": [
          3,
          3,
          4,
          3,
          3,
          3,
          4,
          3,
          3,
          4,
          4,
          3,
          3,
          4,
          3,
          3,
          3,
          3,
          3,
          3,
          3,
          3,
          3,
          3,
          3,
          3,
          3,
          3,
          3,
          3,
          3,
          3,
          3,
          4,
          3,
          3,
          3,
          3,
          3,
          3,
          3,
          3,
          3,
          2,
          3,
          3,
          3,
          3,
          3,
          3,
          3,
          3,
          3,
          3,
          4,
          3,
          2,
          2,
          3,
          3,
          2,
          3,
          3,
          3,
          4,
          3,
          3,
          3,
          3,
          3,
          3,
          2,
          3,
          2,
          3,
          3,
          3,
          3,
          3,
          2,
          2,
          3,
          4,
          3,
          2,
          3,
          4,
          3,
          3,
          3,
          3,
          3,
          2,
          2,
          3,
          3,
          4,
          3,
          3,
          3,
          2,
          3,
          3,
          3,
          2,
          3,
          2,
          3,
          4,
          2,
          3,
          3,
          2,
          2,
          2,
          3,
          2,
          3,
          3,
          3,
          3,
          2,
          3,
          2,
          3,
          3,
          3,
          3,
          2,
          2,
          3,
          3,
          3,
          3,
          3,
          3,
          3,
          2,
          2,
          4,
          3,
          2,
          2,
          3,
          4,
          3,
          3,
          3,
          3,
          2,
          3,
          3,
          2,
          3,
          4,
          3,
          3,
          3,
          3,
          4,
          3,
          3,
          3,
          3,
          3,
          3,
          2,
          3,
          3,
          2,
          4,
          2,
          3,
          3,
          3,
          4,
          3,
          3,
          3,
          2,
          2,
          3,
          3,
          2,
          2,
          2,
          3,
          3,
          4,
          2,
          3,
          3,
          2,
          2,
          3,
          3,
          2,
          3,
          3,
          2,
          4,
          3,
          3,
          3,
          3,
          2,
          3,
          3,
          3,
          2,
          2,
          3,
          3,
          3,
          3,
          3,
          2,
          2,
          2,
          3,
          2,
          2,
          3,
          3,
          3,
          3,
          2,
          4,
          4,
          3,
          2,
          4,
          3,
          3,
          2,
          3,
          3,
          2,
          2,
          3,
          2,
          3,
          3,
          3,
          3,
          2,
          3,
          2,
          3,
          2,
          2,
          3,
          3,
          3,
          3,
          3,
          3,
          2,
          3,
          4,
          3,
          3,
          3,
          3,
          3,
          2,
          3,
          3,
          2,
          3,
          2,
          3,
          2,
          2,
          3,
          3,
          2,
          4,
          4,
          3,
          2,
          3,
          2,
          3,
          3,
          3,
          3,
          3,
          3,
          2,
          2,
          4,
          3,
          4,
          2,
          3,
          3,
          3,
          3,
          3,
          4,
          4,
          2,
          3,
          3,
          3,
          3,
          3,
          3,
          3,
          3,
          3,
          3,
          3,
          4,
          3,
          3,
          3,
          3,
          3,
          3,
          3,
          3,
          2,
          3,
          2,
          2,
          2,
          3,
          3,
          3,
          3,
          3,
          3,
          2,
          3,
          2,
          2,
          3,
          3,
          3,
          3,
          3,
          3,
          3,
          3,
          2,
          2,
          2,
          3,
          2,
          3,
          3,
          4,
          3,
          3,
          3,
          3,
          2,
          3,
          3,
          3,
          2,
          3,
          3,
          3,
          3,
          3,
          4,
          4,
          3,
          4,
          2
         ]
        },
        {
         "boxmean": false,
         "marker": {
          "color": "#FF851B"
         },
         "name": "ExperienceYearsInCurrentRole",
         "orientation": "h",
         "type": "box",
         "x": [
          7,
          7,
          13,
          2,
          2,
          2,
          7,
          0,
          2,
          6,
          5,
          7,
          4,
          5,
          7,
          3,
          2,
          2,
          2,
          2,
          8,
          7,
          7,
          6,
          14,
          2,
          4,
          0,
          3,
          8,
          2,
          0,
          4,
          6,
          0,
          2,
          2,
          4,
          7,
          8,
          0,
          0,
          7,
          1,
          1,
          2,
          13,
          4,
          9,
          7,
          0,
          7,
          8,
          0,
          0,
          0,
          2,
          14,
          11,
          7,
          2,
          3,
          1,
          4,
          0,
          7,
          4,
          0,
          2,
          0,
          2,
          10,
          7,
          9,
          0,
          2,
          2,
          8,
          2,
          5,
          8,
          9,
          4,
          3,
          3,
          0,
          15,
          3,
          0,
          7,
          7,
          3,
          9,
          10,
          4,
          2,
          10,
          7,
          7,
          4,
          7,
          8,
          2,
          3,
          7,
          8,
          7,
          0,
          2,
          7,
          0,
          3,
          4,
          2,
          4,
          2,
          2,
          2,
          4,
          0,
          2,
          2,
          4,
          7,
          3,
          9,
          1,
          0,
          2,
          9,
          0,
          0,
          7,
          4,
          2,
          12,
          9,
          4,
          3,
          2,
          7,
          2,
          8,
          2,
          6,
          8,
          0,
          6,
          0,
          7,
          2,
          0,
          2,
          2,
          9,
          0,
          2,
          0,
          2,
          5,
          7,
          3,
          9,
          7,
          0,
          6,
          2,
          0,
          3,
          8,
          2,
          2,
          7,
          7,
          1,
          0,
          14,
          2,
          0,
          7,
          2,
          1,
          14,
          8,
          9,
          2,
          2,
          3,
          7,
          7,
          0,
          2,
          17,
          8,
          0,
          0,
          9,
          3,
          7,
          2,
          4,
          2,
          2,
          4,
          7,
          2,
          0,
          0,
          0,
          3,
          8,
          7,
          0,
          8,
          7,
          7,
          2,
          8,
          8,
          13,
          2,
          2,
          3,
          8,
          2,
          0,
          7,
          7,
          12,
          4,
          7,
          3,
          3,
          2,
          9,
          2,
          6,
          4,
          8,
          7,
          2,
          2,
          2,
          3,
          8,
          5,
          6,
          3,
          2,
          8,
          16,
          13,
          0,
          0,
          8,
          7,
          8,
          8,
          2,
          4,
          10,
          4,
          3,
          12,
          7,
          7,
          0,
          2,
          2,
          7,
          2,
          8,
          7,
          8,
          11,
          3,
          9,
          3,
          0,
          4,
          13,
          3,
          4,
          8,
          7,
          0,
          3,
          7,
          2,
          8,
          10,
          7,
          0,
          13,
          7,
          2,
          2,
          7,
          7,
          0,
          4,
          0,
          16,
          2,
          7,
          4,
          9,
          10,
          0,
          8,
          12,
          4,
          7,
          0,
          7,
          4,
          3,
          9,
          7,
          7,
          0,
          3,
          7,
          2,
          0,
          9,
          2,
          7,
          4,
          0,
          5,
          7,
          2,
          0,
          9,
          4,
          4,
          4,
          7,
          3,
          2,
          15,
          8,
          0,
          2,
          2,
          3,
          7,
          9,
          3,
          9,
          5,
          7,
          4,
          0,
          0,
          4,
          7,
          16,
          3,
          4,
          1,
          7,
          0,
          2,
          3,
          2,
          0,
          2,
          7,
          2,
          5,
          2
         ],
         "y": [
          3,
          3,
          4,
          3,
          3,
          3,
          4,
          3,
          3,
          4,
          4,
          3,
          3,
          4,
          3,
          3,
          3,
          3,
          3,
          3,
          3,
          3,
          3,
          3,
          3,
          3,
          3,
          3,
          3,
          3,
          3,
          3,
          3,
          4,
          3,
          3,
          3,
          3,
          3,
          3,
          3,
          3,
          3,
          2,
          3,
          3,
          3,
          3,
          3,
          3,
          3,
          3,
          3,
          3,
          4,
          3,
          2,
          2,
          3,
          3,
          2,
          3,
          3,
          3,
          4,
          3,
          3,
          3,
          3,
          3,
          3,
          2,
          3,
          2,
          3,
          3,
          3,
          3,
          3,
          2,
          2,
          3,
          4,
          3,
          2,
          3,
          4,
          3,
          3,
          3,
          3,
          3,
          2,
          2,
          3,
          3,
          4,
          3,
          3,
          3,
          2,
          3,
          3,
          3,
          2,
          3,
          2,
          3,
          4,
          2,
          3,
          3,
          2,
          2,
          2,
          3,
          2,
          3,
          3,
          3,
          3,
          2,
          3,
          2,
          3,
          3,
          3,
          3,
          2,
          2,
          3,
          3,
          3,
          3,
          3,
          3,
          3,
          2,
          2,
          4,
          3,
          2,
          2,
          3,
          4,
          3,
          3,
          3,
          3,
          2,
          3,
          3,
          2,
          3,
          4,
          3,
          3,
          3,
          3,
          4,
          3,
          3,
          3,
          3,
          3,
          3,
          2,
          3,
          3,
          2,
          4,
          2,
          3,
          3,
          3,
          4,
          3,
          3,
          3,
          2,
          2,
          3,
          3,
          2,
          2,
          2,
          3,
          3,
          4,
          2,
          3,
          3,
          2,
          2,
          3,
          3,
          2,
          3,
          3,
          2,
          4,
          3,
          3,
          3,
          3,
          2,
          3,
          3,
          3,
          2,
          2,
          3,
          3,
          3,
          3,
          3,
          2,
          2,
          2,
          3,
          2,
          2,
          3,
          3,
          3,
          3,
          2,
          4,
          4,
          3,
          2,
          4,
          3,
          3,
          2,
          3,
          3,
          2,
          2,
          3,
          2,
          3,
          3,
          3,
          3,
          2,
          3,
          2,
          3,
          2,
          2,
          3,
          3,
          3,
          3,
          3,
          3,
          2,
          3,
          4,
          3,
          3,
          3,
          3,
          3,
          2,
          3,
          3,
          2,
          3,
          2,
          3,
          2,
          2,
          3,
          3,
          2,
          4,
          4,
          3,
          2,
          3,
          2,
          3,
          3,
          3,
          3,
          3,
          3,
          2,
          2,
          4,
          3,
          4,
          2,
          3,
          3,
          3,
          3,
          3,
          4,
          4,
          2,
          3,
          3,
          3,
          3,
          3,
          3,
          3,
          3,
          3,
          3,
          3,
          4,
          3,
          3,
          3,
          3,
          3,
          3,
          3,
          3,
          2,
          3,
          2,
          2,
          2,
          3,
          3,
          3,
          3,
          3,
          3,
          2,
          3,
          2,
          2,
          3,
          3,
          3,
          3,
          3,
          3,
          3,
          3,
          2,
          2,
          2,
          3,
          2,
          3,
          3,
          4,
          3,
          3,
          3,
          3,
          2,
          3,
          3,
          3,
          2,
          3,
          3,
          3,
          3,
          3,
          4,
          4,
          3,
          4,
          2
         ]
        }
       ],
       "layout": {
        "boxmode": "group",
        "template": {
         "data": {
          "bar": [
           {
            "error_x": {
             "color": "#2a3f5f"
            },
            "error_y": {
             "color": "#2a3f5f"
            },
            "marker": {
             "line": {
              "color": "#E5ECF6",
              "width": 0.5
             },
             "pattern": {
              "fillmode": "overlay",
              "size": 10,
              "solidity": 0.2
             }
            },
            "type": "bar"
           }
          ],
          "barpolar": [
           {
            "marker": {
             "line": {
              "color": "#E5ECF6",
              "width": 0.5
             },
             "pattern": {
              "fillmode": "overlay",
              "size": 10,
              "solidity": 0.2
             }
            },
            "type": "barpolar"
           }
          ],
          "carpet": [
           {
            "aaxis": {
             "endlinecolor": "#2a3f5f",
             "gridcolor": "white",
             "linecolor": "white",
             "minorgridcolor": "white",
             "startlinecolor": "#2a3f5f"
            },
            "baxis": {
             "endlinecolor": "#2a3f5f",
             "gridcolor": "white",
             "linecolor": "white",
             "minorgridcolor": "white",
             "startlinecolor": "#2a3f5f"
            },
            "type": "carpet"
           }
          ],
          "choropleth": [
           {
            "colorbar": {
             "outlinewidth": 0,
             "ticks": ""
            },
            "type": "choropleth"
           }
          ],
          "contour": [
           {
            "colorbar": {
             "outlinewidth": 0,
             "ticks": ""
            },
            "colorscale": [
             [
              0,
              "#0d0887"
             ],
             [
              0.1111111111111111,
              "#46039f"
             ],
             [
              0.2222222222222222,
              "#7201a8"
             ],
             [
              0.3333333333333333,
              "#9c179e"
             ],
             [
              0.4444444444444444,
              "#bd3786"
             ],
             [
              0.5555555555555556,
              "#d8576b"
             ],
             [
              0.6666666666666666,
              "#ed7953"
             ],
             [
              0.7777777777777778,
              "#fb9f3a"
             ],
             [
              0.8888888888888888,
              "#fdca26"
             ],
             [
              1,
              "#f0f921"
             ]
            ],
            "type": "contour"
           }
          ],
          "contourcarpet": [
           {
            "colorbar": {
             "outlinewidth": 0,
             "ticks": ""
            },
            "type": "contourcarpet"
           }
          ],
          "heatmap": [
           {
            "colorbar": {
             "outlinewidth": 0,
             "ticks": ""
            },
            "colorscale": [
             [
              0,
              "#0d0887"
             ],
             [
              0.1111111111111111,
              "#46039f"
             ],
             [
              0.2222222222222222,
              "#7201a8"
             ],
             [
              0.3333333333333333,
              "#9c179e"
             ],
             [
              0.4444444444444444,
              "#bd3786"
             ],
             [
              0.5555555555555556,
              "#d8576b"
             ],
             [
              0.6666666666666666,
              "#ed7953"
             ],
             [
              0.7777777777777778,
              "#fb9f3a"
             ],
             [
              0.8888888888888888,
              "#fdca26"
             ],
             [
              1,
              "#f0f921"
             ]
            ],
            "type": "heatmap"
           }
          ],
          "heatmapgl": [
           {
            "colorbar": {
             "outlinewidth": 0,
             "ticks": ""
            },
            "colorscale": [
             [
              0,
              "#0d0887"
             ],
             [
              0.1111111111111111,
              "#46039f"
             ],
             [
              0.2222222222222222,
              "#7201a8"
             ],
             [
              0.3333333333333333,
              "#9c179e"
             ],
             [
              0.4444444444444444,
              "#bd3786"
             ],
             [
              0.5555555555555556,
              "#d8576b"
             ],
             [
              0.6666666666666666,
              "#ed7953"
             ],
             [
              0.7777777777777778,
              "#fb9f3a"
             ],
             [
              0.8888888888888888,
              "#fdca26"
             ],
             [
              1,
              "#f0f921"
             ]
            ],
            "type": "heatmapgl"
           }
          ],
          "histogram": [
           {
            "marker": {
             "pattern": {
              "fillmode": "overlay",
              "size": 10,
              "solidity": 0.2
             }
            },
            "type": "histogram"
           }
          ],
          "histogram2d": [
           {
            "colorbar": {
             "outlinewidth": 0,
             "ticks": ""
            },
            "colorscale": [
             [
              0,
              "#0d0887"
             ],
             [
              0.1111111111111111,
              "#46039f"
             ],
             [
              0.2222222222222222,
              "#7201a8"
             ],
             [
              0.3333333333333333,
              "#9c179e"
             ],
             [
              0.4444444444444444,
              "#bd3786"
             ],
             [
              0.5555555555555556,
              "#d8576b"
             ],
             [
              0.6666666666666666,
              "#ed7953"
             ],
             [
              0.7777777777777778,
              "#fb9f3a"
             ],
             [
              0.8888888888888888,
              "#fdca26"
             ],
             [
              1,
              "#f0f921"
             ]
            ],
            "type": "histogram2d"
           }
          ],
          "histogram2dcontour": [
           {
            "colorbar": {
             "outlinewidth": 0,
             "ticks": ""
            },
            "colorscale": [
             [
              0,
              "#0d0887"
             ],
             [
              0.1111111111111111,
              "#46039f"
             ],
             [
              0.2222222222222222,
              "#7201a8"
             ],
             [
              0.3333333333333333,
              "#9c179e"
             ],
             [
              0.4444444444444444,
              "#bd3786"
             ],
             [
              0.5555555555555556,
              "#d8576b"
             ],
             [
              0.6666666666666666,
              "#ed7953"
             ],
             [
              0.7777777777777778,
              "#fb9f3a"
             ],
             [
              0.8888888888888888,
              "#fdca26"
             ],
             [
              1,
              "#f0f921"
             ]
            ],
            "type": "histogram2dcontour"
           }
          ],
          "mesh3d": [
           {
            "colorbar": {
             "outlinewidth": 0,
             "ticks": ""
            },
            "type": "mesh3d"
           }
          ],
          "parcoords": [
           {
            "line": {
             "colorbar": {
              "outlinewidth": 0,
              "ticks": ""
             }
            },
            "type": "parcoords"
           }
          ],
          "pie": [
           {
            "automargin": true,
            "type": "pie"
           }
          ],
          "scatter": [
           {
            "marker": {
             "colorbar": {
              "outlinewidth": 0,
              "ticks": ""
             }
            },
            "type": "scatter"
           }
          ],
          "scatter3d": [
           {
            "line": {
             "colorbar": {
              "outlinewidth": 0,
              "ticks": ""
             }
            },
            "marker": {
             "colorbar": {
              "outlinewidth": 0,
              "ticks": ""
             }
            },
            "type": "scatter3d"
           }
          ],
          "scattercarpet": [
           {
            "marker": {
             "colorbar": {
              "outlinewidth": 0,
              "ticks": ""
             }
            },
            "type": "scattercarpet"
           }
          ],
          "scattergeo": [
           {
            "marker": {
             "colorbar": {
              "outlinewidth": 0,
              "ticks": ""
             }
            },
            "type": "scattergeo"
           }
          ],
          "scattergl": [
           {
            "marker": {
             "colorbar": {
              "outlinewidth": 0,
              "ticks": ""
             }
            },
            "type": "scattergl"
           }
          ],
          "scattermapbox": [
           {
            "marker": {
             "colorbar": {
              "outlinewidth": 0,
              "ticks": ""
             }
            },
            "type": "scattermapbox"
           }
          ],
          "scatterpolar": [
           {
            "marker": {
             "colorbar": {
              "outlinewidth": 0,
              "ticks": ""
             }
            },
            "type": "scatterpolar"
           }
          ],
          "scatterpolargl": [
           {
            "marker": {
             "colorbar": {
              "outlinewidth": 0,
              "ticks": ""
             }
            },
            "type": "scatterpolargl"
           }
          ],
          "scatterternary": [
           {
            "marker": {
             "colorbar": {
              "outlinewidth": 0,
              "ticks": ""
             }
            },
            "type": "scatterternary"
           }
          ],
          "surface": [
           {
            "colorbar": {
             "outlinewidth": 0,
             "ticks": ""
            },
            "colorscale": [
             [
              0,
              "#0d0887"
             ],
             [
              0.1111111111111111,
              "#46039f"
             ],
             [
              0.2222222222222222,
              "#7201a8"
             ],
             [
              0.3333333333333333,
              "#9c179e"
             ],
             [
              0.4444444444444444,
              "#bd3786"
             ],
             [
              0.5555555555555556,
              "#d8576b"
             ],
             [
              0.6666666666666666,
              "#ed7953"
             ],
             [
              0.7777777777777778,
              "#fb9f3a"
             ],
             [
              0.8888888888888888,
              "#fdca26"
             ],
             [
              1,
              "#f0f921"
             ]
            ],
            "type": "surface"
           }
          ],
          "table": [
           {
            "cells": {
             "fill": {
              "color": "#EBF0F8"
             },
             "line": {
              "color": "white"
             }
            },
            "header": {
             "fill": {
              "color": "#C8D4E3"
             },
             "line": {
              "color": "white"
             }
            },
            "type": "table"
           }
          ]
         },
         "layout": {
          "annotationdefaults": {
           "arrowcolor": "#2a3f5f",
           "arrowhead": 0,
           "arrowwidth": 1
          },
          "autotypenumbers": "strict",
          "coloraxis": {
           "colorbar": {
            "outlinewidth": 0,
            "ticks": ""
           }
          },
          "colorscale": {
           "diverging": [
            [
             0,
             "#8e0152"
            ],
            [
             0.1,
             "#c51b7d"
            ],
            [
             0.2,
             "#de77ae"
            ],
            [
             0.3,
             "#f1b6da"
            ],
            [
             0.4,
             "#fde0ef"
            ],
            [
             0.5,
             "#f7f7f7"
            ],
            [
             0.6,
             "#e6f5d0"
            ],
            [
             0.7,
             "#b8e186"
            ],
            [
             0.8,
             "#7fbc41"
            ],
            [
             0.9,
             "#4d9221"
            ],
            [
             1,
             "#276419"
            ]
           ],
           "sequential": [
            [
             0,
             "#0d0887"
            ],
            [
             0.1111111111111111,
             "#46039f"
            ],
            [
             0.2222222222222222,
             "#7201a8"
            ],
            [
             0.3333333333333333,
             "#9c179e"
            ],
            [
             0.4444444444444444,
             "#bd3786"
            ],
            [
             0.5555555555555556,
             "#d8576b"
            ],
            [
             0.6666666666666666,
             "#ed7953"
            ],
            [
             0.7777777777777778,
             "#fb9f3a"
            ],
            [
             0.8888888888888888,
             "#fdca26"
            ],
            [
             1,
             "#f0f921"
            ]
           ],
           "sequentialminus": [
            [
             0,
             "#0d0887"
            ],
            [
             0.1111111111111111,
             "#46039f"
            ],
            [
             0.2222222222222222,
             "#7201a8"
            ],
            [
             0.3333333333333333,
             "#9c179e"
            ],
            [
             0.4444444444444444,
             "#bd3786"
            ],
            [
             0.5555555555555556,
             "#d8576b"
            ],
            [
             0.6666666666666666,
             "#ed7953"
            ],
            [
             0.7777777777777778,
             "#fb9f3a"
            ],
            [
             0.8888888888888888,
             "#fdca26"
            ],
            [
             1,
             "#f0f921"
            ]
           ]
          },
          "colorway": [
           "#636efa",
           "#EF553B",
           "#00cc96",
           "#ab63fa",
           "#FFA15A",
           "#19d3f3",
           "#FF6692",
           "#B6E880",
           "#FF97FF",
           "#FECB52"
          ],
          "font": {
           "color": "#2a3f5f"
          },
          "geo": {
           "bgcolor": "white",
           "lakecolor": "white",
           "landcolor": "#E5ECF6",
           "showlakes": true,
           "showland": true,
           "subunitcolor": "white"
          },
          "hoverlabel": {
           "align": "left"
          },
          "hovermode": "closest",
          "mapbox": {
           "style": "light"
          },
          "paper_bgcolor": "white",
          "plot_bgcolor": "#E5ECF6",
          "polar": {
           "angularaxis": {
            "gridcolor": "white",
            "linecolor": "white",
            "ticks": ""
           },
           "bgcolor": "#E5ECF6",
           "radialaxis": {
            "gridcolor": "white",
            "linecolor": "white",
            "ticks": ""
           }
          },
          "scene": {
           "xaxis": {
            "backgroundcolor": "#E5ECF6",
            "gridcolor": "white",
            "gridwidth": 2,
            "linecolor": "white",
            "showbackground": true,
            "ticks": "",
            "zerolinecolor": "white"
           },
           "yaxis": {
            "backgroundcolor": "#E5ECF6",
            "gridcolor": "white",
            "gridwidth": 2,
            "linecolor": "white",
            "showbackground": true,
            "ticks": "",
            "zerolinecolor": "white"
           },
           "zaxis": {
            "backgroundcolor": "#E5ECF6",
            "gridcolor": "white",
            "gridwidth": 2,
            "linecolor": "white",
            "showbackground": true,
            "ticks": "",
            "zerolinecolor": "white"
           }
          },
          "shapedefaults": {
           "line": {
            "color": "#2a3f5f"
           }
          },
          "ternary": {
           "aaxis": {
            "gridcolor": "white",
            "linecolor": "white",
            "ticks": ""
           },
           "baxis": {
            "gridcolor": "white",
            "linecolor": "white",
            "ticks": ""
           },
           "bgcolor": "#E5ECF6",
           "caxis": {
            "gridcolor": "white",
            "linecolor": "white",
            "ticks": ""
           }
          },
          "title": {
           "x": 0.05
          },
          "xaxis": {
           "automargin": true,
           "gridcolor": "white",
           "linecolor": "white",
           "ticks": "",
           "title": {
            "standoff": 15
           },
           "zerolinecolor": "white",
           "zerolinewidth": 2
          },
          "yaxis": {
           "automargin": true,
           "gridcolor": "white",
           "linecolor": "white",
           "ticks": "",
           "title": {
            "standoff": 15
           },
           "zerolinecolor": "white",
           "zerolinewidth": 2
          }
         }
        },
        "title": {
         "text": "Performance According to the Experience Level - Sales"
        },
        "xaxis": {
         "title": {
          "text": "Number of Years"
         },
         "zeroline": false
        },
        "yaxis": {
         "title": {
          "text": "Performance Rating "
         },
         "zeroline": false
        }
       }
      },
      "text/html": [
       "<div>                            <div id=\"b0e1c1c3-558b-4f61-bbf7-5916d422e5e0\" class=\"plotly-graph-div\" style=\"height:525px; width:100%;\"></div>            <script type=\"text/javascript\">                require([\"plotly\"], function(Plotly) {                    window.PLOTLYENV=window.PLOTLYENV || {};                                    if (document.getElementById(\"b0e1c1c3-558b-4f61-bbf7-5916d422e5e0\")) {                    Plotly.newPlot(                        \"b0e1c1c3-558b-4f61-bbf7-5916d422e5e0\",                        [{\"boxmean\":false,\"marker\":{\"color\":\"#3D9970\"},\"name\":\"TotalWorkExperienceInYears\",\"orientation\":\"h\",\"x\":[10,20,20,10,4,28,10,1,2,34,6,9,8,6,10,6,5,3,6,6,9,12,8,29,18,35,18,9,5,10,3,28,10,8,10,2,3,10,13,9,1,1,16,17,3,5,22,10,12,9,22,12,10,9,21,19,7,33,23,19,3,26,16,14,1,8,13,18,2,5,4,15,9,23,10,3,5,22,6,6,11,22,9,10,7,1,28,8,5,15,10,5,26,26,26,4,31,23,10,9,10,10,19,10,11,10,17,5,8,24,3,5,8,14,8,4,6,6,15,1,8,6,5,13,5,15,4,11,5,16,1,1,10,11,5,23,10,9,6,7,18,8,10,9,36,10,15,11,27,10,10,0,7,2,13,10,6,10,2,7,19,6,10,17,4,13,16,10,10,21,6,2,12,13,8,11,15,6,1,13,6,7,23,10,37,9,20,5,10,7,4,7,25,9,1,1,10,9,9,12,14,8,9,10,7,10,6,29,14,6,14,9,20,10,7,10,15,21,15,16,3,3,6,16,2,1,10,8,15,14,10,12,8,20,21,5,17,8,31,10,22,3,2,10,9,10,14,9,5,9,28,16,24,3,9,11,11,12,4,5,38,6,12,25,8,12,0,16,4,12,6,10,13,9,15,6,12,12,1,9,24,4,10,14,7,16,9,23,16,13,11,10,32,22,33,4,10,13,28,10,7,8,20,2,8,23,12,22,0,13,13,5,13,12,9,6,6,10,8,7,5,4,8,3,7,16,3,8,8,1,7,18,9,1,10,8,5,6,10,6,3,21,10,32,15,4,10,14,37,16,15,10,9,10,0,20,5,10,22,6,7,9,13,17,8,5,3,6,4,8,12,6,4],\"y\":[3,3,4,3,3,3,4,3,3,4,4,3,3,4,3,3,3,3,3,3,3,3,3,3,3,3,3,3,3,3,3,3,3,4,3,3,3,3,3,3,3,3,3,2,3,3,3,3,3,3,3,3,3,3,4,3,2,2,3,3,2,3,3,3,4,3,3,3,3,3,3,2,3,2,3,3,3,3,3,2,2,3,4,3,2,3,4,3,3,3,3,3,2,2,3,3,4,3,3,3,2,3,3,3,2,3,2,3,4,2,3,3,2,2,2,3,2,3,3,3,3,2,3,2,3,3,3,3,2,2,3,3,3,3,3,3,3,2,2,4,3,2,2,3,4,3,3,3,3,2,3,3,2,3,4,3,3,3,3,4,3,3,3,3,3,3,2,3,3,2,4,2,3,3,3,4,3,3,3,2,2,3,3,2,2,2,3,3,4,2,3,3,2,2,3,3,2,3,3,2,4,3,3,3,3,2,3,3,3,2,2,3,3,3,3,3,2,2,2,3,2,2,3,3,3,3,2,4,4,3,2,4,3,3,2,3,3,2,2,3,2,3,3,3,3,2,3,2,3,2,2,3,3,3,3,3,3,2,3,4,3,3,3,3,3,2,3,3,2,3,2,3,2,2,3,3,2,4,4,3,2,3,2,3,3,3,3,3,3,2,2,4,3,4,2,3,3,3,3,3,4,4,2,3,3,3,3,3,3,3,3,3,3,3,4,3,3,3,3,3,3,3,3,2,3,2,2,2,3,3,3,3,3,3,2,3,2,2,3,3,3,3,3,3,3,3,2,2,2,3,2,3,3,4,3,3,3,3,2,3,3,3,2,3,3,3,3,3,4,4,3,4,2],\"type\":\"box\"},{\"boxmean\":false,\"marker\":{\"color\":\"#FF4136\"},\"name\":\"ExperienceYearsAtThisCompany\",\"orientation\":\"h\",\"x\":[10,7,18,2,2,22,8,1,2,34,6,8,5,6,10,4,4,3,3,3,9,9,8,20,18,5,5,1,5,10,2,2,5,7,10,2,3,5,7,9,1,1,16,14,3,5,17,8,10,8,1,7,10,9,1,1,2,32,12,18,2,9,15,6,1,7,9,1,2,0,3,15,8,12,1,2,5,9,5,6,11,21,6,10,4,1,26,4,0,7,10,4,22,24,11,3,29,21,10,5,8,10,19,9,7,10,15,1,6,19,1,5,5,4,5,3,3,6,5,1,3,3,5,13,4,13,2,1,3,15,1,1,10,5,4,13,10,8,5,3,8,2,10,4,36,9,1,7,1,10,5,0,2,2,11,10,6,10,2,6,9,6,10,13,1,10,2,0,4,21,5,2,7,11,5,0,15,2,1,12,2,2,22,10,16,3,4,5,8,7,0,2,19,9,1,1,10,5,8,4,5,5,4,10,7,3,0,1,0,5,14,8,1,10,7,10,2,20,11,15,2,2,5,9,2,1,9,8,15,5,10,6,6,3,20,4,9,6,25,9,2,3,2,5,9,9,9,4,2,9,21,15,1,0,9,10,11,11,3,5,37,6,5,25,7,7,0,2,2,9,2,10,7,9,12,4,10,8,0,5,24,4,10,14,7,1,6,19,6,9,11,10,7,17,33,3,3,8,7,0,5,8,20,2,8,20,11,22,0,13,13,5,7,1,7,5,4,10,8,7,0,4,8,3,1,13,3,8,6,1,7,7,5,1,10,5,5,5,10,5,2,20,9,1,3,3,10,9,10,14,11,6,8,5,0,1,5,10,18,5,7,3,7,3,8,4,3,6,3,7,2,6,2],\"y\":[3,3,4,3,3,3,4,3,3,4,4,3,3,4,3,3,3,3,3,3,3,3,3,3,3,3,3,3,3,3,3,3,3,4,3,3,3,3,3,3,3,3,3,2,3,3,3,3,3,3,3,3,3,3,4,3,2,2,3,3,2,3,3,3,4,3,3,3,3,3,3,2,3,2,3,3,3,3,3,2,2,3,4,3,2,3,4,3,3,3,3,3,2,2,3,3,4,3,3,3,2,3,3,3,2,3,2,3,4,2,3,3,2,2,2,3,2,3,3,3,3,2,3,2,3,3,3,3,2,2,3,3,3,3,3,3,3,2,2,4,3,2,2,3,4,3,3,3,3,2,3,3,2,3,4,3,3,3,3,4,3,3,3,3,3,3,2,3,3,2,4,2,3,3,3,4,3,3,3,2,2,3,3,2,2,2,3,3,4,2,3,3,2,2,3,3,2,3,3,2,4,3,3,3,3,2,3,3,3,2,2,3,3,3,3,3,2,2,2,3,2,2,3,3,3,3,2,4,4,3,2,4,3,3,2,3,3,2,2,3,2,3,3,3,3,2,3,2,3,2,2,3,3,3,3,3,3,2,3,4,3,3,3,3,3,2,3,3,2,3,2,3,2,2,3,3,2,4,4,3,2,3,2,3,3,3,3,3,3,2,2,4,3,4,2,3,3,3,3,3,4,4,2,3,3,3,3,3,3,3,3,3,3,3,4,3,3,3,3,3,3,3,3,2,3,2,2,2,3,3,3,3,3,3,2,3,2,2,3,3,3,3,3,3,3,3,2,2,2,3,2,3,3,4,3,3,3,3,2,3,3,3,2,3,3,3,3,3,4,4,3,4,2],\"type\":\"box\"},{\"boxmean\":false,\"marker\":{\"color\":\"#FF851B\"},\"name\":\"ExperienceYearsInCurrentRole\",\"orientation\":\"h\",\"x\":[7,7,13,2,2,2,7,0,2,6,5,7,4,5,7,3,2,2,2,2,8,7,7,6,14,2,4,0,3,8,2,0,4,6,0,2,2,4,7,8,0,0,7,1,1,2,13,4,9,7,0,7,8,0,0,0,2,14,11,7,2,3,1,4,0,7,4,0,2,0,2,10,7,9,0,2,2,8,2,5,8,9,4,3,3,0,15,3,0,7,7,3,9,10,4,2,10,7,7,4,7,8,2,3,7,8,7,0,2,7,0,3,4,2,4,2,2,2,4,0,2,2,4,7,3,9,1,0,2,9,0,0,7,4,2,12,9,4,3,2,7,2,8,2,6,8,0,6,0,7,2,0,2,2,9,0,2,0,2,5,7,3,9,7,0,6,2,0,3,8,2,2,7,7,1,0,14,2,0,7,2,1,14,8,9,2,2,3,7,7,0,2,17,8,0,0,9,3,7,2,4,2,2,4,7,2,0,0,0,3,8,7,0,8,7,7,2,8,8,13,2,2,3,8,2,0,7,7,12,4,7,3,3,2,9,2,6,4,8,7,2,2,2,3,8,5,6,3,2,8,16,13,0,0,8,7,8,8,2,4,10,4,3,12,7,7,0,2,2,7,2,8,7,8,11,3,9,3,0,4,13,3,4,8,7,0,3,7,2,8,10,7,0,13,7,2,2,7,7,0,4,0,16,2,7,4,9,10,0,8,12,4,7,0,7,4,3,9,7,7,0,3,7,2,0,9,2,7,4,0,5,7,2,0,9,4,4,4,7,3,2,15,8,0,2,2,3,7,9,3,9,5,7,4,0,0,4,7,16,3,4,1,7,0,2,3,2,0,2,7,2,5,2],\"y\":[3,3,4,3,3,3,4,3,3,4,4,3,3,4,3,3,3,3,3,3,3,3,3,3,3,3,3,3,3,3,3,3,3,4,3,3,3,3,3,3,3,3,3,2,3,3,3,3,3,3,3,3,3,3,4,3,2,2,3,3,2,3,3,3,4,3,3,3,3,3,3,2,3,2,3,3,3,3,3,2,2,3,4,3,2,3,4,3,3,3,3,3,2,2,3,3,4,3,3,3,2,3,3,3,2,3,2,3,4,2,3,3,2,2,2,3,2,3,3,3,3,2,3,2,3,3,3,3,2,2,3,3,3,3,3,3,3,2,2,4,3,2,2,3,4,3,3,3,3,2,3,3,2,3,4,3,3,3,3,4,3,3,3,3,3,3,2,3,3,2,4,2,3,3,3,4,3,3,3,2,2,3,3,2,2,2,3,3,4,2,3,3,2,2,3,3,2,3,3,2,4,3,3,3,3,2,3,3,3,2,2,3,3,3,3,3,2,2,2,3,2,2,3,3,3,3,2,4,4,3,2,4,3,3,2,3,3,2,2,3,2,3,3,3,3,2,3,2,3,2,2,3,3,3,3,3,3,2,3,4,3,3,3,3,3,2,3,3,2,3,2,3,2,2,3,3,2,4,4,3,2,3,2,3,3,3,3,3,3,2,2,4,3,4,2,3,3,3,3,3,4,4,2,3,3,3,3,3,3,3,3,3,3,3,4,3,3,3,3,3,3,3,3,2,3,2,2,2,3,3,3,3,3,3,2,3,2,2,3,3,3,3,3,3,3,3,2,2,2,3,2,3,3,4,3,3,3,3,2,3,3,3,2,3,3,3,3,3,4,4,3,4,2],\"type\":\"box\"}],                        {\"boxmode\":\"group\",\"template\":{\"data\":{\"barpolar\":[{\"marker\":{\"line\":{\"color\":\"#E5ECF6\",\"width\":0.5},\"pattern\":{\"fillmode\":\"overlay\",\"size\":10,\"solidity\":0.2}},\"type\":\"barpolar\"}],\"bar\":[{\"error_x\":{\"color\":\"#2a3f5f\"},\"error_y\":{\"color\":\"#2a3f5f\"},\"marker\":{\"line\":{\"color\":\"#E5ECF6\",\"width\":0.5},\"pattern\":{\"fillmode\":\"overlay\",\"size\":10,\"solidity\":0.2}},\"type\":\"bar\"}],\"carpet\":[{\"aaxis\":{\"endlinecolor\":\"#2a3f5f\",\"gridcolor\":\"white\",\"linecolor\":\"white\",\"minorgridcolor\":\"white\",\"startlinecolor\":\"#2a3f5f\"},\"baxis\":{\"endlinecolor\":\"#2a3f5f\",\"gridcolor\":\"white\",\"linecolor\":\"white\",\"minorgridcolor\":\"white\",\"startlinecolor\":\"#2a3f5f\"},\"type\":\"carpet\"}],\"choropleth\":[{\"colorbar\":{\"outlinewidth\":0,\"ticks\":\"\"},\"type\":\"choropleth\"}],\"contourcarpet\":[{\"colorbar\":{\"outlinewidth\":0,\"ticks\":\"\"},\"type\":\"contourcarpet\"}],\"contour\":[{\"colorbar\":{\"outlinewidth\":0,\"ticks\":\"\"},\"colorscale\":[[0.0,\"#0d0887\"],[0.1111111111111111,\"#46039f\"],[0.2222222222222222,\"#7201a8\"],[0.3333333333333333,\"#9c179e\"],[0.4444444444444444,\"#bd3786\"],[0.5555555555555556,\"#d8576b\"],[0.6666666666666666,\"#ed7953\"],[0.7777777777777778,\"#fb9f3a\"],[0.8888888888888888,\"#fdca26\"],[1.0,\"#f0f921\"]],\"type\":\"contour\"}],\"heatmapgl\":[{\"colorbar\":{\"outlinewidth\":0,\"ticks\":\"\"},\"colorscale\":[[0.0,\"#0d0887\"],[0.1111111111111111,\"#46039f\"],[0.2222222222222222,\"#7201a8\"],[0.3333333333333333,\"#9c179e\"],[0.4444444444444444,\"#bd3786\"],[0.5555555555555556,\"#d8576b\"],[0.6666666666666666,\"#ed7953\"],[0.7777777777777778,\"#fb9f3a\"],[0.8888888888888888,\"#fdca26\"],[1.0,\"#f0f921\"]],\"type\":\"heatmapgl\"}],\"heatmap\":[{\"colorbar\":{\"outlinewidth\":0,\"ticks\":\"\"},\"colorscale\":[[0.0,\"#0d0887\"],[0.1111111111111111,\"#46039f\"],[0.2222222222222222,\"#7201a8\"],[0.3333333333333333,\"#9c179e\"],[0.4444444444444444,\"#bd3786\"],[0.5555555555555556,\"#d8576b\"],[0.6666666666666666,\"#ed7953\"],[0.7777777777777778,\"#fb9f3a\"],[0.8888888888888888,\"#fdca26\"],[1.0,\"#f0f921\"]],\"type\":\"heatmap\"}],\"histogram2dcontour\":[{\"colorbar\":{\"outlinewidth\":0,\"ticks\":\"\"},\"colorscale\":[[0.0,\"#0d0887\"],[0.1111111111111111,\"#46039f\"],[0.2222222222222222,\"#7201a8\"],[0.3333333333333333,\"#9c179e\"],[0.4444444444444444,\"#bd3786\"],[0.5555555555555556,\"#d8576b\"],[0.6666666666666666,\"#ed7953\"],[0.7777777777777778,\"#fb9f3a\"],[0.8888888888888888,\"#fdca26\"],[1.0,\"#f0f921\"]],\"type\":\"histogram2dcontour\"}],\"histogram2d\":[{\"colorbar\":{\"outlinewidth\":0,\"ticks\":\"\"},\"colorscale\":[[0.0,\"#0d0887\"],[0.1111111111111111,\"#46039f\"],[0.2222222222222222,\"#7201a8\"],[0.3333333333333333,\"#9c179e\"],[0.4444444444444444,\"#bd3786\"],[0.5555555555555556,\"#d8576b\"],[0.6666666666666666,\"#ed7953\"],[0.7777777777777778,\"#fb9f3a\"],[0.8888888888888888,\"#fdca26\"],[1.0,\"#f0f921\"]],\"type\":\"histogram2d\"}],\"histogram\":[{\"marker\":{\"pattern\":{\"fillmode\":\"overlay\",\"size\":10,\"solidity\":0.2}},\"type\":\"histogram\"}],\"mesh3d\":[{\"colorbar\":{\"outlinewidth\":0,\"ticks\":\"\"},\"type\":\"mesh3d\"}],\"parcoords\":[{\"line\":{\"colorbar\":{\"outlinewidth\":0,\"ticks\":\"\"}},\"type\":\"parcoords\"}],\"pie\":[{\"automargin\":true,\"type\":\"pie\"}],\"scatter3d\":[{\"line\":{\"colorbar\":{\"outlinewidth\":0,\"ticks\":\"\"}},\"marker\":{\"colorbar\":{\"outlinewidth\":0,\"ticks\":\"\"}},\"type\":\"scatter3d\"}],\"scattercarpet\":[{\"marker\":{\"colorbar\":{\"outlinewidth\":0,\"ticks\":\"\"}},\"type\":\"scattercarpet\"}],\"scattergeo\":[{\"marker\":{\"colorbar\":{\"outlinewidth\":0,\"ticks\":\"\"}},\"type\":\"scattergeo\"}],\"scattergl\":[{\"marker\":{\"colorbar\":{\"outlinewidth\":0,\"ticks\":\"\"}},\"type\":\"scattergl\"}],\"scattermapbox\":[{\"marker\":{\"colorbar\":{\"outlinewidth\":0,\"ticks\":\"\"}},\"type\":\"scattermapbox\"}],\"scatterpolargl\":[{\"marker\":{\"colorbar\":{\"outlinewidth\":0,\"ticks\":\"\"}},\"type\":\"scatterpolargl\"}],\"scatterpolar\":[{\"marker\":{\"colorbar\":{\"outlinewidth\":0,\"ticks\":\"\"}},\"type\":\"scatterpolar\"}],\"scatter\":[{\"marker\":{\"colorbar\":{\"outlinewidth\":0,\"ticks\":\"\"}},\"type\":\"scatter\"}],\"scatterternary\":[{\"marker\":{\"colorbar\":{\"outlinewidth\":0,\"ticks\":\"\"}},\"type\":\"scatterternary\"}],\"surface\":[{\"colorbar\":{\"outlinewidth\":0,\"ticks\":\"\"},\"colorscale\":[[0.0,\"#0d0887\"],[0.1111111111111111,\"#46039f\"],[0.2222222222222222,\"#7201a8\"],[0.3333333333333333,\"#9c179e\"],[0.4444444444444444,\"#bd3786\"],[0.5555555555555556,\"#d8576b\"],[0.6666666666666666,\"#ed7953\"],[0.7777777777777778,\"#fb9f3a\"],[0.8888888888888888,\"#fdca26\"],[1.0,\"#f0f921\"]],\"type\":\"surface\"}],\"table\":[{\"cells\":{\"fill\":{\"color\":\"#EBF0F8\"},\"line\":{\"color\":\"white\"}},\"header\":{\"fill\":{\"color\":\"#C8D4E3\"},\"line\":{\"color\":\"white\"}},\"type\":\"table\"}]},\"layout\":{\"annotationdefaults\":{\"arrowcolor\":\"#2a3f5f\",\"arrowhead\":0,\"arrowwidth\":1},\"autotypenumbers\":\"strict\",\"coloraxis\":{\"colorbar\":{\"outlinewidth\":0,\"ticks\":\"\"}},\"colorscale\":{\"diverging\":[[0,\"#8e0152\"],[0.1,\"#c51b7d\"],[0.2,\"#de77ae\"],[0.3,\"#f1b6da\"],[0.4,\"#fde0ef\"],[0.5,\"#f7f7f7\"],[0.6,\"#e6f5d0\"],[0.7,\"#b8e186\"],[0.8,\"#7fbc41\"],[0.9,\"#4d9221\"],[1,\"#276419\"]],\"sequential\":[[0.0,\"#0d0887\"],[0.1111111111111111,\"#46039f\"],[0.2222222222222222,\"#7201a8\"],[0.3333333333333333,\"#9c179e\"],[0.4444444444444444,\"#bd3786\"],[0.5555555555555556,\"#d8576b\"],[0.6666666666666666,\"#ed7953\"],[0.7777777777777778,\"#fb9f3a\"],[0.8888888888888888,\"#fdca26\"],[1.0,\"#f0f921\"]],\"sequentialminus\":[[0.0,\"#0d0887\"],[0.1111111111111111,\"#46039f\"],[0.2222222222222222,\"#7201a8\"],[0.3333333333333333,\"#9c179e\"],[0.4444444444444444,\"#bd3786\"],[0.5555555555555556,\"#d8576b\"],[0.6666666666666666,\"#ed7953\"],[0.7777777777777778,\"#fb9f3a\"],[0.8888888888888888,\"#fdca26\"],[1.0,\"#f0f921\"]]},\"colorway\":[\"#636efa\",\"#EF553B\",\"#00cc96\",\"#ab63fa\",\"#FFA15A\",\"#19d3f3\",\"#FF6692\",\"#B6E880\",\"#FF97FF\",\"#FECB52\"],\"font\":{\"color\":\"#2a3f5f\"},\"geo\":{\"bgcolor\":\"white\",\"lakecolor\":\"white\",\"landcolor\":\"#E5ECF6\",\"showlakes\":true,\"showland\":true,\"subunitcolor\":\"white\"},\"hoverlabel\":{\"align\":\"left\"},\"hovermode\":\"closest\",\"mapbox\":{\"style\":\"light\"},\"paper_bgcolor\":\"white\",\"plot_bgcolor\":\"#E5ECF6\",\"polar\":{\"angularaxis\":{\"gridcolor\":\"white\",\"linecolor\":\"white\",\"ticks\":\"\"},\"bgcolor\":\"#E5ECF6\",\"radialaxis\":{\"gridcolor\":\"white\",\"linecolor\":\"white\",\"ticks\":\"\"}},\"scene\":{\"xaxis\":{\"backgroundcolor\":\"#E5ECF6\",\"gridcolor\":\"white\",\"gridwidth\":2,\"linecolor\":\"white\",\"showbackground\":true,\"ticks\":\"\",\"zerolinecolor\":\"white\"},\"yaxis\":{\"backgroundcolor\":\"#E5ECF6\",\"gridcolor\":\"white\",\"gridwidth\":2,\"linecolor\":\"white\",\"showbackground\":true,\"ticks\":\"\",\"zerolinecolor\":\"white\"},\"zaxis\":{\"backgroundcolor\":\"#E5ECF6\",\"gridcolor\":\"white\",\"gridwidth\":2,\"linecolor\":\"white\",\"showbackground\":true,\"ticks\":\"\",\"zerolinecolor\":\"white\"}},\"shapedefaults\":{\"line\":{\"color\":\"#2a3f5f\"}},\"ternary\":{\"aaxis\":{\"gridcolor\":\"white\",\"linecolor\":\"white\",\"ticks\":\"\"},\"baxis\":{\"gridcolor\":\"white\",\"linecolor\":\"white\",\"ticks\":\"\"},\"bgcolor\":\"#E5ECF6\",\"caxis\":{\"gridcolor\":\"white\",\"linecolor\":\"white\",\"ticks\":\"\"}},\"title\":{\"x\":0.05},\"xaxis\":{\"automargin\":true,\"gridcolor\":\"white\",\"linecolor\":\"white\",\"ticks\":\"\",\"title\":{\"standoff\":15},\"zerolinecolor\":\"white\",\"zerolinewidth\":2},\"yaxis\":{\"automargin\":true,\"gridcolor\":\"white\",\"linecolor\":\"white\",\"ticks\":\"\",\"title\":{\"standoff\":15},\"zerolinecolor\":\"white\",\"zerolinewidth\":2}}},\"title\":{\"text\":\"Performance According to the Experience Level - Sales\"},\"xaxis\":{\"title\":{\"text\":\"Number of Years\"},\"zeroline\":false},\"yaxis\":{\"title\":{\"text\":\"Performance Rating \"},\"zeroline\":false}},                        {\"responsive\": true}                    ).then(function(){\n",
       "                            \n",
       "var gd = document.getElementById('b0e1c1c3-558b-4f61-bbf7-5916d422e5e0');\n",
       "var x = new MutationObserver(function (mutations, observer) {{\n",
       "        var display = window.getComputedStyle(gd).display;\n",
       "        if (!display || display === 'none') {{\n",
       "            console.log([gd, 'removed!']);\n",
       "            Plotly.purge(gd);\n",
       "            observer.disconnect();\n",
       "        }}\n",
       "}});\n",
       "\n",
       "// Listen for the removal of the full notebook cells\n",
       "var notebookContainer = gd.closest('#notebook-container');\n",
       "if (notebookContainer) {{\n",
       "    x.observe(notebookContainer, {childList: true});\n",
       "}}\n",
       "\n",
       "// Listen for the clearing of the current output cell\n",
       "var outputEl = gd.closest('.output');\n",
       "if (outputEl) {{\n",
       "    x.observe(outputEl, {childList: true});\n",
       "}}\n",
       "\n",
       "                        })                };                });            </script>        </div>"
      ]
     },
     "metadata": {},
     "output_type": "display_data"
    }
   ],
   "source": [
    "data = [\n",
    "    {\n",
    "        'x': sales['TotalWorkExperienceInYears'],\n",
    "        'y': sales['PerformanceRating'],\n",
    "        'name':'TotalWorkExperienceInYears',\n",
    "        'marker': {\n",
    "            'color': '#3D9970'\n",
    "        },\n",
    "        'boxmean': False,\n",
    "        'orientation': 'h',\n",
    "        \"type\": \"box\",\n",
    "    },\n",
    "    {\n",
    "        'x':sales['ExperienceYearsAtThisCompany'],\n",
    "        'y':sales['PerformanceRating'],\n",
    "        'name': 'ExperienceYearsAtThisCompany',\n",
    "        'marker':{\n",
    "            'color': '#FF4136',\n",
    "        },\n",
    "        'boxmean': False,\n",
    "        'orientation': 'h',\n",
    "        \"type\": \"box\",\n",
    "    },\n",
    "    {\n",
    "        'x': sales['ExperienceYearsInCurrentRole'],\n",
    "        'y': sales['PerformanceRating'],\n",
    "        'name':'ExperienceYearsInCurrentRole',\n",
    "        'marker': {\n",
    "            'color': '#FF851B',\n",
    "        },\n",
    "        'boxmean': False,\n",
    "        'orientation': 'h',\n",
    "        \"type\": \"box\",\n",
    "    }\n",
    "]\n",
    "layout = {\n",
    "    'xaxis': {\n",
    "        'title': 'Number of Years',\n",
    "        'zeroline': False,\n",
    "    },\n",
    "    'yaxis': {\n",
    "        'title': 'Performance Rating ',\n",
    "        'zeroline': False,\n",
    "    },\n",
    "    'boxmode': 'group',\n",
    "    'title': 'Performance According to the Experience Level - Sales',\n",
    "}\n",
    "fig = go.Figure(data=data, layout=layout)\n",
    "\n",
    "py.iplot(fig)"
   ]
  },
  {
   "cell_type": "markdown",
   "id": "d017f64b",
   "metadata": {},
   "source": [
    "## Human Resoruces Department "
   ]
  },
  {
   "cell_type": "code",
   "execution_count": 13,
   "id": "057ff128",
   "metadata": {},
   "outputs": [
    {
     "data": {
      "text/html": [
       "<div>\n",
       "<style scoped>\n",
       "    .dataframe tbody tr th:only-of-type {\n",
       "        vertical-align: middle;\n",
       "    }\n",
       "\n",
       "    .dataframe tbody tr th {\n",
       "        vertical-align: top;\n",
       "    }\n",
       "\n",
       "    .dataframe thead th {\n",
       "        text-align: right;\n",
       "    }\n",
       "</style>\n",
       "<table border=\"1\" class=\"dataframe\">\n",
       "  <thead>\n",
       "    <tr style=\"text-align: right;\">\n",
       "      <th></th>\n",
       "      <th>EmpNumber</th>\n",
       "      <th>Age</th>\n",
       "      <th>Gender</th>\n",
       "      <th>EducationBackground</th>\n",
       "      <th>MaritalStatus</th>\n",
       "      <th>EmpDepartment</th>\n",
       "      <th>EmpJobRole</th>\n",
       "      <th>BusinessTravelFrequency</th>\n",
       "      <th>DistanceFromHome</th>\n",
       "      <th>EmpEducationLevel</th>\n",
       "      <th>...</th>\n",
       "      <th>EmpRelationshipSatisfaction</th>\n",
       "      <th>TotalWorkExperienceInYears</th>\n",
       "      <th>TrainingTimesLastYear</th>\n",
       "      <th>EmpWorkLifeBalance</th>\n",
       "      <th>ExperienceYearsAtThisCompany</th>\n",
       "      <th>ExperienceYearsInCurrentRole</th>\n",
       "      <th>YearsSinceLastPromotion</th>\n",
       "      <th>YearsWithCurrManager</th>\n",
       "      <th>Attrition</th>\n",
       "      <th>PerformanceRating</th>\n",
       "    </tr>\n",
       "  </thead>\n",
       "  <tbody>\n",
       "    <tr>\n",
       "      <th>3</th>\n",
       "      <td>E1001009</td>\n",
       "      <td>41</td>\n",
       "      <td>Male</td>\n",
       "      <td>Human Resources</td>\n",
       "      <td>Divorced</td>\n",
       "      <td>Human Resources</td>\n",
       "      <td>Manager</td>\n",
       "      <td>Travel_Rarely</td>\n",
       "      <td>10</td>\n",
       "      <td>4</td>\n",
       "      <td>...</td>\n",
       "      <td>2</td>\n",
       "      <td>23</td>\n",
       "      <td>2</td>\n",
       "      <td>2</td>\n",
       "      <td>21</td>\n",
       "      <td>6</td>\n",
       "      <td>12</td>\n",
       "      <td>6</td>\n",
       "      <td>No</td>\n",
       "      <td>3</td>\n",
       "    </tr>\n",
       "    <tr>\n",
       "      <th>16</th>\n",
       "      <td>E1001038</td>\n",
       "      <td>39</td>\n",
       "      <td>Female</td>\n",
       "      <td>Human Resources</td>\n",
       "      <td>Married</td>\n",
       "      <td>Human Resources</td>\n",
       "      <td>Human Resources</td>\n",
       "      <td>Travel_Rarely</td>\n",
       "      <td>3</td>\n",
       "      <td>3</td>\n",
       "      <td>...</td>\n",
       "      <td>3</td>\n",
       "      <td>12</td>\n",
       "      <td>3</td>\n",
       "      <td>1</td>\n",
       "      <td>8</td>\n",
       "      <td>3</td>\n",
       "      <td>3</td>\n",
       "      <td>6</td>\n",
       "      <td>No</td>\n",
       "      <td>3</td>\n",
       "    </tr>\n",
       "    <tr>\n",
       "      <th>58</th>\n",
       "      <td>E1001107</td>\n",
       "      <td>36</td>\n",
       "      <td>Male</td>\n",
       "      <td>Human Resources</td>\n",
       "      <td>Married</td>\n",
       "      <td>Human Resources</td>\n",
       "      <td>Human Resources</td>\n",
       "      <td>Travel_Rarely</td>\n",
       "      <td>13</td>\n",
       "      <td>3</td>\n",
       "      <td>...</td>\n",
       "      <td>2</td>\n",
       "      <td>8</td>\n",
       "      <td>2</td>\n",
       "      <td>3</td>\n",
       "      <td>5</td>\n",
       "      <td>2</td>\n",
       "      <td>0</td>\n",
       "      <td>4</td>\n",
       "      <td>No</td>\n",
       "      <td>3</td>\n",
       "    </tr>\n",
       "  </tbody>\n",
       "</table>\n",
       "<p>3 rows × 28 columns</p>\n",
       "</div>"
      ],
      "text/plain": [
       "   EmpNumber  Age  Gender EducationBackground MaritalStatus    EmpDepartment  \\\n",
       "3   E1001009   41    Male     Human Resources      Divorced  Human Resources   \n",
       "16  E1001038   39  Female     Human Resources       Married  Human Resources   \n",
       "58  E1001107   36    Male     Human Resources       Married  Human Resources   \n",
       "\n",
       "         EmpJobRole BusinessTravelFrequency  DistanceFromHome  \\\n",
       "3           Manager           Travel_Rarely                10   \n",
       "16  Human Resources           Travel_Rarely                 3   \n",
       "58  Human Resources           Travel_Rarely                13   \n",
       "\n",
       "    EmpEducationLevel  ...  EmpRelationshipSatisfaction  \\\n",
       "3                   4  ...                            2   \n",
       "16                  3  ...                            3   \n",
       "58                  3  ...                            2   \n",
       "\n",
       "    TotalWorkExperienceInYears  TrainingTimesLastYear  EmpWorkLifeBalance  \\\n",
       "3                           23                      2                   2   \n",
       "16                          12                      3                   1   \n",
       "58                           8                      2                   3   \n",
       "\n",
       "    ExperienceYearsAtThisCompany  ExperienceYearsInCurrentRole  \\\n",
       "3                             21                             6   \n",
       "16                             8                             3   \n",
       "58                             5                             2   \n",
       "\n",
       "   YearsSinceLastPromotion  YearsWithCurrManager  Attrition  PerformanceRating  \n",
       "3                       12                     6         No                  3  \n",
       "16                       3                     6         No                  3  \n",
       "58                       0                     4         No                  3  \n",
       "\n",
       "[3 rows x 28 columns]"
      ]
     },
     "execution_count": 13,
     "metadata": {},
     "output_type": "execute_result"
    }
   ],
   "source": [
    "HR = original_data[original_data.EmpDepartment == 'Human Resources'] # Slicing the all coloums of Sales Row \n",
    "HR.head(3)"
   ]
  },
  {
   "cell_type": "markdown",
   "id": "9bc4b910",
   "metadata": {},
   "source": [
    "###  (i) Performance Rating with respect to number of employees"
   ]
  },
  {
   "cell_type": "code",
   "execution_count": 14,
   "id": "745e3dea",
   "metadata": {},
   "outputs": [
    {
     "data": {
      "image/png": "[encoded data removed]",
      "text/plain": [
       "<Figure size 432x288 with 1 Axes>"
      ]
     },
     "metadata": {
      "needs_background": "light"
     },
     "output_type": "display_data"
    }
   ],
   "source": [
    "sns.countplot(y=\"PerformanceRating\", data=HR, palette=\"Greens_d\");"
   ]
  },
  {
   "cell_type": "markdown",
   "id": "cd6638e9",
   "metadata": {},
   "source": [
    "###  (ii) Performance Rating with respect to Age Group"
   ]
  },
  {
   "cell_type": "code",
   "execution_count": 15,
   "id": "53059b70",
   "metadata": {},
   "outputs": [
    {
     "data": {
      "text/plain": [
       "<AxesSubplot:xlabel='PerformanceRating', ylabel='Age'>"
      ]
     },
     "execution_count": 15,
     "metadata": {},
     "output_type": "execute_result"
    },
    {
     "data": {
      "image/png": "[encoded data removed]",
      "text/plain": [
       "<Figure size 432x288 with 1 Axes>"
      ]
     },
     "metadata": {
      "needs_background": "light"
     },
     "output_type": "display_data"
    }
   ],
   "source": [
    "sns.boxplot(HR['PerformanceRating'], HR['Age'])"
   ]
  },
  {
   "cell_type": "markdown",
   "id": "b21e3380",
   "metadata": {},
   "source": [
    "### (iii) Performance based on Gender"
   ]
  },
  {
   "cell_type": "code",
   "execution_count": 16,
   "id": "8160c9c5",
   "metadata": {},
   "outputs": [
    {
     "data": {
      "text/plain": [
       "<AxesSubplot:xlabel='Gender', ylabel='PerformanceRating'>"
      ]
     },
     "execution_count": 16,
     "metadata": {},
     "output_type": "execute_result"
    },
    {
     "data": {
      "image/png": "[encoded data removed]",
      "text/plain": [
       "<Figure size 432x288 with 1 Axes>"
      ]
     },
     "metadata": {
      "needs_background": "light"
     },
     "output_type": "display_data"
    }
   ],
   "source": [
    "sns.barplot(HR['Gender'], HR['PerformanceRating'])\n"
   ]
  },
  {
   "cell_type": "markdown",
   "id": "4f768c0e",
   "metadata": {},
   "source": [
    "### (iv) Performance According to the Experience Level"
   ]
  },
  {
   "cell_type": "code",
   "execution_count": 17,
   "id": "f3d76e74",
   "metadata": {},
   "outputs": [
    {
     "data": {
      "application/vnd.plotly.v1+json": {
       "config": {
        "linkText": "Export to plot.ly",
        "plotlyServerURL": "https://plot.ly",
        "showLink": false
       },
       "data": [
        {
         "boxmean": false,
         "marker": {
          "color": "#3D9970"
         },
         "name": "TotalWorkExperienceInYears",
         "orientation": "h",
         "type": "box",
         "x": [
          23,
          12,
          8,
          6,
          6,
          13,
          7,
          6,
          24,
          6,
          5,
          10,
          14,
          10,
          36,
          33,
          21,
          10,
          8,
          2,
          21,
          10,
          27,
          14,
          8,
          10,
          9,
          3,
          6,
          10,
          19,
          13,
          2,
          3,
          1,
          10,
          1,
          7,
          35,
          6,
          9,
          16,
          7,
          23,
          8,
          12,
          7,
          9,
          4,
          1,
          11,
          32,
          10,
          16
         ],
         "y": [
          3,
          3,
          3,
          3,
          3,
          3,
          3,
          3,
          2,
          2,
          2,
          4,
          3,
          3,
          3,
          3,
          3,
          3,
          3,
          2,
          4,
          3,
          3,
          3,
          3,
          3,
          4,
          2,
          3,
          2,
          3,
          2,
          3,
          3,
          3,
          4,
          3,
          3,
          3,
          3,
          3,
          3,
          4,
          3,
          4,
          3,
          2,
          2,
          3,
          3,
          3,
          2,
          3,
          3
         ]
        },
        {
         "boxmean": false,
         "marker": {
          "color": "#FF4136"
         },
         "name": "ExperienceYearsAtThisCompany",
         "orientation": "h",
         "type": "box",
         "x": [
          21,
          8,
          5,
          5,
          5,
          5,
          4,
          6,
          20,
          5,
          5,
          4,
          10,
          7,
          7,
          33,
          20,
          10,
          3,
          2,
          21,
          6,
          5,
          10,
          2,
          3,
          5,
          2,
          4,
          9,
          10,
          11,
          1,
          3,
          1,
          10,
          1,
          6,
          10,
          2,
          9,
          4,
          3,
          5,
          8,
          11,
          2,
          2,
          3,
          1,
          3,
          32,
          2,
          9
         ],
         "y": [
          3,
          3,
          3,
          3,
          3,
          3,
          3,
          3,
          2,
          2,
          2,
          4,
          3,
          3,
          3,
          3,
          3,
          3,
          3,
          2,
          4,
          3,
          3,
          3,
          3,
          3,
          4,
          2,
          3,
          2,
          3,
          2,
          3,
          3,
          3,
          4,
          3,
          3,
          3,
          3,
          3,
          3,
          4,
          3,
          4,
          3,
          2,
          2,
          3,
          3,
          3,
          2,
          3,
          3
         ]
        },
        {
         "boxmean": false,
         "marker": {
          "color": "#FF851B"
         },
         "name": "ExperienceYearsInCurrentRole",
         "orientation": "h",
         "type": "box",
         "x": [
          6,
          3,
          2,
          1,
          4,
          4,
          3,
          3,
          6,
          4,
          4,
          3,
          9,
          6,
          3,
          9,
          7,
          9,
          2,
          2,
          7,
          3,
          2,
          7,
          2,
          2,
          0,
          2,
          2,
          7,
          0,
          10,
          0,
          2,
          0,
          1,
          0,
          2,
          9,
          0,
          0,
          2,
          2,
          3,
          7,
          9,
          2,
          2,
          2,
          0,
          2,
          5,
          2,
          7
         ],
         "y": [
          3,
          3,
          3,
          3,
          3,
          3,
          3,
          3,
          2,
          2,
          2,
          4,
          3,
          3,
          3,
          3,
          3,
          3,
          3,
          2,
          4,
          3,
          3,
          3,
          3,
          3,
          4,
          2,
          3,
          2,
          3,
          2,
          3,
          3,
          3,
          4,
          3,
          3,
          3,
          3,
          3,
          3,
          4,
          3,
          4,
          3,
          2,
          2,
          3,
          3,
          3,
          2,
          3,
          3
         ]
        }
       ],
       "layout": {
        "boxmode": "group",
        "template": {
         "data": {
          "bar": [
           {
            "error_x": {
             "color": "#2a3f5f"
            },
            "error_y": {
             "color": "#2a3f5f"
            },
            "marker": {
             "line": {
              "color": "#E5ECF6",
              "width": 0.5
             },
             "pattern": {
              "fillmode": "overlay",
              "size": 10,
              "solidity": 0.2
             }
            },
            "type": "bar"
           }
          ],
          "barpolar": [
           {
            "marker": {
             "line": {
              "color": "#E5ECF6",
              "width": 0.5
             },
             "pattern": {
              "fillmode": "overlay",
              "size": 10,
              "solidity": 0.2
             }
            },
            "type": "barpolar"
           }
          ],
          "carpet": [
           {
            "aaxis": {
             "endlinecolor": "#2a3f5f",
             "gridcolor": "white",
             "linecolor": "white",
             "minorgridcolor": "white",
             "startlinecolor": "#2a3f5f"
            },
            "baxis": {
             "endlinecolor": "#2a3f5f",
             "gridcolor": "white",
             "linecolor": "white",
             "minorgridcolor": "white",
             "startlinecolor": "#2a3f5f"
            },
            "type": "carpet"
           }
          ],
          "choropleth": [
           {
            "colorbar": {
             "outlinewidth": 0,
             "ticks": ""
            },
            "type": "choropleth"
           }
          ],
          "contour": [
           {
            "colorbar": {
             "outlinewidth": 0,
             "ticks": ""
            },
            "colorscale": [
             [
              0,
              "#0d0887"
             ],
             [
              0.1111111111111111,
              "#46039f"
             ],
             [
              0.2222222222222222,
              "#7201a8"
             ],
             [
              0.3333333333333333,
              "#9c179e"
             ],
             [
              0.4444444444444444,
              "#bd3786"
             ],
             [
              0.5555555555555556,
              "#d8576b"
             ],
             [
              0.6666666666666666,
              "#ed7953"
             ],
             [
              0.7777777777777778,
              "#fb9f3a"
             ],
             [
              0.8888888888888888,
              "#fdca26"
             ],
             [
              1,
              "#f0f921"
             ]
            ],
            "type": "contour"
           }
          ],
          "contourcarpet": [
           {
            "colorbar": {
             "outlinewidth": 0,
             "ticks": ""
            },
            "type": "contourcarpet"
           }
          ],
          "heatmap": [
           {
            "colorbar": {
             "outlinewidth": 0,
             "ticks": ""
            },
            "colorscale": [
             [
              0,
              "#0d0887"
             ],
             [
              0.1111111111111111,
              "#46039f"
             ],
             [
              0.2222222222222222,
              "#7201a8"
             ],
             [
              0.3333333333333333,
              "#9c179e"
             ],
             [
              0.4444444444444444,
              "#bd3786"
             ],
             [
              0.5555555555555556,
              "#d8576b"
             ],
             [
              0.6666666666666666,
              "#ed7953"
             ],
             [
              0.7777777777777778,
              "#fb9f3a"
             ],
             [
              0.8888888888888888,
              "#fdca26"
             ],
             [
              1,
              "#f0f921"
             ]
            ],
            "type": "heatmap"
           }
          ],
          "heatmapgl": [
           {
            "colorbar": {
             "outlinewidth": 0,
             "ticks": ""
            },
            "colorscale": [
             [
              0,
              "#0d0887"
             ],
             [
              0.1111111111111111,
              "#46039f"
             ],
             [
              0.2222222222222222,
              "#7201a8"
             ],
             [
              0.3333333333333333,
              "#9c179e"
             ],
             [
              0.4444444444444444,
              "#bd3786"
             ],
             [
              0.5555555555555556,
              "#d8576b"
             ],
             [
              0.6666666666666666,
              "#ed7953"
             ],
             [
              0.7777777777777778,
              "#fb9f3a"
             ],
             [
              0.8888888888888888,
              "#fdca26"
             ],
             [
              1,
              "#f0f921"
             ]
            ],
            "type": "heatmapgl"
           }
          ],
          "histogram": [
           {
            "marker": {
             "pattern": {
              "fillmode": "overlay",
              "size": 10,
              "solidity": 0.2
             }
            },
            "type": "histogram"
           }
          ],
          "histogram2d": [
           {
            "colorbar": {
             "outlinewidth": 0,
             "ticks": ""
            },
            "colorscale": [
             [
              0,
              "#0d0887"
             ],
             [
              0.1111111111111111,
              "#46039f"
             ],
             [
              0.2222222222222222,
              "#7201a8"
             ],
             [
              0.3333333333333333,
              "#9c179e"
             ],
             [
              0.4444444444444444,
              "#bd3786"
             ],
             [
              0.5555555555555556,
              "#d8576b"
             ],
             [
              0.6666666666666666,
              "#ed7953"
             ],
             [
              0.7777777777777778,
              "#fb9f3a"
             ],
             [
              0.8888888888888888,
              "#fdca26"
             ],
             [
              1,
              "#f0f921"
             ]
            ],
            "type": "histogram2d"
           }
          ],
          "histogram2dcontour": [
           {
            "colorbar": {
             "outlinewidth": 0,
             "ticks": ""
            },
            "colorscale": [
             [
              0,
              "#0d0887"
             ],
             [
              0.1111111111111111,
              "#46039f"
             ],
             [
              0.2222222222222222,
              "#7201a8"
             ],
             [
              0.3333333333333333,
              "#9c179e"
             ],
             [
              0.4444444444444444,
              "#bd3786"
             ],
             [
              0.5555555555555556,
              "#d8576b"
             ],
             [
              0.6666666666666666,
              "#ed7953"
             ],
             [
              0.7777777777777778,
              "#fb9f3a"
             ],
             [
              0.8888888888888888,
              "#fdca26"
             ],
             [
              1,
              "#f0f921"
             ]
            ],
            "type": "histogram2dcontour"
           }
          ],
          "mesh3d": [
           {
            "colorbar": {
             "outlinewidth": 0,
             "ticks": ""
            },
            "type": "mesh3d"
           }
          ],
          "parcoords": [
           {
            "line": {
             "colorbar": {
              "outlinewidth": 0,
              "ticks": ""
             }
            },
            "type": "parcoords"
           }
          ],
          "pie": [
           {
            "automargin": true,
            "type": "pie"
           }
          ],
          "scatter": [
           {
            "marker": {
             "colorbar": {
              "outlinewidth": 0,
              "ticks": ""
             }
            },
            "type": "scatter"
           }
          ],
          "scatter3d": [
           {
            "line": {
             "colorbar": {
              "outlinewidth": 0,
              "ticks": ""
             }
            },
            "marker": {
             "colorbar": {
              "outlinewidth": 0,
              "ticks": ""
             }
            },
            "type": "scatter3d"
           }
          ],
          "scattercarpet": [
           {
            "marker": {
             "colorbar": {
              "outlinewidth": 0,
              "ticks": ""
             }
            },
            "type": "scattercarpet"
           }
          ],
          "scattergeo": [
           {
            "marker": {
             "colorbar": {
              "outlinewidth": 0,
              "ticks": ""
             }
            },
            "type": "scattergeo"
           }
          ],
          "scattergl": [
           {
            "marker": {
             "colorbar": {
              "outlinewidth": 0,
              "ticks": ""
             }
            },
            "type": "scattergl"
           }
          ],
          "scattermapbox": [
           {
            "marker": {
             "colorbar": {
              "outlinewidth": 0,
              "ticks": ""
             }
            },
            "type": "scattermapbox"
           }
          ],
          "scatterpolar": [
           {
            "marker": {
             "colorbar": {
              "outlinewidth": 0,
              "ticks": ""
             }
            },
            "type": "scatterpolar"
           }
          ],
          "scatterpolargl": [
           {
            "marker": {
             "colorbar": {
              "outlinewidth": 0,
              "ticks": ""
             }
            },
            "type": "scatterpolargl"
           }
          ],
          "scatterternary": [
           {
            "marker": {
             "colorbar": {
              "outlinewidth": 0,
              "ticks": ""
             }
            },
            "type": "scatterternary"
           }
          ],
          "surface": [
           {
            "colorbar": {
             "outlinewidth": 0,
             "ticks": ""
            },
            "colorscale": [
             [
              0,
              "#0d0887"
             ],
             [
              0.1111111111111111,
              "#46039f"
             ],
             [
              0.2222222222222222,
              "#7201a8"
             ],
             [
              0.3333333333333333,
              "#9c179e"
             ],
             [
              0.4444444444444444,
              "#bd3786"
             ],
             [
              0.5555555555555556,
              "#d8576b"
             ],
             [
              0.6666666666666666,
              "#ed7953"
             ],
             [
              0.7777777777777778,
              "#fb9f3a"
             ],
             [
              0.8888888888888888,
              "#fdca26"
             ],
             [
              1,
              "#f0f921"
             ]
            ],
            "type": "surface"
           }
          ],
          "table": [
           {
            "cells": {
             "fill": {
              "color": "#EBF0F8"
             },
             "line": {
              "color": "white"
             }
            },
            "header": {
             "fill": {
              "color": "#C8D4E3"
             },
             "line": {
              "color": "white"
             }
            },
            "type": "table"
           }
          ]
         },
         "layout": {
          "annotationdefaults": {
           "arrowcolor": "#2a3f5f",
           "arrowhead": 0,
           "arrowwidth": 1
          },
          "autotypenumbers": "strict",
          "coloraxis": {
           "colorbar": {
            "outlinewidth": 0,
            "ticks": ""
           }
          },
          "colorscale": {
           "diverging": [
            [
             0,
             "#8e0152"
            ],
            [
             0.1,
             "#c51b7d"
            ],
            [
             0.2,
             "#de77ae"
            ],
            [
             0.3,
             "#f1b6da"
            ],
            [
             0.4,
             "#fde0ef"
            ],
            [
             0.5,
             "#f7f7f7"
            ],
            [
             0.6,
             "#e6f5d0"
            ],
            [
             0.7,
             "#b8e186"
            ],
            [
             0.8,
             "#7fbc41"
            ],
            [
             0.9,
             "#4d9221"
            ],
            [
             1,
             "#276419"
            ]
           ],
           "sequential": [
            [
             0,
             "#0d0887"
            ],
            [
             0.1111111111111111,
             "#46039f"
            ],
            [
             0.2222222222222222,
             "#7201a8"
            ],
            [
             0.3333333333333333,
             "#9c179e"
            ],
            [
             0.4444444444444444,
             "#bd3786"
            ],
            [
             0.5555555555555556,
             "#d8576b"
            ],
            [
             0.6666666666666666,
             "#ed7953"
            ],
            [
             0.7777777777777778,
             "#fb9f3a"
            ],
            [
             0.8888888888888888,
             "#fdca26"
            ],
            [
             1,
             "#f0f921"
            ]
           ],
           "sequentialminus": [
            [
             0,
             "#0d0887"
            ],
            [
             0.1111111111111111,
             "#46039f"
            ],
            [
             0.2222222222222222,
             "#7201a8"
            ],
            [
             0.3333333333333333,
             "#9c179e"
            ],
            [
             0.4444444444444444,
             "#bd3786"
            ],
            [
             0.5555555555555556,
             "#d8576b"
            ],
            [
             0.6666666666666666,
             "#ed7953"
            ],
            [
             0.7777777777777778,
             "#fb9f3a"
            ],
            [
             0.8888888888888888,
             "#fdca26"
            ],
            [
             1,
             "#f0f921"
            ]
           ]
          },
          "colorway": [
           "#636efa",
           "#EF553B",
           "#00cc96",
           "#ab63fa",
           "#FFA15A",
           "#19d3f3",
           "#FF6692",
           "#B6E880",
           "#FF97FF",
           "#FECB52"
          ],
          "font": {
           "color": "#2a3f5f"
          },
          "geo": {
           "bgcolor": "white",
           "lakecolor": "white",
           "landcolor": "#E5ECF6",
           "showlakes": true,
           "showland": true,
           "subunitcolor": "white"
          },
          "hoverlabel": {
           "align": "left"
          },
          "hovermode": "closest",
          "mapbox": {
           "style": "light"
          },
          "paper_bgcolor": "white",
          "plot_bgcolor": "#E5ECF6",
          "polar": {
           "angularaxis": {
            "gridcolor": "white",
            "linecolor": "white",
            "ticks": ""
           },
           "bgcolor": "#E5ECF6",
           "radialaxis": {
            "gridcolor": "white",
            "linecolor": "white",
            "ticks": ""
           }
          },
          "scene": {
           "xaxis": {
            "backgroundcolor": "#E5ECF6",
            "gridcolor": "white",
            "gridwidth": 2,
            "linecolor": "white",
            "showbackground": true,
            "ticks": "",
            "zerolinecolor": "white"
           },
           "yaxis": {
            "backgroundcolor": "#E5ECF6",
            "gridcolor": "white",
            "gridwidth": 2,
            "linecolor": "white",
            "showbackground": true,
            "ticks": "",
            "zerolinecolor": "white"
           },
           "zaxis": {
            "backgroundcolor": "#E5ECF6",
            "gridcolor": "white",
            "gridwidth": 2,
            "linecolor": "white",
            "showbackground": true,
            "ticks": "",
            "zerolinecolor": "white"
           }
          },
          "shapedefaults": {
           "line": {
            "color": "#2a3f5f"
           }
          },
          "ternary": {
           "aaxis": {
            "gridcolor": "white",
            "linecolor": "white",
            "ticks": ""
           },
           "baxis": {
            "gridcolor": "white",
            "linecolor": "white",
            "ticks": ""
           },
           "bgcolor": "#E5ECF6",
           "caxis": {
            "gridcolor": "white",
            "linecolor": "white",
            "ticks": ""
           }
          },
          "title": {
           "x": 0.05
          },
          "xaxis": {
           "automargin": true,
           "gridcolor": "white",
           "linecolor": "white",
           "ticks": "",
           "title": {
            "standoff": 15
           },
           "zerolinecolor": "white",
           "zerolinewidth": 2
          },
          "yaxis": {
           "automargin": true,
           "gridcolor": "white",
           "linecolor": "white",
           "ticks": "",
           "title": {
            "standoff": 15
           },
           "zerolinecolor": "white",
           "zerolinewidth": 2
          }
         }
        },
        "title": {
         "text": "Performance According to the Experience Level - HR "
        },
        "xaxis": {
         "title": {
          "text": "Number of Years"
         },
         "zeroline": false
        },
        "yaxis": {
         "title": {
          "text": "Performance Rating "
         },
         "zeroline": false
        }
       }
      },
      "text/html": [
       "<div>                            <div id=\"d121b4d9-22a5-45ed-b2ff-5b79982a3939\" class=\"plotly-graph-div\" style=\"height:525px; width:100%;\"></div>            <script type=\"text/javascript\">                require([\"plotly\"], function(Plotly) {                    window.PLOTLYENV=window.PLOTLYENV || {};                                    if (document.getElementById(\"d121b4d9-22a5-45ed-b2ff-5b79982a3939\")) {                    Plotly.newPlot(                        \"d121b4d9-22a5-45ed-b2ff-5b79982a3939\",                        [{\"boxmean\":false,\"marker\":{\"color\":\"#3D9970\"},\"name\":\"TotalWorkExperienceInYears\",\"orientation\":\"h\",\"x\":[23,12,8,6,6,13,7,6,24,6,5,10,14,10,36,33,21,10,8,2,21,10,27,14,8,10,9,3,6,10,19,13,2,3,1,10,1,7,35,6,9,16,7,23,8,12,7,9,4,1,11,32,10,16],\"y\":[3,3,3,3,3,3,3,3,2,2,2,4,3,3,3,3,3,3,3,2,4,3,3,3,3,3,4,2,3,2,3,2,3,3,3,4,3,3,3,3,3,3,4,3,4,3,2,2,3,3,3,2,3,3],\"type\":\"box\"},{\"boxmean\":false,\"marker\":{\"color\":\"#FF4136\"},\"name\":\"ExperienceYearsAtThisCompany\",\"orientation\":\"h\",\"x\":[21,8,5,5,5,5,4,6,20,5,5,4,10,7,7,33,20,10,3,2,21,6,5,10,2,3,5,2,4,9,10,11,1,3,1,10,1,6,10,2,9,4,3,5,8,11,2,2,3,1,3,32,2,9],\"y\":[3,3,3,3,3,3,3,3,2,2,2,4,3,3,3,3,3,3,3,2,4,3,3,3,3,3,4,2,3,2,3,2,3,3,3,4,3,3,3,3,3,3,4,3,4,3,2,2,3,3,3,2,3,3],\"type\":\"box\"},{\"boxmean\":false,\"marker\":{\"color\":\"#FF851B\"},\"name\":\"ExperienceYearsInCurrentRole\",\"orientation\":\"h\",\"x\":[6,3,2,1,4,4,3,3,6,4,4,3,9,6,3,9,7,9,2,2,7,3,2,7,2,2,0,2,2,7,0,10,0,2,0,1,0,2,9,0,0,2,2,3,7,9,2,2,2,0,2,5,2,7],\"y\":[3,3,3,3,3,3,3,3,2,2,2,4,3,3,3,3,3,3,3,2,4,3,3,3,3,3,4,2,3,2,3,2,3,3,3,4,3,3,3,3,3,3,4,3,4,3,2,2,3,3,3,2,3,3],\"type\":\"box\"}],                        {\"boxmode\":\"group\",\"template\":{\"data\":{\"barpolar\":[{\"marker\":{\"line\":{\"color\":\"#E5ECF6\",\"width\":0.5},\"pattern\":{\"fillmode\":\"overlay\",\"size\":10,\"solidity\":0.2}},\"type\":\"barpolar\"}],\"bar\":[{\"error_x\":{\"color\":\"#2a3f5f\"},\"error_y\":{\"color\":\"#2a3f5f\"},\"marker\":{\"line\":{\"color\":\"#E5ECF6\",\"width\":0.5},\"pattern\":{\"fillmode\":\"overlay\",\"size\":10,\"solidity\":0.2}},\"type\":\"bar\"}],\"carpet\":[{\"aaxis\":{\"endlinecolor\":\"#2a3f5f\",\"gridcolor\":\"white\",\"linecolor\":\"white\",\"minorgridcolor\":\"white\",\"startlinecolor\":\"#2a3f5f\"},\"baxis\":{\"endlinecolor\":\"#2a3f5f\",\"gridcolor\":\"white\",\"linecolor\":\"white\",\"minorgridcolor\":\"white\",\"startlinecolor\":\"#2a3f5f\"},\"type\":\"carpet\"}],\"choropleth\":[{\"colorbar\":{\"outlinewidth\":0,\"ticks\":\"\"},\"type\":\"choropleth\"}],\"contourcarpet\":[{\"colorbar\":{\"outlinewidth\":0,\"ticks\":\"\"},\"type\":\"contourcarpet\"}],\"contour\":[{\"colorbar\":{\"outlinewidth\":0,\"ticks\":\"\"},\"colorscale\":[[0.0,\"#0d0887\"],[0.1111111111111111,\"#46039f\"],[0.2222222222222222,\"#7201a8\"],[0.3333333333333333,\"#9c179e\"],[0.4444444444444444,\"#bd3786\"],[0.5555555555555556,\"#d8576b\"],[0.6666666666666666,\"#ed7953\"],[0.7777777777777778,\"#fb9f3a\"],[0.8888888888888888,\"#fdca26\"],[1.0,\"#f0f921\"]],\"type\":\"contour\"}],\"heatmapgl\":[{\"colorbar\":{\"outlinewidth\":0,\"ticks\":\"\"},\"colorscale\":[[0.0,\"#0d0887\"],[0.1111111111111111,\"#46039f\"],[0.2222222222222222,\"#7201a8\"],[0.3333333333333333,\"#9c179e\"],[0.4444444444444444,\"#bd3786\"],[0.5555555555555556,\"#d8576b\"],[0.6666666666666666,\"#ed7953\"],[0.7777777777777778,\"#fb9f3a\"],[0.8888888888888888,\"#fdca26\"],[1.0,\"#f0f921\"]],\"type\":\"heatmapgl\"}],\"heatmap\":[{\"colorbar\":{\"outlinewidth\":0,\"ticks\":\"\"},\"colorscale\":[[0.0,\"#0d0887\"],[0.1111111111111111,\"#46039f\"],[0.2222222222222222,\"#7201a8\"],[0.3333333333333333,\"#9c179e\"],[0.4444444444444444,\"#bd3786\"],[0.5555555555555556,\"#d8576b\"],[0.6666666666666666,\"#ed7953\"],[0.7777777777777778,\"#fb9f3a\"],[0.8888888888888888,\"#fdca26\"],[1.0,\"#f0f921\"]],\"type\":\"heatmap\"}],\"histogram2dcontour\":[{\"colorbar\":{\"outlinewidth\":0,\"ticks\":\"\"},\"colorscale\":[[0.0,\"#0d0887\"],[0.1111111111111111,\"#46039f\"],[0.2222222222222222,\"#7201a8\"],[0.3333333333333333,\"#9c179e\"],[0.4444444444444444,\"#bd3786\"],[0.5555555555555556,\"#d8576b\"],[0.6666666666666666,\"#ed7953\"],[0.7777777777777778,\"#fb9f3a\"],[0.8888888888888888,\"#fdca26\"],[1.0,\"#f0f921\"]],\"type\":\"histogram2dcontour\"}],\"histogram2d\":[{\"colorbar\":{\"outlinewidth\":0,\"ticks\":\"\"},\"colorscale\":[[0.0,\"#0d0887\"],[0.1111111111111111,\"#46039f\"],[0.2222222222222222,\"#7201a8\"],[0.3333333333333333,\"#9c179e\"],[0.4444444444444444,\"#bd3786\"],[0.5555555555555556,\"#d8576b\"],[0.6666666666666666,\"#ed7953\"],[0.7777777777777778,\"#fb9f3a\"],[0.8888888888888888,\"#fdca26\"],[1.0,\"#f0f921\"]],\"type\":\"histogram2d\"}],\"histogram\":[{\"marker\":{\"pattern\":{\"fillmode\":\"overlay\",\"size\":10,\"solidity\":0.2}},\"type\":\"histogram\"}],\"mesh3d\":[{\"colorbar\":{\"outlinewidth\":0,\"ticks\":\"\"},\"type\":\"mesh3d\"}],\"parcoords\":[{\"line\":{\"colorbar\":{\"outlinewidth\":0,\"ticks\":\"\"}},\"type\":\"parcoords\"}],\"pie\":[{\"automargin\":true,\"type\":\"pie\"}],\"scatter3d\":[{\"line\":{\"colorbar\":{\"outlinewidth\":0,\"ticks\":\"\"}},\"marker\":{\"colorbar\":{\"outlinewidth\":0,\"ticks\":\"\"}},\"type\":\"scatter3d\"}],\"scattercarpet\":[{\"marker\":{\"colorbar\":{\"outlinewidth\":0,\"ticks\":\"\"}},\"type\":\"scattercarpet\"}],\"scattergeo\":[{\"marker\":{\"colorbar\":{\"outlinewidth\":0,\"ticks\":\"\"}},\"type\":\"scattergeo\"}],\"scattergl\":[{\"marker\":{\"colorbar\":{\"outlinewidth\":0,\"ticks\":\"\"}},\"type\":\"scattergl\"}],\"scattermapbox\":[{\"marker\":{\"colorbar\":{\"outlinewidth\":0,\"ticks\":\"\"}},\"type\":\"scattermapbox\"}],\"scatterpolargl\":[{\"marker\":{\"colorbar\":{\"outlinewidth\":0,\"ticks\":\"\"}},\"type\":\"scatterpolargl\"}],\"scatterpolar\":[{\"marker\":{\"colorbar\":{\"outlinewidth\":0,\"ticks\":\"\"}},\"type\":\"scatterpolar\"}],\"scatter\":[{\"marker\":{\"colorbar\":{\"outlinewidth\":0,\"ticks\":\"\"}},\"type\":\"scatter\"}],\"scatterternary\":[{\"marker\":{\"colorbar\":{\"outlinewidth\":0,\"ticks\":\"\"}},\"type\":\"scatterternary\"}],\"surface\":[{\"colorbar\":{\"outlinewidth\":0,\"ticks\":\"\"},\"colorscale\":[[0.0,\"#0d0887\"],[0.1111111111111111,\"#46039f\"],[0.2222222222222222,\"#7201a8\"],[0.3333333333333333,\"#9c179e\"],[0.4444444444444444,\"#bd3786\"],[0.5555555555555556,\"#d8576b\"],[0.6666666666666666,\"#ed7953\"],[0.7777777777777778,\"#fb9f3a\"],[0.8888888888888888,\"#fdca26\"],[1.0,\"#f0f921\"]],\"type\":\"surface\"}],\"table\":[{\"cells\":{\"fill\":{\"color\":\"#EBF0F8\"},\"line\":{\"color\":\"white\"}},\"header\":{\"fill\":{\"color\":\"#C8D4E3\"},\"line\":{\"color\":\"white\"}},\"type\":\"table\"}]},\"layout\":{\"annotationdefaults\":{\"arrowcolor\":\"#2a3f5f\",\"arrowhead\":0,\"arrowwidth\":1},\"autotypenumbers\":\"strict\",\"coloraxis\":{\"colorbar\":{\"outlinewidth\":0,\"ticks\":\"\"}},\"colorscale\":{\"diverging\":[[0,\"#8e0152\"],[0.1,\"#c51b7d\"],[0.2,\"#de77ae\"],[0.3,\"#f1b6da\"],[0.4,\"#fde0ef\"],[0.5,\"#f7f7f7\"],[0.6,\"#e6f5d0\"],[0.7,\"#b8e186\"],[0.8,\"#7fbc41\"],[0.9,\"#4d9221\"],[1,\"#276419\"]],\"sequential\":[[0.0,\"#0d0887\"],[0.1111111111111111,\"#46039f\"],[0.2222222222222222,\"#7201a8\"],[0.3333333333333333,\"#9c179e\"],[0.4444444444444444,\"#bd3786\"],[0.5555555555555556,\"#d8576b\"],[0.6666666666666666,\"#ed7953\"],[0.7777777777777778,\"#fb9f3a\"],[0.8888888888888888,\"#fdca26\"],[1.0,\"#f0f921\"]],\"sequentialminus\":[[0.0,\"#0d0887\"],[0.1111111111111111,\"#46039f\"],[0.2222222222222222,\"#7201a8\"],[0.3333333333333333,\"#9c179e\"],[0.4444444444444444,\"#bd3786\"],[0.5555555555555556,\"#d8576b\"],[0.6666666666666666,\"#ed7953\"],[0.7777777777777778,\"#fb9f3a\"],[0.8888888888888888,\"#fdca26\"],[1.0,\"#f0f921\"]]},\"colorway\":[\"#636efa\",\"#EF553B\",\"#00cc96\",\"#ab63fa\",\"#FFA15A\",\"#19d3f3\",\"#FF6692\",\"#B6E880\",\"#FF97FF\",\"#FECB52\"],\"font\":{\"color\":\"#2a3f5f\"},\"geo\":{\"bgcolor\":\"white\",\"lakecolor\":\"white\",\"landcolor\":\"#E5ECF6\",\"showlakes\":true,\"showland\":true,\"subunitcolor\":\"white\"},\"hoverlabel\":{\"align\":\"left\"},\"hovermode\":\"closest\",\"mapbox\":{\"style\":\"light\"},\"paper_bgcolor\":\"white\",\"plot_bgcolor\":\"#E5ECF6\",\"polar\":{\"angularaxis\":{\"gridcolor\":\"white\",\"linecolor\":\"white\",\"ticks\":\"\"},\"bgcolor\":\"#E5ECF6\",\"radialaxis\":{\"gridcolor\":\"white\",\"linecolor\":\"white\",\"ticks\":\"\"}},\"scene\":{\"xaxis\":{\"backgroundcolor\":\"#E5ECF6\",\"gridcolor\":\"white\",\"gridwidth\":2,\"linecolor\":\"white\",\"showbackground\":true,\"ticks\":\"\",\"zerolinecolor\":\"white\"},\"yaxis\":{\"backgroundcolor\":\"#E5ECF6\",\"gridcolor\":\"white\",\"gridwidth\":2,\"linecolor\":\"white\",\"showbackground\":true,\"ticks\":\"\",\"zerolinecolor\":\"white\"},\"zaxis\":{\"backgroundcolor\":\"#E5ECF6\",\"gridcolor\":\"white\",\"gridwidth\":2,\"linecolor\":\"white\",\"showbackground\":true,\"ticks\":\"\",\"zerolinecolor\":\"white\"}},\"shapedefaults\":{\"line\":{\"color\":\"#2a3f5f\"}},\"ternary\":{\"aaxis\":{\"gridcolor\":\"white\",\"linecolor\":\"white\",\"ticks\":\"\"},\"baxis\":{\"gridcolor\":\"white\",\"linecolor\":\"white\",\"ticks\":\"\"},\"bgcolor\":\"#E5ECF6\",\"caxis\":{\"gridcolor\":\"white\",\"linecolor\":\"white\",\"ticks\":\"\"}},\"title\":{\"x\":0.05},\"xaxis\":{\"automargin\":true,\"gridcolor\":\"white\",\"linecolor\":\"white\",\"ticks\":\"\",\"title\":{\"standoff\":15},\"zerolinecolor\":\"white\",\"zerolinewidth\":2},\"yaxis\":{\"automargin\":true,\"gridcolor\":\"white\",\"linecolor\":\"white\",\"ticks\":\"\",\"title\":{\"standoff\":15},\"zerolinecolor\":\"white\",\"zerolinewidth\":2}}},\"title\":{\"text\":\"Performance According to the Experience Level - HR \"},\"xaxis\":{\"title\":{\"text\":\"Number of Years\"},\"zeroline\":false},\"yaxis\":{\"title\":{\"text\":\"Performance Rating \"},\"zeroline\":false}},                        {\"responsive\": true}                    ).then(function(){\n",
       "                            \n",
       "var gd = document.getElementById('d121b4d9-22a5-45ed-b2ff-5b79982a3939');\n",
       "var x = new MutationObserver(function (mutations, observer) {{\n",
       "        var display = window.getComputedStyle(gd).display;\n",
       "        if (!display || display === 'none') {{\n",
       "            console.log([gd, 'removed!']);\n",
       "            Plotly.purge(gd);\n",
       "            observer.disconnect();\n",
       "        }}\n",
       "}});\n",
       "\n",
       "// Listen for the removal of the full notebook cells\n",
       "var notebookContainer = gd.closest('#notebook-container');\n",
       "if (notebookContainer) {{\n",
       "    x.observe(notebookContainer, {childList: true});\n",
       "}}\n",
       "\n",
       "// Listen for the clearing of the current output cell\n",
       "var outputEl = gd.closest('.output');\n",
       "if (outputEl) {{\n",
       "    x.observe(outputEl, {childList: true});\n",
       "}}\n",
       "\n",
       "                        })                };                });            </script>        </div>"
      ]
     },
     "metadata": {},
     "output_type": "display_data"
    }
   ],
   "source": [
    "data = [\n",
    "    {\n",
    "        'x': HR['TotalWorkExperienceInYears'],\n",
    "        'y': HR['PerformanceRating'],\n",
    "        'name':'TotalWorkExperienceInYears',\n",
    "        'marker': {\n",
    "            'color': '#3D9970'\n",
    "        },\n",
    "        'boxmean': False,\n",
    "        'orientation': 'h',\n",
    "        \"type\": \"box\",\n",
    "    },\n",
    "    {\n",
    "        'x':HR['ExperienceYearsAtThisCompany'],\n",
    "        'y':HR['PerformanceRating'],\n",
    "        'name': 'ExperienceYearsAtThisCompany',\n",
    "        'marker':{\n",
    "            'color': '#FF4136',\n",
    "        },\n",
    "        'boxmean': False,\n",
    "        'orientation': 'h',\n",
    "        \"type\": \"box\",\n",
    "    },\n",
    "    {\n",
    "        'x': HR['ExperienceYearsInCurrentRole'],\n",
    "        'y': HR['PerformanceRating'],\n",
    "        'name':'ExperienceYearsInCurrentRole',\n",
    "        'marker': {\n",
    "            'color': '#FF851B',\n",
    "        },\n",
    "        'boxmean': False,\n",
    "        'orientation': 'h',\n",
    "        \"type\": \"box\",\n",
    "    }\n",
    "]\n",
    "layout = {\n",
    "    'xaxis': {\n",
    "        'title': 'Number of Years',\n",
    "        'zeroline': False,\n",
    "    },\n",
    "    'yaxis': {\n",
    "        'title': 'Performance Rating ',\n",
    "        'zeroline': False,\n",
    "    },\n",
    "    'boxmode': 'group',\n",
    "    'title': 'Performance According to the Experience Level - HR ',\n",
    "}\n",
    "fig = go.Figure(data=data, layout=layout)\n",
    "\n",
    "py.iplot(fig)"
   ]
  },
  {
   "cell_type": "markdown",
   "id": "f9dc960e",
   "metadata": {},
   "source": [
    "## Development Department "
   ]
  },
  {
   "cell_type": "code",
   "execution_count": 18,
   "id": "b6869db4",
   "metadata": {},
   "outputs": [
    {
     "data": {
      "text/html": [
       "<div>\n",
       "<style scoped>\n",
       "    .dataframe tbody tr th:only-of-type {\n",
       "        vertical-align: middle;\n",
       "    }\n",
       "\n",
       "    .dataframe tbody tr th {\n",
       "        vertical-align: top;\n",
       "    }\n",
       "\n",
       "    .dataframe thead th {\n",
       "        text-align: right;\n",
       "    }\n",
       "</style>\n",
       "<table border=\"1\" class=\"dataframe\">\n",
       "  <thead>\n",
       "    <tr style=\"text-align: right;\">\n",
       "      <th></th>\n",
       "      <th>EmpNumber</th>\n",
       "      <th>Age</th>\n",
       "      <th>Gender</th>\n",
       "      <th>EducationBackground</th>\n",
       "      <th>MaritalStatus</th>\n",
       "      <th>EmpDepartment</th>\n",
       "      <th>EmpJobRole</th>\n",
       "      <th>BusinessTravelFrequency</th>\n",
       "      <th>DistanceFromHome</th>\n",
       "      <th>EmpEducationLevel</th>\n",
       "      <th>...</th>\n",
       "      <th>EmpRelationshipSatisfaction</th>\n",
       "      <th>TotalWorkExperienceInYears</th>\n",
       "      <th>TrainingTimesLastYear</th>\n",
       "      <th>EmpWorkLifeBalance</th>\n",
       "      <th>ExperienceYearsAtThisCompany</th>\n",
       "      <th>ExperienceYearsInCurrentRole</th>\n",
       "      <th>YearsSinceLastPromotion</th>\n",
       "      <th>YearsWithCurrManager</th>\n",
       "      <th>Attrition</th>\n",
       "      <th>PerformanceRating</th>\n",
       "    </tr>\n",
       "  </thead>\n",
       "  <tbody>\n",
       "    <tr>\n",
       "      <th>5</th>\n",
       "      <td>E1001011</td>\n",
       "      <td>27</td>\n",
       "      <td>Male</td>\n",
       "      <td>Life Sciences</td>\n",
       "      <td>Divorced</td>\n",
       "      <td>Development</td>\n",
       "      <td>Developer</td>\n",
       "      <td>Travel_Frequently</td>\n",
       "      <td>10</td>\n",
       "      <td>2</td>\n",
       "      <td>...</td>\n",
       "      <td>3</td>\n",
       "      <td>9</td>\n",
       "      <td>4</td>\n",
       "      <td>2</td>\n",
       "      <td>9</td>\n",
       "      <td>7</td>\n",
       "      <td>1</td>\n",
       "      <td>7</td>\n",
       "      <td>No</td>\n",
       "      <td>4</td>\n",
       "    </tr>\n",
       "    <tr>\n",
       "      <th>7</th>\n",
       "      <td>E1001019</td>\n",
       "      <td>28</td>\n",
       "      <td>Female</td>\n",
       "      <td>Life Sciences</td>\n",
       "      <td>Single</td>\n",
       "      <td>Development</td>\n",
       "      <td>Developer</td>\n",
       "      <td>Travel_Rarely</td>\n",
       "      <td>1</td>\n",
       "      <td>2</td>\n",
       "      <td>...</td>\n",
       "      <td>4</td>\n",
       "      <td>10</td>\n",
       "      <td>4</td>\n",
       "      <td>3</td>\n",
       "      <td>7</td>\n",
       "      <td>7</td>\n",
       "      <td>3</td>\n",
       "      <td>7</td>\n",
       "      <td>Yes</td>\n",
       "      <td>3</td>\n",
       "    </tr>\n",
       "    <tr>\n",
       "      <th>8</th>\n",
       "      <td>E1001020</td>\n",
       "      <td>36</td>\n",
       "      <td>Female</td>\n",
       "      <td>Life Sciences</td>\n",
       "      <td>Married</td>\n",
       "      <td>Development</td>\n",
       "      <td>Developer</td>\n",
       "      <td>Non-Travel</td>\n",
       "      <td>8</td>\n",
       "      <td>3</td>\n",
       "      <td>...</td>\n",
       "      <td>1</td>\n",
       "      <td>10</td>\n",
       "      <td>2</td>\n",
       "      <td>3</td>\n",
       "      <td>8</td>\n",
       "      <td>7</td>\n",
       "      <td>0</td>\n",
       "      <td>5</td>\n",
       "      <td>No</td>\n",
       "      <td>3</td>\n",
       "    </tr>\n",
       "  </tbody>\n",
       "</table>\n",
       "<p>3 rows × 28 columns</p>\n",
       "</div>"
      ],
      "text/plain": [
       "  EmpNumber  Age  Gender EducationBackground MaritalStatus EmpDepartment  \\\n",
       "5  E1001011   27    Male       Life Sciences      Divorced   Development   \n",
       "7  E1001019   28  Female       Life Sciences        Single   Development   \n",
       "8  E1001020   36  Female       Life Sciences       Married   Development   \n",
       "\n",
       "  EmpJobRole BusinessTravelFrequency  DistanceFromHome  EmpEducationLevel  \\\n",
       "5  Developer       Travel_Frequently                10                  2   \n",
       "7  Developer           Travel_Rarely                 1                  2   \n",
       "8  Developer              Non-Travel                 8                  3   \n",
       "\n",
       "   ...  EmpRelationshipSatisfaction  TotalWorkExperienceInYears  \\\n",
       "5  ...                            3                           9   \n",
       "7  ...                            4                          10   \n",
       "8  ...                            1                          10   \n",
       "\n",
       "   TrainingTimesLastYear  EmpWorkLifeBalance  ExperienceYearsAtThisCompany  \\\n",
       "5                      4                   2                             9   \n",
       "7                      4                   3                             7   \n",
       "8                      2                   3                             8   \n",
       "\n",
       "   ExperienceYearsInCurrentRole YearsSinceLastPromotion  YearsWithCurrManager  \\\n",
       "5                             7                       1                     7   \n",
       "7                             7                       3                     7   \n",
       "8                             7                       0                     5   \n",
       "\n",
       "   Attrition  PerformanceRating  \n",
       "5         No                  4  \n",
       "7        Yes                  3  \n",
       "8         No                  3  \n",
       "\n",
       "[3 rows x 28 columns]"
      ]
     },
     "execution_count": 18,
     "metadata": {},
     "output_type": "execute_result"
    }
   ],
   "source": [
    "Development = original_data[original_data.EmpDepartment == 'Development'] # Slicing the all coloums of Sales Row \n",
    "Development.head(3)"
   ]
  },
  {
   "cell_type": "markdown",
   "id": "1498401d",
   "metadata": {},
   "source": [
    "###  (i) Performance Rating with respect to number of employees"
   ]
  },
  {
   "cell_type": "code",
   "execution_count": 19,
   "id": "afeea7ce",
   "metadata": {},
   "outputs": [
    {
     "data": {
      "image/png": "[encoded data removed]",
      "text/plain": [
       "<Figure size 432x288 with 1 Axes>"
      ]
     },
     "metadata": {
      "needs_background": "light"
     },
     "output_type": "display_data"
    }
   ],
   "source": [
    "sns.countplot(y=\"PerformanceRating\", data=Development, palette=\"Greens_d\");"
   ]
  },
  {
   "cell_type": "markdown",
   "id": "62587a23",
   "metadata": {},
   "source": [
    "###  (ii) Performance Rating with respect to Age Group"
   ]
  },
  {
   "cell_type": "code",
   "execution_count": 20,
   "id": "b5b38123",
   "metadata": {},
   "outputs": [
    {
     "data": {
      "text/plain": [
       "<AxesSubplot:xlabel='PerformanceRating', ylabel='Age'>"
      ]
     },
     "execution_count": 20,
     "metadata": {},
     "output_type": "execute_result"
    },
    {
     "data": {
      "image/png": "[encoded data removed]",
      "text/plain": [
       "<Figure size 432x288 with 1 Axes>"
      ]
     },
     "metadata": {
      "needs_background": "light"
     },
     "output_type": "display_data"
    }
   ],
   "source": [
    "sns.boxplot(Development['PerformanceRating'], Development['Age'])"
   ]
  },
  {
   "cell_type": "markdown",
   "id": "8075cbea",
   "metadata": {},
   "source": [
    "### (iii) Performance based on Gender"
   ]
  },
  {
   "cell_type": "code",
   "execution_count": 21,
   "id": "e15da419",
   "metadata": {},
   "outputs": [
    {
     "data": {
      "text/plain": [
       "<AxesSubplot:xlabel='Gender', ylabel='PerformanceRating'>"
      ]
     },
     "execution_count": 21,
     "metadata": {},
     "output_type": "execute_result"
    },
    {
     "data": {
      "image/png": "[encoded data removed]",
      "text/plain": [
       "<Figure size 432x288 with 1 Axes>"
      ]
     },
     "metadata": {
      "needs_background": "light"
     },
     "output_type": "display_data"
    }
   ],
   "source": [
    "sns.barplot(Development['Gender'], Development['PerformanceRating'])"
   ]
  },
  {
   "cell_type": "markdown",
   "id": "e5141059",
   "metadata": {},
   "source": [
    "### (iv) Performance According to the Experience Level"
   ]
  },
  {
   "cell_type": "code",
   "execution_count": 22,
   "id": "085172ea",
   "metadata": {},
   "outputs": [
    {
     "data": {
      "application/vnd.plotly.v1+json": {
       "config": {
        "linkText": "Export to plot.ly",
        "plotlyServerURL": "https://plot.ly",
        "showLink": false
       },
       "data": [
        {
         "boxmean": false,
         "marker": {
          "color": "#3D9970"
         },
         "name": "TotalWorkExperienceInYears",
         "orientation": "h",
         "type": "box",
         "x": [
          9,
          10,
          10,
          10,
          9,
          7,
          10,
          30,
          5,
          9,
          19,
          16,
          10,
          7,
          10,
          2,
          5,
          5,
          11,
          10,
          9,
          6,
          17,
          6,
          8,
          1,
          9,
          30,
          1,
          14,
          26,
          10,
          10,
          7,
          8,
          5,
          10,
          12,
          1,
          10,
          13,
          22,
          9,
          17,
          8,
          0,
          10,
          6,
          6,
          9,
          4,
          10,
          8,
          10,
          4,
          6,
          8,
          33,
          12,
          31,
          1,
          8,
          3,
          4,
          6,
          8,
          1,
          1,
          6,
          24,
          10,
          8,
          15,
          5,
          20,
          16,
          1,
          10,
          9,
          26,
          20,
          4,
          3,
          5,
          8,
          32,
          6,
          21,
          9,
          7,
          22,
          6,
          8,
          12,
          1,
          17,
          6,
          5,
          3,
          6,
          10,
          1,
          6,
          5,
          13,
          8,
          26,
          10,
          24,
          7,
          9,
          6,
          6,
          6,
          1,
          1,
          1,
          12,
          8,
          1,
          23,
          2,
          10,
          15,
          4,
          10,
          7,
          9,
          10,
          29,
          17,
          6,
          25,
          5,
          2,
          6,
          1,
          10,
          5,
          11,
          10,
          6,
          17,
          5,
          11,
          22,
          21,
          17,
          1,
          16,
          17,
          28,
          2,
          1,
          9,
          6,
          12,
          14,
          7,
          23,
          5,
          40,
          3,
          16,
          18,
          7,
          18,
          9,
          19,
          5,
          8,
          7,
          1,
          20,
          10,
          9,
          6,
          5,
          12,
          1,
          21,
          13,
          8,
          6,
          13,
          12,
          19,
          4,
          1,
          2,
          9,
          5,
          5,
          8,
          21,
          10,
          21,
          34,
          7,
          8,
          7,
          22,
          8,
          10,
          11,
          14,
          9,
          6,
          7,
          5,
          15,
          17,
          4,
          8,
          5,
          7,
          16,
          10,
          6,
          4,
          6,
          22,
          8,
          13,
          4,
          9,
          2,
          13,
          17,
          9,
          17,
          20,
          10,
          5,
          10,
          1,
          5,
          9,
          5,
          6,
          21,
          37,
          5,
          3,
          15,
          10,
          28,
          21,
          5,
          17,
          19,
          10,
          5,
          22,
          4,
          0,
          4,
          13,
          19,
          11,
          19,
          6,
          24,
          3,
          12,
          21,
          9,
          25,
          4,
          10,
          11,
          21,
          10,
          12,
          7,
          8,
          12,
          11,
          17,
          8,
          16,
          13,
          15,
          10,
          3,
          6,
          10,
          26,
          6,
          30,
          7,
          2,
          3,
          18,
          18,
          25,
          20,
          24,
          13,
          8,
          15,
          4,
          21,
          10,
          6,
          28,
          8,
          19,
          11,
          33,
          3,
          9,
          10,
          6,
          28,
          20,
          26,
          6,
          19,
          14,
          13,
          15,
          8,
          10,
          12,
          4,
          8,
          10,
          10,
          10,
          1,
          12,
          28,
          18,
          8,
          31,
          6,
          1,
          6,
          6,
          6,
          10,
          21,
          8,
          10,
          21,
          26,
          3,
          6,
          1,
          10,
          3,
          10,
          17,
          13,
          1,
          10,
          5,
          10,
          4,
          20
         ],
         "y": [
          4,
          3,
          3,
          3,
          3,
          3,
          3,
          3,
          4,
          3,
          3,
          3,
          3,
          3,
          3,
          3,
          3,
          3,
          3,
          3,
          3,
          3,
          3,
          3,
          4,
          3,
          4,
          3,
          3,
          3,
          3,
          3,
          4,
          3,
          3,
          3,
          3,
          4,
          3,
          3,
          3,
          3,
          3,
          4,
          3,
          3,
          3,
          3,
          3,
          3,
          3,
          3,
          3,
          3,
          3,
          3,
          3,
          3,
          3,
          3,
          3,
          3,
          3,
          3,
          3,
          3,
          3,
          3,
          3,
          3,
          3,
          3,
          3,
          4,
          3,
          4,
          3,
          3,
          3,
          3,
          3,
          4,
          4,
          3,
          3,
          4,
          3,
          3,
          3,
          3,
          3,
          2,
          3,
          4,
          4,
          3,
          3,
          2,
          2,
          3,
          2,
          3,
          3,
          3,
          3,
          3,
          3,
          3,
          3,
          3,
          3,
          3,
          3,
          3,
          3,
          3,
          3,
          4,
          4,
          3,
          3,
          3,
          3,
          2,
          3,
          4,
          3,
          3,
          3,
          3,
          3,
          4,
          3,
          3,
          3,
          4,
          3,
          3,
          3,
          4,
          3,
          3,
          3,
          3,
          3,
          4,
          3,
          3,
          3,
          3,
          3,
          3,
          3,
          3,
          4,
          3,
          3,
          3,
          4,
          3,
          3,
          3,
          3,
          3,
          3,
          3,
          4,
          3,
          4,
          3,
          3,
          4,
          3,
          3,
          3,
          4,
          3,
          3,
          3,
          3,
          3,
          3,
          4,
          3,
          3,
          3,
          3,
          3,
          4,
          3,
          3,
          3,
          3,
          3,
          3,
          3,
          3,
          3,
          3,
          3,
          3,
          3,
          3,
          3,
          3,
          3,
          3,
          3,
          3,
          3,
          3,
          3,
          3,
          3,
          3,
          3,
          3,
          3,
          3,
          3,
          3,
          3,
          3,
          3,
          3,
          2,
          3,
          3,
          3,
          4,
          3,
          4,
          3,
          3,
          3,
          3,
          3,
          3,
          3,
          3,
          3,
          3,
          4,
          4,
          3,
          3,
          2,
          3,
          3,
          3,
          3,
          3,
          4,
          3,
          2,
          3,
          3,
          3,
          3,
          3,
          3,
          3,
          3,
          3,
          3,
          3,
          3,
          3,
          3,
          3,
          3,
          3,
          3,
          3,
          3,
          3,
          3,
          3,
          3,
          3,
          3,
          3,
          3,
          3,
          3,
          3,
          3,
          3,
          3,
          3,
          4,
          3,
          4,
          3,
          3,
          2,
          4,
          3,
          3,
          4,
          3,
          3,
          2,
          3,
          3,
          3,
          3,
          3,
          4,
          3,
          3,
          3,
          3,
          3,
          3,
          3,
          3,
          3,
          3,
          3,
          3,
          2,
          3,
          3,
          3,
          3,
          3,
          4,
          3,
          3,
          3,
          4,
          2,
          3,
          3,
          3,
          3,
          4,
          2,
          3,
          3,
          3,
          3,
          3,
          3,
          3,
          3,
          3,
          3,
          4,
          3,
          3,
          3,
          3,
          3,
          3,
          3,
          4,
          3,
          3,
          3
         ]
        },
        {
         "boxmean": false,
         "marker": {
          "color": "#FF4136"
         },
         "name": "ExperienceYearsAtThisCompany",
         "orientation": "h",
         "type": "box",
         "x": [
          9,
          7,
          8,
          1,
          5,
          2,
          5,
          10,
          4,
          7,
          2,
          1,
          10,
          0,
          10,
          2,
          4,
          2,
          8,
          4,
          5,
          5,
          15,
          6,
          8,
          1,
          5,
          4,
          1,
          13,
          26,
          9,
          10,
          2,
          4,
          2,
          1,
          0,
          1,
          9,
          4,
          4,
          9,
          8,
          8,
          0,
          5,
          4,
          6,
          5,
          2,
          3,
          2,
          10,
          3,
          5,
          6,
          12,
          5,
          31,
          1,
          8,
          1,
          3,
          2,
          2,
          1,
          1,
          3,
          6,
          10,
          6,
          15,
          3,
          18,
          11,
          1,
          9,
          9,
          9,
          19,
          3,
          0,
          3,
          5,
          5,
          6,
          18,
          9,
          5,
          12,
          2,
          7,
          1,
          1,
          7,
          5,
          5,
          2,
          4,
          10,
          1,
          3,
          4,
          12,
          4,
          14,
          10,
          22,
          1,
          4,
          2,
          5,
          1,
          1,
          1,
          1,
          12,
          1,
          1,
          1,
          2,
          4,
          15,
          2,
          7,
          7,
          9,
          10,
          27,
          17,
          6,
          1,
          3,
          1,
          5,
          1,
          10,
          1,
          11,
          10,
          6,
          13,
          5,
          11,
          22,
          10,
          3,
          1,
          16,
          1,
          8,
          2,
          0,
          9,
          5,
          1,
          11,
          1,
          20,
          5,
          40,
          2,
          15,
          3,
          3,
          4,
          6,
          3,
          5,
          3,
          5,
          1,
          17,
          10,
          1,
          2,
          5,
          5,
          1,
          5,
          9,
          5,
          5,
          8,
          12,
          2,
          3,
          1,
          2,
          3,
          3,
          4,
          8,
          20,
          10,
          7,
          33,
          7,
          1,
          5,
          20,
          8,
          6,
          5,
          1,
          7,
          2,
          7,
          5,
          7,
          1,
          4,
          8,
          3,
          6,
          13,
          10,
          5,
          4,
          2,
          22,
          5,
          9,
          3,
          2,
          2,
          11,
          3,
          3,
          1,
          19,
          3,
          4,
          9,
          1,
          5,
          6,
          0,
          6,
          20,
          36,
          5,
          3,
          5,
          7,
          10,
          5,
          5,
          17,
          1,
          2,
          5,
          3,
          4,
          0,
          1,
          4,
          18,
          9,
          10,
          5,
          24,
          2,
          10,
          21,
          8,
          7,
          4,
          7,
          10,
          21,
          1,
          10,
          7,
          6,
          11,
          11,
          16,
          5,
          1,
          7,
          3,
          7,
          2,
          3,
          1,
          5,
          2,
          5,
          6,
          2,
          1,
          18,
          1,
          25,
          1,
          4,
          13,
          3,
          13,
          4,
          21,
          10,
          2,
          5,
          2,
          5,
          5,
          29,
          3,
          5,
          10,
          2,
          27,
          5,
          3,
          5,
          1,
          7,
          13,
          7,
          4,
          8,
          1,
          2,
          8,
          10,
          6,
          8,
          1,
          6,
          2,
          10,
          6,
          31,
          6,
          1,
          6,
          6,
          5,
          10,
          1,
          0,
          8,
          3,
          2,
          2,
          6,
          1,
          10,
          3,
          10,
          17,
          3,
          1,
          10,
          3,
          10,
          1,
          20
         ],
         "y": [
          4,
          3,
          3,
          3,
          3,
          3,
          3,
          3,
          4,
          3,
          3,
          3,
          3,
          3,
          3,
          3,
          3,
          3,
          3,
          3,
          3,
          3,
          3,
          3,
          4,
          3,
          4,
          3,
          3,
          3,
          3,
          3,
          4,
          3,
          3,
          3,
          3,
          4,
          3,
          3,
          3,
          3,
          3,
          4,
          3,
          3,
          3,
          3,
          3,
          3,
          3,
          3,
          3,
          3,
          3,
          3,
          3,
          3,
          3,
          3,
          3,
          3,
          3,
          3,
          3,
          3,
          3,
          3,
          3,
          3,
          3,
          3,
          3,
          4,
          3,
          4,
          3,
          3,
          3,
          3,
          3,
          4,
          4,
          3,
          3,
          4,
          3,
          3,
          3,
          3,
          3,
          2,
          3,
          4,
          4,
          3,
          3,
          2,
          2,
          3,
          2,
          3,
          3,
          3,
          3,
          3,
          3,
          3,
          3,
          3,
          3,
          3,
          3,
          3,
          3,
          3,
          3,
          4,
          4,
          3,
          3,
          3,
          3,
          2,
          3,
          4,
          3,
          3,
          3,
          3,
          3,
          4,
          3,
          3,
          3,
          4,
          3,
          3,
          3,
          4,
          3,
          3,
          3,
          3,
          3,
          4,
          3,
          3,
          3,
          3,
          3,
          3,
          3,
          3,
          4,
          3,
          3,
          3,
          4,
          3,
          3,
          3,
          3,
          3,
          3,
          3,
          4,
          3,
          4,
          3,
          3,
          4,
          3,
          3,
          3,
          4,
          3,
          3,
          3,
          3,
          3,
          3,
          4,
          3,
          3,
          3,
          3,
          3,
          4,
          3,
          3,
          3,
          3,
          3,
          3,
          3,
          3,
          3,
          3,
          3,
          3,
          3,
          3,
          3,
          3,
          3,
          3,
          3,
          3,
          3,
          3,
          3,
          3,
          3,
          3,
          3,
          3,
          3,
          3,
          3,
          3,
          3,
          3,
          3,
          3,
          2,
          3,
          3,
          3,
          4,
          3,
          4,
          3,
          3,
          3,
          3,
          3,
          3,
          3,
          3,
          3,
          3,
          4,
          4,
          3,
          3,
          2,
          3,
          3,
          3,
          3,
          3,
          4,
          3,
          2,
          3,
          3,
          3,
          3,
          3,
          3,
          3,
          3,
          3,
          3,
          3,
          3,
          3,
          3,
          3,
          3,
          3,
          3,
          3,
          3,
          3,
          3,
          3,
          3,
          3,
          3,
          3,
          3,
          3,
          3,
          3,
          3,
          3,
          3,
          3,
          4,
          3,
          4,
          3,
          3,
          2,
          4,
          3,
          3,
          4,
          3,
          3,
          2,
          3,
          3,
          3,
          3,
          3,
          4,
          3,
          3,
          3,
          3,
          3,
          3,
          3,
          3,
          3,
          3,
          3,
          3,
          2,
          3,
          3,
          3,
          3,
          3,
          4,
          3,
          3,
          3,
          4,
          2,
          3,
          3,
          3,
          3,
          4,
          2,
          3,
          3,
          3,
          3,
          3,
          3,
          3,
          3,
          3,
          3,
          4,
          3,
          3,
          3,
          3,
          3,
          3,
          3,
          4,
          3,
          3,
          3
         ]
        },
        {
         "boxmean": false,
         "marker": {
          "color": "#FF851B"
         },
         "name": "ExperienceYearsInCurrentRole",
         "orientation": "h",
         "type": "box",
         "x": [
          7,
          7,
          7,
          0,
          2,
          2,
          1,
          7,
          2,
          6,
          2,
          0,
          8,
          0,
          9,
          2,
          3,
          2,
          7,
          2,
          3,
          3,
          7,
          5,
          7,
          0,
          2,
          3,
          0,
          9,
          14,
          7,
          7,
          2,
          3,
          2,
          0,
          0,
          0,
          8,
          3,
          1,
          8,
          5,
          7,
          0,
          2,
          3,
          5,
          3,
          2,
          2,
          1,
          2,
          0,
          2,
          4,
          9,
          2,
          6,
          0,
          7,
          0,
          2,
          2,
          2,
          1,
          0,
          2,
          0,
          6,
          2,
          12,
          0,
          13,
          8,
          0,
          7,
          7,
          8,
          10,
          2,
          0,
          2,
          3,
          4,
          5,
          16,
          8,
          2,
          11,
          2,
          7,
          0,
          0,
          7,
          4,
          2,
          2,
          2,
          9,
          0,
          2,
          2,
          6,
          2,
          13,
          2,
          6,
          1,
          2,
          0,
          3,
          1,
          0,
          0,
          0,
          8,
          0,
          0,
          0,
          2,
          0,
          14,
          2,
          7,
          5,
          8,
          3,
          3,
          14,
          5,
          0,
          2,
          0,
          4,
          1,
          4,
          0,
          7,
          8,
          4,
          11,
          2,
          10,
          3,
          9,
          2,
          0,
          13,
          0,
          3,
          2,
          0,
          7,
          3,
          0,
          10,
          0,
          18,
          4,
          10,
          1,
          11,
          2,
          2,
          2,
          5,
          2,
          4,
          2,
          0,
          0,
          9,
          7,
          0,
          2,
          2,
          3,
          1,
          4,
          8,
          4,
          2,
          7,
          9,
          2,
          1,
          0,
          2,
          2,
          2,
          2,
          7,
          8,
          9,
          7,
          18,
          7,
          0,
          4,
          8,
          7,
          2,
          3,
          0,
          7,
          2,
          7,
          3,
          2,
          0,
          2,
          1,
          2,
          2,
          11,
          8,
          4,
          3,
          2,
          17,
          4,
          7,
          2,
          2,
          2,
          9,
          1,
          2,
          0,
          6,
          2,
          2,
          6,
          0,
          1,
          2,
          0,
          3,
          7,
          10,
          2,
          2,
          2,
          7,
          4,
          3,
          3,
          12,
          0,
          2,
          3,
          2,
          2,
          0,
          0,
          1,
          10,
          8,
          8,
          2,
          9,
          2,
          6,
          9,
          7,
          1,
          3,
          7,
          8,
          9,
          0,
          9,
          7,
          2,
          10,
          9,
          6,
          4,
          0,
          7,
          2,
          7,
          2,
          2,
          1,
          2,
          2,
          4,
          4,
          1,
          0,
          7,
          0,
          10,
          0,
          2,
          10,
          2,
          11,
          2,
          8,
          0,
          2,
          4,
          2,
          4,
          4,
          8,
          2,
          3,
          2,
          2,
          10,
          0,
          2,
          4,
          0,
          3,
          8,
          6,
          3,
          7,
          0,
          2,
          3,
          9,
          1,
          7,
          0,
          5,
          2,
          9,
          5,
          9,
          5,
          0,
          3,
          5,
          3,
          2,
          0,
          0,
          7,
          2,
          2,
          2,
          4,
          0,
          9,
          2,
          7,
          11,
          2,
          0,
          8,
          2,
          7,
          0,
          8
         ],
         "y": [
          4,
          3,
          3,
          3,
          3,
          3,
          3,
          3,
          4,
          3,
          3,
          3,
          3,
          3,
          3,
          3,
          3,
          3,
          3,
          3,
          3,
          3,
          3,
          3,
          4,
          3,
          4,
          3,
          3,
          3,
          3,
          3,
          4,
          3,
          3,
          3,
          3,
          4,
          3,
          3,
          3,
          3,
          3,
          4,
          3,
          3,
          3,
          3,
          3,
          3,
          3,
          3,
          3,
          3,
          3,
          3,
          3,
          3,
          3,
          3,
          3,
          3,
          3,
          3,
          3,
          3,
          3,
          3,
          3,
          3,
          3,
          3,
          3,
          4,
          3,
          4,
          3,
          3,
          3,
          3,
          3,
          4,
          4,
          3,
          3,
          4,
          3,
          3,
          3,
          3,
          3,
          2,
          3,
          4,
          4,
          3,
          3,
          2,
          2,
          3,
          2,
          3,
          3,
          3,
          3,
          3,
          3,
          3,
          3,
          3,
          3,
          3,
          3,
          3,
          3,
          3,
          3,
          4,
          4,
          3,
          3,
          3,
          3,
          2,
          3,
          4,
          3,
          3,
          3,
          3,
          3,
          4,
          3,
          3,
          3,
          4,
          3,
          3,
          3,
          4,
          3,
          3,
          3,
          3,
          3,
          4,
          3,
          3,
          3,
          3,
          3,
          3,
          3,
          3,
          4,
          3,
          3,
          3,
          4,
          3,
          3,
          3,
          3,
          3,
          3,
          3,
          4,
          3,
          4,
          3,
          3,
          4,
          3,
          3,
          3,
          4,
          3,
          3,
          3,
          3,
          3,
          3,
          4,
          3,
          3,
          3,
          3,
          3,
          4,
          3,
          3,
          3,
          3,
          3,
          3,
          3,
          3,
          3,
          3,
          3,
          3,
          3,
          3,
          3,
          3,
          3,
          3,
          3,
          3,
          3,
          3,
          3,
          3,
          3,
          3,
          3,
          3,
          3,
          3,
          3,
          3,
          3,
          3,
          3,
          3,
          2,
          3,
          3,
          3,
          4,
          3,
          4,
          3,
          3,
          3,
          3,
          3,
          3,
          3,
          3,
          3,
          3,
          4,
          4,
          3,
          3,
          2,
          3,
          3,
          3,
          3,
          3,
          4,
          3,
          2,
          3,
          3,
          3,
          3,
          3,
          3,
          3,
          3,
          3,
          3,
          3,
          3,
          3,
          3,
          3,
          3,
          3,
          3,
          3,
          3,
          3,
          3,
          3,
          3,
          3,
          3,
          3,
          3,
          3,
          3,
          3,
          3,
          3,
          3,
          3,
          4,
          3,
          4,
          3,
          3,
          2,
          4,
          3,
          3,
          4,
          3,
          3,
          2,
          3,
          3,
          3,
          3,
          3,
          4,
          3,
          3,
          3,
          3,
          3,
          3,
          3,
          3,
          3,
          3,
          3,
          3,
          2,
          3,
          3,
          3,
          3,
          3,
          4,
          3,
          3,
          3,
          4,
          2,
          3,
          3,
          3,
          3,
          4,
          2,
          3,
          3,
          3,
          3,
          3,
          3,
          3,
          3,
          3,
          3,
          4,
          3,
          3,
          3,
          3,
          3,
          3,
          3,
          4,
          3,
          3,
          3
         ]
        }
       ],
       "layout": {
        "boxmode": "group",
        "template": {
         "data": {
          "bar": [
           {
            "error_x": {
             "color": "#2a3f5f"
            },
            "error_y": {
             "color": "#2a3f5f"
            },
            "marker": {
             "line": {
              "color": "#E5ECF6",
              "width": 0.5
             },
             "pattern": {
              "fillmode": "overlay",
              "size": 10,
              "solidity": 0.2
             }
            },
            "type": "bar"
           }
          ],
          "barpolar": [
           {
            "marker": {
             "line": {
              "color": "#E5ECF6",
              "width": 0.5
             },
             "pattern": {
              "fillmode": "overlay",
              "size": 10,
              "solidity": 0.2
             }
            },
            "type": "barpolar"
           }
          ],
          "carpet": [
           {
            "aaxis": {
             "endlinecolor": "#2a3f5f",
             "gridcolor": "white",
             "linecolor": "white",
             "minorgridcolor": "white",
             "startlinecolor": "#2a3f5f"
            },
            "baxis": {
             "endlinecolor": "#2a3f5f",
             "gridcolor": "white",
             "linecolor": "white",
             "minorgridcolor": "white",
             "startlinecolor": "#2a3f5f"
            },
            "type": "carpet"
           }
          ],
          "choropleth": [
           {
            "colorbar": {
             "outlinewidth": 0,
             "ticks": ""
            },
            "type": "choropleth"
           }
          ],
          "contour": [
           {
            "colorbar": {
             "outlinewidth": 0,
             "ticks": ""
            },
            "colorscale": [
             [
              0,
              "#0d0887"
             ],
             [
              0.1111111111111111,
              "#46039f"
             ],
             [
              0.2222222222222222,
              "#7201a8"
             ],
             [
              0.3333333333333333,
              "#9c179e"
             ],
             [
              0.4444444444444444,
              "#bd3786"
             ],
             [
              0.5555555555555556,
              "#d8576b"
             ],
             [
              0.6666666666666666,
              "#ed7953"
             ],
             [
              0.7777777777777778,
              "#fb9f3a"
             ],
             [
              0.8888888888888888,
              "#fdca26"
             ],
             [
              1,
              "#f0f921"
             ]
            ],
            "type": "contour"
           }
          ],
          "contourcarpet": [
           {
            "colorbar": {
             "outlinewidth": 0,
             "ticks": ""
            },
            "type": "contourcarpet"
           }
          ],
          "heatmap": [
           {
            "colorbar": {
             "outlinewidth": 0,
             "ticks": ""
            },
            "colorscale": [
             [
              0,
              "#0d0887"
             ],
             [
              0.1111111111111111,
              "#46039f"
             ],
             [
              0.2222222222222222,
              "#7201a8"
             ],
             [
              0.3333333333333333,
              "#9c179e"
             ],
             [
              0.4444444444444444,
              "#bd3786"
             ],
             [
              0.5555555555555556,
              "#d8576b"
             ],
             [
              0.6666666666666666,
              "#ed7953"
             ],
             [
              0.7777777777777778,
              "#fb9f3a"
             ],
             [
              0.8888888888888888,
              "#fdca26"
             ],
             [
              1,
              "#f0f921"
             ]
            ],
            "type": "heatmap"
           }
          ],
          "heatmapgl": [
           {
            "colorbar": {
             "outlinewidth": 0,
             "ticks": ""
            },
            "colorscale": [
             [
              0,
              "#0d0887"
             ],
             [
              0.1111111111111111,
              "#46039f"
             ],
             [
              0.2222222222222222,
              "#7201a8"
             ],
             [
              0.3333333333333333,
              "#9c179e"
             ],
             [
              0.4444444444444444,
              "#bd3786"
             ],
             [
              0.5555555555555556,
              "#d8576b"
             ],
             [
              0.6666666666666666,
              "#ed7953"
             ],
             [
              0.7777777777777778,
              "#fb9f3a"
             ],
             [
              0.8888888888888888,
              "#fdca26"
             ],
             [
              1,
              "#f0f921"
             ]
            ],
            "type": "heatmapgl"
           }
          ],
          "histogram": [
           {
            "marker": {
             "pattern": {
              "fillmode": "overlay",
              "size": 10,
              "solidity": 0.2
             }
            },
            "type": "histogram"
           }
          ],
          "histogram2d": [
           {
            "colorbar": {
             "outlinewidth": 0,
             "ticks": ""
            },
            "colorscale": [
             [
              0,
              "#0d0887"
             ],
             [
              0.1111111111111111,
              "#46039f"
             ],
             [
              0.2222222222222222,
              "#7201a8"
             ],
             [
              0.3333333333333333,
              "#9c179e"
             ],
             [
              0.4444444444444444,
              "#bd3786"
             ],
             [
              0.5555555555555556,
              "#d8576b"
             ],
             [
              0.6666666666666666,
              "#ed7953"
             ],
             [
              0.7777777777777778,
              "#fb9f3a"
             ],
             [
              0.8888888888888888,
              "#fdca26"
             ],
             [
              1,
              "#f0f921"
             ]
            ],
            "type": "histogram2d"
           }
          ],
          "histogram2dcontour": [
           {
            "colorbar": {
             "outlinewidth": 0,
             "ticks": ""
            },
            "colorscale": [
             [
              0,
              "#0d0887"
             ],
             [
              0.1111111111111111,
              "#46039f"
             ],
             [
              0.2222222222222222,
              "#7201a8"
             ],
             [
              0.3333333333333333,
              "#9c179e"
             ],
             [
              0.4444444444444444,
              "#bd3786"
             ],
             [
              0.5555555555555556,
              "#d8576b"
             ],
             [
              0.6666666666666666,
              "#ed7953"
             ],
             [
              0.7777777777777778,
              "#fb9f3a"
             ],
             [
              0.8888888888888888,
              "#fdca26"
             ],
             [
              1,
              "#f0f921"
             ]
            ],
            "type": "histogram2dcontour"
           }
          ],
          "mesh3d": [
           {
            "colorbar": {
             "outlinewidth": 0,
             "ticks": ""
            },
            "type": "mesh3d"
           }
          ],
          "parcoords": [
           {
            "line": {
             "colorbar": {
              "outlinewidth": 0,
              "ticks": ""
             }
            },
            "type": "parcoords"
           }
          ],
          "pie": [
           {
            "automargin": true,
            "type": "pie"
           }
          ],
          "scatter": [
           {
            "marker": {
             "colorbar": {
              "outlinewidth": 0,
              "ticks": ""
             }
            },
            "type": "scatter"
           }
          ],
          "scatter3d": [
           {
            "line": {
             "colorbar": {
              "outlinewidth": 0,
              "ticks": ""
             }
            },
            "marker": {
             "colorbar": {
              "outlinewidth": 0,
              "ticks": ""
             }
            },
            "type": "scatter3d"
           }
          ],
          "scattercarpet": [
           {
            "marker": {
             "colorbar": {
              "outlinewidth": 0,
              "ticks": ""
             }
            },
            "type": "scattercarpet"
           }
          ],
          "scattergeo": [
           {
            "marker": {
             "colorbar": {
              "outlinewidth": 0,
              "ticks": ""
             }
            },
            "type": "scattergeo"
           }
          ],
          "scattergl": [
           {
            "marker": {
             "colorbar": {
              "outlinewidth": 0,
              "ticks": ""
             }
            },
            "type": "scattergl"
           }
          ],
          "scattermapbox": [
           {
            "marker": {
             "colorbar": {
              "outlinewidth": 0,
              "ticks": ""
             }
            },
            "type": "scattermapbox"
           }
          ],
          "scatterpolar": [
           {
            "marker": {
             "colorbar": {
              "outlinewidth": 0,
              "ticks": ""
             }
            },
            "type": "scatterpolar"
           }
          ],
          "scatterpolargl": [
           {
            "marker": {
             "colorbar": {
              "outlinewidth": 0,
              "ticks": ""
             }
            },
            "type": "scatterpolargl"
           }
          ],
          "scatterternary": [
           {
            "marker": {
             "colorbar": {
              "outlinewidth": 0,
              "ticks": ""
             }
            },
            "type": "scatterternary"
           }
          ],
          "surface": [
           {
            "colorbar": {
             "outlinewidth": 0,
             "ticks": ""
            },
            "colorscale": [
             [
              0,
              "#0d0887"
             ],
             [
              0.1111111111111111,
              "#46039f"
             ],
             [
              0.2222222222222222,
              "#7201a8"
             ],
             [
              0.3333333333333333,
              "#9c179e"
             ],
             [
              0.4444444444444444,
              "#bd3786"
             ],
             [
              0.5555555555555556,
              "#d8576b"
             ],
             [
              0.6666666666666666,
              "#ed7953"
             ],
             [
              0.7777777777777778,
              "#fb9f3a"
             ],
             [
              0.8888888888888888,
              "#fdca26"
             ],
             [
              1,
              "#f0f921"
             ]
            ],
            "type": "surface"
           }
          ],
          "table": [
           {
            "cells": {
             "fill": {
              "color": "#EBF0F8"
             },
             "line": {
              "color": "white"
             }
            },
            "header": {
             "fill": {
              "color": "#C8D4E3"
             },
             "line": {
              "color": "white"
             }
            },
            "type": "table"
           }
          ]
         },
         "layout": {
          "annotationdefaults": {
           "arrowcolor": "#2a3f5f",
           "arrowhead": 0,
           "arrowwidth": 1
          },
          "autotypenumbers": "strict",
          "coloraxis": {
           "colorbar": {
            "outlinewidth": 0,
            "ticks": ""
           }
          },
          "colorscale": {
           "diverging": [
            [
             0,
             "#8e0152"
            ],
            [
             0.1,
             "#c51b7d"
            ],
            [
             0.2,
             "#de77ae"
            ],
            [
             0.3,
             "#f1b6da"
            ],
            [
             0.4,
             "#fde0ef"
            ],
            [
             0.5,
             "#f7f7f7"
            ],
            [
             0.6,
             "#e6f5d0"
            ],
            [
             0.7,
             "#b8e186"
            ],
            [
             0.8,
             "#7fbc41"
            ],
            [
             0.9,
             "#4d9221"
            ],
            [
             1,
             "#276419"
            ]
           ],
           "sequential": [
            [
             0,
             "#0d0887"
            ],
            [
             0.1111111111111111,
             "#46039f"
            ],
            [
             0.2222222222222222,
             "#7201a8"
            ],
            [
             0.3333333333333333,
             "#9c179e"
            ],
            [
             0.4444444444444444,
             "#bd3786"
            ],
            [
             0.5555555555555556,
             "#d8576b"
            ],
            [
             0.6666666666666666,
             "#ed7953"
            ],
            [
             0.7777777777777778,
             "#fb9f3a"
            ],
            [
             0.8888888888888888,
             "#fdca26"
            ],
            [
             1,
             "#f0f921"
            ]
           ],
           "sequentialminus": [
            [
             0,
             "#0d0887"
            ],
            [
             0.1111111111111111,
             "#46039f"
            ],
            [
             0.2222222222222222,
             "#7201a8"
            ],
            [
             0.3333333333333333,
             "#9c179e"
            ],
            [
             0.4444444444444444,
             "#bd3786"
            ],
            [
             0.5555555555555556,
             "#d8576b"
            ],
            [
             0.6666666666666666,
             "#ed7953"
            ],
            [
             0.7777777777777778,
             "#fb9f3a"
            ],
            [
             0.8888888888888888,
             "#fdca26"
            ],
            [
             1,
             "#f0f921"
            ]
           ]
          },
          "colorway": [
           "#636efa",
           "#EF553B",
           "#00cc96",
           "#ab63fa",
           "#FFA15A",
           "#19d3f3",
           "#FF6692",
           "#B6E880",
           "#FF97FF",
           "#FECB52"
          ],
          "font": {
           "color": "#2a3f5f"
          },
          "geo": {
           "bgcolor": "white",
           "lakecolor": "white",
           "landcolor": "#E5ECF6",
           "showlakes": true,
           "showland": true,
           "subunitcolor": "white"
          },
          "hoverlabel": {
           "align": "left"
          },
          "hovermode": "closest",
          "mapbox": {
           "style": "light"
          },
          "paper_bgcolor": "white",
          "plot_bgcolor": "#E5ECF6",
          "polar": {
           "angularaxis": {
            "gridcolor": "white",
            "linecolor": "white",
            "ticks": ""
           },
           "bgcolor": "#E5ECF6",
           "radialaxis": {
            "gridcolor": "white",
            "linecolor": "white",
            "ticks": ""
           }
          },
          "scene": {
           "xaxis": {
            "backgroundcolor": "#E5ECF6",
            "gridcolor": "white",
            "gridwidth": 2,
            "linecolor": "white",
            "showbackground": true,
            "ticks": "",
            "zerolinecolor": "white"
           },
           "yaxis": {
            "backgroundcolor": "#E5ECF6",
            "gridcolor": "white",
            "gridwidth": 2,
            "linecolor": "white",
            "showbackground": true,
            "ticks": "",
            "zerolinecolor": "white"
           },
           "zaxis": {
            "backgroundcolor": "#E5ECF6",
            "gridcolor": "white",
            "gridwidth": 2,
            "linecolor": "white",
            "showbackground": true,
            "ticks": "",
            "zerolinecolor": "white"
           }
          },
          "shapedefaults": {
           "line": {
            "color": "#2a3f5f"
           }
          },
          "ternary": {
           "aaxis": {
            "gridcolor": "white",
            "linecolor": "white",
            "ticks": ""
           },
           "baxis": {
            "gridcolor": "white",
            "linecolor": "white",
            "ticks": ""
           },
           "bgcolor": "#E5ECF6",
           "caxis": {
            "gridcolor": "white",
            "linecolor": "white",
            "ticks": ""
           }
          },
          "title": {
           "x": 0.05
          },
          "xaxis": {
           "automargin": true,
           "gridcolor": "white",
           "linecolor": "white",
           "ticks": "",
           "title": {
            "standoff": 15
           },
           "zerolinecolor": "white",
           "zerolinewidth": 2
          },
          "yaxis": {
           "automargin": true,
           "gridcolor": "white",
           "linecolor": "white",
           "ticks": "",
           "title": {
            "standoff": 15
           },
           "zerolinecolor": "white",
           "zerolinewidth": 2
          }
         }
        },
        "title": {
         "text": "Performance According to the Experience Level - Development "
        },
        "xaxis": {
         "title": {
          "text": "Number of Years"
         },
         "zeroline": false
        },
        "yaxis": {
         "title": {
          "text": "Performance Rating "
         },
         "zeroline": false
        }
       }
      },
      "text/html": [
       "<div>                            <div id=\"9c9bacf4-9505-4e28-9c36-53baaf79606f\" class=\"plotly-graph-div\" style=\"height:525px; width:100%;\"></div>            <script type=\"text/javascript\">                require([\"plotly\"], function(Plotly) {                    window.PLOTLYENV=window.PLOTLYENV || {};                                    if (document.getElementById(\"9c9bacf4-9505-4e28-9c36-53baaf79606f\")) {                    Plotly.newPlot(                        \"9c9bacf4-9505-4e28-9c36-53baaf79606f\",                        [{\"boxmean\":false,\"marker\":{\"color\":\"#3D9970\"},\"name\":\"TotalWorkExperienceInYears\",\"orientation\":\"h\",\"x\":[9,10,10,10,9,7,10,30,5,9,19,16,10,7,10,2,5,5,11,10,9,6,17,6,8,1,9,30,1,14,26,10,10,7,8,5,10,12,1,10,13,22,9,17,8,0,10,6,6,9,4,10,8,10,4,6,8,33,12,31,1,8,3,4,6,8,1,1,6,24,10,8,15,5,20,16,1,10,9,26,20,4,3,5,8,32,6,21,9,7,22,6,8,12,1,17,6,5,3,6,10,1,6,5,13,8,26,10,24,7,9,6,6,6,1,1,1,12,8,1,23,2,10,15,4,10,7,9,10,29,17,6,25,5,2,6,1,10,5,11,10,6,17,5,11,22,21,17,1,16,17,28,2,1,9,6,12,14,7,23,5,40,3,16,18,7,18,9,19,5,8,7,1,20,10,9,6,5,12,1,21,13,8,6,13,12,19,4,1,2,9,5,5,8,21,10,21,34,7,8,7,22,8,10,11,14,9,6,7,5,15,17,4,8,5,7,16,10,6,4,6,22,8,13,4,9,2,13,17,9,17,20,10,5,10,1,5,9,5,6,21,37,5,3,15,10,28,21,5,17,19,10,5,22,4,0,4,13,19,11,19,6,24,3,12,21,9,25,4,10,11,21,10,12,7,8,12,11,17,8,16,13,15,10,3,6,10,26,6,30,7,2,3,18,18,25,20,24,13,8,15,4,21,10,6,28,8,19,11,33,3,9,10,6,28,20,26,6,19,14,13,15,8,10,12,4,8,10,10,10,1,12,28,18,8,31,6,1,6,6,6,10,21,8,10,21,26,3,6,1,10,3,10,17,13,1,10,5,10,4,20],\"y\":[4,3,3,3,3,3,3,3,4,3,3,3,3,3,3,3,3,3,3,3,3,3,3,3,4,3,4,3,3,3,3,3,4,3,3,3,3,4,3,3,3,3,3,4,3,3,3,3,3,3,3,3,3,3,3,3,3,3,3,3,3,3,3,3,3,3,3,3,3,3,3,3,3,4,3,4,3,3,3,3,3,4,4,3,3,4,3,3,3,3,3,2,3,4,4,3,3,2,2,3,2,3,3,3,3,3,3,3,3,3,3,3,3,3,3,3,3,4,4,3,3,3,3,2,3,4,3,3,3,3,3,4,3,3,3,4,3,3,3,4,3,3,3,3,3,4,3,3,3,3,3,3,3,3,4,3,3,3,4,3,3,3,3,3,3,3,4,3,4,3,3,4,3,3,3,4,3,3,3,3,3,3,4,3,3,3,3,3,4,3,3,3,3,3,3,3,3,3,3,3,3,3,3,3,3,3,3,3,3,3,3,3,3,3,3,3,3,3,3,3,3,3,3,3,3,2,3,3,3,4,3,4,3,3,3,3,3,3,3,3,3,3,4,4,3,3,2,3,3,3,3,3,4,3,2,3,3,3,3,3,3,3,3,3,3,3,3,3,3,3,3,3,3,3,3,3,3,3,3,3,3,3,3,3,3,3,3,3,3,3,4,3,4,3,3,2,4,3,3,4,3,3,2,3,3,3,3,3,4,3,3,3,3,3,3,3,3,3,3,3,3,2,3,3,3,3,3,4,3,3,3,4,2,3,3,3,3,4,2,3,3,3,3,3,3,3,3,3,3,4,3,3,3,3,3,3,3,4,3,3,3],\"type\":\"box\"},{\"boxmean\":false,\"marker\":{\"color\":\"#FF4136\"},\"name\":\"ExperienceYearsAtThisCompany\",\"orientation\":\"h\",\"x\":[9,7,8,1,5,2,5,10,4,7,2,1,10,0,10,2,4,2,8,4,5,5,15,6,8,1,5,4,1,13,26,9,10,2,4,2,1,0,1,9,4,4,9,8,8,0,5,4,6,5,2,3,2,10,3,5,6,12,5,31,1,8,1,3,2,2,1,1,3,6,10,6,15,3,18,11,1,9,9,9,19,3,0,3,5,5,6,18,9,5,12,2,7,1,1,7,5,5,2,4,10,1,3,4,12,4,14,10,22,1,4,2,5,1,1,1,1,12,1,1,1,2,4,15,2,7,7,9,10,27,17,6,1,3,1,5,1,10,1,11,10,6,13,5,11,22,10,3,1,16,1,8,2,0,9,5,1,11,1,20,5,40,2,15,3,3,4,6,3,5,3,5,1,17,10,1,2,5,5,1,5,9,5,5,8,12,2,3,1,2,3,3,4,8,20,10,7,33,7,1,5,20,8,6,5,1,7,2,7,5,7,1,4,8,3,6,13,10,5,4,2,22,5,9,3,2,2,11,3,3,1,19,3,4,9,1,5,6,0,6,20,36,5,3,5,7,10,5,5,17,1,2,5,3,4,0,1,4,18,9,10,5,24,2,10,21,8,7,4,7,10,21,1,10,7,6,11,11,16,5,1,7,3,7,2,3,1,5,2,5,6,2,1,18,1,25,1,4,13,3,13,4,21,10,2,5,2,5,5,29,3,5,10,2,27,5,3,5,1,7,13,7,4,8,1,2,8,10,6,8,1,6,2,10,6,31,6,1,6,6,5,10,1,0,8,3,2,2,6,1,10,3,10,17,3,1,10,3,10,1,20],\"y\":[4,3,3,3,3,3,3,3,4,3,3,3,3,3,3,3,3,3,3,3,3,3,3,3,4,3,4,3,3,3,3,3,4,3,3,3,3,4,3,3,3,3,3,4,3,3,3,3,3,3,3,3,3,3,3,3,3,3,3,3,3,3,3,3,3,3,3,3,3,3,3,3,3,4,3,4,3,3,3,3,3,4,4,3,3,4,3,3,3,3,3,2,3,4,4,3,3,2,2,3,2,3,3,3,3,3,3,3,3,3,3,3,3,3,3,3,3,4,4,3,3,3,3,2,3,4,3,3,3,3,3,4,3,3,3,4,3,3,3,4,3,3,3,3,3,4,3,3,3,3,3,3,3,3,4,3,3,3,4,3,3,3,3,3,3,3,4,3,4,3,3,4,3,3,3,4,3,3,3,3,3,3,4,3,3,3,3,3,4,3,3,3,3,3,3,3,3,3,3,3,3,3,3,3,3,3,3,3,3,3,3,3,3,3,3,3,3,3,3,3,3,3,3,3,3,2,3,3,3,4,3,4,3,3,3,3,3,3,3,3,3,3,4,4,3,3,2,3,3,3,3,3,4,3,2,3,3,3,3,3,3,3,3,3,3,3,3,3,3,3,3,3,3,3,3,3,3,3,3,3,3,3,3,3,3,3,3,3,3,3,4,3,4,3,3,2,4,3,3,4,3,3,2,3,3,3,3,3,4,3,3,3,3,3,3,3,3,3,3,3,3,2,3,3,3,3,3,4,3,3,3,4,2,3,3,3,3,4,2,3,3,3,3,3,3,3,3,3,3,4,3,3,3,3,3,3,3,4,3,3,3],\"type\":\"box\"},{\"boxmean\":false,\"marker\":{\"color\":\"#FF851B\"},\"name\":\"ExperienceYearsInCurrentRole\",\"orientation\":\"h\",\"x\":[7,7,7,0,2,2,1,7,2,6,2,0,8,0,9,2,3,2,7,2,3,3,7,5,7,0,2,3,0,9,14,7,7,2,3,2,0,0,0,8,3,1,8,5,7,0,2,3,5,3,2,2,1,2,0,2,4,9,2,6,0,7,0,2,2,2,1,0,2,0,6,2,12,0,13,8,0,7,7,8,10,2,0,2,3,4,5,16,8,2,11,2,7,0,0,7,4,2,2,2,9,0,2,2,6,2,13,2,6,1,2,0,3,1,0,0,0,8,0,0,0,2,0,14,2,7,5,8,3,3,14,5,0,2,0,4,1,4,0,7,8,4,11,2,10,3,9,2,0,13,0,3,2,0,7,3,0,10,0,18,4,10,1,11,2,2,2,5,2,4,2,0,0,9,7,0,2,2,3,1,4,8,4,2,7,9,2,1,0,2,2,2,2,7,8,9,7,18,7,0,4,8,7,2,3,0,7,2,7,3,2,0,2,1,2,2,11,8,4,3,2,17,4,7,2,2,2,9,1,2,0,6,2,2,6,0,1,2,0,3,7,10,2,2,2,7,4,3,3,12,0,2,3,2,2,0,0,1,10,8,8,2,9,2,6,9,7,1,3,7,8,9,0,9,7,2,10,9,6,4,0,7,2,7,2,2,1,2,2,4,4,1,0,7,0,10,0,2,10,2,11,2,8,0,2,4,2,4,4,8,2,3,2,2,10,0,2,4,0,3,8,6,3,7,0,2,3,9,1,7,0,5,2,9,5,9,5,0,3,5,3,2,0,0,7,2,2,2,4,0,9,2,7,11,2,0,8,2,7,0,8],\"y\":[4,3,3,3,3,3,3,3,4,3,3,3,3,3,3,3,3,3,3,3,3,3,3,3,4,3,4,3,3,3,3,3,4,3,3,3,3,4,3,3,3,3,3,4,3,3,3,3,3,3,3,3,3,3,3,3,3,3,3,3,3,3,3,3,3,3,3,3,3,3,3,3,3,4,3,4,3,3,3,3,3,4,4,3,3,4,3,3,3,3,3,2,3,4,4,3,3,2,2,3,2,3,3,3,3,3,3,3,3,3,3,3,3,3,3,3,3,4,4,3,3,3,3,2,3,4,3,3,3,3,3,4,3,3,3,4,3,3,3,4,3,3,3,3,3,4,3,3,3,3,3,3,3,3,4,3,3,3,4,3,3,3,3,3,3,3,4,3,4,3,3,4,3,3,3,4,3,3,3,3,3,3,4,3,3,3,3,3,4,3,3,3,3,3,3,3,3,3,3,3,3,3,3,3,3,3,3,3,3,3,3,3,3,3,3,3,3,3,3,3,3,3,3,3,3,2,3,3,3,4,3,4,3,3,3,3,3,3,3,3,3,3,4,4,3,3,2,3,3,3,3,3,4,3,2,3,3,3,3,3,3,3,3,3,3,3,3,3,3,3,3,3,3,3,3,3,3,3,3,3,3,3,3,3,3,3,3,3,3,3,4,3,4,3,3,2,4,3,3,4,3,3,2,3,3,3,3,3,4,3,3,3,3,3,3,3,3,3,3,3,3,2,3,3,3,3,3,4,3,3,3,4,2,3,3,3,3,4,2,3,3,3,3,3,3,3,3,3,3,4,3,3,3,3,3,3,3,4,3,3,3],\"type\":\"box\"}],                        {\"boxmode\":\"group\",\"template\":{\"data\":{\"barpolar\":[{\"marker\":{\"line\":{\"color\":\"#E5ECF6\",\"width\":0.5},\"pattern\":{\"fillmode\":\"overlay\",\"size\":10,\"solidity\":0.2}},\"type\":\"barpolar\"}],\"bar\":[{\"error_x\":{\"color\":\"#2a3f5f\"},\"error_y\":{\"color\":\"#2a3f5f\"},\"marker\":{\"line\":{\"color\":\"#E5ECF6\",\"width\":0.5},\"pattern\":{\"fillmode\":\"overlay\",\"size\":10,\"solidity\":0.2}},\"type\":\"bar\"}],\"carpet\":[{\"aaxis\":{\"endlinecolor\":\"#2a3f5f\",\"gridcolor\":\"white\",\"linecolor\":\"white\",\"minorgridcolor\":\"white\",\"startlinecolor\":\"#2a3f5f\"},\"baxis\":{\"endlinecolor\":\"#2a3f5f\",\"gridcolor\":\"white\",\"linecolor\":\"white\",\"minorgridcolor\":\"white\",\"startlinecolor\":\"#2a3f5f\"},\"type\":\"carpet\"}],\"choropleth\":[{\"colorbar\":{\"outlinewidth\":0,\"ticks\":\"\"},\"type\":\"choropleth\"}],\"contourcarpet\":[{\"colorbar\":{\"outlinewidth\":0,\"ticks\":\"\"},\"type\":\"contourcarpet\"}],\"contour\":[{\"colorbar\":{\"outlinewidth\":0,\"ticks\":\"\"},\"colorscale\":[[0.0,\"#0d0887\"],[0.1111111111111111,\"#46039f\"],[0.2222222222222222,\"#7201a8\"],[0.3333333333333333,\"#9c179e\"],[0.4444444444444444,\"#bd3786\"],[0.5555555555555556,\"#d8576b\"],[0.6666666666666666,\"#ed7953\"],[0.7777777777777778,\"#fb9f3a\"],[0.8888888888888888,\"#fdca26\"],[1.0,\"#f0f921\"]],\"type\":\"contour\"}],\"heatmapgl\":[{\"colorbar\":{\"outlinewidth\":0,\"ticks\":\"\"},\"colorscale\":[[0.0,\"#0d0887\"],[0.1111111111111111,\"#46039f\"],[0.2222222222222222,\"#7201a8\"],[0.3333333333333333,\"#9c179e\"],[0.4444444444444444,\"#bd3786\"],[0.5555555555555556,\"#d8576b\"],[0.6666666666666666,\"#ed7953\"],[0.7777777777777778,\"#fb9f3a\"],[0.8888888888888888,\"#fdca26\"],[1.0,\"#f0f921\"]],\"type\":\"heatmapgl\"}],\"heatmap\":[{\"colorbar\":{\"outlinewidth\":0,\"ticks\":\"\"},\"colorscale\":[[0.0,\"#0d0887\"],[0.1111111111111111,\"#46039f\"],[0.2222222222222222,\"#7201a8\"],[0.3333333333333333,\"#9c179e\"],[0.4444444444444444,\"#bd3786\"],[0.5555555555555556,\"#d8576b\"],[0.6666666666666666,\"#ed7953\"],[0.7777777777777778,\"#fb9f3a\"],[0.8888888888888888,\"#fdca26\"],[1.0,\"#f0f921\"]],\"type\":\"heatmap\"}],\"histogram2dcontour\":[{\"colorbar\":{\"outlinewidth\":0,\"ticks\":\"\"},\"colorscale\":[[0.0,\"#0d0887\"],[0.1111111111111111,\"#46039f\"],[0.2222222222222222,\"#7201a8\"],[0.3333333333333333,\"#9c179e\"],[0.4444444444444444,\"#bd3786\"],[0.5555555555555556,\"#d8576b\"],[0.6666666666666666,\"#ed7953\"],[0.7777777777777778,\"#fb9f3a\"],[0.8888888888888888,\"#fdca26\"],[1.0,\"#f0f921\"]],\"type\":\"histogram2dcontour\"}],\"histogram2d\":[{\"colorbar\":{\"outlinewidth\":0,\"ticks\":\"\"},\"colorscale\":[[0.0,\"#0d0887\"],[0.1111111111111111,\"#46039f\"],[0.2222222222222222,\"#7201a8\"],[0.3333333333333333,\"#9c179e\"],[0.4444444444444444,\"#bd3786\"],[0.5555555555555556,\"#d8576b\"],[0.6666666666666666,\"#ed7953\"],[0.7777777777777778,\"#fb9f3a\"],[0.8888888888888888,\"#fdca26\"],[1.0,\"#f0f921\"]],\"type\":\"histogram2d\"}],\"histogram\":[{\"marker\":{\"pattern\":{\"fillmode\":\"overlay\",\"size\":10,\"solidity\":0.2}},\"type\":\"histogram\"}],\"mesh3d\":[{\"colorbar\":{\"outlinewidth\":0,\"ticks\":\"\"},\"type\":\"mesh3d\"}],\"parcoords\":[{\"line\":{\"colorbar\":{\"outlinewidth\":0,\"ticks\":\"\"}},\"type\":\"parcoords\"}],\"pie\":[{\"automargin\":true,\"type\":\"pie\"}],\"scatter3d\":[{\"line\":{\"colorbar\":{\"outlinewidth\":0,\"ticks\":\"\"}},\"marker\":{\"colorbar\":{\"outlinewidth\":0,\"ticks\":\"\"}},\"type\":\"scatter3d\"}],\"scattercarpet\":[{\"marker\":{\"colorbar\":{\"outlinewidth\":0,\"ticks\":\"\"}},\"type\":\"scattercarpet\"}],\"scattergeo\":[{\"marker\":{\"colorbar\":{\"outlinewidth\":0,\"ticks\":\"\"}},\"type\":\"scattergeo\"}],\"scattergl\":[{\"marker\":{\"colorbar\":{\"outlinewidth\":0,\"ticks\":\"\"}},\"type\":\"scattergl\"}],\"scattermapbox\":[{\"marker\":{\"colorbar\":{\"outlinewidth\":0,\"ticks\":\"\"}},\"type\":\"scattermapbox\"}],\"scatterpolargl\":[{\"marker\":{\"colorbar\":{\"outlinewidth\":0,\"ticks\":\"\"}},\"type\":\"scatterpolargl\"}],\"scatterpolar\":[{\"marker\":{\"colorbar\":{\"outlinewidth\":0,\"ticks\":\"\"}},\"type\":\"scatterpolar\"}],\"scatter\":[{\"marker\":{\"colorbar\":{\"outlinewidth\":0,\"ticks\":\"\"}},\"type\":\"scatter\"}],\"scatterternary\":[{\"marker\":{\"colorbar\":{\"outlinewidth\":0,\"ticks\":\"\"}},\"type\":\"scatterternary\"}],\"surface\":[{\"colorbar\":{\"outlinewidth\":0,\"ticks\":\"\"},\"colorscale\":[[0.0,\"#0d0887\"],[0.1111111111111111,\"#46039f\"],[0.2222222222222222,\"#7201a8\"],[0.3333333333333333,\"#9c179e\"],[0.4444444444444444,\"#bd3786\"],[0.5555555555555556,\"#d8576b\"],[0.6666666666666666,\"#ed7953\"],[0.7777777777777778,\"#fb9f3a\"],[0.8888888888888888,\"#fdca26\"],[1.0,\"#f0f921\"]],\"type\":\"surface\"}],\"table\":[{\"cells\":{\"fill\":{\"color\":\"#EBF0F8\"},\"line\":{\"color\":\"white\"}},\"header\":{\"fill\":{\"color\":\"#C8D4E3\"},\"line\":{\"color\":\"white\"}},\"type\":\"table\"}]},\"layout\":{\"annotationdefaults\":{\"arrowcolor\":\"#2a3f5f\",\"arrowhead\":0,\"arrowwidth\":1},\"autotypenumbers\":\"strict\",\"coloraxis\":{\"colorbar\":{\"outlinewidth\":0,\"ticks\":\"\"}},\"colorscale\":{\"diverging\":[[0,\"#8e0152\"],[0.1,\"#c51b7d\"],[0.2,\"#de77ae\"],[0.3,\"#f1b6da\"],[0.4,\"#fde0ef\"],[0.5,\"#f7f7f7\"],[0.6,\"#e6f5d0\"],[0.7,\"#b8e186\"],[0.8,\"#7fbc41\"],[0.9,\"#4d9221\"],[1,\"#276419\"]],\"sequential\":[[0.0,\"#0d0887\"],[0.1111111111111111,\"#46039f\"],[0.2222222222222222,\"#7201a8\"],[0.3333333333333333,\"#9c179e\"],[0.4444444444444444,\"#bd3786\"],[0.5555555555555556,\"#d8576b\"],[0.6666666666666666,\"#ed7953\"],[0.7777777777777778,\"#fb9f3a\"],[0.8888888888888888,\"#fdca26\"],[1.0,\"#f0f921\"]],\"sequentialminus\":[[0.0,\"#0d0887\"],[0.1111111111111111,\"#46039f\"],[0.2222222222222222,\"#7201a8\"],[0.3333333333333333,\"#9c179e\"],[0.4444444444444444,\"#bd3786\"],[0.5555555555555556,\"#d8576b\"],[0.6666666666666666,\"#ed7953\"],[0.7777777777777778,\"#fb9f3a\"],[0.8888888888888888,\"#fdca26\"],[1.0,\"#f0f921\"]]},\"colorway\":[\"#636efa\",\"#EF553B\",\"#00cc96\",\"#ab63fa\",\"#FFA15A\",\"#19d3f3\",\"#FF6692\",\"#B6E880\",\"#FF97FF\",\"#FECB52\"],\"font\":{\"color\":\"#2a3f5f\"},\"geo\":{\"bgcolor\":\"white\",\"lakecolor\":\"white\",\"landcolor\":\"#E5ECF6\",\"showlakes\":true,\"showland\":true,\"subunitcolor\":\"white\"},\"hoverlabel\":{\"align\":\"left\"},\"hovermode\":\"closest\",\"mapbox\":{\"style\":\"light\"},\"paper_bgcolor\":\"white\",\"plot_bgcolor\":\"#E5ECF6\",\"polar\":{\"angularaxis\":{\"gridcolor\":\"white\",\"linecolor\":\"white\",\"ticks\":\"\"},\"bgcolor\":\"#E5ECF6\",\"radialaxis\":{\"gridcolor\":\"white\",\"linecolor\":\"white\",\"ticks\":\"\"}},\"scene\":{\"xaxis\":{\"backgroundcolor\":\"#E5ECF6\",\"gridcolor\":\"white\",\"gridwidth\":2,\"linecolor\":\"white\",\"showbackground\":true,\"ticks\":\"\",\"zerolinecolor\":\"white\"},\"yaxis\":{\"backgroundcolor\":\"#E5ECF6\",\"gridcolor\":\"white\",\"gridwidth\":2,\"linecolor\":\"white\",\"showbackground\":true,\"ticks\":\"\",\"zerolinecolor\":\"white\"},\"zaxis\":{\"backgroundcolor\":\"#E5ECF6\",\"gridcolor\":\"white\",\"gridwidth\":2,\"linecolor\":\"white\",\"showbackground\":true,\"ticks\":\"\",\"zerolinecolor\":\"white\"}},\"shapedefaults\":{\"line\":{\"color\":\"#2a3f5f\"}},\"ternary\":{\"aaxis\":{\"gridcolor\":\"white\",\"linecolor\":\"white\",\"ticks\":\"\"},\"baxis\":{\"gridcolor\":\"white\",\"linecolor\":\"white\",\"ticks\":\"\"},\"bgcolor\":\"#E5ECF6\",\"caxis\":{\"gridcolor\":\"white\",\"linecolor\":\"white\",\"ticks\":\"\"}},\"title\":{\"x\":0.05},\"xaxis\":{\"automargin\":true,\"gridcolor\":\"white\",\"linecolor\":\"white\",\"ticks\":\"\",\"title\":{\"standoff\":15},\"zerolinecolor\":\"white\",\"zerolinewidth\":2},\"yaxis\":{\"automargin\":true,\"gridcolor\":\"white\",\"linecolor\":\"white\",\"ticks\":\"\",\"title\":{\"standoff\":15},\"zerolinecolor\":\"white\",\"zerolinewidth\":2}}},\"title\":{\"text\":\"Performance According to the Experience Level - Development \"},\"xaxis\":{\"title\":{\"text\":\"Number of Years\"},\"zeroline\":false},\"yaxis\":{\"title\":{\"text\":\"Performance Rating \"},\"zeroline\":false}},                        {\"responsive\": true}                    ).then(function(){\n",
       "                            \n",
       "var gd = document.getElementById('9c9bacf4-9505-4e28-9c36-53baaf79606f');\n",
       "var x = new MutationObserver(function (mutations, observer) {{\n",
       "        var display = window.getComputedStyle(gd).display;\n",
       "        if (!display || display === 'none') {{\n",
       "            console.log([gd, 'removed!']);\n",
       "            Plotly.purge(gd);\n",
       "            observer.disconnect();\n",
       "        }}\n",
       "}});\n",
       "\n",
       "// Listen for the removal of the full notebook cells\n",
       "var notebookContainer = gd.closest('#notebook-container');\n",
       "if (notebookContainer) {{\n",
       "    x.observe(notebookContainer, {childList: true});\n",
       "}}\n",
       "\n",
       "// Listen for the clearing of the current output cell\n",
       "var outputEl = gd.closest('.output');\n",
       "if (outputEl) {{\n",
       "    x.observe(outputEl, {childList: true});\n",
       "}}\n",
       "\n",
       "                        })                };                });            </script>        </div>"
      ]
     },
     "metadata": {},
     "output_type": "display_data"
    }
   ],
   "source": [
    "data = [\n",
    "    {\n",
    "        'x': Development['TotalWorkExperienceInYears'],\n",
    "        'y': Development['PerformanceRating'],\n",
    "        'name':'TotalWorkExperienceInYears',\n",
    "        'marker': {\n",
    "            'color': '#3D9970'\n",
    "        },\n",
    "        'boxmean': False,\n",
    "        'orientation': 'h',\n",
    "        \"type\": \"box\",\n",
    "    },\n",
    "    {\n",
    "        'x':Development['ExperienceYearsAtThisCompany'],\n",
    "        'y':Development['PerformanceRating'],\n",
    "        'name': 'ExperienceYearsAtThisCompany',\n",
    "        'marker':{\n",
    "            'color': '#FF4136',\n",
    "        },\n",
    "        'boxmean': False,\n",
    "        'orientation': 'h',\n",
    "        \"type\": \"box\",\n",
    "    },\n",
    "    {\n",
    "        'x': Development['ExperienceYearsInCurrentRole'],\n",
    "        'y': Development['PerformanceRating'],\n",
    "        'name':'ExperienceYearsInCurrentRole',\n",
    "        'marker': {\n",
    "            'color': '#FF851B',\n",
    "        },\n",
    "        'boxmean': False,\n",
    "        'orientation': 'h',\n",
    "        \"type\": \"box\",\n",
    "    }\n",
    "]\n",
    "layout = {\n",
    "    'xaxis': {\n",
    "        'title': 'Number of Years',\n",
    "        'zeroline': False,\n",
    "    },\n",
    "    'yaxis': {\n",
    "        'title': 'Performance Rating ',\n",
    "        'zeroline': False,\n",
    "    },\n",
    "    'boxmode': 'group',\n",
    "    'title': 'Performance According to the Experience Level - Development ',\n",
    "}\n",
    "fig = go.Figure(data=data, layout=layout)\n",
    "\n",
    "py.iplot(fig)"
   ]
  },
  {
   "cell_type": "markdown",
   "id": "a83d960c",
   "metadata": {},
   "source": [
    "## Data Science Department "
   ]
  },
  {
   "cell_type": "code",
   "execution_count": 23,
   "id": "356bb525",
   "metadata": {},
   "outputs": [
    {
     "data": {
      "text/html": [
       "<div>\n",
       "<style scoped>\n",
       "    .dataframe tbody tr th:only-of-type {\n",
       "        vertical-align: middle;\n",
       "    }\n",
       "\n",
       "    .dataframe tbody tr th {\n",
       "        vertical-align: top;\n",
       "    }\n",
       "\n",
       "    .dataframe thead th {\n",
       "        text-align: right;\n",
       "    }\n",
       "</style>\n",
       "<table border=\"1\" class=\"dataframe\">\n",
       "  <thead>\n",
       "    <tr style=\"text-align: right;\">\n",
       "      <th></th>\n",
       "      <th>EmpNumber</th>\n",
       "      <th>Age</th>\n",
       "      <th>Gender</th>\n",
       "      <th>EducationBackground</th>\n",
       "      <th>MaritalStatus</th>\n",
       "      <th>EmpDepartment</th>\n",
       "      <th>EmpJobRole</th>\n",
       "      <th>BusinessTravelFrequency</th>\n",
       "      <th>DistanceFromHome</th>\n",
       "      <th>EmpEducationLevel</th>\n",
       "      <th>...</th>\n",
       "      <th>EmpRelationshipSatisfaction</th>\n",
       "      <th>TotalWorkExperienceInYears</th>\n",
       "      <th>TrainingTimesLastYear</th>\n",
       "      <th>EmpWorkLifeBalance</th>\n",
       "      <th>ExperienceYearsAtThisCompany</th>\n",
       "      <th>ExperienceYearsInCurrentRole</th>\n",
       "      <th>YearsSinceLastPromotion</th>\n",
       "      <th>YearsWithCurrManager</th>\n",
       "      <th>Attrition</th>\n",
       "      <th>PerformanceRating</th>\n",
       "    </tr>\n",
       "  </thead>\n",
       "  <tbody>\n",
       "    <tr>\n",
       "      <th>89</th>\n",
       "      <td>E1001165</td>\n",
       "      <td>49</td>\n",
       "      <td>Female</td>\n",
       "      <td>Technical Degree</td>\n",
       "      <td>Married</td>\n",
       "      <td>Data Science</td>\n",
       "      <td>Data Scientist</td>\n",
       "      <td>Travel_Rarely</td>\n",
       "      <td>1</td>\n",
       "      <td>3</td>\n",
       "      <td>...</td>\n",
       "      <td>2</td>\n",
       "      <td>7</td>\n",
       "      <td>2</td>\n",
       "      <td>3</td>\n",
       "      <td>4</td>\n",
       "      <td>2</td>\n",
       "      <td>0</td>\n",
       "      <td>2</td>\n",
       "      <td>No</td>\n",
       "      <td>3</td>\n",
       "    </tr>\n",
       "    <tr>\n",
       "      <th>107</th>\n",
       "      <td>E1001201</td>\n",
       "      <td>21</td>\n",
       "      <td>Female</td>\n",
       "      <td>Other</td>\n",
       "      <td>Single</td>\n",
       "      <td>Data Science</td>\n",
       "      <td>Data Scientist</td>\n",
       "      <td>Travel_Rarely</td>\n",
       "      <td>18</td>\n",
       "      <td>1</td>\n",
       "      <td>...</td>\n",
       "      <td>1</td>\n",
       "      <td>1</td>\n",
       "      <td>3</td>\n",
       "      <td>2</td>\n",
       "      <td>1</td>\n",
       "      <td>0</td>\n",
       "      <td>0</td>\n",
       "      <td>0</td>\n",
       "      <td>Yes</td>\n",
       "      <td>3</td>\n",
       "    </tr>\n",
       "    <tr>\n",
       "      <th>108</th>\n",
       "      <td>E1001202</td>\n",
       "      <td>36</td>\n",
       "      <td>Male</td>\n",
       "      <td>Life Sciences</td>\n",
       "      <td>Married</td>\n",
       "      <td>Data Science</td>\n",
       "      <td>Data Scientist</td>\n",
       "      <td>Travel_Rarely</td>\n",
       "      <td>14</td>\n",
       "      <td>1</td>\n",
       "      <td>...</td>\n",
       "      <td>1</td>\n",
       "      <td>17</td>\n",
       "      <td>2</td>\n",
       "      <td>2</td>\n",
       "      <td>16</td>\n",
       "      <td>8</td>\n",
       "      <td>4</td>\n",
       "      <td>11</td>\n",
       "      <td>No</td>\n",
       "      <td>3</td>\n",
       "    </tr>\n",
       "  </tbody>\n",
       "</table>\n",
       "<p>3 rows × 28 columns</p>\n",
       "</div>"
      ],
      "text/plain": [
       "    EmpNumber  Age  Gender EducationBackground MaritalStatus EmpDepartment  \\\n",
       "89   E1001165   49  Female    Technical Degree       Married  Data Science   \n",
       "107  E1001201   21  Female               Other        Single  Data Science   \n",
       "108  E1001202   36    Male       Life Sciences       Married  Data Science   \n",
       "\n",
       "         EmpJobRole BusinessTravelFrequency  DistanceFromHome  \\\n",
       "89   Data Scientist           Travel_Rarely                 1   \n",
       "107  Data Scientist           Travel_Rarely                18   \n",
       "108  Data Scientist           Travel_Rarely                14   \n",
       "\n",
       "     EmpEducationLevel  ...  EmpRelationshipSatisfaction  \\\n",
       "89                   3  ...                            2   \n",
       "107                  1  ...                            1   \n",
       "108                  1  ...                            1   \n",
       "\n",
       "     TotalWorkExperienceInYears  TrainingTimesLastYear  EmpWorkLifeBalance  \\\n",
       "89                            7                      2                   3   \n",
       "107                           1                      3                   2   \n",
       "108                          17                      2                   2   \n",
       "\n",
       "     ExperienceYearsAtThisCompany  ExperienceYearsInCurrentRole  \\\n",
       "89                              4                             2   \n",
       "107                             1                             0   \n",
       "108                            16                             8   \n",
       "\n",
       "    YearsSinceLastPromotion  YearsWithCurrManager  Attrition  \\\n",
       "89                        0                     2         No   \n",
       "107                       0                     0        Yes   \n",
       "108                       4                    11         No   \n",
       "\n",
       "     PerformanceRating  \n",
       "89                   3  \n",
       "107                  3  \n",
       "108                  3  \n",
       "\n",
       "[3 rows x 28 columns]"
      ]
     },
     "execution_count": 23,
     "metadata": {},
     "output_type": "execute_result"
    }
   ],
   "source": [
    "Data_Science = original_data[original_data.EmpDepartment == 'Data Science'] # Slicing the all coloums of Sales Row \n",
    "Data_Science.head(3)"
   ]
  },
  {
   "cell_type": "markdown",
   "id": "2c2347b6",
   "metadata": {},
   "source": [
    "###  (i) Performance Rating with respect to number of employees"
   ]
  },
  {
   "cell_type": "code",
   "execution_count": 24,
   "id": "8b2c829c",
   "metadata": {},
   "outputs": [
    {
     "data": {
      "image/png": "[encoded data removed]",
      "text/plain": [
       "<Figure size 432x288 with 1 Axes>"
      ]
     },
     "metadata": {
      "needs_background": "light"
     },
     "output_type": "display_data"
    }
   ],
   "source": [
    "sns.countplot(y=\"PerformanceRating\", data=Data_Science, palette=\"Greens_d\");"
   ]
  },
  {
   "cell_type": "markdown",
   "id": "11c1a582",
   "metadata": {},
   "source": [
    "###  (ii) Performance Rating with respect to Age Group"
   ]
  },
  {
   "cell_type": "code",
   "execution_count": 25,
   "id": "c21e21d6",
   "metadata": {},
   "outputs": [
    {
     "data": {
      "text/plain": [
       "<AxesSubplot:xlabel='PerformanceRating', ylabel='Age'>"
      ]
     },
     "execution_count": 25,
     "metadata": {},
     "output_type": "execute_result"
    },
    {
     "data": {
      "image/png": "[encoded data removed]",
      "text/plain": [
       "<Figure size 432x288 with 1 Axes>"
      ]
     },
     "metadata": {
      "needs_background": "light"
     },
     "output_type": "display_data"
    }
   ],
   "source": [
    "sns.boxplot(Data_Science['PerformanceRating'], Data_Science['Age'])"
   ]
  },
  {
   "cell_type": "markdown",
   "id": "9ef0c201",
   "metadata": {},
   "source": [
    "### (iii) Performance based on Gender"
   ]
  },
  {
   "cell_type": "code",
   "execution_count": 26,
   "id": "c4fb5833",
   "metadata": {},
   "outputs": [
    {
     "data": {
      "text/plain": [
       "<AxesSubplot:xlabel='Gender', ylabel='PerformanceRating'>"
      ]
     },
     "execution_count": 26,
     "metadata": {},
     "output_type": "execute_result"
    },
    {
     "data": {
      "image/png": "[encoded data removed]",
      "text/plain": [
       "<Figure size 432x288 with 1 Axes>"
      ]
     },
     "metadata": {
      "needs_background": "light"
     },
     "output_type": "display_data"
    }
   ],
   "source": [
    "sns.barplot(Data_Science['Gender'], Data_Science['PerformanceRating'])"
   ]
  },
  {
   "cell_type": "markdown",
   "id": "b6ba0911",
   "metadata": {},
   "source": [
    "### (iv) Performance According to the Experience Level"
   ]
  },
  {
   "cell_type": "code",
   "execution_count": 27,
   "id": "0e546e34",
   "metadata": {},
   "outputs": [
    {
     "data": {
      "application/vnd.plotly.v1+json": {
       "config": {
        "linkText": "Export to plot.ly",
        "plotlyServerURL": "https://plot.ly",
        "showLink": false
       },
       "data": [
        {
         "boxmean": false,
         "marker": {
          "color": "#3D9970"
         },
         "name": "TotalWorkExperienceInYears",
         "orientation": "h",
         "type": "box",
         "x": [
          7,
          1,
          17,
          13,
          16,
          7,
          17,
          22,
          10,
          6,
          5,
          9,
          21,
          5,
          31,
          19,
          1,
          8,
          18,
          9
         ],
         "y": [
          3,
          3,
          3,
          3,
          3,
          3,
          3,
          2,
          4,
          3,
          3,
          3,
          3,
          3,
          3,
          3,
          4,
          3,
          3,
          3
         ]
        },
        {
         "boxmean": false,
         "marker": {
          "color": "#FF4136"
         },
         "name": "ExperienceYearsAtThisCompany",
         "orientation": "h",
         "type": "box",
         "x": [
          4,
          1,
          16,
          0,
          10,
          3,
          1,
          21,
          9,
          6,
          3,
          8,
          3,
          5,
          5,
          10,
          1,
          2,
          1,
          8
         ],
         "y": [
          3,
          3,
          3,
          3,
          3,
          3,
          3,
          2,
          4,
          3,
          3,
          3,
          3,
          3,
          3,
          3,
          4,
          3,
          3,
          3
         ]
        },
        {
         "boxmean": false,
         "marker": {
          "color": "#FF851B"
         },
         "name": "ExperienceYearsInCurrentRole",
         "orientation": "h",
         "type": "box",
         "x": [
          2,
          0,
          8,
          0,
          9,
          2,
          0,
          7,
          0,
          5,
          2,
          3,
          2,
          2,
          2,
          7,
          0,
          2,
          0,
          7
         ],
         "y": [
          3,
          3,
          3,
          3,
          3,
          3,
          3,
          2,
          4,
          3,
          3,
          3,
          3,
          3,
          3,
          3,
          4,
          3,
          3,
          3
         ]
        }
       ],
       "layout": {
        "boxmode": "group",
        "template": {
         "data": {
          "bar": [
           {
            "error_x": {
             "color": "#2a3f5f"
            },
            "error_y": {
             "color": "#2a3f5f"
            },
            "marker": {
             "line": {
              "color": "#E5ECF6",
              "width": 0.5
             },
             "pattern": {
              "fillmode": "overlay",
              "size": 10,
              "solidity": 0.2
             }
            },
            "type": "bar"
           }
          ],
          "barpolar": [
           {
            "marker": {
             "line": {
              "color": "#E5ECF6",
              "width": 0.5
             },
             "pattern": {
              "fillmode": "overlay",
              "size": 10,
              "solidity": 0.2
             }
            },
            "type": "barpolar"
           }
          ],
          "carpet": [
           {
            "aaxis": {
             "endlinecolor": "#2a3f5f",
             "gridcolor": "white",
             "linecolor": "white",
             "minorgridcolor": "white",
             "startlinecolor": "#2a3f5f"
            },
            "baxis": {
             "endlinecolor": "#2a3f5f",
             "gridcolor": "white",
             "linecolor": "white",
             "minorgridcolor": "white",
             "startlinecolor": "#2a3f5f"
            },
            "type": "carpet"
           }
          ],
          "choropleth": [
           {
            "colorbar": {
             "outlinewidth": 0,
             "ticks": ""
            },
            "type": "choropleth"
           }
          ],
          "contour": [
           {
            "colorbar": {
             "outlinewidth": 0,
             "ticks": ""
            },
            "colorscale": [
             [
              0,
              "#0d0887"
             ],
             [
              0.1111111111111111,
              "#46039f"
             ],
             [
              0.2222222222222222,
              "#7201a8"
             ],
             [
              0.3333333333333333,
              "#9c179e"
             ],
             [
              0.4444444444444444,
              "#bd3786"
             ],
             [
              0.5555555555555556,
              "#d8576b"
             ],
             [
              0.6666666666666666,
              "#ed7953"
             ],
             [
              0.7777777777777778,
              "#fb9f3a"
             ],
             [
              0.8888888888888888,
              "#fdca26"
             ],
             [
              1,
              "#f0f921"
             ]
            ],
            "type": "contour"
           }
          ],
          "contourcarpet": [
           {
            "colorbar": {
             "outlinewidth": 0,
             "ticks": ""
            },
            "type": "contourcarpet"
           }
          ],
          "heatmap": [
           {
            "colorbar": {
             "outlinewidth": 0,
             "ticks": ""
            },
            "colorscale": [
             [
              0,
              "#0d0887"
             ],
             [
              0.1111111111111111,
              "#46039f"
             ],
             [
              0.2222222222222222,
              "#7201a8"
             ],
             [
              0.3333333333333333,
              "#9c179e"
             ],
             [
              0.4444444444444444,
              "#bd3786"
             ],
             [
              0.5555555555555556,
              "#d8576b"
             ],
             [
              0.6666666666666666,
              "#ed7953"
             ],
             [
              0.7777777777777778,
              "#fb9f3a"
             ],
             [
              0.8888888888888888,
              "#fdca26"
             ],
             [
              1,
              "#f0f921"
             ]
            ],
            "type": "heatmap"
           }
          ],
          "heatmapgl": [
           {
            "colorbar": {
             "outlinewidth": 0,
             "ticks": ""
            },
            "colorscale": [
             [
              0,
              "#0d0887"
             ],
             [
              0.1111111111111111,
              "#46039f"
             ],
             [
              0.2222222222222222,
              "#7201a8"
             ],
             [
              0.3333333333333333,
              "#9c179e"
             ],
             [
              0.4444444444444444,
              "#bd3786"
             ],
             [
              0.5555555555555556,
              "#d8576b"
             ],
             [
              0.6666666666666666,
              "#ed7953"
             ],
             [
              0.7777777777777778,
              "#fb9f3a"
             ],
             [
              0.8888888888888888,
              "#fdca26"
             ],
             [
              1,
              "#f0f921"
             ]
            ],
            "type": "heatmapgl"
           }
          ],
          "histogram": [
           {
            "marker": {
             "pattern": {
              "fillmode": "overlay",
              "size": 10,
              "solidity": 0.2
             }
            },
            "type": "histogram"
           }
          ],
          "histogram2d": [
           {
            "colorbar": {
             "outlinewidth": 0,
             "ticks": ""
            },
            "colorscale": [
             [
              0,
              "#0d0887"
             ],
             [
              0.1111111111111111,
              "#46039f"
             ],
             [
              0.2222222222222222,
              "#7201a8"
             ],
             [
              0.3333333333333333,
              "#9c179e"
             ],
             [
              0.4444444444444444,
              "#bd3786"
             ],
             [
              0.5555555555555556,
              "#d8576b"
             ],
             [
              0.6666666666666666,
              "#ed7953"
             ],
             [
              0.7777777777777778,
              "#fb9f3a"
             ],
             [
              0.8888888888888888,
              "#fdca26"
             ],
             [
              1,
              "#f0f921"
             ]
            ],
            "type": "histogram2d"
           }
          ],
          "histogram2dcontour": [
           {
            "colorbar": {
             "outlinewidth": 0,
             "ticks": ""
            },
            "colorscale": [
             [
              0,
              "#0d0887"
             ],
             [
              0.1111111111111111,
              "#46039f"
             ],
             [
              0.2222222222222222,
              "#7201a8"
             ],
             [
              0.3333333333333333,
              "#9c179e"
             ],
             [
              0.4444444444444444,
              "#bd3786"
             ],
             [
              0.5555555555555556,
              "#d8576b"
             ],
             [
              0.6666666666666666,
              "#ed7953"
             ],
             [
              0.7777777777777778,
              "#fb9f3a"
             ],
             [
              0.8888888888888888,
              "#fdca26"
             ],
             [
              1,
              "#f0f921"
             ]
            ],
            "type": "histogram2dcontour"
           }
          ],
          "mesh3d": [
           {
            "colorbar": {
             "outlinewidth": 0,
             "ticks": ""
            },
            "type": "mesh3d"
           }
          ],
          "parcoords": [
           {
            "line": {
             "colorbar": {
              "outlinewidth": 0,
              "ticks": ""
             }
            },
            "type": "parcoords"
           }
          ],
          "pie": [
           {
            "automargin": true,
            "type": "pie"
           }
          ],
          "scatter": [
           {
            "marker": {
             "colorbar": {
              "outlinewidth": 0,
              "ticks": ""
             }
            },
            "type": "scatter"
           }
          ],
          "scatter3d": [
           {
            "line": {
             "colorbar": {
              "outlinewidth": 0,
              "ticks": ""
             }
            },
            "marker": {
             "colorbar": {
              "outlinewidth": 0,
              "ticks": ""
             }
            },
            "type": "scatter3d"
           }
          ],
          "scattercarpet": [
           {
            "marker": {
             "colorbar": {
              "outlinewidth": 0,
              "ticks": ""
             }
            },
            "type": "scattercarpet"
           }
          ],
          "scattergeo": [
           {
            "marker": {
             "colorbar": {
              "outlinewidth": 0,
              "ticks": ""
             }
            },
            "type": "scattergeo"
           }
          ],
          "scattergl": [
           {
            "marker": {
             "colorbar": {
              "outlinewidth": 0,
              "ticks": ""
             }
            },
            "type": "scattergl"
           }
          ],
          "scattermapbox": [
           {
            "marker": {
             "colorbar": {
              "outlinewidth": 0,
              "ticks": ""
             }
            },
            "type": "scattermapbox"
           }
          ],
          "scatterpolar": [
           {
            "marker": {
             "colorbar": {
              "outlinewidth": 0,
              "ticks": ""
             }
            },
            "type": "scatterpolar"
           }
          ],
          "scatterpolargl": [
           {
            "marker": {
             "colorbar": {
              "outlinewidth": 0,
              "ticks": ""
             }
            },
            "type": "scatterpolargl"
           }
          ],
          "scatterternary": [
           {
            "marker": {
             "colorbar": {
              "outlinewidth": 0,
              "ticks": ""
             }
            },
            "type": "scatterternary"
           }
          ],
          "surface": [
           {
            "colorbar": {
             "outlinewidth": 0,
             "ticks": ""
            },
            "colorscale": [
             [
              0,
              "#0d0887"
             ],
             [
              0.1111111111111111,
              "#46039f"
             ],
             [
              0.2222222222222222,
              "#7201a8"
             ],
             [
              0.3333333333333333,
              "#9c179e"
             ],
             [
              0.4444444444444444,
              "#bd3786"
             ],
             [
              0.5555555555555556,
              "#d8576b"
             ],
             [
              0.6666666666666666,
              "#ed7953"
             ],
             [
              0.7777777777777778,
              "#fb9f3a"
             ],
             [
              0.8888888888888888,
              "#fdca26"
             ],
             [
              1,
              "#f0f921"
             ]
            ],
            "type": "surface"
           }
          ],
          "table": [
           {
            "cells": {
             "fill": {
              "color": "#EBF0F8"
             },
             "line": {
              "color": "white"
             }
            },
            "header": {
             "fill": {
              "color": "#C8D4E3"
             },
             "line": {
              "color": "white"
             }
            },
            "type": "table"
           }
          ]
         },
         "layout": {
          "annotationdefaults": {
           "arrowcolor": "#2a3f5f",
           "arrowhead": 0,
           "arrowwidth": 1
          },
          "autotypenumbers": "strict",
          "coloraxis": {
           "colorbar": {
            "outlinewidth": 0,
            "ticks": ""
           }
          },
          "colorscale": {
           "diverging": [
            [
             0,
             "#8e0152"
            ],
            [
             0.1,
             "#c51b7d"
            ],
            [
             0.2,
             "#de77ae"
            ],
            [
             0.3,
             "#f1b6da"
            ],
            [
             0.4,
             "#fde0ef"
            ],
            [
             0.5,
             "#f7f7f7"
            ],
            [
             0.6,
             "#e6f5d0"
            ],
            [
             0.7,
             "#b8e186"
            ],
            [
             0.8,
             "#7fbc41"
            ],
            [
             0.9,
             "#4d9221"
            ],
            [
             1,
             "#276419"
            ]
           ],
           "sequential": [
            [
             0,
             "#0d0887"
            ],
            [
             0.1111111111111111,
             "#46039f"
            ],
            [
             0.2222222222222222,
             "#7201a8"
            ],
            [
             0.3333333333333333,
             "#9c179e"
            ],
            [
             0.4444444444444444,
             "#bd3786"
            ],
            [
             0.5555555555555556,
             "#d8576b"
            ],
            [
             0.6666666666666666,
             "#ed7953"
            ],
            [
             0.7777777777777778,
             "#fb9f3a"
            ],
            [
             0.8888888888888888,
             "#fdca26"
            ],
            [
             1,
             "#f0f921"
            ]
           ],
           "sequentialminus": [
            [
             0,
             "#0d0887"
            ],
            [
             0.1111111111111111,
             "#46039f"
            ],
            [
             0.2222222222222222,
             "#7201a8"
            ],
            [
             0.3333333333333333,
             "#9c179e"
            ],
            [
             0.4444444444444444,
             "#bd3786"
            ],
            [
             0.5555555555555556,
             "#d8576b"
            ],
            [
             0.6666666666666666,
             "#ed7953"
            ],
            [
             0.7777777777777778,
             "#fb9f3a"
            ],
            [
             0.8888888888888888,
             "#fdca26"
            ],
            [
             1,
             "#f0f921"
            ]
           ]
          },
          "colorway": [
           "#636efa",
           "#EF553B",
           "#00cc96",
           "#ab63fa",
           "#FFA15A",
           "#19d3f3",
           "#FF6692",
           "#B6E880",
           "#FF97FF",
           "#FECB52"
          ],
          "font": {
           "color": "#2a3f5f"
          },
          "geo": {
           "bgcolor": "white",
           "lakecolor": "white",
           "landcolor": "#E5ECF6",
           "showlakes": true,
           "showland": true,
           "subunitcolor": "white"
          },
          "hoverlabel": {
           "align": "left"
          },
          "hovermode": "closest",
          "mapbox": {
           "style": "light"
          },
          "paper_bgcolor": "white",
          "plot_bgcolor": "#E5ECF6",
          "polar": {
           "angularaxis": {
            "gridcolor": "white",
            "linecolor": "white",
            "ticks": ""
           },
           "bgcolor": "#E5ECF6",
           "radialaxis": {
            "gridcolor": "white",
            "linecolor": "white",
            "ticks": ""
           }
          },
          "scene": {
           "xaxis": {
            "backgroundcolor": "#E5ECF6",
            "gridcolor": "white",
            "gridwidth": 2,
            "linecolor": "white",
            "showbackground": true,
            "ticks": "",
            "zerolinecolor": "white"
           },
           "yaxis": {
            "backgroundcolor": "#E5ECF6",
            "gridcolor": "white",
            "gridwidth": 2,
            "linecolor": "white",
            "showbackground": true,
            "ticks": "",
            "zerolinecolor": "white"
           },
           "zaxis": {
            "backgroundcolor": "#E5ECF6",
            "gridcolor": "white",
            "gridwidth": 2,
            "linecolor": "white",
            "showbackground": true,
            "ticks": "",
            "zerolinecolor": "white"
           }
          },
          "shapedefaults": {
           "line": {
            "color": "#2a3f5f"
           }
          },
          "ternary": {
           "aaxis": {
            "gridcolor": "white",
            "linecolor": "white",
            "ticks": ""
           },
           "baxis": {
            "gridcolor": "white",
            "linecolor": "white",
            "ticks": ""
           },
           "bgcolor": "#E5ECF6",
           "caxis": {
            "gridcolor": "white",
            "linecolor": "white",
            "ticks": ""
           }
          },
          "title": {
           "x": 0.05
          },
          "xaxis": {
           "automargin": true,
           "gridcolor": "white",
           "linecolor": "white",
           "ticks": "",
           "title": {
            "standoff": 15
           },
           "zerolinecolor": "white",
           "zerolinewidth": 2
          },
          "yaxis": {
           "automargin": true,
           "gridcolor": "white",
           "linecolor": "white",
           "ticks": "",
           "title": {
            "standoff": 15
           },
           "zerolinecolor": "white",
           "zerolinewidth": 2
          }
         }
        },
        "title": {
         "text": "Performance According to the Experience Level - Data Science "
        },
        "xaxis": {
         "title": {
          "text": "Number of Years"
         },
         "zeroline": false
        },
        "yaxis": {
         "title": {
          "text": "Performance Rating "
         },
         "zeroline": false
        }
       }
      },
      "text/html": [
       "<div>                            <div id=\"839a2725-abca-4621-a55a-1cb5128f3bf1\" class=\"plotly-graph-div\" style=\"height:525px; width:100%;\"></div>            <script type=\"text/javascript\">                require([\"plotly\"], function(Plotly) {                    window.PLOTLYENV=window.PLOTLYENV || {};                                    if (document.getElementById(\"839a2725-abca-4621-a55a-1cb5128f3bf1\")) {                    Plotly.newPlot(                        \"839a2725-abca-4621-a55a-1cb5128f3bf1\",                        [{\"boxmean\":false,\"marker\":{\"color\":\"#3D9970\"},\"name\":\"TotalWorkExperienceInYears\",\"orientation\":\"h\",\"x\":[7,1,17,13,16,7,17,22,10,6,5,9,21,5,31,19,1,8,18,9],\"y\":[3,3,3,3,3,3,3,2,4,3,3,3,3,3,3,3,4,3,3,3],\"type\":\"box\"},{\"boxmean\":false,\"marker\":{\"color\":\"#FF4136\"},\"name\":\"ExperienceYearsAtThisCompany\",\"orientation\":\"h\",\"x\":[4,1,16,0,10,3,1,21,9,6,3,8,3,5,5,10,1,2,1,8],\"y\":[3,3,3,3,3,3,3,2,4,3,3,3,3,3,3,3,4,3,3,3],\"type\":\"box\"},{\"boxmean\":false,\"marker\":{\"color\":\"#FF851B\"},\"name\":\"ExperienceYearsInCurrentRole\",\"orientation\":\"h\",\"x\":[2,0,8,0,9,2,0,7,0,5,2,3,2,2,2,7,0,2,0,7],\"y\":[3,3,3,3,3,3,3,2,4,3,3,3,3,3,3,3,4,3,3,3],\"type\":\"box\"}],                        {\"boxmode\":\"group\",\"template\":{\"data\":{\"barpolar\":[{\"marker\":{\"line\":{\"color\":\"#E5ECF6\",\"width\":0.5},\"pattern\":{\"fillmode\":\"overlay\",\"size\":10,\"solidity\":0.2}},\"type\":\"barpolar\"}],\"bar\":[{\"error_x\":{\"color\":\"#2a3f5f\"},\"error_y\":{\"color\":\"#2a3f5f\"},\"marker\":{\"line\":{\"color\":\"#E5ECF6\",\"width\":0.5},\"pattern\":{\"fillmode\":\"overlay\",\"size\":10,\"solidity\":0.2}},\"type\":\"bar\"}],\"carpet\":[{\"aaxis\":{\"endlinecolor\":\"#2a3f5f\",\"gridcolor\":\"white\",\"linecolor\":\"white\",\"minorgridcolor\":\"white\",\"startlinecolor\":\"#2a3f5f\"},\"baxis\":{\"endlinecolor\":\"#2a3f5f\",\"gridcolor\":\"white\",\"linecolor\":\"white\",\"minorgridcolor\":\"white\",\"startlinecolor\":\"#2a3f5f\"},\"type\":\"carpet\"}],\"choropleth\":[{\"colorbar\":{\"outlinewidth\":0,\"ticks\":\"\"},\"type\":\"choropleth\"}],\"contourcarpet\":[{\"colorbar\":{\"outlinewidth\":0,\"ticks\":\"\"},\"type\":\"contourcarpet\"}],\"contour\":[{\"colorbar\":{\"outlinewidth\":0,\"ticks\":\"\"},\"colorscale\":[[0.0,\"#0d0887\"],[0.1111111111111111,\"#46039f\"],[0.2222222222222222,\"#7201a8\"],[0.3333333333333333,\"#9c179e\"],[0.4444444444444444,\"#bd3786\"],[0.5555555555555556,\"#d8576b\"],[0.6666666666666666,\"#ed7953\"],[0.7777777777777778,\"#fb9f3a\"],[0.8888888888888888,\"#fdca26\"],[1.0,\"#f0f921\"]],\"type\":\"contour\"}],\"heatmapgl\":[{\"colorbar\":{\"outlinewidth\":0,\"ticks\":\"\"},\"colorscale\":[[0.0,\"#0d0887\"],[0.1111111111111111,\"#46039f\"],[0.2222222222222222,\"#7201a8\"],[0.3333333333333333,\"#9c179e\"],[0.4444444444444444,\"#bd3786\"],[0.5555555555555556,\"#d8576b\"],[0.6666666666666666,\"#ed7953\"],[0.7777777777777778,\"#fb9f3a\"],[0.8888888888888888,\"#fdca26\"],[1.0,\"#f0f921\"]],\"type\":\"heatmapgl\"}],\"heatmap\":[{\"colorbar\":{\"outlinewidth\":0,\"ticks\":\"\"},\"colorscale\":[[0.0,\"#0d0887\"],[0.1111111111111111,\"#46039f\"],[0.2222222222222222,\"#7201a8\"],[0.3333333333333333,\"#9c179e\"],[0.4444444444444444,\"#bd3786\"],[0.5555555555555556,\"#d8576b\"],[0.6666666666666666,\"#ed7953\"],[0.7777777777777778,\"#fb9f3a\"],[0.8888888888888888,\"#fdca26\"],[1.0,\"#f0f921\"]],\"type\":\"heatmap\"}],\"histogram2dcontour\":[{\"colorbar\":{\"outlinewidth\":0,\"ticks\":\"\"},\"colorscale\":[[0.0,\"#0d0887\"],[0.1111111111111111,\"#46039f\"],[0.2222222222222222,\"#7201a8\"],[0.3333333333333333,\"#9c179e\"],[0.4444444444444444,\"#bd3786\"],[0.5555555555555556,\"#d8576b\"],[0.6666666666666666,\"#ed7953\"],[0.7777777777777778,\"#fb9f3a\"],[0.8888888888888888,\"#fdca26\"],[1.0,\"#f0f921\"]],\"type\":\"histogram2dcontour\"}],\"histogram2d\":[{\"colorbar\":{\"outlinewidth\":0,\"ticks\":\"\"},\"colorscale\":[[0.0,\"#0d0887\"],[0.1111111111111111,\"#46039f\"],[0.2222222222222222,\"#7201a8\"],[0.3333333333333333,\"#9c179e\"],[0.4444444444444444,\"#bd3786\"],[0.5555555555555556,\"#d8576b\"],[0.6666666666666666,\"#ed7953\"],[0.7777777777777778,\"#fb9f3a\"],[0.8888888888888888,\"#fdca26\"],[1.0,\"#f0f921\"]],\"type\":\"histogram2d\"}],\"histogram\":[{\"marker\":{\"pattern\":{\"fillmode\":\"overlay\",\"size\":10,\"solidity\":0.2}},\"type\":\"histogram\"}],\"mesh3d\":[{\"colorbar\":{\"outlinewidth\":0,\"ticks\":\"\"},\"type\":\"mesh3d\"}],\"parcoords\":[{\"line\":{\"colorbar\":{\"outlinewidth\":0,\"ticks\":\"\"}},\"type\":\"parcoords\"}],\"pie\":[{\"automargin\":true,\"type\":\"pie\"}],\"scatter3d\":[{\"line\":{\"colorbar\":{\"outlinewidth\":0,\"ticks\":\"\"}},\"marker\":{\"colorbar\":{\"outlinewidth\":0,\"ticks\":\"\"}},\"type\":\"scatter3d\"}],\"scattercarpet\":[{\"marker\":{\"colorbar\":{\"outlinewidth\":0,\"ticks\":\"\"}},\"type\":\"scattercarpet\"}],\"scattergeo\":[{\"marker\":{\"colorbar\":{\"outlinewidth\":0,\"ticks\":\"\"}},\"type\":\"scattergeo\"}],\"scattergl\":[{\"marker\":{\"colorbar\":{\"outlinewidth\":0,\"ticks\":\"\"}},\"type\":\"scattergl\"}],\"scattermapbox\":[{\"marker\":{\"colorbar\":{\"outlinewidth\":0,\"ticks\":\"\"}},\"type\":\"scattermapbox\"}],\"scatterpolargl\":[{\"marker\":{\"colorbar\":{\"outlinewidth\":0,\"ticks\":\"\"}},\"type\":\"scatterpolargl\"}],\"scatterpolar\":[{\"marker\":{\"colorbar\":{\"outlinewidth\":0,\"ticks\":\"\"}},\"type\":\"scatterpolar\"}],\"scatter\":[{\"marker\":{\"colorbar\":{\"outlinewidth\":0,\"ticks\":\"\"}},\"type\":\"scatter\"}],\"scatterternary\":[{\"marker\":{\"colorbar\":{\"outlinewidth\":0,\"ticks\":\"\"}},\"type\":\"scatterternary\"}],\"surface\":[{\"colorbar\":{\"outlinewidth\":0,\"ticks\":\"\"},\"colorscale\":[[0.0,\"#0d0887\"],[0.1111111111111111,\"#46039f\"],[0.2222222222222222,\"#7201a8\"],[0.3333333333333333,\"#9c179e\"],[0.4444444444444444,\"#bd3786\"],[0.5555555555555556,\"#d8576b\"],[0.6666666666666666,\"#ed7953\"],[0.7777777777777778,\"#fb9f3a\"],[0.8888888888888888,\"#fdca26\"],[1.0,\"#f0f921\"]],\"type\":\"surface\"}],\"table\":[{\"cells\":{\"fill\":{\"color\":\"#EBF0F8\"},\"line\":{\"color\":\"white\"}},\"header\":{\"fill\":{\"color\":\"#C8D4E3\"},\"line\":{\"color\":\"white\"}},\"type\":\"table\"}]},\"layout\":{\"annotationdefaults\":{\"arrowcolor\":\"#2a3f5f\",\"arrowhead\":0,\"arrowwidth\":1},\"autotypenumbers\":\"strict\",\"coloraxis\":{\"colorbar\":{\"outlinewidth\":0,\"ticks\":\"\"}},\"colorscale\":{\"diverging\":[[0,\"#8e0152\"],[0.1,\"#c51b7d\"],[0.2,\"#de77ae\"],[0.3,\"#f1b6da\"],[0.4,\"#fde0ef\"],[0.5,\"#f7f7f7\"],[0.6,\"#e6f5d0\"],[0.7,\"#b8e186\"],[0.8,\"#7fbc41\"],[0.9,\"#4d9221\"],[1,\"#276419\"]],\"sequential\":[[0.0,\"#0d0887\"],[0.1111111111111111,\"#46039f\"],[0.2222222222222222,\"#7201a8\"],[0.3333333333333333,\"#9c179e\"],[0.4444444444444444,\"#bd3786\"],[0.5555555555555556,\"#d8576b\"],[0.6666666666666666,\"#ed7953\"],[0.7777777777777778,\"#fb9f3a\"],[0.8888888888888888,\"#fdca26\"],[1.0,\"#f0f921\"]],\"sequentialminus\":[[0.0,\"#0d0887\"],[0.1111111111111111,\"#46039f\"],[0.2222222222222222,\"#7201a8\"],[0.3333333333333333,\"#9c179e\"],[0.4444444444444444,\"#bd3786\"],[0.5555555555555556,\"#d8576b\"],[0.6666666666666666,\"#ed7953\"],[0.7777777777777778,\"#fb9f3a\"],[0.8888888888888888,\"#fdca26\"],[1.0,\"#f0f921\"]]},\"colorway\":[\"#636efa\",\"#EF553B\",\"#00cc96\",\"#ab63fa\",\"#FFA15A\",\"#19d3f3\",\"#FF6692\",\"#B6E880\",\"#FF97FF\",\"#FECB52\"],\"font\":{\"color\":\"#2a3f5f\"},\"geo\":{\"bgcolor\":\"white\",\"lakecolor\":\"white\",\"landcolor\":\"#E5ECF6\",\"showlakes\":true,\"showland\":true,\"subunitcolor\":\"white\"},\"hoverlabel\":{\"align\":\"left\"},\"hovermode\":\"closest\",\"mapbox\":{\"style\":\"light\"},\"paper_bgcolor\":\"white\",\"plot_bgcolor\":\"#E5ECF6\",\"polar\":{\"angularaxis\":{\"gridcolor\":\"white\",\"linecolor\":\"white\",\"ticks\":\"\"},\"bgcolor\":\"#E5ECF6\",\"radialaxis\":{\"gridcolor\":\"white\",\"linecolor\":\"white\",\"ticks\":\"\"}},\"scene\":{\"xaxis\":{\"backgroundcolor\":\"#E5ECF6\",\"gridcolor\":\"white\",\"gridwidth\":2,\"linecolor\":\"white\",\"showbackground\":true,\"ticks\":\"\",\"zerolinecolor\":\"white\"},\"yaxis\":{\"backgroundcolor\":\"#E5ECF6\",\"gridcolor\":\"white\",\"gridwidth\":2,\"linecolor\":\"white\",\"showbackground\":true,\"ticks\":\"\",\"zerolinecolor\":\"white\"},\"zaxis\":{\"backgroundcolor\":\"#E5ECF6\",\"gridcolor\":\"white\",\"gridwidth\":2,\"linecolor\":\"white\",\"showbackground\":true,\"ticks\":\"\",\"zerolinecolor\":\"white\"}},\"shapedefaults\":{\"line\":{\"color\":\"#2a3f5f\"}},\"ternary\":{\"aaxis\":{\"gridcolor\":\"white\",\"linecolor\":\"white\",\"ticks\":\"\"},\"baxis\":{\"gridcolor\":\"white\",\"linecolor\":\"white\",\"ticks\":\"\"},\"bgcolor\":\"#E5ECF6\",\"caxis\":{\"gridcolor\":\"white\",\"linecolor\":\"white\",\"ticks\":\"\"}},\"title\":{\"x\":0.05},\"xaxis\":{\"automargin\":true,\"gridcolor\":\"white\",\"linecolor\":\"white\",\"ticks\":\"\",\"title\":{\"standoff\":15},\"zerolinecolor\":\"white\",\"zerolinewidth\":2},\"yaxis\":{\"automargin\":true,\"gridcolor\":\"white\",\"linecolor\":\"white\",\"ticks\":\"\",\"title\":{\"standoff\":15},\"zerolinecolor\":\"white\",\"zerolinewidth\":2}}},\"title\":{\"text\":\"Performance According to the Experience Level - Data Science \"},\"xaxis\":{\"title\":{\"text\":\"Number of Years\"},\"zeroline\":false},\"yaxis\":{\"title\":{\"text\":\"Performance Rating \"},\"zeroline\":false}},                        {\"responsive\": true}                    ).then(function(){\n",
       "                            \n",
       "var gd = document.getElementById('839a2725-abca-4621-a55a-1cb5128f3bf1');\n",
       "var x = new MutationObserver(function (mutations, observer) {{\n",
       "        var display = window.getComputedStyle(gd).display;\n",
       "        if (!display || display === 'none') {{\n",
       "            console.log([gd, 'removed!']);\n",
       "            Plotly.purge(gd);\n",
       "            observer.disconnect();\n",
       "        }}\n",
       "}});\n",
       "\n",
       "// Listen for the removal of the full notebook cells\n",
       "var notebookContainer = gd.closest('#notebook-container');\n",
       "if (notebookContainer) {{\n",
       "    x.observe(notebookContainer, {childList: true});\n",
       "}}\n",
       "\n",
       "// Listen for the clearing of the current output cell\n",
       "var outputEl = gd.closest('.output');\n",
       "if (outputEl) {{\n",
       "    x.observe(outputEl, {childList: true});\n",
       "}}\n",
       "\n",
       "                        })                };                });            </script>        </div>"
      ]
     },
     "metadata": {},
     "output_type": "display_data"
    }
   ],
   "source": [
    "data = [\n",
    "    {\n",
    "        'x': Data_Science['TotalWorkExperienceInYears'],\n",
    "        'y': Data_Science['PerformanceRating'],\n",
    "        'name':'TotalWorkExperienceInYears',\n",
    "        'marker': {\n",
    "            'color': '#3D9970'\n",
    "        },\n",
    "        'boxmean': False,\n",
    "        'orientation': 'h',\n",
    "        \"type\": \"box\",\n",
    "    },\n",
    "    {\n",
    "        'x':Data_Science['ExperienceYearsAtThisCompany'],\n",
    "        'y':Data_Science['PerformanceRating'],\n",
    "        'name': 'ExperienceYearsAtThisCompany',\n",
    "        'marker':{\n",
    "            'color': '#FF4136',\n",
    "        },\n",
    "        'boxmean': False,\n",
    "        'orientation': 'h',\n",
    "        \"type\": \"box\",\n",
    "    },\n",
    "    {\n",
    "        'x': Data_Science['ExperienceYearsInCurrentRole'],\n",
    "        'y': Data_Science['PerformanceRating'],\n",
    "        'name':'ExperienceYearsInCurrentRole',\n",
    "        'marker': {\n",
    "            'color': '#FF851B',\n",
    "        },\n",
    "        'boxmean': False,\n",
    "        'orientation': 'h',\n",
    "        \"type\": \"box\",\n",
    "    }\n",
    "]\n",
    "layout = {\n",
    "    'xaxis': {\n",
    "        'title': 'Number of Years',\n",
    "        'zeroline': False,\n",
    "    },\n",
    "    'yaxis': {\n",
    "        'title': 'Performance Rating ',\n",
    "        'zeroline': False,\n",
    "    },\n",
    "    'boxmode': 'group',\n",
    "    'title': 'Performance According to the Experience Level - Data Science ',\n",
    "}\n",
    "fig = go.Figure(data=data, layout=layout)\n",
    "\n",
    "py.iplot(fig)"
   ]
  },
  {
   "cell_type": "markdown",
   "id": "14852835",
   "metadata": {},
   "source": [
    "## Research & Development Department "
   ]
  },
  {
   "cell_type": "code",
   "execution_count": 28,
   "id": "3f2e6260",
   "metadata": {},
   "outputs": [
    {
     "data": {
      "text/html": [
       "<div>\n",
       "<style scoped>\n",
       "    .dataframe tbody tr th:only-of-type {\n",
       "        vertical-align: middle;\n",
       "    }\n",
       "\n",
       "    .dataframe tbody tr th {\n",
       "        vertical-align: top;\n",
       "    }\n",
       "\n",
       "    .dataframe thead th {\n",
       "        text-align: right;\n",
       "    }\n",
       "</style>\n",
       "<table border=\"1\" class=\"dataframe\">\n",
       "  <thead>\n",
       "    <tr style=\"text-align: right;\">\n",
       "      <th></th>\n",
       "      <th>EmpNumber</th>\n",
       "      <th>Age</th>\n",
       "      <th>Gender</th>\n",
       "      <th>EducationBackground</th>\n",
       "      <th>MaritalStatus</th>\n",
       "      <th>EmpDepartment</th>\n",
       "      <th>EmpJobRole</th>\n",
       "      <th>BusinessTravelFrequency</th>\n",
       "      <th>DistanceFromHome</th>\n",
       "      <th>EmpEducationLevel</th>\n",
       "      <th>...</th>\n",
       "      <th>EmpRelationshipSatisfaction</th>\n",
       "      <th>TotalWorkExperienceInYears</th>\n",
       "      <th>TrainingTimesLastYear</th>\n",
       "      <th>EmpWorkLifeBalance</th>\n",
       "      <th>ExperienceYearsAtThisCompany</th>\n",
       "      <th>ExperienceYearsInCurrentRole</th>\n",
       "      <th>YearsSinceLastPromotion</th>\n",
       "      <th>YearsWithCurrManager</th>\n",
       "      <th>Attrition</th>\n",
       "      <th>PerformanceRating</th>\n",
       "    </tr>\n",
       "  </thead>\n",
       "  <tbody>\n",
       "    <tr>\n",
       "      <th>156</th>\n",
       "      <td>E1001284</td>\n",
       "      <td>38</td>\n",
       "      <td>Male</td>\n",
       "      <td>Medical</td>\n",
       "      <td>Married</td>\n",
       "      <td>Research &amp; Development</td>\n",
       "      <td>Senior Manager R&amp;D</td>\n",
       "      <td>Travel_Frequently</td>\n",
       "      <td>10</td>\n",
       "      <td>1</td>\n",
       "      <td>...</td>\n",
       "      <td>2</td>\n",
       "      <td>3</td>\n",
       "      <td>0</td>\n",
       "      <td>2</td>\n",
       "      <td>2</td>\n",
       "      <td>1</td>\n",
       "      <td>0</td>\n",
       "      <td>2</td>\n",
       "      <td>No</td>\n",
       "      <td>3</td>\n",
       "    </tr>\n",
       "    <tr>\n",
       "      <th>157</th>\n",
       "      <td>E1001288</td>\n",
       "      <td>35</td>\n",
       "      <td>Male</td>\n",
       "      <td>Other</td>\n",
       "      <td>Divorced</td>\n",
       "      <td>Research &amp; Development</td>\n",
       "      <td>Laboratory Technician</td>\n",
       "      <td>Travel_Rarely</td>\n",
       "      <td>14</td>\n",
       "      <td>4</td>\n",
       "      <td>...</td>\n",
       "      <td>4</td>\n",
       "      <td>5</td>\n",
       "      <td>2</td>\n",
       "      <td>1</td>\n",
       "      <td>4</td>\n",
       "      <td>2</td>\n",
       "      <td>0</td>\n",
       "      <td>2</td>\n",
       "      <td>Yes</td>\n",
       "      <td>3</td>\n",
       "    </tr>\n",
       "    <tr>\n",
       "      <th>158</th>\n",
       "      <td>E1001289</td>\n",
       "      <td>31</td>\n",
       "      <td>Female</td>\n",
       "      <td>Life Sciences</td>\n",
       "      <td>Married</td>\n",
       "      <td>Research &amp; Development</td>\n",
       "      <td>Manufacturing Director</td>\n",
       "      <td>Travel_Frequently</td>\n",
       "      <td>1</td>\n",
       "      <td>1</td>\n",
       "      <td>...</td>\n",
       "      <td>3</td>\n",
       "      <td>4</td>\n",
       "      <td>1</td>\n",
       "      <td>3</td>\n",
       "      <td>4</td>\n",
       "      <td>3</td>\n",
       "      <td>0</td>\n",
       "      <td>3</td>\n",
       "      <td>No</td>\n",
       "      <td>3</td>\n",
       "    </tr>\n",
       "  </tbody>\n",
       "</table>\n",
       "<p>3 rows × 28 columns</p>\n",
       "</div>"
      ],
      "text/plain": [
       "    EmpNumber  Age  Gender EducationBackground MaritalStatus  \\\n",
       "156  E1001284   38    Male             Medical       Married   \n",
       "157  E1001288   35    Male               Other      Divorced   \n",
       "158  E1001289   31  Female       Life Sciences       Married   \n",
       "\n",
       "              EmpDepartment              EmpJobRole BusinessTravelFrequency  \\\n",
       "156  Research & Development      Senior Manager R&D       Travel_Frequently   \n",
       "157  Research & Development   Laboratory Technician           Travel_Rarely   \n",
       "158  Research & Development  Manufacturing Director       Travel_Frequently   \n",
       "\n",
       "     DistanceFromHome  EmpEducationLevel  ...  EmpRelationshipSatisfaction  \\\n",
       "156                10                  1  ...                            2   \n",
       "157                14                  4  ...                            4   \n",
       "158                 1                  1  ...                            3   \n",
       "\n",
       "     TotalWorkExperienceInYears  TrainingTimesLastYear  EmpWorkLifeBalance  \\\n",
       "156                           3                      0                   2   \n",
       "157                           5                      2                   1   \n",
       "158                           4                      1                   3   \n",
       "\n",
       "     ExperienceYearsAtThisCompany  ExperienceYearsInCurrentRole  \\\n",
       "156                             2                             1   \n",
       "157                             4                             2   \n",
       "158                             4                             3   \n",
       "\n",
       "    YearsSinceLastPromotion  YearsWithCurrManager  Attrition  \\\n",
       "156                       0                     2         No   \n",
       "157                       0                     2        Yes   \n",
       "158                       0                     3         No   \n",
       "\n",
       "     PerformanceRating  \n",
       "156                  3  \n",
       "157                  3  \n",
       "158                  3  \n",
       "\n",
       "[3 rows x 28 columns]"
      ]
     },
     "execution_count": 28,
     "metadata": {},
     "output_type": "execute_result"
    }
   ],
   "source": [
    "RD = original_data[original_data.EmpDepartment == 'Research & Development'] # Slicing the all coloums of Sales Row \n",
    "RD.head(3)"
   ]
  },
  {
   "cell_type": "markdown",
   "id": "0bce8f64",
   "metadata": {},
   "source": [
    "###  (i) Performance Rating with respect to number of employees"
   ]
  },
  {
   "cell_type": "code",
   "execution_count": 29,
   "id": "07f4d1e9",
   "metadata": {},
   "outputs": [
    {
     "data": {
      "image/png": "[encoded data removed]",
      "text/plain": [
       "<Figure size 432x288 with 1 Axes>"
      ]
     },
     "metadata": {
      "needs_background": "light"
     },
     "output_type": "display_data"
    }
   ],
   "source": [
    "sns.countplot(y=\"PerformanceRating\", data=RD, palette=\"Greens_d\");"
   ]
  },
  {
   "cell_type": "markdown",
   "id": "70c4e819",
   "metadata": {},
   "source": [
    "###  (ii) Performance Rating with respect to Age Group"
   ]
  },
  {
   "cell_type": "code",
   "execution_count": 30,
   "id": "4f620b33",
   "metadata": {},
   "outputs": [
    {
     "data": {
      "text/plain": [
       "<AxesSubplot:xlabel='PerformanceRating', ylabel='Age'>"
      ]
     },
     "execution_count": 30,
     "metadata": {},
     "output_type": "execute_result"
    },
    {
     "data": {
      "image/png": "[encoded data removed]",
      "text/plain": [
       "<Figure size 432x288 with 1 Axes>"
      ]
     },
     "metadata": {
      "needs_background": "light"
     },
     "output_type": "display_data"
    }
   ],
   "source": [
    "sns.boxplot(RD['PerformanceRating'], RD['Age'])"
   ]
  },
  {
   "cell_type": "markdown",
   "id": "1abe8463",
   "metadata": {},
   "source": [
    "### (iii) Performance based on Gender"
   ]
  },
  {
   "cell_type": "code",
   "execution_count": 31,
   "id": "2895cb34",
   "metadata": {},
   "outputs": [
    {
     "data": {
      "text/plain": [
       "<AxesSubplot:xlabel='Gender', ylabel='PerformanceRating'>"
      ]
     },
     "execution_count": 31,
     "metadata": {},
     "output_type": "execute_result"
    },
    {
     "data": {
      "image/png": "[encoded data removed]",
      "text/plain": [
       "<Figure size 432x288 with 1 Axes>"
      ]
     },
     "metadata": {
      "needs_background": "light"
     },
     "output_type": "display_data"
    }
   ],
   "source": [
    "sns.barplot(RD['Gender'], RD['PerformanceRating'])"
   ]
  },
  {
   "cell_type": "markdown",
   "id": "cad6bc5b",
   "metadata": {},
   "source": [
    "### (iv) Performance According to the Experience Level"
   ]
  },
  {
   "cell_type": "code",
   "execution_count": 32,
   "id": "7c6805f2",
   "metadata": {},
   "outputs": [
    {
     "data": {
      "application/vnd.plotly.v1+json": {
       "config": {
        "linkText": "Export to plot.ly",
        "plotlyServerURL": "https://plot.ly",
        "showLink": false
       },
       "data": [
        {
         "boxmean": false,
         "marker": {
          "color": "#3D9970"
         },
         "name": "TotalWorkExperienceInYears",
         "orientation": "h",
         "type": "box",
         "x": [
          3,
          5,
          4,
          0,
          22,
          16,
          9,
          8,
          4,
          19,
          27,
          8,
          21,
          4,
          3,
          8,
          30,
          17,
          21,
          21,
          10,
          9,
          6,
          8,
          29,
          8,
          5,
          18,
          15,
          31,
          1,
          19,
          10,
          6,
          7,
          20,
          14,
          3,
          23,
          14,
          7,
          7,
          1,
          23,
          1,
          6,
          27,
          18,
          11,
          10,
          21,
          21,
          9,
          18,
          6,
          5,
          8,
          16,
          10,
          3,
          0,
          6,
          2,
          9,
          4,
          20,
          6,
          1,
          8,
          16,
          15,
          14,
          2,
          28,
          10,
          1,
          7,
          14,
          6,
          26,
          1,
          6,
          32,
          25,
          1,
          7,
          20,
          2,
          10,
          17,
          15,
          20,
          9,
          33,
          10,
          1,
          36,
          6,
          25,
          23,
          12,
          7,
          6,
          25,
          9,
          1,
          8,
          34,
          2,
          25,
          15,
          5,
          26,
          4,
          18,
          18,
          2,
          8,
          10,
          10,
          5,
          2,
          22,
          21,
          2,
          10,
          10,
          10,
          25,
          23,
          6,
          10,
          9,
          7,
          31,
          7,
          11,
          29,
          0,
          10,
          33,
          5,
          15,
          10,
          4,
          14,
          12,
          13,
          24,
          20,
          8,
          5,
          8,
          10,
          7,
          20,
          29,
          32,
          9,
          10,
          1,
          6,
          10,
          17,
          7,
          5,
          7,
          7,
          11,
          11,
          10,
          24,
          10,
          16,
          7,
          20,
          8,
          6,
          12,
          1,
          13,
          29,
          16,
          16,
          4,
          8,
          8,
          1,
          10,
          4,
          8,
          14,
          10,
          26,
          11,
          11,
          5,
          15,
          32,
          4,
          10,
          9,
          5,
          8,
          24,
          15,
          2,
          8,
          10,
          1,
          34,
          7,
          10,
          1,
          9,
          10,
          10,
          15,
          19,
          10,
          9,
          9,
          25,
          3,
          21,
          6,
          18,
          6,
          19,
          10,
          9,
          9,
          10,
          6,
          10,
          6,
          9,
          12,
          15,
          6,
          34,
          11,
          5,
          27,
          5,
          1,
          24,
          15,
          6,
          14,
          7,
          15,
          11,
          7,
          11,
          6,
          28,
          15,
          14,
          23,
          0,
          15,
          6,
          11,
          10,
          7,
          12,
          11,
          8,
          29,
          1,
          19,
          1,
          11,
          16,
          4,
          10,
          22,
          1,
          24,
          10,
          5,
          5,
          18,
          4,
          8,
          12,
          6,
          16,
          16,
          20,
          8,
          10,
          28,
          5,
          4,
          5,
          8,
          9,
          6,
          8,
          9,
          9,
          10,
          1,
          20,
          13,
          9,
          4,
          5,
          10,
          12,
          7,
          25,
          9,
          12,
          14,
          5,
          4,
          10,
          10,
          6,
          8,
          18,
          20,
          16,
          6,
          18,
          13,
          4,
          14,
          21,
          4,
          8,
          10,
          20,
          4,
          10,
          5,
          10,
          9,
          6,
          6
         ],
         "y": [
          3,
          3,
          3,
          3,
          3,
          3,
          2,
          3,
          2,
          2,
          3,
          3,
          3,
          2,
          2,
          3,
          3,
          3,
          2,
          3,
          3,
          3,
          2,
          3,
          3,
          3,
          2,
          3,
          3,
          4,
          3,
          4,
          2,
          2,
          3,
          3,
          2,
          2,
          3,
          2,
          3,
          3,
          4,
          3,
          3,
          3,
          2,
          2,
          4,
          3,
          2,
          3,
          3,
          3,
          3,
          3,
          3,
          3,
          2,
          3,
          3,
          3,
          3,
          3,
          3,
          2,
          4,
          3,
          3,
          3,
          3,
          4,
          3,
          3,
          3,
          4,
          3,
          3,
          3,
          3,
          3,
          3,
          4,
          3,
          3,
          3,
          4,
          4,
          3,
          4,
          2,
          3,
          2,
          3,
          2,
          4,
          3,
          3,
          3,
          3,
          3,
          3,
          3,
          4,
          3,
          4,
          4,
          3,
          2,
          3,
          3,
          3,
          3,
          3,
          3,
          3,
          3,
          3,
          3,
          2,
          3,
          3,
          4,
          3,
          2,
          3,
          3,
          3,
          3,
          3,
          3,
          3,
          3,
          3,
          3,
          3,
          3,
          3,
          4,
          3,
          3,
          3,
          2,
          2,
          3,
          3,
          3,
          4,
          3,
          2,
          3,
          3,
          3,
          3,
          3,
          3,
          3,
          4,
          3,
          3,
          3,
          3,
          2,
          2,
          3,
          4,
          3,
          3,
          3,
          4,
          3,
          3,
          3,
          3,
          3,
          2,
          4,
          3,
          2,
          3,
          2,
          3,
          2,
          2,
          3,
          3,
          3,
          3,
          4,
          3,
          3,
          3,
          3,
          2,
          3,
          3,
          2,
          3,
          3,
          3,
          2,
          3,
          3,
          4,
          3,
          2,
          3,
          3,
          2,
          3,
          3,
          3,
          3,
          3,
          2,
          2,
          3,
          2,
          4,
          2,
          3,
          3,
          4,
          3,
          3,
          3,
          3,
          2,
          3,
          3,
          4,
          3,
          3,
          3,
          3,
          3,
          3,
          3,
          3,
          3,
          3,
          3,
          4,
          3,
          3,
          3,
          3,
          3,
          3,
          3,
          3,
          2,
          3,
          2,
          2,
          3,
          3,
          2,
          3,
          2,
          3,
          4,
          3,
          3,
          4,
          2,
          3,
          3,
          3,
          3,
          4,
          3,
          4,
          3,
          4,
          3,
          2,
          2,
          3,
          3,
          3,
          4,
          2,
          3,
          2,
          3,
          3,
          2,
          3,
          3,
          3,
          3,
          4,
          2,
          3,
          3,
          3,
          3,
          3,
          3,
          4,
          2,
          4,
          3,
          3,
          3,
          4,
          3,
          2,
          3,
          3,
          3,
          3,
          2,
          3,
          4,
          2,
          3,
          3,
          3,
          2,
          3,
          3,
          2,
          2,
          4,
          2,
          3,
          4,
          2,
          2,
          3,
          3,
          3,
          3,
          3,
          3,
          3,
          2,
          2,
          3,
          3,
          3
         ]
        },
        {
         "boxmean": false,
         "marker": {
          "color": "#FF4136"
         },
         "name": "ExperienceYearsAtThisCompany",
         "orientation": "h",
         "type": "box",
         "x": [
          2,
          4,
          4,
          0,
          10,
          16,
          8,
          8,
          4,
          2,
          15,
          2,
          21,
          3,
          3,
          1,
          5,
          8,
          21,
          21,
          8,
          1,
          3,
          2,
          8,
          4,
          5,
          5,
          14,
          9,
          1,
          16,
          10,
          5,
          6,
          19,
          11,
          3,
          3,
          13,
          6,
          7,
          1,
          22,
          1,
          0,
          5,
          8,
          7,
          9,
          18,
          20,
          5,
          11,
          5,
          3,
          7,
          1,
          10,
          3,
          0,
          1,
          2,
          6,
          4,
          18,
          4,
          1,
          8,
          1,
          7,
          13,
          2,
          5,
          10,
          1,
          3,
          14,
          6,
          7,
          0,
          0,
          2,
          4,
          1,
          7,
          20,
          2,
          8,
          7,
          14,
          1,
          9,
          5,
          10,
          1,
          10,
          6,
          8,
          1,
          11,
          1,
          6,
          1,
          7,
          1,
          8,
          33,
          2,
          9,
          11,
          4,
          25,
          3,
          1,
          16,
          2,
          7,
          8,
          7,
          3,
          2,
          0,
          19,
          2,
          10,
          7,
          9,
          3,
          19,
          4,
          9,
          9,
          3,
          10,
          4,
          10,
          5,
          0,
          9,
          19,
          5,
          12,
          8,
          4,
          14,
          6,
          6,
          5,
          20,
          8,
          4,
          3,
          2,
          3,
          4,
          20,
          9,
          3,
          4,
          1,
          5,
          10,
          6,
          6,
          3,
          5,
          4,
          8,
          1,
          10,
          7,
          3,
          9,
          5,
          3,
          3,
          5,
          12,
          1,
          12,
          8,
          14,
          2,
          3,
          5,
          0,
          1,
          3,
          3,
          8,
          0,
          5,
          14,
          9,
          11,
          4,
          5,
          32,
          1,
          10,
          7,
          5,
          5,
          20,
          15,
          1,
          2,
          10,
          1,
          33,
          5,
          8,
          1,
          2,
          10,
          5,
          15,
          1,
          10,
          8,
          5,
          23,
          3,
          21,
          5,
          1,
          6,
          10,
          10,
          5,
          9,
          9,
          6,
          3,
          5,
          6,
          7,
          1,
          1,
          1,
          9,
          5,
          3,
          5,
          1,
          2,
          12,
          5,
          10,
          4,
          7,
          7,
          3,
          3,
          5,
          22,
          7,
          7,
          2,
          0,
          1,
          5,
          11,
          6,
          2,
          9,
          7,
          0,
          22,
          1,
          5,
          1,
          3,
          5,
          3,
          9,
          19,
          1,
          22,
          2,
          5,
          4,
          13,
          2,
          7,
          4,
          5,
          15,
          8,
          20,
          4,
          5,
          5,
          5,
          4,
          5,
          7,
          5,
          4,
          1,
          4,
          9,
          10,
          1,
          20,
          11,
          5,
          4,
          5,
          10,
          12,
          2,
          17,
          4,
          5,
          13,
          2,
          3,
          10,
          9,
          6,
          1,
          7,
          18,
          16,
          4,
          4,
          13,
          2,
          10,
          20,
          4,
          2,
          10,
          5,
          4,
          4,
          5,
          9,
          7,
          6,
          4
         ],
         "y": [
          3,
          3,
          3,
          3,
          3,
          3,
          2,
          3,
          2,
          2,
          3,
          3,
          3,
          2,
          2,
          3,
          3,
          3,
          2,
          3,
          3,
          3,
          2,
          3,
          3,
          3,
          2,
          3,
          3,
          4,
          3,
          4,
          2,
          2,
          3,
          3,
          2,
          2,
          3,
          2,
          3,
          3,
          4,
          3,
          3,
          3,
          2,
          2,
          4,
          3,
          2,
          3,
          3,
          3,
          3,
          3,
          3,
          3,
          2,
          3,
          3,
          3,
          3,
          3,
          3,
          2,
          4,
          3,
          3,
          3,
          3,
          4,
          3,
          3,
          3,
          4,
          3,
          3,
          3,
          3,
          3,
          3,
          4,
          3,
          3,
          3,
          4,
          4,
          3,
          4,
          2,
          3,
          2,
          3,
          2,
          4,
          3,
          3,
          3,
          3,
          3,
          3,
          3,
          4,
          3,
          4,
          4,
          3,
          2,
          3,
          3,
          3,
          3,
          3,
          3,
          3,
          3,
          3,
          3,
          2,
          3,
          3,
          4,
          3,
          2,
          3,
          3,
          3,
          3,
          3,
          3,
          3,
          3,
          3,
          3,
          3,
          3,
          3,
          4,
          3,
          3,
          3,
          2,
          2,
          3,
          3,
          3,
          4,
          3,
          2,
          3,
          3,
          3,
          3,
          3,
          3,
          3,
          4,
          3,
          3,
          3,
          3,
          2,
          2,
          3,
          4,
          3,
          3,
          3,
          4,
          3,
          3,
          3,
          3,
          3,
          2,
          4,
          3,
          2,
          3,
          2,
          3,
          2,
          2,
          3,
          3,
          3,
          3,
          4,
          3,
          3,
          3,
          3,
          2,
          3,
          3,
          2,
          3,
          3,
          3,
          2,
          3,
          3,
          4,
          3,
          2,
          3,
          3,
          2,
          3,
          3,
          3,
          3,
          3,
          2,
          2,
          3,
          2,
          4,
          2,
          3,
          3,
          4,
          3,
          3,
          3,
          3,
          2,
          3,
          3,
          4,
          3,
          3,
          3,
          3,
          3,
          3,
          3,
          3,
          3,
          3,
          3,
          4,
          3,
          3,
          3,
          3,
          3,
          3,
          3,
          3,
          2,
          3,
          2,
          2,
          3,
          3,
          2,
          3,
          2,
          3,
          4,
          3,
          3,
          4,
          2,
          3,
          3,
          3,
          3,
          4,
          3,
          4,
          3,
          4,
          3,
          2,
          2,
          3,
          3,
          3,
          4,
          2,
          3,
          2,
          3,
          3,
          2,
          3,
          3,
          3,
          3,
          4,
          2,
          3,
          3,
          3,
          3,
          3,
          3,
          4,
          2,
          4,
          3,
          3,
          3,
          4,
          3,
          2,
          3,
          3,
          3,
          3,
          2,
          3,
          4,
          2,
          3,
          3,
          3,
          2,
          3,
          3,
          2,
          2,
          4,
          2,
          3,
          4,
          2,
          2,
          3,
          3,
          3,
          3,
          3,
          3,
          3,
          2,
          2,
          3,
          3,
          3
         ]
        },
        {
         "boxmean": false,
         "marker": {
          "color": "#FF851B"
         },
         "name": "ExperienceYearsInCurrentRole",
         "orientation": "h",
         "type": "box",
         "x": [
          1,
          2,
          3,
          0,
          7,
          10,
          7,
          7,
          3,
          2,
          11,
          2,
          6,
          2,
          2,
          0,
          3,
          7,
          16,
          6,
          7,
          0,
          2,
          2,
          1,
          3,
          3,
          4,
          8,
          7,
          0,
          13,
          7,
          3,
          2,
          9,
          10,
          2,
          2,
          7,
          2,
          7,
          1,
          6,
          0,
          0,
          4,
          6,
          5,
          7,
          7,
          7,
          4,
          9,
          3,
          2,
          5,
          0,
          7,
          1,
          0,
          0,
          2,
          2,
          2,
          7,
          3,
          1,
          7,
          1,
          7,
          9,
          2,
          2,
          8,
          1,
          2,
          8,
          4,
          7,
          0,
          0,
          2,
          2,
          0,
          7,
          11,
          2,
          7,
          7,
          10,
          0,
          7,
          4,
          5,
          1,
          9,
          5,
          7,
          0,
          10,
          0,
          0,
          0,
          7,
          0,
          5,
          9,
          2,
          7,
          8,
          2,
          9,
          2,
          0,
          14,
          2,
          0,
          4,
          7,
          2,
          2,
          0,
          9,
          2,
          4,
          7,
          8,
          2,
          9,
          2,
          7,
          6,
          2,
          9,
          2,
          9,
          2,
          0,
          7,
          16,
          4,
          11,
          7,
          2,
          11,
          2,
          4,
          3,
          7,
          2,
          3,
          2,
          2,
          2,
          3,
          7,
          8,
          2,
          3,
          0,
          0,
          4,
          5,
          5,
          2,
          4,
          2,
          7,
          0,
          8,
          7,
          1,
          8,
          2,
          2,
          1,
          2,
          9,
          0,
          9,
          7,
          8,
          2,
          2,
          4,
          0,
          0,
          2,
          2,
          6,
          0,
          2,
          9,
          7,
          8,
          3,
          4,
          6,
          0,
          8,
          7,
          3,
          4,
          8,
          14,
          1,
          2,
          8,
          0,
          7,
          2,
          2,
          0,
          2,
          9,
          2,
          10,
          0,
          9,
          7,
          3,
          15,
          2,
          6,
          2,
          0,
          2,
          7,
          0,
          4,
          8,
          7,
          2,
          2,
          0,
          1,
          7,
          0,
          0,
          0,
          8,
          3,
          2,
          4,
          0,
          1,
          8,
          3,
          8,
          3,
          7,
          1,
          2,
          2,
          4,
          11,
          4,
          1,
          2,
          0,
          0,
          4,
          8,
          3,
          2,
          8,
          0,
          0,
          10,
          0,
          2,
          0,
          2,
          3,
          2,
          8,
          7,
          0,
          17,
          0,
          2,
          2,
          7,
          2,
          7,
          2,
          3,
          10,
          7,
          11,
          1,
          2,
          4,
          3,
          2,
          4,
          7,
          1,
          1,
          0,
          3,
          7,
          9,
          0,
          9,
          7,
          2,
          3,
          2,
          9,
          8,
          2,
          14,
          3,
          3,
          8,
          2,
          2,
          7,
          7,
          2,
          0,
          7,
          16,
          11,
          3,
          2,
          12,
          2,
          9,
          7,
          2,
          2,
          2,
          3,
          3,
          3,
          4,
          4,
          7,
          2,
          3
         ],
         "y": [
          3,
          3,
          3,
          3,
          3,
          3,
          2,
          3,
          2,
          2,
          3,
          3,
          3,
          2,
          2,
          3,
          3,
          3,
          2,
          3,
          3,
          3,
          2,
          3,
          3,
          3,
          2,
          3,
          3,
          4,
          3,
          4,
          2,
          2,
          3,
          3,
          2,
          2,
          3,
          2,
          3,
          3,
          4,
          3,
          3,
          3,
          2,
          2,
          4,
          3,
          2,
          3,
          3,
          3,
          3,
          3,
          3,
          3,
          2,
          3,
          3,
          3,
          3,
          3,
          3,
          2,
          4,
          3,
          3,
          3,
          3,
          4,
          3,
          3,
          3,
          4,
          3,
          3,
          3,
          3,
          3,
          3,
          4,
          3,
          3,
          3,
          4,
          4,
          3,
          4,
          2,
          3,
          2,
          3,
          2,
          4,
          3,
          3,
          3,
          3,
          3,
          3,
          3,
          4,
          3,
          4,
          4,
          3,
          2,
          3,
          3,
          3,
          3,
          3,
          3,
          3,
          3,
          3,
          3,
          2,
          3,
          3,
          4,
          3,
          2,
          3,
          3,
          3,
          3,
          3,
          3,
          3,
          3,
          3,
          3,
          3,
          3,
          3,
          4,
          3,
          3,
          3,
          2,
          2,
          3,
          3,
          3,
          4,
          3,
          2,
          3,
          3,
          3,
          3,
          3,
          3,
          3,
          4,
          3,
          3,
          3,
          3,
          2,
          2,
          3,
          4,
          3,
          3,
          3,
          4,
          3,
          3,
          3,
          3,
          3,
          2,
          4,
          3,
          2,
          3,
          2,
          3,
          2,
          2,
          3,
          3,
          3,
          3,
          4,
          3,
          3,
          3,
          3,
          2,
          3,
          3,
          2,
          3,
          3,
          3,
          2,
          3,
          3,
          4,
          3,
          2,
          3,
          3,
          2,
          3,
          3,
          3,
          3,
          3,
          2,
          2,
          3,
          2,
          4,
          2,
          3,
          3,
          4,
          3,
          3,
          3,
          3,
          2,
          3,
          3,
          4,
          3,
          3,
          3,
          3,
          3,
          3,
          3,
          3,
          3,
          3,
          3,
          4,
          3,
          3,
          3,
          3,
          3,
          3,
          3,
          3,
          2,
          3,
          2,
          2,
          3,
          3,
          2,
          3,
          2,
          3,
          4,
          3,
          3,
          4,
          2,
          3,
          3,
          3,
          3,
          4,
          3,
          4,
          3,
          4,
          3,
          2,
          2,
          3,
          3,
          3,
          4,
          2,
          3,
          2,
          3,
          3,
          2,
          3,
          3,
          3,
          3,
          4,
          2,
          3,
          3,
          3,
          3,
          3,
          3,
          4,
          2,
          4,
          3,
          3,
          3,
          4,
          3,
          2,
          3,
          3,
          3,
          3,
          2,
          3,
          4,
          2,
          3,
          3,
          3,
          2,
          3,
          3,
          2,
          2,
          4,
          2,
          3,
          4,
          2,
          2,
          3,
          3,
          3,
          3,
          3,
          3,
          3,
          2,
          2,
          3,
          3,
          3
         ]
        }
       ],
       "layout": {
        "boxmode": "group",
        "template": {
         "data": {
          "bar": [
           {
            "error_x": {
             "color": "#2a3f5f"
            },
            "error_y": {
             "color": "#2a3f5f"
            },
            "marker": {
             "line": {
              "color": "#E5ECF6",
              "width": 0.5
             },
             "pattern": {
              "fillmode": "overlay",
              "size": 10,
              "solidity": 0.2
             }
            },
            "type": "bar"
           }
          ],
          "barpolar": [
           {
            "marker": {
             "line": {
              "color": "#E5ECF6",
              "width": 0.5
             },
             "pattern": {
              "fillmode": "overlay",
              "size": 10,
              "solidity": 0.2
             }
            },
            "type": "barpolar"
           }
          ],
          "carpet": [
           {
            "aaxis": {
             "endlinecolor": "#2a3f5f",
             "gridcolor": "white",
             "linecolor": "white",
             "minorgridcolor": "white",
             "startlinecolor": "#2a3f5f"
            },
            "baxis": {
             "endlinecolor": "#2a3f5f",
             "gridcolor": "white",
             "linecolor": "white",
             "minorgridcolor": "white",
             "startlinecolor": "#2a3f5f"
            },
            "type": "carpet"
           }
          ],
          "choropleth": [
           {
            "colorbar": {
             "outlinewidth": 0,
             "ticks": ""
            },
            "type": "choropleth"
           }
          ],
          "contour": [
           {
            "colorbar": {
             "outlinewidth": 0,
             "ticks": ""
            },
            "colorscale": [
             [
              0,
              "#0d0887"
             ],
             [
              0.1111111111111111,
              "#46039f"
             ],
             [
              0.2222222222222222,
              "#7201a8"
             ],
             [
              0.3333333333333333,
              "#9c179e"
             ],
             [
              0.4444444444444444,
              "#bd3786"
             ],
             [
              0.5555555555555556,
              "#d8576b"
             ],
             [
              0.6666666666666666,
              "#ed7953"
             ],
             [
              0.7777777777777778,
              "#fb9f3a"
             ],
             [
              0.8888888888888888,
              "#fdca26"
             ],
             [
              1,
              "#f0f921"
             ]
            ],
            "type": "contour"
           }
          ],
          "contourcarpet": [
           {
            "colorbar": {
             "outlinewidth": 0,
             "ticks": ""
            },
            "type": "contourcarpet"
           }
          ],
          "heatmap": [
           {
            "colorbar": {
             "outlinewidth": 0,
             "ticks": ""
            },
            "colorscale": [
             [
              0,
              "#0d0887"
             ],
             [
              0.1111111111111111,
              "#46039f"
             ],
             [
              0.2222222222222222,
              "#7201a8"
             ],
             [
              0.3333333333333333,
              "#9c179e"
             ],
             [
              0.4444444444444444,
              "#bd3786"
             ],
             [
              0.5555555555555556,
              "#d8576b"
             ],
             [
              0.6666666666666666,
              "#ed7953"
             ],
             [
              0.7777777777777778,
              "#fb9f3a"
             ],
             [
              0.8888888888888888,
              "#fdca26"
             ],
             [
              1,
              "#f0f921"
             ]
            ],
            "type": "heatmap"
           }
          ],
          "heatmapgl": [
           {
            "colorbar": {
             "outlinewidth": 0,
             "ticks": ""
            },
            "colorscale": [
             [
              0,
              "#0d0887"
             ],
             [
              0.1111111111111111,
              "#46039f"
             ],
             [
              0.2222222222222222,
              "#7201a8"
             ],
             [
              0.3333333333333333,
              "#9c179e"
             ],
             [
              0.4444444444444444,
              "#bd3786"
             ],
             [
              0.5555555555555556,
              "#d8576b"
             ],
             [
              0.6666666666666666,
              "#ed7953"
             ],
             [
              0.7777777777777778,
              "#fb9f3a"
             ],
             [
              0.8888888888888888,
              "#fdca26"
             ],
             [
              1,
              "#f0f921"
             ]
            ],
            "type": "heatmapgl"
           }
          ],
          "histogram": [
           {
            "marker": {
             "pattern": {
              "fillmode": "overlay",
              "size": 10,
              "solidity": 0.2
             }
            },
            "type": "histogram"
           }
          ],
          "histogram2d": [
           {
            "colorbar": {
             "outlinewidth": 0,
             "ticks": ""
            },
            "colorscale": [
             [
              0,
              "#0d0887"
             ],
             [
              0.1111111111111111,
              "#46039f"
             ],
             [
              0.2222222222222222,
              "#7201a8"
             ],
             [
              0.3333333333333333,
              "#9c179e"
             ],
             [
              0.4444444444444444,
              "#bd3786"
             ],
             [
              0.5555555555555556,
              "#d8576b"
             ],
             [
              0.6666666666666666,
              "#ed7953"
             ],
             [
              0.7777777777777778,
              "#fb9f3a"
             ],
             [
              0.8888888888888888,
              "#fdca26"
             ],
             [
              1,
              "#f0f921"
             ]
            ],
            "type": "histogram2d"
           }
          ],
          "histogram2dcontour": [
           {
            "colorbar": {
             "outlinewidth": 0,
             "ticks": ""
            },
            "colorscale": [
             [
              0,
              "#0d0887"
             ],
             [
              0.1111111111111111,
              "#46039f"
             ],
             [
              0.2222222222222222,
              "#7201a8"
             ],
             [
              0.3333333333333333,
              "#9c179e"
             ],
             [
              0.4444444444444444,
              "#bd3786"
             ],
             [
              0.5555555555555556,
              "#d8576b"
             ],
             [
              0.6666666666666666,
              "#ed7953"
             ],
             [
              0.7777777777777778,
              "#fb9f3a"
             ],
             [
              0.8888888888888888,
              "#fdca26"
             ],
             [
              1,
              "#f0f921"
             ]
            ],
            "type": "histogram2dcontour"
           }
          ],
          "mesh3d": [
           {
            "colorbar": {
             "outlinewidth": 0,
             "ticks": ""
            },
            "type": "mesh3d"
           }
          ],
          "parcoords": [
           {
            "line": {
             "colorbar": {
              "outlinewidth": 0,
              "ticks": ""
             }
            },
            "type": "parcoords"
           }
          ],
          "pie": [
           {
            "automargin": true,
            "type": "pie"
           }
          ],
          "scatter": [
           {
            "marker": {
             "colorbar": {
              "outlinewidth": 0,
              "ticks": ""
             }
            },
            "type": "scatter"
           }
          ],
          "scatter3d": [
           {
            "line": {
             "colorbar": {
              "outlinewidth": 0,
              "ticks": ""
             }
            },
            "marker": {
             "colorbar": {
              "outlinewidth": 0,
              "ticks": ""
             }
            },
            "type": "scatter3d"
           }
          ],
          "scattercarpet": [
           {
            "marker": {
             "colorbar": {
              "outlinewidth": 0,
              "ticks": ""
             }
            },
            "type": "scattercarpet"
           }
          ],
          "scattergeo": [
           {
            "marker": {
             "colorbar": {
              "outlinewidth": 0,
              "ticks": ""
             }
            },
            "type": "scattergeo"
           }
          ],
          "scattergl": [
           {
            "marker": {
             "colorbar": {
              "outlinewidth": 0,
              "ticks": ""
             }
            },
            "type": "scattergl"
           }
          ],
          "scattermapbox": [
           {
            "marker": {
             "colorbar": {
              "outlinewidth": 0,
              "ticks": ""
             }
            },
            "type": "scattermapbox"
           }
          ],
          "scatterpolar": [
           {
            "marker": {
             "colorbar": {
              "outlinewidth": 0,
              "ticks": ""
             }
            },
            "type": "scatterpolar"
           }
          ],
          "scatterpolargl": [
           {
            "marker": {
             "colorbar": {
              "outlinewidth": 0,
              "ticks": ""
             }
            },
            "type": "scatterpolargl"
           }
          ],
          "scatterternary": [
           {
            "marker": {
             "colorbar": {
              "outlinewidth": 0,
              "ticks": ""
             }
            },
            "type": "scatterternary"
           }
          ],
          "surface": [
           {
            "colorbar": {
             "outlinewidth": 0,
             "ticks": ""
            },
            "colorscale": [
             [
              0,
              "#0d0887"
             ],
             [
              0.1111111111111111,
              "#46039f"
             ],
             [
              0.2222222222222222,
              "#7201a8"
             ],
             [
              0.3333333333333333,
              "#9c179e"
             ],
             [
              0.4444444444444444,
              "#bd3786"
             ],
             [
              0.5555555555555556,
              "#d8576b"
             ],
             [
              0.6666666666666666,
              "#ed7953"
             ],
             [
              0.7777777777777778,
              "#fb9f3a"
             ],
             [
              0.8888888888888888,
              "#fdca26"
             ],
             [
              1,
              "#f0f921"
             ]
            ],
            "type": "surface"
           }
          ],
          "table": [
           {
            "cells": {
             "fill": {
              "color": "#EBF0F8"
             },
             "line": {
              "color": "white"
             }
            },
            "header": {
             "fill": {
              "color": "#C8D4E3"
             },
             "line": {
              "color": "white"
             }
            },
            "type": "table"
           }
          ]
         },
         "layout": {
          "annotationdefaults": {
           "arrowcolor": "#2a3f5f",
           "arrowhead": 0,
           "arrowwidth": 1
          },
          "autotypenumbers": "strict",
          "coloraxis": {
           "colorbar": {
            "outlinewidth": 0,
            "ticks": ""
           }
          },
          "colorscale": {
           "diverging": [
            [
             0,
             "#8e0152"
            ],
            [
             0.1,
             "#c51b7d"
            ],
            [
             0.2,
             "#de77ae"
            ],
            [
             0.3,
             "#f1b6da"
            ],
            [
             0.4,
             "#fde0ef"
            ],
            [
             0.5,
             "#f7f7f7"
            ],
            [
             0.6,
             "#e6f5d0"
            ],
            [
             0.7,
             "#b8e186"
            ],
            [
             0.8,
             "#7fbc41"
            ],
            [
             0.9,
             "#4d9221"
            ],
            [
             1,
             "#276419"
            ]
           ],
           "sequential": [
            [
             0,
             "#0d0887"
            ],
            [
             0.1111111111111111,
             "#46039f"
            ],
            [
             0.2222222222222222,
             "#7201a8"
            ],
            [
             0.3333333333333333,
             "#9c179e"
            ],
            [
             0.4444444444444444,
             "#bd3786"
            ],
            [
             0.5555555555555556,
             "#d8576b"
            ],
            [
             0.6666666666666666,
             "#ed7953"
            ],
            [
             0.7777777777777778,
             "#fb9f3a"
            ],
            [
             0.8888888888888888,
             "#fdca26"
            ],
            [
             1,
             "#f0f921"
            ]
           ],
           "sequentialminus": [
            [
             0,
             "#0d0887"
            ],
            [
             0.1111111111111111,
             "#46039f"
            ],
            [
             0.2222222222222222,
             "#7201a8"
            ],
            [
             0.3333333333333333,
             "#9c179e"
            ],
            [
             0.4444444444444444,
             "#bd3786"
            ],
            [
             0.5555555555555556,
             "#d8576b"
            ],
            [
             0.6666666666666666,
             "#ed7953"
            ],
            [
             0.7777777777777778,
             "#fb9f3a"
            ],
            [
             0.8888888888888888,
             "#fdca26"
            ],
            [
             1,
             "#f0f921"
            ]
           ]
          },
          "colorway": [
           "#636efa",
           "#EF553B",
           "#00cc96",
           "#ab63fa",
           "#FFA15A",
           "#19d3f3",
           "#FF6692",
           "#B6E880",
           "#FF97FF",
           "#FECB52"
          ],
          "font": {
           "color": "#2a3f5f"
          },
          "geo": {
           "bgcolor": "white",
           "lakecolor": "white",
           "landcolor": "#E5ECF6",
           "showlakes": true,
           "showland": true,
           "subunitcolor": "white"
          },
          "hoverlabel": {
           "align": "left"
          },
          "hovermode": "closest",
          "mapbox": {
           "style": "light"
          },
          "paper_bgcolor": "white",
          "plot_bgcolor": "#E5ECF6",
          "polar": {
           "angularaxis": {
            "gridcolor": "white",
            "linecolor": "white",
            "ticks": ""
           },
           "bgcolor": "#E5ECF6",
           "radialaxis": {
            "gridcolor": "white",
            "linecolor": "white",
            "ticks": ""
           }
          },
          "scene": {
           "xaxis": {
            "backgroundcolor": "#E5ECF6",
            "gridcolor": "white",
            "gridwidth": 2,
            "linecolor": "white",
            "showbackground": true,
            "ticks": "",
            "zerolinecolor": "white"
           },
           "yaxis": {
            "backgroundcolor": "#E5ECF6",
            "gridcolor": "white",
            "gridwidth": 2,
            "linecolor": "white",
            "showbackground": true,
            "ticks": "",
            "zerolinecolor": "white"
           },
           "zaxis": {
            "backgroundcolor": "#E5ECF6",
            "gridcolor": "white",
            "gridwidth": 2,
            "linecolor": "white",
            "showbackground": true,
            "ticks": "",
            "zerolinecolor": "white"
           }
          },
          "shapedefaults": {
           "line": {
            "color": "#2a3f5f"
           }
          },
          "ternary": {
           "aaxis": {
            "gridcolor": "white",
            "linecolor": "white",
            "ticks": ""
           },
           "baxis": {
            "gridcolor": "white",
            "linecolor": "white",
            "ticks": ""
           },
           "bgcolor": "#E5ECF6",
           "caxis": {
            "gridcolor": "white",
            "linecolor": "white",
            "ticks": ""
           }
          },
          "title": {
           "x": 0.05
          },
          "xaxis": {
           "automargin": true,
           "gridcolor": "white",
           "linecolor": "white",
           "ticks": "",
           "title": {
            "standoff": 15
           },
           "zerolinecolor": "white",
           "zerolinewidth": 2
          },
          "yaxis": {
           "automargin": true,
           "gridcolor": "white",
           "linecolor": "white",
           "ticks": "",
           "title": {
            "standoff": 15
           },
           "zerolinecolor": "white",
           "zerolinewidth": 2
          }
         }
        },
        "title": {
         "text": "Performance According to the Experience Level - R & D"
        },
        "xaxis": {
         "title": {
          "text": "Number of Years"
         },
         "zeroline": false
        },
        "yaxis": {
         "title": {
          "text": "Performance Rating "
         },
         "zeroline": false
        }
       }
      },
      "text/html": [
       "<div>                            <div id=\"ecb224f6-1688-45e8-9225-e35bceb027d3\" class=\"plotly-graph-div\" style=\"height:525px; width:100%;\"></div>            <script type=\"text/javascript\">                require([\"plotly\"], function(Plotly) {                    window.PLOTLYENV=window.PLOTLYENV || {};                                    if (document.getElementById(\"ecb224f6-1688-45e8-9225-e35bceb027d3\")) {                    Plotly.newPlot(                        \"ecb224f6-1688-45e8-9225-e35bceb027d3\",                        [{\"boxmean\":false,\"marker\":{\"color\":\"#3D9970\"},\"name\":\"TotalWorkExperienceInYears\",\"orientation\":\"h\",\"x\":[3,5,4,0,22,16,9,8,4,19,27,8,21,4,3,8,30,17,21,21,10,9,6,8,29,8,5,18,15,31,1,19,10,6,7,20,14,3,23,14,7,7,1,23,1,6,27,18,11,10,21,21,9,18,6,5,8,16,10,3,0,6,2,9,4,20,6,1,8,16,15,14,2,28,10,1,7,14,6,26,1,6,32,25,1,7,20,2,10,17,15,20,9,33,10,1,36,6,25,23,12,7,6,25,9,1,8,34,2,25,15,5,26,4,18,18,2,8,10,10,5,2,22,21,2,10,10,10,25,23,6,10,9,7,31,7,11,29,0,10,33,5,15,10,4,14,12,13,24,20,8,5,8,10,7,20,29,32,9,10,1,6,10,17,7,5,7,7,11,11,10,24,10,16,7,20,8,6,12,1,13,29,16,16,4,8,8,1,10,4,8,14,10,26,11,11,5,15,32,4,10,9,5,8,24,15,2,8,10,1,34,7,10,1,9,10,10,15,19,10,9,9,25,3,21,6,18,6,19,10,9,9,10,6,10,6,9,12,15,6,34,11,5,27,5,1,24,15,6,14,7,15,11,7,11,6,28,15,14,23,0,15,6,11,10,7,12,11,8,29,1,19,1,11,16,4,10,22,1,24,10,5,5,18,4,8,12,6,16,16,20,8,10,28,5,4,5,8,9,6,8,9,9,10,1,20,13,9,4,5,10,12,7,25,9,12,14,5,4,10,10,6,8,18,20,16,6,18,13,4,14,21,4,8,10,20,4,10,5,10,9,6,6],\"y\":[3,3,3,3,3,3,2,3,2,2,3,3,3,2,2,3,3,3,2,3,3,3,2,3,3,3,2,3,3,4,3,4,2,2,3,3,2,2,3,2,3,3,4,3,3,3,2,2,4,3,2,3,3,3,3,3,3,3,2,3,3,3,3,3,3,2,4,3,3,3,3,4,3,3,3,4,3,3,3,3,3,3,4,3,3,3,4,4,3,4,2,3,2,3,2,4,3,3,3,3,3,3,3,4,3,4,4,3,2,3,3,3,3,3,3,3,3,3,3,2,3,3,4,3,2,3,3,3,3,3,3,3,3,3,3,3,3,3,4,3,3,3,2,2,3,3,3,4,3,2,3,3,3,3,3,3,3,4,3,3,3,3,2,2,3,4,3,3,3,4,3,3,3,3,3,2,4,3,2,3,2,3,2,2,3,3,3,3,4,3,3,3,3,2,3,3,2,3,3,3,2,3,3,4,3,2,3,3,2,3,3,3,3,3,2,2,3,2,4,2,3,3,4,3,3,3,3,2,3,3,4,3,3,3,3,3,3,3,3,3,3,3,4,3,3,3,3,3,3,3,3,2,3,2,2,3,3,2,3,2,3,4,3,3,4,2,3,3,3,3,4,3,4,3,4,3,2,2,3,3,3,4,2,3,2,3,3,2,3,3,3,3,4,2,3,3,3,3,3,3,4,2,4,3,3,3,4,3,2,3,3,3,3,2,3,4,2,3,3,3,2,3,3,2,2,4,2,3,4,2,2,3,3,3,3,3,3,3,2,2,3,3,3],\"type\":\"box\"},{\"boxmean\":false,\"marker\":{\"color\":\"#FF4136\"},\"name\":\"ExperienceYearsAtThisCompany\",\"orientation\":\"h\",\"x\":[2,4,4,0,10,16,8,8,4,2,15,2,21,3,3,1,5,8,21,21,8,1,3,2,8,4,5,5,14,9,1,16,10,5,6,19,11,3,3,13,6,7,1,22,1,0,5,8,7,9,18,20,5,11,5,3,7,1,10,3,0,1,2,6,4,18,4,1,8,1,7,13,2,5,10,1,3,14,6,7,0,0,2,4,1,7,20,2,8,7,14,1,9,5,10,1,10,6,8,1,11,1,6,1,7,1,8,33,2,9,11,4,25,3,1,16,2,7,8,7,3,2,0,19,2,10,7,9,3,19,4,9,9,3,10,4,10,5,0,9,19,5,12,8,4,14,6,6,5,20,8,4,3,2,3,4,20,9,3,4,1,5,10,6,6,3,5,4,8,1,10,7,3,9,5,3,3,5,12,1,12,8,14,2,3,5,0,1,3,3,8,0,5,14,9,11,4,5,32,1,10,7,5,5,20,15,1,2,10,1,33,5,8,1,2,10,5,15,1,10,8,5,23,3,21,5,1,6,10,10,5,9,9,6,3,5,6,7,1,1,1,9,5,3,5,1,2,12,5,10,4,7,7,3,3,5,22,7,7,2,0,1,5,11,6,2,9,7,0,22,1,5,1,3,5,3,9,19,1,22,2,5,4,13,2,7,4,5,15,8,20,4,5,5,5,4,5,7,5,4,1,4,9,10,1,20,11,5,4,5,10,12,2,17,4,5,13,2,3,10,9,6,1,7,18,16,4,4,13,2,10,20,4,2,10,5,4,4,5,9,7,6,4],\"y\":[3,3,3,3,3,3,2,3,2,2,3,3,3,2,2,3,3,3,2,3,3,3,2,3,3,3,2,3,3,4,3,4,2,2,3,3,2,2,3,2,3,3,4,3,3,3,2,2,4,3,2,3,3,3,3,3,3,3,2,3,3,3,3,3,3,2,4,3,3,3,3,4,3,3,3,4,3,3,3,3,3,3,4,3,3,3,4,4,3,4,2,3,2,3,2,4,3,3,3,3,3,3,3,4,3,4,4,3,2,3,3,3,3,3,3,3,3,3,3,2,3,3,4,3,2,3,3,3,3,3,3,3,3,3,3,3,3,3,4,3,3,3,2,2,3,3,3,4,3,2,3,3,3,3,3,3,3,4,3,3,3,3,2,2,3,4,3,3,3,4,3,3,3,3,3,2,4,3,2,3,2,3,2,2,3,3,3,3,4,3,3,3,3,2,3,3,2,3,3,3,2,3,3,4,3,2,3,3,2,3,3,3,3,3,2,2,3,2,4,2,3,3,4,3,3,3,3,2,3,3,4,3,3,3,3,3,3,3,3,3,3,3,4,3,3,3,3,3,3,3,3,2,3,2,2,3,3,2,3,2,3,4,3,3,4,2,3,3,3,3,4,3,4,3,4,3,2,2,3,3,3,4,2,3,2,3,3,2,3,3,3,3,4,2,3,3,3,3,3,3,4,2,4,3,3,3,4,3,2,3,3,3,3,2,3,4,2,3,3,3,2,3,3,2,2,4,2,3,4,2,2,3,3,3,3,3,3,3,2,2,3,3,3],\"type\":\"box\"},{\"boxmean\":false,\"marker\":{\"color\":\"#FF851B\"},\"name\":\"ExperienceYearsInCurrentRole\",\"orientation\":\"h\",\"x\":[1,2,3,0,7,10,7,7,3,2,11,2,6,2,2,0,3,7,16,6,7,0,2,2,1,3,3,4,8,7,0,13,7,3,2,9,10,2,2,7,2,7,1,6,0,0,4,6,5,7,7,7,4,9,3,2,5,0,7,1,0,0,2,2,2,7,3,1,7,1,7,9,2,2,8,1,2,8,4,7,0,0,2,2,0,7,11,2,7,7,10,0,7,4,5,1,9,5,7,0,10,0,0,0,7,0,5,9,2,7,8,2,9,2,0,14,2,0,4,7,2,2,0,9,2,4,7,8,2,9,2,7,6,2,9,2,9,2,0,7,16,4,11,7,2,11,2,4,3,7,2,3,2,2,2,3,7,8,2,3,0,0,4,5,5,2,4,2,7,0,8,7,1,8,2,2,1,2,9,0,9,7,8,2,2,4,0,0,2,2,6,0,2,9,7,8,3,4,6,0,8,7,3,4,8,14,1,2,8,0,7,2,2,0,2,9,2,10,0,9,7,3,15,2,6,2,0,2,7,0,4,8,7,2,2,0,1,7,0,0,0,8,3,2,4,0,1,8,3,8,3,7,1,2,2,4,11,4,1,2,0,0,4,8,3,2,8,0,0,10,0,2,0,2,3,2,8,7,0,17,0,2,2,7,2,7,2,3,10,7,11,1,2,4,3,2,4,7,1,1,0,3,7,9,0,9,7,2,3,2,9,8,2,14,3,3,8,2,2,7,7,2,0,7,16,11,3,2,12,2,9,7,2,2,2,3,3,3,4,4,7,2,3],\"y\":[3,3,3,3,3,3,2,3,2,2,3,3,3,2,2,3,3,3,2,3,3,3,2,3,3,3,2,3,3,4,3,4,2,2,3,3,2,2,3,2,3,3,4,3,3,3,2,2,4,3,2,3,3,3,3,3,3,3,2,3,3,3,3,3,3,2,4,3,3,3,3,4,3,3,3,4,3,3,3,3,3,3,4,3,3,3,4,4,3,4,2,3,2,3,2,4,3,3,3,3,3,3,3,4,3,4,4,3,2,3,3,3,3,3,3,3,3,3,3,2,3,3,4,3,2,3,3,3,3,3,3,3,3,3,3,3,3,3,4,3,3,3,2,2,3,3,3,4,3,2,3,3,3,3,3,3,3,4,3,3,3,3,2,2,3,4,3,3,3,4,3,3,3,3,3,2,4,3,2,3,2,3,2,2,3,3,3,3,4,3,3,3,3,2,3,3,2,3,3,3,2,3,3,4,3,2,3,3,2,3,3,3,3,3,2,2,3,2,4,2,3,3,4,3,3,3,3,2,3,3,4,3,3,3,3,3,3,3,3,3,3,3,4,3,3,3,3,3,3,3,3,2,3,2,2,3,3,2,3,2,3,4,3,3,4,2,3,3,3,3,4,3,4,3,4,3,2,2,3,3,3,4,2,3,2,3,3,2,3,3,3,3,4,2,3,3,3,3,3,3,4,2,4,3,3,3,4,3,2,3,3,3,3,2,3,4,2,3,3,3,2,3,3,2,2,4,2,3,4,2,2,3,3,3,3,3,3,3,2,2,3,3,3],\"type\":\"box\"}],                        {\"boxmode\":\"group\",\"template\":{\"data\":{\"barpolar\":[{\"marker\":{\"line\":{\"color\":\"#E5ECF6\",\"width\":0.5},\"pattern\":{\"fillmode\":\"overlay\",\"size\":10,\"solidity\":0.2}},\"type\":\"barpolar\"}],\"bar\":[{\"error_x\":{\"color\":\"#2a3f5f\"},\"error_y\":{\"color\":\"#2a3f5f\"},\"marker\":{\"line\":{\"color\":\"#E5ECF6\",\"width\":0.5},\"pattern\":{\"fillmode\":\"overlay\",\"size\":10,\"solidity\":0.2}},\"type\":\"bar\"}],\"carpet\":[{\"aaxis\":{\"endlinecolor\":\"#2a3f5f\",\"gridcolor\":\"white\",\"linecolor\":\"white\",\"minorgridcolor\":\"white\",\"startlinecolor\":\"#2a3f5f\"},\"baxis\":{\"endlinecolor\":\"#2a3f5f\",\"gridcolor\":\"white\",\"linecolor\":\"white\",\"minorgridcolor\":\"white\",\"startlinecolor\":\"#2a3f5f\"},\"type\":\"carpet\"}],\"choropleth\":[{\"colorbar\":{\"outlinewidth\":0,\"ticks\":\"\"},\"type\":\"choropleth\"}],\"contourcarpet\":[{\"colorbar\":{\"outlinewidth\":0,\"ticks\":\"\"},\"type\":\"contourcarpet\"}],\"contour\":[{\"colorbar\":{\"outlinewidth\":0,\"ticks\":\"\"},\"colorscale\":[[0.0,\"#0d0887\"],[0.1111111111111111,\"#46039f\"],[0.2222222222222222,\"#7201a8\"],[0.3333333333333333,\"#9c179e\"],[0.4444444444444444,\"#bd3786\"],[0.5555555555555556,\"#d8576b\"],[0.6666666666666666,\"#ed7953\"],[0.7777777777777778,\"#fb9f3a\"],[0.8888888888888888,\"#fdca26\"],[1.0,\"#f0f921\"]],\"type\":\"contour\"}],\"heatmapgl\":[{\"colorbar\":{\"outlinewidth\":0,\"ticks\":\"\"},\"colorscale\":[[0.0,\"#0d0887\"],[0.1111111111111111,\"#46039f\"],[0.2222222222222222,\"#7201a8\"],[0.3333333333333333,\"#9c179e\"],[0.4444444444444444,\"#bd3786\"],[0.5555555555555556,\"#d8576b\"],[0.6666666666666666,\"#ed7953\"],[0.7777777777777778,\"#fb9f3a\"],[0.8888888888888888,\"#fdca26\"],[1.0,\"#f0f921\"]],\"type\":\"heatmapgl\"}],\"heatmap\":[{\"colorbar\":{\"outlinewidth\":0,\"ticks\":\"\"},\"colorscale\":[[0.0,\"#0d0887\"],[0.1111111111111111,\"#46039f\"],[0.2222222222222222,\"#7201a8\"],[0.3333333333333333,\"#9c179e\"],[0.4444444444444444,\"#bd3786\"],[0.5555555555555556,\"#d8576b\"],[0.6666666666666666,\"#ed7953\"],[0.7777777777777778,\"#fb9f3a\"],[0.8888888888888888,\"#fdca26\"],[1.0,\"#f0f921\"]],\"type\":\"heatmap\"}],\"histogram2dcontour\":[{\"colorbar\":{\"outlinewidth\":0,\"ticks\":\"\"},\"colorscale\":[[0.0,\"#0d0887\"],[0.1111111111111111,\"#46039f\"],[0.2222222222222222,\"#7201a8\"],[0.3333333333333333,\"#9c179e\"],[0.4444444444444444,\"#bd3786\"],[0.5555555555555556,\"#d8576b\"],[0.6666666666666666,\"#ed7953\"],[0.7777777777777778,\"#fb9f3a\"],[0.8888888888888888,\"#fdca26\"],[1.0,\"#f0f921\"]],\"type\":\"histogram2dcontour\"}],\"histogram2d\":[{\"colorbar\":{\"outlinewidth\":0,\"ticks\":\"\"},\"colorscale\":[[0.0,\"#0d0887\"],[0.1111111111111111,\"#46039f\"],[0.2222222222222222,\"#7201a8\"],[0.3333333333333333,\"#9c179e\"],[0.4444444444444444,\"#bd3786\"],[0.5555555555555556,\"#d8576b\"],[0.6666666666666666,\"#ed7953\"],[0.7777777777777778,\"#fb9f3a\"],[0.8888888888888888,\"#fdca26\"],[1.0,\"#f0f921\"]],\"type\":\"histogram2d\"}],\"histogram\":[{\"marker\":{\"pattern\":{\"fillmode\":\"overlay\",\"size\":10,\"solidity\":0.2}},\"type\":\"histogram\"}],\"mesh3d\":[{\"colorbar\":{\"outlinewidth\":0,\"ticks\":\"\"},\"type\":\"mesh3d\"}],\"parcoords\":[{\"line\":{\"colorbar\":{\"outlinewidth\":0,\"ticks\":\"\"}},\"type\":\"parcoords\"}],\"pie\":[{\"automargin\":true,\"type\":\"pie\"}],\"scatter3d\":[{\"line\":{\"colorbar\":{\"outlinewidth\":0,\"ticks\":\"\"}},\"marker\":{\"colorbar\":{\"outlinewidth\":0,\"ticks\":\"\"}},\"type\":\"scatter3d\"}],\"scattercarpet\":[{\"marker\":{\"colorbar\":{\"outlinewidth\":0,\"ticks\":\"\"}},\"type\":\"scattercarpet\"}],\"scattergeo\":[{\"marker\":{\"colorbar\":{\"outlinewidth\":0,\"ticks\":\"\"}},\"type\":\"scattergeo\"}],\"scattergl\":[{\"marker\":{\"colorbar\":{\"outlinewidth\":0,\"ticks\":\"\"}},\"type\":\"scattergl\"}],\"scattermapbox\":[{\"marker\":{\"colorbar\":{\"outlinewidth\":0,\"ticks\":\"\"}},\"type\":\"scattermapbox\"}],\"scatterpolargl\":[{\"marker\":{\"colorbar\":{\"outlinewidth\":0,\"ticks\":\"\"}},\"type\":\"scatterpolargl\"}],\"scatterpolar\":[{\"marker\":{\"colorbar\":{\"outlinewidth\":0,\"ticks\":\"\"}},\"type\":\"scatterpolar\"}],\"scatter\":[{\"marker\":{\"colorbar\":{\"outlinewidth\":0,\"ticks\":\"\"}},\"type\":\"scatter\"}],\"scatterternary\":[{\"marker\":{\"colorbar\":{\"outlinewidth\":0,\"ticks\":\"\"}},\"type\":\"scatterternary\"}],\"surface\":[{\"colorbar\":{\"outlinewidth\":0,\"ticks\":\"\"},\"colorscale\":[[0.0,\"#0d0887\"],[0.1111111111111111,\"#46039f\"],[0.2222222222222222,\"#7201a8\"],[0.3333333333333333,\"#9c179e\"],[0.4444444444444444,\"#bd3786\"],[0.5555555555555556,\"#d8576b\"],[0.6666666666666666,\"#ed7953\"],[0.7777777777777778,\"#fb9f3a\"],[0.8888888888888888,\"#fdca26\"],[1.0,\"#f0f921\"]],\"type\":\"surface\"}],\"table\":[{\"cells\":{\"fill\":{\"color\":\"#EBF0F8\"},\"line\":{\"color\":\"white\"}},\"header\":{\"fill\":{\"color\":\"#C8D4E3\"},\"line\":{\"color\":\"white\"}},\"type\":\"table\"}]},\"layout\":{\"annotationdefaults\":{\"arrowcolor\":\"#2a3f5f\",\"arrowhead\":0,\"arrowwidth\":1},\"autotypenumbers\":\"strict\",\"coloraxis\":{\"colorbar\":{\"outlinewidth\":0,\"ticks\":\"\"}},\"colorscale\":{\"diverging\":[[0,\"#8e0152\"],[0.1,\"#c51b7d\"],[0.2,\"#de77ae\"],[0.3,\"#f1b6da\"],[0.4,\"#fde0ef\"],[0.5,\"#f7f7f7\"],[0.6,\"#e6f5d0\"],[0.7,\"#b8e186\"],[0.8,\"#7fbc41\"],[0.9,\"#4d9221\"],[1,\"#276419\"]],\"sequential\":[[0.0,\"#0d0887\"],[0.1111111111111111,\"#46039f\"],[0.2222222222222222,\"#7201a8\"],[0.3333333333333333,\"#9c179e\"],[0.4444444444444444,\"#bd3786\"],[0.5555555555555556,\"#d8576b\"],[0.6666666666666666,\"#ed7953\"],[0.7777777777777778,\"#fb9f3a\"],[0.8888888888888888,\"#fdca26\"],[1.0,\"#f0f921\"]],\"sequentialminus\":[[0.0,\"#0d0887\"],[0.1111111111111111,\"#46039f\"],[0.2222222222222222,\"#7201a8\"],[0.3333333333333333,\"#9c179e\"],[0.4444444444444444,\"#bd3786\"],[0.5555555555555556,\"#d8576b\"],[0.6666666666666666,\"#ed7953\"],[0.7777777777777778,\"#fb9f3a\"],[0.8888888888888888,\"#fdca26\"],[1.0,\"#f0f921\"]]},\"colorway\":[\"#636efa\",\"#EF553B\",\"#00cc96\",\"#ab63fa\",\"#FFA15A\",\"#19d3f3\",\"#FF6692\",\"#B6E880\",\"#FF97FF\",\"#FECB52\"],\"font\":{\"color\":\"#2a3f5f\"},\"geo\":{\"bgcolor\":\"white\",\"lakecolor\":\"white\",\"landcolor\":\"#E5ECF6\",\"showlakes\":true,\"showland\":true,\"subunitcolor\":\"white\"},\"hoverlabel\":{\"align\":\"left\"},\"hovermode\":\"closest\",\"mapbox\":{\"style\":\"light\"},\"paper_bgcolor\":\"white\",\"plot_bgcolor\":\"#E5ECF6\",\"polar\":{\"angularaxis\":{\"gridcolor\":\"white\",\"linecolor\":\"white\",\"ticks\":\"\"},\"bgcolor\":\"#E5ECF6\",\"radialaxis\":{\"gridcolor\":\"white\",\"linecolor\":\"white\",\"ticks\":\"\"}},\"scene\":{\"xaxis\":{\"backgroundcolor\":\"#E5ECF6\",\"gridcolor\":\"white\",\"gridwidth\":2,\"linecolor\":\"white\",\"showbackground\":true,\"ticks\":\"\",\"zerolinecolor\":\"white\"},\"yaxis\":{\"backgroundcolor\":\"#E5ECF6\",\"gridcolor\":\"white\",\"gridwidth\":2,\"linecolor\":\"white\",\"showbackground\":true,\"ticks\":\"\",\"zerolinecolor\":\"white\"},\"zaxis\":{\"backgroundcolor\":\"#E5ECF6\",\"gridcolor\":\"white\",\"gridwidth\":2,\"linecolor\":\"white\",\"showbackground\":true,\"ticks\":\"\",\"zerolinecolor\":\"white\"}},\"shapedefaults\":{\"line\":{\"color\":\"#2a3f5f\"}},\"ternary\":{\"aaxis\":{\"gridcolor\":\"white\",\"linecolor\":\"white\",\"ticks\":\"\"},\"baxis\":{\"gridcolor\":\"white\",\"linecolor\":\"white\",\"ticks\":\"\"},\"bgcolor\":\"#E5ECF6\",\"caxis\":{\"gridcolor\":\"white\",\"linecolor\":\"white\",\"ticks\":\"\"}},\"title\":{\"x\":0.05},\"xaxis\":{\"automargin\":true,\"gridcolor\":\"white\",\"linecolor\":\"white\",\"ticks\":\"\",\"title\":{\"standoff\":15},\"zerolinecolor\":\"white\",\"zerolinewidth\":2},\"yaxis\":{\"automargin\":true,\"gridcolor\":\"white\",\"linecolor\":\"white\",\"ticks\":\"\",\"title\":{\"standoff\":15},\"zerolinecolor\":\"white\",\"zerolinewidth\":2}}},\"title\":{\"text\":\"Performance According to the Experience Level - R & D\"},\"xaxis\":{\"title\":{\"text\":\"Number of Years\"},\"zeroline\":false},\"yaxis\":{\"title\":{\"text\":\"Performance Rating \"},\"zeroline\":false}},                        {\"responsive\": true}                    ).then(function(){\n",
       "                            \n",
       "var gd = document.getElementById('ecb224f6-1688-45e8-9225-e35bceb027d3');\n",
       "var x = new MutationObserver(function (mutations, observer) {{\n",
       "        var display = window.getComputedStyle(gd).display;\n",
       "        if (!display || display === 'none') {{\n",
       "            console.log([gd, 'removed!']);\n",
       "            Plotly.purge(gd);\n",
       "            observer.disconnect();\n",
       "        }}\n",
       "}});\n",
       "\n",
       "// Listen for the removal of the full notebook cells\n",
       "var notebookContainer = gd.closest('#notebook-container');\n",
       "if (notebookContainer) {{\n",
       "    x.observe(notebookContainer, {childList: true});\n",
       "}}\n",
       "\n",
       "// Listen for the clearing of the current output cell\n",
       "var outputEl = gd.closest('.output');\n",
       "if (outputEl) {{\n",
       "    x.observe(outputEl, {childList: true});\n",
       "}}\n",
       "\n",
       "                        })                };                });            </script>        </div>"
      ]
     },
     "metadata": {},
     "output_type": "display_data"
    }
   ],
   "source": [
    "data = [\n",
    "    {\n",
    "        'x': RD['TotalWorkExperienceInYears'],\n",
    "        'y': RD['PerformanceRating'],\n",
    "        'name':'TotalWorkExperienceInYears',\n",
    "        'marker': {\n",
    "            'color': '#3D9970'\n",
    "        },\n",
    "        'boxmean': False,\n",
    "        'orientation': 'h',\n",
    "        \"type\": \"box\",\n",
    "    },\n",
    "    {\n",
    "        'x':RD['ExperienceYearsAtThisCompany'],\n",
    "        'y':RD['PerformanceRating'],\n",
    "        'name': 'ExperienceYearsAtThisCompany',\n",
    "        'marker':{\n",
    "            'color': '#FF4136',\n",
    "        },\n",
    "        'boxmean': False,\n",
    "        'orientation': 'h',\n",
    "        \"type\": \"box\",\n",
    "    },\n",
    "    {\n",
    "        'x': RD['ExperienceYearsInCurrentRole'],\n",
    "        'y': RD['PerformanceRating'],\n",
    "        'name':'ExperienceYearsInCurrentRole',\n",
    "        'marker': {\n",
    "            'color': '#FF851B',\n",
    "        },\n",
    "        'boxmean': False,\n",
    "        'orientation': 'h',\n",
    "        \"type\": \"box\",\n",
    "    }\n",
    "]\n",
    "layout = {\n",
    "    'xaxis': {\n",
    "        'title': 'Number of Years',\n",
    "        'zeroline': False,\n",
    "    },\n",
    "    'yaxis': {\n",
    "        'title': 'Performance Rating ',\n",
    "        'zeroline': False,\n",
    "    },\n",
    "    'boxmode': 'group',\n",
    "    'title': 'Performance According to the Experience Level - R & D',\n",
    "}\n",
    "fig = go.Figure(data=data, layout=layout)\n",
    "\n",
    "py.iplot(fig)"
   ]
  },
  {
   "cell_type": "markdown",
   "id": "55837c46",
   "metadata": {},
   "source": [
    "# Finance Department"
   ]
  },
  {
   "cell_type": "code",
   "execution_count": 33,
   "id": "4a9b2f8c",
   "metadata": {},
   "outputs": [
    {
     "data": {
      "text/html": [
       "<div>\n",
       "<style scoped>\n",
       "    .dataframe tbody tr th:only-of-type {\n",
       "        vertical-align: middle;\n",
       "    }\n",
       "\n",
       "    .dataframe tbody tr th {\n",
       "        vertical-align: top;\n",
       "    }\n",
       "\n",
       "    .dataframe thead th {\n",
       "        text-align: right;\n",
       "    }\n",
       "</style>\n",
       "<table border=\"1\" class=\"dataframe\">\n",
       "  <thead>\n",
       "    <tr style=\"text-align: right;\">\n",
       "      <th></th>\n",
       "      <th>EmpNumber</th>\n",
       "      <th>Age</th>\n",
       "      <th>Gender</th>\n",
       "      <th>EducationBackground</th>\n",
       "      <th>MaritalStatus</th>\n",
       "      <th>EmpDepartment</th>\n",
       "      <th>EmpJobRole</th>\n",
       "      <th>BusinessTravelFrequency</th>\n",
       "      <th>DistanceFromHome</th>\n",
       "      <th>EmpEducationLevel</th>\n",
       "      <th>...</th>\n",
       "      <th>EmpRelationshipSatisfaction</th>\n",
       "      <th>TotalWorkExperienceInYears</th>\n",
       "      <th>TrainingTimesLastYear</th>\n",
       "      <th>EmpWorkLifeBalance</th>\n",
       "      <th>ExperienceYearsAtThisCompany</th>\n",
       "      <th>ExperienceYearsInCurrentRole</th>\n",
       "      <th>YearsSinceLastPromotion</th>\n",
       "      <th>YearsWithCurrManager</th>\n",
       "      <th>Attrition</th>\n",
       "      <th>PerformanceRating</th>\n",
       "    </tr>\n",
       "  </thead>\n",
       "  <tbody>\n",
       "    <tr>\n",
       "      <th>482</th>\n",
       "      <td>E1001868</td>\n",
       "      <td>29</td>\n",
       "      <td>Male</td>\n",
       "      <td>Life Sciences</td>\n",
       "      <td>Divorced</td>\n",
       "      <td>Finance</td>\n",
       "      <td>Finance Manager</td>\n",
       "      <td>Travel_Frequently</td>\n",
       "      <td>2</td>\n",
       "      <td>1</td>\n",
       "      <td>...</td>\n",
       "      <td>4</td>\n",
       "      <td>6</td>\n",
       "      <td>0</td>\n",
       "      <td>4</td>\n",
       "      <td>6</td>\n",
       "      <td>4</td>\n",
       "      <td>1</td>\n",
       "      <td>3</td>\n",
       "      <td>No</td>\n",
       "      <td>2</td>\n",
       "    </tr>\n",
       "    <tr>\n",
       "      <th>484</th>\n",
       "      <td>E1001870</td>\n",
       "      <td>23</td>\n",
       "      <td>Male</td>\n",
       "      <td>Technical Degree</td>\n",
       "      <td>Married</td>\n",
       "      <td>Finance</td>\n",
       "      <td>Finance Manager</td>\n",
       "      <td>Travel_Rarely</td>\n",
       "      <td>10</td>\n",
       "      <td>3</td>\n",
       "      <td>...</td>\n",
       "      <td>4</td>\n",
       "      <td>4</td>\n",
       "      <td>2</td>\n",
       "      <td>3</td>\n",
       "      <td>2</td>\n",
       "      <td>2</td>\n",
       "      <td>2</td>\n",
       "      <td>2</td>\n",
       "      <td>No</td>\n",
       "      <td>3</td>\n",
       "    </tr>\n",
       "    <tr>\n",
       "      <th>485</th>\n",
       "      <td>E1001874</td>\n",
       "      <td>35</td>\n",
       "      <td>Male</td>\n",
       "      <td>Life Sciences</td>\n",
       "      <td>Married</td>\n",
       "      <td>Finance</td>\n",
       "      <td>Finance Manager</td>\n",
       "      <td>Travel_Rarely</td>\n",
       "      <td>28</td>\n",
       "      <td>3</td>\n",
       "      <td>...</td>\n",
       "      <td>4</td>\n",
       "      <td>10</td>\n",
       "      <td>3</td>\n",
       "      <td>2</td>\n",
       "      <td>10</td>\n",
       "      <td>9</td>\n",
       "      <td>6</td>\n",
       "      <td>8</td>\n",
       "      <td>No</td>\n",
       "      <td>2</td>\n",
       "    </tr>\n",
       "  </tbody>\n",
       "</table>\n",
       "<p>3 rows × 28 columns</p>\n",
       "</div>"
      ],
      "text/plain": [
       "    EmpNumber  Age Gender EducationBackground MaritalStatus EmpDepartment  \\\n",
       "482  E1001868   29   Male       Life Sciences      Divorced       Finance   \n",
       "484  E1001870   23   Male    Technical Degree       Married       Finance   \n",
       "485  E1001874   35   Male       Life Sciences       Married       Finance   \n",
       "\n",
       "          EmpJobRole BusinessTravelFrequency  DistanceFromHome  \\\n",
       "482  Finance Manager       Travel_Frequently                 2   \n",
       "484  Finance Manager           Travel_Rarely                10   \n",
       "485  Finance Manager           Travel_Rarely                28   \n",
       "\n",
       "     EmpEducationLevel  ...  EmpRelationshipSatisfaction  \\\n",
       "482                  1  ...                            4   \n",
       "484                  3  ...                            4   \n",
       "485                  3  ...                            4   \n",
       "\n",
       "     TotalWorkExperienceInYears  TrainingTimesLastYear  EmpWorkLifeBalance  \\\n",
       "482                           6                      0                   4   \n",
       "484                           4                      2                   3   \n",
       "485                          10                      3                   2   \n",
       "\n",
       "     ExperienceYearsAtThisCompany  ExperienceYearsInCurrentRole  \\\n",
       "482                             6                             4   \n",
       "484                             2                             2   \n",
       "485                            10                             9   \n",
       "\n",
       "    YearsSinceLastPromotion  YearsWithCurrManager  Attrition  \\\n",
       "482                       1                     3         No   \n",
       "484                       2                     2         No   \n",
       "485                       6                     8         No   \n",
       "\n",
       "     PerformanceRating  \n",
       "482                  2  \n",
       "484                  3  \n",
       "485                  2  \n",
       "\n",
       "[3 rows x 28 columns]"
      ]
     },
     "execution_count": 33,
     "metadata": {},
     "output_type": "execute_result"
    }
   ],
   "source": [
    "Finance = original_data[original_data.EmpDepartment == 'Finance'] # Slicing the all coloums of Sales Row \n",
    "Finance.head(3)"
   ]
  },
  {
   "cell_type": "markdown",
   "id": "4f263f7c",
   "metadata": {},
   "source": [
    "###  (i) Performance Rating with respect to number of employees"
   ]
  },
  {
   "cell_type": "code",
   "execution_count": 34,
   "id": "2278fbe5",
   "metadata": {},
   "outputs": [
    {
     "data": {
      "image/png": "[encoded data removed]",
      "text/plain": [
       "<Figure size 432x288 with 1 Axes>"
      ]
     },
     "metadata": {
      "needs_background": "light"
     },
     "output_type": "display_data"
    }
   ],
   "source": [
    "sns.countplot(y=\"PerformanceRating\", data=Finance, palette=\"Greens_d\");"
   ]
  },
  {
   "cell_type": "markdown",
   "id": "3e440267",
   "metadata": {},
   "source": [
    "###  (ii) Performance Rating with respect to Age Group"
   ]
  },
  {
   "cell_type": "code",
   "execution_count": 35,
   "id": "375e2e91",
   "metadata": {},
   "outputs": [
    {
     "data": {
      "text/plain": [
       "<AxesSubplot:xlabel='PerformanceRating', ylabel='Age'>"
      ]
     },
     "execution_count": 35,
     "metadata": {},
     "output_type": "execute_result"
    },
    {
     "data": {
      "image/png": "[encoded data removed]",
      "text/plain": [
       "<Figure size 432x288 with 1 Axes>"
      ]
     },
     "metadata": {
      "needs_background": "light"
     },
     "output_type": "display_data"
    }
   ],
   "source": [
    "sns.boxplot(Finance['PerformanceRating'], Finance['Age'])"
   ]
  },
  {
   "cell_type": "markdown",
   "id": "bfb74ffe",
   "metadata": {},
   "source": [
    "### (iii) Performance based on Gender"
   ]
  },
  {
   "cell_type": "code",
   "execution_count": 36,
   "id": "e19f8d84",
   "metadata": {},
   "outputs": [
    {
     "data": {
      "text/plain": [
       "<AxesSubplot:xlabel='Gender', ylabel='PerformanceRating'>"
      ]
     },
     "execution_count": 36,
     "metadata": {},
     "output_type": "execute_result"
    },
    {
     "data": {
      "image/png": "[encoded data removed]",
      "text/plain": [
       "<Figure size 432x288 with 1 Axes>"
      ]
     },
     "metadata": {
      "needs_background": "light"
     },
     "output_type": "display_data"
    }
   ],
   "source": [
    "sns.barplot(Finance['Gender'], Finance['PerformanceRating'])"
   ]
  },
  {
   "cell_type": "markdown",
   "id": "7f90e66b",
   "metadata": {},
   "source": [
    "### (iv) Performance According to the Experience Level"
   ]
  },
  {
   "cell_type": "code",
   "execution_count": 37,
   "id": "d856db29",
   "metadata": {},
   "outputs": [
    {
     "data": {
      "application/vnd.plotly.v1+json": {
       "config": {
        "linkText": "Export to plot.ly",
        "plotlyServerURL": "https://plot.ly",
        "showLink": false
       },
       "data": [
        {
         "boxmean": false,
         "marker": {
          "color": "#3D9970"
         },
         "name": "TotalWorkExperienceInYears",
         "orientation": "h",
         "type": "box",
         "x": [
          6,
          4,
          10,
          8,
          8,
          1,
          4,
          32,
          6,
          23,
          6,
          10,
          7,
          9,
          10,
          7,
          16,
          6,
          3,
          11,
          15,
          9,
          10,
          10,
          8,
          18,
          6,
          5,
          6,
          7,
          7,
          27,
          19,
          11,
          15,
          30,
          4,
          13,
          36,
          14,
          10,
          17,
          10,
          5,
          7,
          11,
          1,
          7,
          8
         ],
         "y": [
          2,
          3,
          2,
          3,
          3,
          3,
          2,
          2,
          3,
          2,
          2,
          3,
          3,
          3,
          3,
          3,
          2,
          3,
          3,
          3,
          3,
          3,
          2,
          3,
          2,
          3,
          2,
          3,
          3,
          3,
          4,
          2,
          3,
          3,
          2,
          3,
          3,
          4,
          2,
          4,
          3,
          3,
          3,
          3,
          3,
          2,
          3,
          4,
          2
         ]
        },
        {
         "boxmean": false,
         "marker": {
          "color": "#FF4136"
         },
         "name": "ExperienceYearsAtThisCompany",
         "orientation": "h",
         "type": "box",
         "x": [
          6,
          2,
          10,
          8,
          6,
          1,
          4,
          30,
          3,
          22,
          6,
          10,
          3,
          9,
          9,
          7,
          16,
          5,
          2,
          10,
          14,
          4,
          9,
          5,
          8,
          4,
          6,
          3,
          4,
          7,
          5,
          4,
          14,
          11,
          4,
          15,
          3,
          5,
          10,
          14,
          9,
          2,
          3,
          5,
          0,
          4,
          1,
          7,
          4
         ],
         "y": [
          2,
          3,
          2,
          3,
          3,
          3,
          2,
          2,
          3,
          2,
          2,
          3,
          3,
          3,
          3,
          3,
          2,
          3,
          3,
          3,
          3,
          3,
          2,
          3,
          2,
          3,
          2,
          3,
          3,
          3,
          4,
          2,
          3,
          3,
          2,
          3,
          3,
          4,
          2,
          4,
          3,
          3,
          3,
          3,
          3,
          2,
          3,
          4,
          2
         ]
        },
        {
         "boxmean": false,
         "marker": {
          "color": "#FF851B"
         },
         "name": "ExperienceYearsInCurrentRole",
         "orientation": "h",
         "type": "box",
         "x": [
          4,
          2,
          9,
          2,
          4,
          1,
          2,
          8,
          2,
          7,
          4,
          7,
          2,
          7,
          6,
          7,
          15,
          3,
          2,
          8,
          11,
          3,
          2,
          4,
          4,
          2,
          3,
          2,
          2,
          7,
          4,
          2,
          11,
          8,
          3,
          11,
          2,
          4,
          8,
          10,
          5,
          2,
          2,
          4,
          0,
          3,
          0,
          7,
          2
         ],
         "y": [
          2,
          3,
          2,
          3,
          3,
          3,
          2,
          2,
          3,
          2,
          2,
          3,
          3,
          3,
          3,
          3,
          2,
          3,
          3,
          3,
          3,
          3,
          2,
          3,
          2,
          3,
          2,
          3,
          3,
          3,
          4,
          2,
          3,
          3,
          2,
          3,
          3,
          4,
          2,
          4,
          3,
          3,
          3,
          3,
          3,
          2,
          3,
          4,
          2
         ]
        }
       ],
       "layout": {
        "boxmode": "group",
        "template": {
         "data": {
          "bar": [
           {
            "error_x": {
             "color": "#2a3f5f"
            },
            "error_y": {
             "color": "#2a3f5f"
            },
            "marker": {
             "line": {
              "color": "#E5ECF6",
              "width": 0.5
             },
             "pattern": {
              "fillmode": "overlay",
              "size": 10,
              "solidity": 0.2
             }
            },
            "type": "bar"
           }
          ],
          "barpolar": [
           {
            "marker": {
             "line": {
              "color": "#E5ECF6",
              "width": 0.5
             },
             "pattern": {
              "fillmode": "overlay",
              "size": 10,
              "solidity": 0.2
             }
            },
            "type": "barpolar"
           }
          ],
          "carpet": [
           {
            "aaxis": {
             "endlinecolor": "#2a3f5f",
             "gridcolor": "white",
             "linecolor": "white",
             "minorgridcolor": "white",
             "startlinecolor": "#2a3f5f"
            },
            "baxis": {
             "endlinecolor": "#2a3f5f",
             "gridcolor": "white",
             "linecolor": "white",
             "minorgridcolor": "white",
             "startlinecolor": "#2a3f5f"
            },
            "type": "carpet"
           }
          ],
          "choropleth": [
           {
            "colorbar": {
             "outlinewidth": 0,
             "ticks": ""
            },
            "type": "choropleth"
           }
          ],
          "contour": [
           {
            "colorbar": {
             "outlinewidth": 0,
             "ticks": ""
            },
            "colorscale": [
             [
              0,
              "#0d0887"
             ],
             [
              0.1111111111111111,
              "#46039f"
             ],
             [
              0.2222222222222222,
              "#7201a8"
             ],
             [
              0.3333333333333333,
              "#9c179e"
             ],
             [
              0.4444444444444444,
              "#bd3786"
             ],
             [
              0.5555555555555556,
              "#d8576b"
             ],
             [
              0.6666666666666666,
              "#ed7953"
             ],
             [
              0.7777777777777778,
              "#fb9f3a"
             ],
             [
              0.8888888888888888,
              "#fdca26"
             ],
             [
              1,
              "#f0f921"
             ]
            ],
            "type": "contour"
           }
          ],
          "contourcarpet": [
           {
            "colorbar": {
             "outlinewidth": 0,
             "ticks": ""
            },
            "type": "contourcarpet"
           }
          ],
          "heatmap": [
           {
            "colorbar": {
             "outlinewidth": 0,
             "ticks": ""
            },
            "colorscale": [
             [
              0,
              "#0d0887"
             ],
             [
              0.1111111111111111,
              "#46039f"
             ],
             [
              0.2222222222222222,
              "#7201a8"
             ],
             [
              0.3333333333333333,
              "#9c179e"
             ],
             [
              0.4444444444444444,
              "#bd3786"
             ],
             [
              0.5555555555555556,
              "#d8576b"
             ],
             [
              0.6666666666666666,
              "#ed7953"
             ],
             [
              0.7777777777777778,
              "#fb9f3a"
             ],
             [
              0.8888888888888888,
              "#fdca26"
             ],
             [
              1,
              "#f0f921"
             ]
            ],
            "type": "heatmap"
           }
          ],
          "heatmapgl": [
           {
            "colorbar": {
             "outlinewidth": 0,
             "ticks": ""
            },
            "colorscale": [
             [
              0,
              "#0d0887"
             ],
             [
              0.1111111111111111,
              "#46039f"
             ],
             [
              0.2222222222222222,
              "#7201a8"
             ],
             [
              0.3333333333333333,
              "#9c179e"
             ],
             [
              0.4444444444444444,
              "#bd3786"
             ],
             [
              0.5555555555555556,
              "#d8576b"
             ],
             [
              0.6666666666666666,
              "#ed7953"
             ],
             [
              0.7777777777777778,
              "#fb9f3a"
             ],
             [
              0.8888888888888888,
              "#fdca26"
             ],
             [
              1,
              "#f0f921"
             ]
            ],
            "type": "heatmapgl"
           }
          ],
          "histogram": [
           {
            "marker": {
             "pattern": {
              "fillmode": "overlay",
              "size": 10,
              "solidity": 0.2
             }
            },
            "type": "histogram"
           }
          ],
          "histogram2d": [
           {
            "colorbar": {
             "outlinewidth": 0,
             "ticks": ""
            },
            "colorscale": [
             [
              0,
              "#0d0887"
             ],
             [
              0.1111111111111111,
              "#46039f"
             ],
             [
              0.2222222222222222,
              "#7201a8"
             ],
             [
              0.3333333333333333,
              "#9c179e"
             ],
             [
              0.4444444444444444,
              "#bd3786"
             ],
             [
              0.5555555555555556,
              "#d8576b"
             ],
             [
              0.6666666666666666,
              "#ed7953"
             ],
             [
              0.7777777777777778,
              "#fb9f3a"
             ],
             [
              0.8888888888888888,
              "#fdca26"
             ],
             [
              1,
              "#f0f921"
             ]
            ],
            "type": "histogram2d"
           }
          ],
          "histogram2dcontour": [
           {
            "colorbar": {
             "outlinewidth": 0,
             "ticks": ""
            },
            "colorscale": [
             [
              0,
              "#0d0887"
             ],
             [
              0.1111111111111111,
              "#46039f"
             ],
             [
              0.2222222222222222,
              "#7201a8"
             ],
             [
              0.3333333333333333,
              "#9c179e"
             ],
             [
              0.4444444444444444,
              "#bd3786"
             ],
             [
              0.5555555555555556,
              "#d8576b"
             ],
             [
              0.6666666666666666,
              "#ed7953"
             ],
             [
              0.7777777777777778,
              "#fb9f3a"
             ],
             [
              0.8888888888888888,
              "#fdca26"
             ],
             [
              1,
              "#f0f921"
             ]
            ],
            "type": "histogram2dcontour"
           }
          ],
          "mesh3d": [
           {
            "colorbar": {
             "outlinewidth": 0,
             "ticks": ""
            },
            "type": "mesh3d"
           }
          ],
          "parcoords": [
           {
            "line": {
             "colorbar": {
              "outlinewidth": 0,
              "ticks": ""
             }
            },
            "type": "parcoords"
           }
          ],
          "pie": [
           {
            "automargin": true,
            "type": "pie"
           }
          ],
          "scatter": [
           {
            "marker": {
             "colorbar": {
              "outlinewidth": 0,
              "ticks": ""
             }
            },
            "type": "scatter"
           }
          ],
          "scatter3d": [
           {
            "line": {
             "colorbar": {
              "outlinewidth": 0,
              "ticks": ""
             }
            },
            "marker": {
             "colorbar": {
              "outlinewidth": 0,
              "ticks": ""
             }
            },
            "type": "scatter3d"
           }
          ],
          "scattercarpet": [
           {
            "marker": {
             "colorbar": {
              "outlinewidth": 0,
              "ticks": ""
             }
            },
            "type": "scattercarpet"
           }
          ],
          "scattergeo": [
           {
            "marker": {
             "colorbar": {
              "outlinewidth": 0,
              "ticks": ""
             }
            },
            "type": "scattergeo"
           }
          ],
          "scattergl": [
           {
            "marker": {
             "colorbar": {
              "outlinewidth": 0,
              "ticks": ""
             }
            },
            "type": "scattergl"
           }
          ],
          "scattermapbox": [
           {
            "marker": {
             "colorbar": {
              "outlinewidth": 0,
              "ticks": ""
             }
            },
            "type": "scattermapbox"
           }
          ],
          "scatterpolar": [
           {
            "marker": {
             "colorbar": {
              "outlinewidth": 0,
              "ticks": ""
             }
            },
            "type": "scatterpolar"
           }
          ],
          "scatterpolargl": [
           {
            "marker": {
             "colorbar": {
              "outlinewidth": 0,
              "ticks": ""
             }
            },
            "type": "scatterpolargl"
           }
          ],
          "scatterternary": [
           {
            "marker": {
             "colorbar": {
              "outlinewidth": 0,
              "ticks": ""
             }
            },
            "type": "scatterternary"
           }
          ],
          "surface": [
           {
            "colorbar": {
             "outlinewidth": 0,
             "ticks": ""
            },
            "colorscale": [
             [
              0,
              "#0d0887"
             ],
             [
              0.1111111111111111,
              "#46039f"
             ],
             [
              0.2222222222222222,
              "#7201a8"
             ],
             [
              0.3333333333333333,
              "#9c179e"
             ],
             [
              0.4444444444444444,
              "#bd3786"
             ],
             [
              0.5555555555555556,
              "#d8576b"
             ],
             [
              0.6666666666666666,
              "#ed7953"
             ],
             [
              0.7777777777777778,
              "#fb9f3a"
             ],
             [
              0.8888888888888888,
              "#fdca26"
             ],
             [
              1,
              "#f0f921"
             ]
            ],
            "type": "surface"
           }
          ],
          "table": [
           {
            "cells": {
             "fill": {
              "color": "#EBF0F8"
             },
             "line": {
              "color": "white"
             }
            },
            "header": {
             "fill": {
              "color": "#C8D4E3"
             },
             "line": {
              "color": "white"
             }
            },
            "type": "table"
           }
          ]
         },
         "layout": {
          "annotationdefaults": {
           "arrowcolor": "#2a3f5f",
           "arrowhead": 0,
           "arrowwidth": 1
          },
          "autotypenumbers": "strict",
          "coloraxis": {
           "colorbar": {
            "outlinewidth": 0,
            "ticks": ""
           }
          },
          "colorscale": {
           "diverging": [
            [
             0,
             "#8e0152"
            ],
            [
             0.1,
             "#c51b7d"
            ],
            [
             0.2,
             "#de77ae"
            ],
            [
             0.3,
             "#f1b6da"
            ],
            [
             0.4,
             "#fde0ef"
            ],
            [
             0.5,
             "#f7f7f7"
            ],
            [
             0.6,
             "#e6f5d0"
            ],
            [
             0.7,
             "#b8e186"
            ],
            [
             0.8,
             "#7fbc41"
            ],
            [
             0.9,
             "#4d9221"
            ],
            [
             1,
             "#276419"
            ]
           ],
           "sequential": [
            [
             0,
             "#0d0887"
            ],
            [
             0.1111111111111111,
             "#46039f"
            ],
            [
             0.2222222222222222,
             "#7201a8"
            ],
            [
             0.3333333333333333,
             "#9c179e"
            ],
            [
             0.4444444444444444,
             "#bd3786"
            ],
            [
             0.5555555555555556,
             "#d8576b"
            ],
            [
             0.6666666666666666,
             "#ed7953"
            ],
            [
             0.7777777777777778,
             "#fb9f3a"
            ],
            [
             0.8888888888888888,
             "#fdca26"
            ],
            [
             1,
             "#f0f921"
            ]
           ],
           "sequentialminus": [
            [
             0,
             "#0d0887"
            ],
            [
             0.1111111111111111,
             "#46039f"
            ],
            [
             0.2222222222222222,
             "#7201a8"
            ],
            [
             0.3333333333333333,
             "#9c179e"
            ],
            [
             0.4444444444444444,
             "#bd3786"
            ],
            [
             0.5555555555555556,
             "#d8576b"
            ],
            [
             0.6666666666666666,
             "#ed7953"
            ],
            [
             0.7777777777777778,
             "#fb9f3a"
            ],
            [
             0.8888888888888888,
             "#fdca26"
            ],
            [
             1,
             "#f0f921"
            ]
           ]
          },
          "colorway": [
           "#636efa",
           "#EF553B",
           "#00cc96",
           "#ab63fa",
           "#FFA15A",
           "#19d3f3",
           "#FF6692",
           "#B6E880",
           "#FF97FF",
           "#FECB52"
          ],
          "font": {
           "color": "#2a3f5f"
          },
          "geo": {
           "bgcolor": "white",
           "lakecolor": "white",
           "landcolor": "#E5ECF6",
           "showlakes": true,
           "showland": true,
           "subunitcolor": "white"
          },
          "hoverlabel": {
           "align": "left"
          },
          "hovermode": "closest",
          "mapbox": {
           "style": "light"
          },
          "paper_bgcolor": "white",
          "plot_bgcolor": "#E5ECF6",
          "polar": {
           "angularaxis": {
            "gridcolor": "white",
            "linecolor": "white",
            "ticks": ""
           },
           "bgcolor": "#E5ECF6",
           "radialaxis": {
            "gridcolor": "white",
            "linecolor": "white",
            "ticks": ""
           }
          },
          "scene": {
           "xaxis": {
            "backgroundcolor": "#E5ECF6",
            "gridcolor": "white",
            "gridwidth": 2,
            "linecolor": "white",
            "showbackground": true,
            "ticks": "",
            "zerolinecolor": "white"
           },
           "yaxis": {
            "backgroundcolor": "#E5ECF6",
            "gridcolor": "white",
            "gridwidth": 2,
            "linecolor": "white",
            "showbackground": true,
            "ticks": "",
            "zerolinecolor": "white"
           },
           "zaxis": {
            "backgroundcolor": "#E5ECF6",
            "gridcolor": "white",
            "gridwidth": 2,
            "linecolor": "white",
            "showbackground": true,
            "ticks": "",
            "zerolinecolor": "white"
           }
          },
          "shapedefaults": {
           "line": {
            "color": "#2a3f5f"
           }
          },
          "ternary": {
           "aaxis": {
            "gridcolor": "white",
            "linecolor": "white",
            "ticks": ""
           },
           "baxis": {
            "gridcolor": "white",
            "linecolor": "white",
            "ticks": ""
           },
           "bgcolor": "#E5ECF6",
           "caxis": {
            "gridcolor": "white",
            "linecolor": "white",
            "ticks": ""
           }
          },
          "title": {
           "x": 0.05
          },
          "xaxis": {
           "automargin": true,
           "gridcolor": "white",
           "linecolor": "white",
           "ticks": "",
           "title": {
            "standoff": 15
           },
           "zerolinecolor": "white",
           "zerolinewidth": 2
          },
          "yaxis": {
           "automargin": true,
           "gridcolor": "white",
           "linecolor": "white",
           "ticks": "",
           "title": {
            "standoff": 15
           },
           "zerolinecolor": "white",
           "zerolinewidth": 2
          }
         }
        },
        "title": {
         "text": "Performance According to the Experience Level - Finance "
        },
        "xaxis": {
         "title": {
          "text": "Number of Years"
         },
         "zeroline": false
        },
        "yaxis": {
         "title": {
          "text": "Performance Rating "
         },
         "zeroline": false
        }
       }
      },
      "text/html": [
       "<div>                            <div id=\"04629a35-fb35-447e-b958-9ab218a0ce5c\" class=\"plotly-graph-div\" style=\"height:525px; width:100%;\"></div>            <script type=\"text/javascript\">                require([\"plotly\"], function(Plotly) {                    window.PLOTLYENV=window.PLOTLYENV || {};                                    if (document.getElementById(\"04629a35-fb35-447e-b958-9ab218a0ce5c\")) {                    Plotly.newPlot(                        \"04629a35-fb35-447e-b958-9ab218a0ce5c\",                        [{\"boxmean\":false,\"marker\":{\"color\":\"#3D9970\"},\"name\":\"TotalWorkExperienceInYears\",\"orientation\":\"h\",\"x\":[6,4,10,8,8,1,4,32,6,23,6,10,7,9,10,7,16,6,3,11,15,9,10,10,8,18,6,5,6,7,7,27,19,11,15,30,4,13,36,14,10,17,10,5,7,11,1,7,8],\"y\":[2,3,2,3,3,3,2,2,3,2,2,3,3,3,3,3,2,3,3,3,3,3,2,3,2,3,2,3,3,3,4,2,3,3,2,3,3,4,2,4,3,3,3,3,3,2,3,4,2],\"type\":\"box\"},{\"boxmean\":false,\"marker\":{\"color\":\"#FF4136\"},\"name\":\"ExperienceYearsAtThisCompany\",\"orientation\":\"h\",\"x\":[6,2,10,8,6,1,4,30,3,22,6,10,3,9,9,7,16,5,2,10,14,4,9,5,8,4,6,3,4,7,5,4,14,11,4,15,3,5,10,14,9,2,3,5,0,4,1,7,4],\"y\":[2,3,2,3,3,3,2,2,3,2,2,3,3,3,3,3,2,3,3,3,3,3,2,3,2,3,2,3,3,3,4,2,3,3,2,3,3,4,2,4,3,3,3,3,3,2,3,4,2],\"type\":\"box\"},{\"boxmean\":false,\"marker\":{\"color\":\"#FF851B\"},\"name\":\"ExperienceYearsInCurrentRole\",\"orientation\":\"h\",\"x\":[4,2,9,2,4,1,2,8,2,7,4,7,2,7,6,7,15,3,2,8,11,3,2,4,4,2,3,2,2,7,4,2,11,8,3,11,2,4,8,10,5,2,2,4,0,3,0,7,2],\"y\":[2,3,2,3,3,3,2,2,3,2,2,3,3,3,3,3,2,3,3,3,3,3,2,3,2,3,2,3,3,3,4,2,3,3,2,3,3,4,2,4,3,3,3,3,3,2,3,4,2],\"type\":\"box\"}],                        {\"boxmode\":\"group\",\"template\":{\"data\":{\"barpolar\":[{\"marker\":{\"line\":{\"color\":\"#E5ECF6\",\"width\":0.5},\"pattern\":{\"fillmode\":\"overlay\",\"size\":10,\"solidity\":0.2}},\"type\":\"barpolar\"}],\"bar\":[{\"error_x\":{\"color\":\"#2a3f5f\"},\"error_y\":{\"color\":\"#2a3f5f\"},\"marker\":{\"line\":{\"color\":\"#E5ECF6\",\"width\":0.5},\"pattern\":{\"fillmode\":\"overlay\",\"size\":10,\"solidity\":0.2}},\"type\":\"bar\"}],\"carpet\":[{\"aaxis\":{\"endlinecolor\":\"#2a3f5f\",\"gridcolor\":\"white\",\"linecolor\":\"white\",\"minorgridcolor\":\"white\",\"startlinecolor\":\"#2a3f5f\"},\"baxis\":{\"endlinecolor\":\"#2a3f5f\",\"gridcolor\":\"white\",\"linecolor\":\"white\",\"minorgridcolor\":\"white\",\"startlinecolor\":\"#2a3f5f\"},\"type\":\"carpet\"}],\"choropleth\":[{\"colorbar\":{\"outlinewidth\":0,\"ticks\":\"\"},\"type\":\"choropleth\"}],\"contourcarpet\":[{\"colorbar\":{\"outlinewidth\":0,\"ticks\":\"\"},\"type\":\"contourcarpet\"}],\"contour\":[{\"colorbar\":{\"outlinewidth\":0,\"ticks\":\"\"},\"colorscale\":[[0.0,\"#0d0887\"],[0.1111111111111111,\"#46039f\"],[0.2222222222222222,\"#7201a8\"],[0.3333333333333333,\"#9c179e\"],[0.4444444444444444,\"#bd3786\"],[0.5555555555555556,\"#d8576b\"],[0.6666666666666666,\"#ed7953\"],[0.7777777777777778,\"#fb9f3a\"],[0.8888888888888888,\"#fdca26\"],[1.0,\"#f0f921\"]],\"type\":\"contour\"}],\"heatmapgl\":[{\"colorbar\":{\"outlinewidth\":0,\"ticks\":\"\"},\"colorscale\":[[0.0,\"#0d0887\"],[0.1111111111111111,\"#46039f\"],[0.2222222222222222,\"#7201a8\"],[0.3333333333333333,\"#9c179e\"],[0.4444444444444444,\"#bd3786\"],[0.5555555555555556,\"#d8576b\"],[0.6666666666666666,\"#ed7953\"],[0.7777777777777778,\"#fb9f3a\"],[0.8888888888888888,\"#fdca26\"],[1.0,\"#f0f921\"]],\"type\":\"heatmapgl\"}],\"heatmap\":[{\"colorbar\":{\"outlinewidth\":0,\"ticks\":\"\"},\"colorscale\":[[0.0,\"#0d0887\"],[0.1111111111111111,\"#46039f\"],[0.2222222222222222,\"#7201a8\"],[0.3333333333333333,\"#9c179e\"],[0.4444444444444444,\"#bd3786\"],[0.5555555555555556,\"#d8576b\"],[0.6666666666666666,\"#ed7953\"],[0.7777777777777778,\"#fb9f3a\"],[0.8888888888888888,\"#fdca26\"],[1.0,\"#f0f921\"]],\"type\":\"heatmap\"}],\"histogram2dcontour\":[{\"colorbar\":{\"outlinewidth\":0,\"ticks\":\"\"},\"colorscale\":[[0.0,\"#0d0887\"],[0.1111111111111111,\"#46039f\"],[0.2222222222222222,\"#7201a8\"],[0.3333333333333333,\"#9c179e\"],[0.4444444444444444,\"#bd3786\"],[0.5555555555555556,\"#d8576b\"],[0.6666666666666666,\"#ed7953\"],[0.7777777777777778,\"#fb9f3a\"],[0.8888888888888888,\"#fdca26\"],[1.0,\"#f0f921\"]],\"type\":\"histogram2dcontour\"}],\"histogram2d\":[{\"colorbar\":{\"outlinewidth\":0,\"ticks\":\"\"},\"colorscale\":[[0.0,\"#0d0887\"],[0.1111111111111111,\"#46039f\"],[0.2222222222222222,\"#7201a8\"],[0.3333333333333333,\"#9c179e\"],[0.4444444444444444,\"#bd3786\"],[0.5555555555555556,\"#d8576b\"],[0.6666666666666666,\"#ed7953\"],[0.7777777777777778,\"#fb9f3a\"],[0.8888888888888888,\"#fdca26\"],[1.0,\"#f0f921\"]],\"type\":\"histogram2d\"}],\"histogram\":[{\"marker\":{\"pattern\":{\"fillmode\":\"overlay\",\"size\":10,\"solidity\":0.2}},\"type\":\"histogram\"}],\"mesh3d\":[{\"colorbar\":{\"outlinewidth\":0,\"ticks\":\"\"},\"type\":\"mesh3d\"}],\"parcoords\":[{\"line\":{\"colorbar\":{\"outlinewidth\":0,\"ticks\":\"\"}},\"type\":\"parcoords\"}],\"pie\":[{\"automargin\":true,\"type\":\"pie\"}],\"scatter3d\":[{\"line\":{\"colorbar\":{\"outlinewidth\":0,\"ticks\":\"\"}},\"marker\":{\"colorbar\":{\"outlinewidth\":0,\"ticks\":\"\"}},\"type\":\"scatter3d\"}],\"scattercarpet\":[{\"marker\":{\"colorbar\":{\"outlinewidth\":0,\"ticks\":\"\"}},\"type\":\"scattercarpet\"}],\"scattergeo\":[{\"marker\":{\"colorbar\":{\"outlinewidth\":0,\"ticks\":\"\"}},\"type\":\"scattergeo\"}],\"scattergl\":[{\"marker\":{\"colorbar\":{\"outlinewidth\":0,\"ticks\":\"\"}},\"type\":\"scattergl\"}],\"scattermapbox\":[{\"marker\":{\"colorbar\":{\"outlinewidth\":0,\"ticks\":\"\"}},\"type\":\"scattermapbox\"}],\"scatterpolargl\":[{\"marker\":{\"colorbar\":{\"outlinewidth\":0,\"ticks\":\"\"}},\"type\":\"scatterpolargl\"}],\"scatterpolar\":[{\"marker\":{\"colorbar\":{\"outlinewidth\":0,\"ticks\":\"\"}},\"type\":\"scatterpolar\"}],\"scatter\":[{\"marker\":{\"colorbar\":{\"outlinewidth\":0,\"ticks\":\"\"}},\"type\":\"scatter\"}],\"scatterternary\":[{\"marker\":{\"colorbar\":{\"outlinewidth\":0,\"ticks\":\"\"}},\"type\":\"scatterternary\"}],\"surface\":[{\"colorbar\":{\"outlinewidth\":0,\"ticks\":\"\"},\"colorscale\":[[0.0,\"#0d0887\"],[0.1111111111111111,\"#46039f\"],[0.2222222222222222,\"#7201a8\"],[0.3333333333333333,\"#9c179e\"],[0.4444444444444444,\"#bd3786\"],[0.5555555555555556,\"#d8576b\"],[0.6666666666666666,\"#ed7953\"],[0.7777777777777778,\"#fb9f3a\"],[0.8888888888888888,\"#fdca26\"],[1.0,\"#f0f921\"]],\"type\":\"surface\"}],\"table\":[{\"cells\":{\"fill\":{\"color\":\"#EBF0F8\"},\"line\":{\"color\":\"white\"}},\"header\":{\"fill\":{\"color\":\"#C8D4E3\"},\"line\":{\"color\":\"white\"}},\"type\":\"table\"}]},\"layout\":{\"annotationdefaults\":{\"arrowcolor\":\"#2a3f5f\",\"arrowhead\":0,\"arrowwidth\":1},\"autotypenumbers\":\"strict\",\"coloraxis\":{\"colorbar\":{\"outlinewidth\":0,\"ticks\":\"\"}},\"colorscale\":{\"diverging\":[[0,\"#8e0152\"],[0.1,\"#c51b7d\"],[0.2,\"#de77ae\"],[0.3,\"#f1b6da\"],[0.4,\"#fde0ef\"],[0.5,\"#f7f7f7\"],[0.6,\"#e6f5d0\"],[0.7,\"#b8e186\"],[0.8,\"#7fbc41\"],[0.9,\"#4d9221\"],[1,\"#276419\"]],\"sequential\":[[0.0,\"#0d0887\"],[0.1111111111111111,\"#46039f\"],[0.2222222222222222,\"#7201a8\"],[0.3333333333333333,\"#9c179e\"],[0.4444444444444444,\"#bd3786\"],[0.5555555555555556,\"#d8576b\"],[0.6666666666666666,\"#ed7953\"],[0.7777777777777778,\"#fb9f3a\"],[0.8888888888888888,\"#fdca26\"],[1.0,\"#f0f921\"]],\"sequentialminus\":[[0.0,\"#0d0887\"],[0.1111111111111111,\"#46039f\"],[0.2222222222222222,\"#7201a8\"],[0.3333333333333333,\"#9c179e\"],[0.4444444444444444,\"#bd3786\"],[0.5555555555555556,\"#d8576b\"],[0.6666666666666666,\"#ed7953\"],[0.7777777777777778,\"#fb9f3a\"],[0.8888888888888888,\"#fdca26\"],[1.0,\"#f0f921\"]]},\"colorway\":[\"#636efa\",\"#EF553B\",\"#00cc96\",\"#ab63fa\",\"#FFA15A\",\"#19d3f3\",\"#FF6692\",\"#B6E880\",\"#FF97FF\",\"#FECB52\"],\"font\":{\"color\":\"#2a3f5f\"},\"geo\":{\"bgcolor\":\"white\",\"lakecolor\":\"white\",\"landcolor\":\"#E5ECF6\",\"showlakes\":true,\"showland\":true,\"subunitcolor\":\"white\"},\"hoverlabel\":{\"align\":\"left\"},\"hovermode\":\"closest\",\"mapbox\":{\"style\":\"light\"},\"paper_bgcolor\":\"white\",\"plot_bgcolor\":\"#E5ECF6\",\"polar\":{\"angularaxis\":{\"gridcolor\":\"white\",\"linecolor\":\"white\",\"ticks\":\"\"},\"bgcolor\":\"#E5ECF6\",\"radialaxis\":{\"gridcolor\":\"white\",\"linecolor\":\"white\",\"ticks\":\"\"}},\"scene\":{\"xaxis\":{\"backgroundcolor\":\"#E5ECF6\",\"gridcolor\":\"white\",\"gridwidth\":2,\"linecolor\":\"white\",\"showbackground\":true,\"ticks\":\"\",\"zerolinecolor\":\"white\"},\"yaxis\":{\"backgroundcolor\":\"#E5ECF6\",\"gridcolor\":\"white\",\"gridwidth\":2,\"linecolor\":\"white\",\"showbackground\":true,\"ticks\":\"\",\"zerolinecolor\":\"white\"},\"zaxis\":{\"backgroundcolor\":\"#E5ECF6\",\"gridcolor\":\"white\",\"gridwidth\":2,\"linecolor\":\"white\",\"showbackground\":true,\"ticks\":\"\",\"zerolinecolor\":\"white\"}},\"shapedefaults\":{\"line\":{\"color\":\"#2a3f5f\"}},\"ternary\":{\"aaxis\":{\"gridcolor\":\"white\",\"linecolor\":\"white\",\"ticks\":\"\"},\"baxis\":{\"gridcolor\":\"white\",\"linecolor\":\"white\",\"ticks\":\"\"},\"bgcolor\":\"#E5ECF6\",\"caxis\":{\"gridcolor\":\"white\",\"linecolor\":\"white\",\"ticks\":\"\"}},\"title\":{\"x\":0.05},\"xaxis\":{\"automargin\":true,\"gridcolor\":\"white\",\"linecolor\":\"white\",\"ticks\":\"\",\"title\":{\"standoff\":15},\"zerolinecolor\":\"white\",\"zerolinewidth\":2},\"yaxis\":{\"automargin\":true,\"gridcolor\":\"white\",\"linecolor\":\"white\",\"ticks\":\"\",\"title\":{\"standoff\":15},\"zerolinecolor\":\"white\",\"zerolinewidth\":2}}},\"title\":{\"text\":\"Performance According to the Experience Level - Finance \"},\"xaxis\":{\"title\":{\"text\":\"Number of Years\"},\"zeroline\":false},\"yaxis\":{\"title\":{\"text\":\"Performance Rating \"},\"zeroline\":false}},                        {\"responsive\": true}                    ).then(function(){\n",
       "                            \n",
       "var gd = document.getElementById('04629a35-fb35-447e-b958-9ab218a0ce5c');\n",
       "var x = new MutationObserver(function (mutations, observer) {{\n",
       "        var display = window.getComputedStyle(gd).display;\n",
       "        if (!display || display === 'none') {{\n",
       "            console.log([gd, 'removed!']);\n",
       "            Plotly.purge(gd);\n",
       "            observer.disconnect();\n",
       "        }}\n",
       "}});\n",
       "\n",
       "// Listen for the removal of the full notebook cells\n",
       "var notebookContainer = gd.closest('#notebook-container');\n",
       "if (notebookContainer) {{\n",
       "    x.observe(notebookContainer, {childList: true});\n",
       "}}\n",
       "\n",
       "// Listen for the clearing of the current output cell\n",
       "var outputEl = gd.closest('.output');\n",
       "if (outputEl) {{\n",
       "    x.observe(outputEl, {childList: true});\n",
       "}}\n",
       "\n",
       "                        })                };                });            </script>        </div>"
      ]
     },
     "metadata": {},
     "output_type": "display_data"
    }
   ],
   "source": [
    "data = [\n",
    "    {\n",
    "        'x': Finance['TotalWorkExperienceInYears'],\n",
    "        'y': Finance['PerformanceRating'],\n",
    "        'name':'TotalWorkExperienceInYears',\n",
    "        'marker': {\n",
    "            'color': '#3D9970'\n",
    "        },\n",
    "        'boxmean': False,\n",
    "        'orientation': 'h',\n",
    "        \"type\": \"box\",\n",
    "    },\n",
    "    {\n",
    "        'x':Finance['ExperienceYearsAtThisCompany'],\n",
    "        'y':Finance['PerformanceRating'],\n",
    "        'name': 'ExperienceYearsAtThisCompany',\n",
    "        'marker':{\n",
    "            'color': '#FF4136',\n",
    "        },\n",
    "        'boxmean': False,\n",
    "        'orientation': 'h',\n",
    "        \"type\": \"box\",\n",
    "    },\n",
    "    {\n",
    "        'x': Finance['ExperienceYearsInCurrentRole'],\n",
    "        'y': Finance['PerformanceRating'],\n",
    "        'name':'ExperienceYearsInCurrentRole',\n",
    "        'marker': {\n",
    "            'color': '#FF851B',\n",
    "        },\n",
    "        'boxmean': False,\n",
    "        'orientation': 'h',\n",
    "        \"type\": \"box\",\n",
    "    }\n",
    "]\n",
    "layout = {\n",
    "    'xaxis': {\n",
    "        'title': 'Number of Years',\n",
    "        'zeroline': False,\n",
    "    },\n",
    "    'yaxis': {\n",
    "        'title': 'Performance Rating ',\n",
    "        'zeroline': False,\n",
    "    },\n",
    "    'boxmode': 'group',\n",
    "    'title': 'Performance According to the Experience Level - Finance ',\n",
    "}\n",
    "fig = go.Figure(data=data, layout=layout)\n",
    "\n",
    "py.iplot(fig)"
   ]
  }
 ],
 "metadata": {
  "kernelspec": {
   "display_name": "Python 3 (ipykernel)",
   "language": "python",
   "name": "python3"
  },
  "language_info": {
   "codemirror_mode": {
    "name": "ipython",
    "version": 3
   },
   "file_extension": ".py",
   "mimetype": "text/x-python",
   "name": "python",
   "nbconvert_exporter": "python",
   "pygments_lexer": "ipython3",
   "version": "3.9.12"
  }
 },
 "nbformat": 4,
 "nbformat_minor": 5
}
