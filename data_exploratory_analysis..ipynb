{
 "cells": [
  {
   "cell_type": "markdown",
   "id": "daf1a9c2",
   "metadata": {},
   "source": [
    "#  Data Exploratory Analysis"
   ]
  },
  {
   "cell_type": "code",
   "execution_count": 1,
   "id": "eebe62dc",
   "metadata": {},
   "outputs": [
    {
     "data": {
      "text/html": [
       "        <script type=\"text/javascript\">\n",
       "        window.PlotlyConfig = {MathJaxConfig: 'local'};\n",
       "        if (window.MathJax) {MathJax.Hub.Config({SVG: {font: \"STIX-Web\"}});}\n",
       "        if (typeof require !== 'undefined') {\n",
       "        require.undef(\"plotly\");\n",
       "        requirejs.config({\n",
       "            paths: {\n",
       "                'plotly': ['https://cdn.plot.ly/plotly-2.9.0.min']\n",
       "            }\n",
       "        });\n",
       "        require(['plotly'], function(Plotly) {\n",
       "            window._Plotly = Plotly;\n",
       "        });\n",
       "        }\n",
       "        </script>\n",
       "        "
      ]
     },
     "metadata": {},
     "output_type": "display_data"
    }
   ],
   "source": [
    "# data analysis and wrangling\n",
    "import pandas as pd\n",
    "import numpy as np\n",
    "import random as rnd\n",
    "\n",
    "\n",
    "# visualization\n",
    "import seaborn as sns\n",
    "import matplotlib.pyplot as plt\n",
    "%matplotlib inline\n",
    "\n",
    "\n",
    "# Import statements required for Plotly \n",
    "import plotly.offline as py\n",
    "py.init_notebook_mode(connected=True)\n",
    "import plotly.graph_objs as go\n",
    "import plotly.tools as tls\n",
    "\n",
    "\n",
    "# for warnings \n",
    "import warnings\n",
    "warnings.filterwarnings('ignore')"
   ]
  },
  {
   "cell_type": "markdown",
   "id": "ac25cb85",
   "metadata": {},
   "source": [
    "## Data"
   ]
  },
  {
   "cell_type": "markdown",
   "id": "0cc98288",
   "metadata": {},
   "source": [
    "### Importing Raw Data"
   ]
  },
  {
   "cell_type": "code",
   "execution_count": 2,
   "id": "a7182854",
   "metadata": {},
   "outputs": [],
   "source": [
    "# Importing the excel file\n",
    "file=r\"C:\\Users\\nithi\\Desktop\\INX-Future-INC---Employee-Performance-Analysis--master\\INX-Future-INC---Employee-Performance-Analysis--master\\2. Data\\1. Raw Data\\INX_Future_Inc_Employee_Performance_CDS_Project2_Data_V1.8.xls\"\n",
    "df=pd.read_excel(file)"
   ]
  },
  {
   "cell_type": "markdown",
   "id": "17962a58",
   "metadata": {},
   "source": [
    "### Exploratory Data Analysis"
   ]
  },
  {
   "cell_type": "code",
   "execution_count": 3,
   "id": "ef03c13c",
   "metadata": {},
   "outputs": [
    {
     "data": {
      "text/plain": [
       "(1200, 28)"
      ]
     },
     "execution_count": 3,
     "metadata": {},
     "output_type": "execute_result"
    }
   ],
   "source": [
    "# Printing the number of rows and columns using thr \"shape()\" function\n",
    "df.shape"
   ]
  },
  {
   "cell_type": "code",
   "execution_count": 4,
   "id": "b7341620",
   "metadata": {},
   "outputs": [
    {
     "data": {
      "text/plain": [
       "Index(['EmpNumber', 'Age', 'Gender', 'EducationBackground', 'MaritalStatus',\n",
       "       'EmpDepartment', 'EmpJobRole', 'BusinessTravelFrequency',\n",
       "       'DistanceFromHome', 'EmpEducationLevel', 'EmpEnvironmentSatisfaction',\n",
       "       'EmpHourlyRate', 'EmpJobInvolvement', 'EmpJobLevel',\n",
       "       'EmpJobSatisfaction', 'NumCompaniesWorked', 'OverTime',\n",
       "       'EmpLastSalaryHikePercent', 'EmpRelationshipSatisfaction',\n",
       "       'TotalWorkExperienceInYears', 'TrainingTimesLastYear',\n",
       "       'EmpWorkLifeBalance', 'ExperienceYearsAtThisCompany',\n",
       "       'ExperienceYearsInCurrentRole', 'YearsSinceLastPromotion',\n",
       "       'YearsWithCurrManager', 'Attrition', 'PerformanceRating'],\n",
       "      dtype='object')"
      ]
     },
     "execution_count": 4,
     "metadata": {},
     "output_type": "execute_result"
    }
   ],
   "source": [
    "# Printing all the column from the dataframe\n",
    "df.columns"
   ]
  },
  {
   "cell_type": "code",
   "execution_count": 5,
   "id": "0c7d06b1",
   "metadata": {
    "scrolled": true
   },
   "outputs": [
    {
     "data": {
      "text/html": [
       "<div>\n",
       "<style scoped>\n",
       "    .dataframe tbody tr th:only-of-type {\n",
       "        vertical-align: middle;\n",
       "    }\n",
       "\n",
       "    .dataframe tbody tr th {\n",
       "        vertical-align: top;\n",
       "    }\n",
       "\n",
       "    .dataframe thead th {\n",
       "        text-align: right;\n",
       "    }\n",
       "</style>\n",
       "<table border=\"1\" class=\"dataframe\">\n",
       "  <thead>\n",
       "    <tr style=\"text-align: right;\">\n",
       "      <th></th>\n",
       "      <th>EmpNumber</th>\n",
       "      <th>Age</th>\n",
       "      <th>Gender</th>\n",
       "      <th>EducationBackground</th>\n",
       "      <th>MaritalStatus</th>\n",
       "      <th>EmpDepartment</th>\n",
       "      <th>EmpJobRole</th>\n",
       "      <th>BusinessTravelFrequency</th>\n",
       "      <th>DistanceFromHome</th>\n",
       "      <th>EmpEducationLevel</th>\n",
       "      <th>...</th>\n",
       "      <th>EmpRelationshipSatisfaction</th>\n",
       "      <th>TotalWorkExperienceInYears</th>\n",
       "      <th>TrainingTimesLastYear</th>\n",
       "      <th>EmpWorkLifeBalance</th>\n",
       "      <th>ExperienceYearsAtThisCompany</th>\n",
       "      <th>ExperienceYearsInCurrentRole</th>\n",
       "      <th>YearsSinceLastPromotion</th>\n",
       "      <th>YearsWithCurrManager</th>\n",
       "      <th>Attrition</th>\n",
       "      <th>PerformanceRating</th>\n",
       "    </tr>\n",
       "  </thead>\n",
       "  <tbody>\n",
       "    <tr>\n",
       "      <th>0</th>\n",
       "      <td>E1001000</td>\n",
       "      <td>32</td>\n",
       "      <td>Male</td>\n",
       "      <td>Marketing</td>\n",
       "      <td>Single</td>\n",
       "      <td>Sales</td>\n",
       "      <td>Sales Executive</td>\n",
       "      <td>Travel_Rarely</td>\n",
       "      <td>10</td>\n",
       "      <td>3</td>\n",
       "      <td>...</td>\n",
       "      <td>4</td>\n",
       "      <td>10</td>\n",
       "      <td>2</td>\n",
       "      <td>2</td>\n",
       "      <td>10</td>\n",
       "      <td>7</td>\n",
       "      <td>0</td>\n",
       "      <td>8</td>\n",
       "      <td>No</td>\n",
       "      <td>3</td>\n",
       "    </tr>\n",
       "    <tr>\n",
       "      <th>1</th>\n",
       "      <td>E1001006</td>\n",
       "      <td>47</td>\n",
       "      <td>Male</td>\n",
       "      <td>Marketing</td>\n",
       "      <td>Single</td>\n",
       "      <td>Sales</td>\n",
       "      <td>Sales Executive</td>\n",
       "      <td>Travel_Rarely</td>\n",
       "      <td>14</td>\n",
       "      <td>4</td>\n",
       "      <td>...</td>\n",
       "      <td>4</td>\n",
       "      <td>20</td>\n",
       "      <td>2</td>\n",
       "      <td>3</td>\n",
       "      <td>7</td>\n",
       "      <td>7</td>\n",
       "      <td>1</td>\n",
       "      <td>7</td>\n",
       "      <td>No</td>\n",
       "      <td>3</td>\n",
       "    </tr>\n",
       "    <tr>\n",
       "      <th>2</th>\n",
       "      <td>E1001007</td>\n",
       "      <td>40</td>\n",
       "      <td>Male</td>\n",
       "      <td>Life Sciences</td>\n",
       "      <td>Married</td>\n",
       "      <td>Sales</td>\n",
       "      <td>Sales Executive</td>\n",
       "      <td>Travel_Frequently</td>\n",
       "      <td>5</td>\n",
       "      <td>4</td>\n",
       "      <td>...</td>\n",
       "      <td>3</td>\n",
       "      <td>20</td>\n",
       "      <td>2</td>\n",
       "      <td>3</td>\n",
       "      <td>18</td>\n",
       "      <td>13</td>\n",
       "      <td>1</td>\n",
       "      <td>12</td>\n",
       "      <td>No</td>\n",
       "      <td>4</td>\n",
       "    </tr>\n",
       "    <tr>\n",
       "      <th>3</th>\n",
       "      <td>E1001009</td>\n",
       "      <td>41</td>\n",
       "      <td>Male</td>\n",
       "      <td>Human Resources</td>\n",
       "      <td>Divorced</td>\n",
       "      <td>Human Resources</td>\n",
       "      <td>Manager</td>\n",
       "      <td>Travel_Rarely</td>\n",
       "      <td>10</td>\n",
       "      <td>4</td>\n",
       "      <td>...</td>\n",
       "      <td>2</td>\n",
       "      <td>23</td>\n",
       "      <td>2</td>\n",
       "      <td>2</td>\n",
       "      <td>21</td>\n",
       "      <td>6</td>\n",
       "      <td>12</td>\n",
       "      <td>6</td>\n",
       "      <td>No</td>\n",
       "      <td>3</td>\n",
       "    </tr>\n",
       "    <tr>\n",
       "      <th>4</th>\n",
       "      <td>E1001010</td>\n",
       "      <td>60</td>\n",
       "      <td>Male</td>\n",
       "      <td>Marketing</td>\n",
       "      <td>Single</td>\n",
       "      <td>Sales</td>\n",
       "      <td>Sales Executive</td>\n",
       "      <td>Travel_Rarely</td>\n",
       "      <td>16</td>\n",
       "      <td>4</td>\n",
       "      <td>...</td>\n",
       "      <td>4</td>\n",
       "      <td>10</td>\n",
       "      <td>1</td>\n",
       "      <td>3</td>\n",
       "      <td>2</td>\n",
       "      <td>2</td>\n",
       "      <td>2</td>\n",
       "      <td>2</td>\n",
       "      <td>No</td>\n",
       "      <td>3</td>\n",
       "    </tr>\n",
       "  </tbody>\n",
       "</table>\n",
       "<p>5 rows × 28 columns</p>\n",
       "</div>"
      ],
      "text/plain": [
       "  EmpNumber  Age Gender EducationBackground MaritalStatus    EmpDepartment  \\\n",
       "0  E1001000   32   Male           Marketing        Single            Sales   \n",
       "1  E1001006   47   Male           Marketing        Single            Sales   \n",
       "2  E1001007   40   Male       Life Sciences       Married            Sales   \n",
       "3  E1001009   41   Male     Human Resources      Divorced  Human Resources   \n",
       "4  E1001010   60   Male           Marketing        Single            Sales   \n",
       "\n",
       "        EmpJobRole BusinessTravelFrequency  DistanceFromHome  \\\n",
       "0  Sales Executive           Travel_Rarely                10   \n",
       "1  Sales Executive           Travel_Rarely                14   \n",
       "2  Sales Executive       Travel_Frequently                 5   \n",
       "3          Manager           Travel_Rarely                10   \n",
       "4  Sales Executive           Travel_Rarely                16   \n",
       "\n",
       "   EmpEducationLevel  ...  EmpRelationshipSatisfaction  \\\n",
       "0                  3  ...                            4   \n",
       "1                  4  ...                            4   \n",
       "2                  4  ...                            3   \n",
       "3                  4  ...                            2   \n",
       "4                  4  ...                            4   \n",
       "\n",
       "   TotalWorkExperienceInYears  TrainingTimesLastYear  EmpWorkLifeBalance  \\\n",
       "0                          10                      2                   2   \n",
       "1                          20                      2                   3   \n",
       "2                          20                      2                   3   \n",
       "3                          23                      2                   2   \n",
       "4                          10                      1                   3   \n",
       "\n",
       "   ExperienceYearsAtThisCompany  ExperienceYearsInCurrentRole  \\\n",
       "0                            10                             7   \n",
       "1                             7                             7   \n",
       "2                            18                            13   \n",
       "3                            21                             6   \n",
       "4                             2                             2   \n",
       "\n",
       "  YearsSinceLastPromotion  YearsWithCurrManager  Attrition  PerformanceRating  \n",
       "0                       0                     8         No                  3  \n",
       "1                       1                     7         No                  3  \n",
       "2                       1                    12         No                  4  \n",
       "3                      12                     6         No                  3  \n",
       "4                       2                     2         No                  3  \n",
       "\n",
       "[5 rows x 28 columns]"
      ]
     },
     "execution_count": 5,
     "metadata": {},
     "output_type": "execute_result"
    }
   ],
   "source": [
    "# Displaying the first 4 rows of the dataset using the 'head()' function where 4 is given as a parameter\n",
    "df.head()"
   ]
  },
  {
   "cell_type": "code",
   "execution_count": 6,
   "id": "8480acfd",
   "metadata": {},
   "outputs": [
    {
     "name": "stdout",
     "output_type": "stream",
     "text": [
      "<class 'pandas.core.frame.DataFrame'>\n",
      "RangeIndex: 1200 entries, 0 to 1199\n",
      "Data columns (total 28 columns):\n",
      " #   Column                        Non-Null Count  Dtype \n",
      "---  ------                        --------------  ----- \n",
      " 0   EmpNumber                     1200 non-null   object\n",
      " 1   Age                           1200 non-null   int64 \n",
      " 2   Gender                        1200 non-null   object\n",
      " 3   EducationBackground           1200 non-null   object\n",
      " 4   MaritalStatus                 1200 non-null   object\n",
      " 5   EmpDepartment                 1200 non-null   object\n",
      " 6   EmpJobRole                    1200 non-null   object\n",
      " 7   BusinessTravelFrequency       1200 non-null   object\n",
      " 8   DistanceFromHome              1200 non-null   int64 \n",
      " 9   EmpEducationLevel             1200 non-null   int64 \n",
      " 10  EmpEnvironmentSatisfaction    1200 non-null   int64 \n",
      " 11  EmpHourlyRate                 1200 non-null   int64 \n",
      " 12  EmpJobInvolvement             1200 non-null   int64 \n",
      " 13  EmpJobLevel                   1200 non-null   int64 \n",
      " 14  EmpJobSatisfaction            1200 non-null   int64 \n",
      " 15  NumCompaniesWorked            1200 non-null   int64 \n",
      " 16  OverTime                      1200 non-null   object\n",
      " 17  EmpLastSalaryHikePercent      1200 non-null   int64 \n",
      " 18  EmpRelationshipSatisfaction   1200 non-null   int64 \n",
      " 19  TotalWorkExperienceInYears    1200 non-null   int64 \n",
      " 20  TrainingTimesLastYear         1200 non-null   int64 \n",
      " 21  EmpWorkLifeBalance            1200 non-null   int64 \n",
      " 22  ExperienceYearsAtThisCompany  1200 non-null   int64 \n",
      " 23  ExperienceYearsInCurrentRole  1200 non-null   int64 \n",
      " 24  YearsSinceLastPromotion       1200 non-null   int64 \n",
      " 25  YearsWithCurrManager          1200 non-null   int64 \n",
      " 26  Attrition                     1200 non-null   object\n",
      " 27  PerformanceRating             1200 non-null   int64 \n",
      "dtypes: int64(19), object(9)\n",
      "memory usage: 262.6+ KB\n"
     ]
    }
   ],
   "source": [
    "# Basic information about the dataset\n",
    "df.info()"
   ]
  },
  {
   "cell_type": "code",
   "execution_count": 7,
   "id": "21741427",
   "metadata": {},
   "outputs": [
    {
     "data": {
      "text/plain": [
       "EmpNumber                       0\n",
       "Age                             0\n",
       "Gender                          0\n",
       "EducationBackground             0\n",
       "MaritalStatus                   0\n",
       "EmpDepartment                   0\n",
       "EmpJobRole                      0\n",
       "BusinessTravelFrequency         0\n",
       "DistanceFromHome                0\n",
       "EmpEducationLevel               0\n",
       "EmpEnvironmentSatisfaction      0\n",
       "EmpHourlyRate                   0\n",
       "EmpJobInvolvement               0\n",
       "EmpJobLevel                     0\n",
       "EmpJobSatisfaction              0\n",
       "NumCompaniesWorked              0\n",
       "OverTime                        0\n",
       "EmpLastSalaryHikePercent        0\n",
       "EmpRelationshipSatisfaction     0\n",
       "TotalWorkExperienceInYears      0\n",
       "TrainingTimesLastYear           0\n",
       "EmpWorkLifeBalance              0\n",
       "ExperienceYearsAtThisCompany    0\n",
       "ExperienceYearsInCurrentRole    0\n",
       "YearsSinceLastPromotion         0\n",
       "YearsWithCurrManager            0\n",
       "Attrition                       0\n",
       "PerformanceRating               0\n",
       "dtype: int64"
      ]
     },
     "execution_count": 7,
     "metadata": {},
     "output_type": "execute_result"
    }
   ],
   "source": [
    "# Checking for the null values\n",
    "df.isnull().sum()  "
   ]
  },
  {
   "cell_type": "code",
   "execution_count": 8,
   "id": "3b6d961f",
   "metadata": {},
   "outputs": [
    {
     "data": {
      "text/html": [
       "<div>\n",
       "<style scoped>\n",
       "    .dataframe tbody tr th:only-of-type {\n",
       "        vertical-align: middle;\n",
       "    }\n",
       "\n",
       "    .dataframe tbody tr th {\n",
       "        vertical-align: top;\n",
       "    }\n",
       "\n",
       "    .dataframe thead th {\n",
       "        text-align: right;\n",
       "    }\n",
       "</style>\n",
       "<table border=\"1\" class=\"dataframe\">\n",
       "  <thead>\n",
       "    <tr style=\"text-align: right;\">\n",
       "      <th></th>\n",
       "      <th>EmpNumber</th>\n",
       "      <th>Age</th>\n",
       "      <th>Gender</th>\n",
       "      <th>EducationBackground</th>\n",
       "      <th>MaritalStatus</th>\n",
       "      <th>EmpDepartment</th>\n",
       "      <th>EmpJobRole</th>\n",
       "      <th>BusinessTravelFrequency</th>\n",
       "      <th>DistanceFromHome</th>\n",
       "      <th>EmpEducationLevel</th>\n",
       "      <th>...</th>\n",
       "      <th>EmpRelationshipSatisfaction</th>\n",
       "      <th>TotalWorkExperienceInYears</th>\n",
       "      <th>TrainingTimesLastYear</th>\n",
       "      <th>EmpWorkLifeBalance</th>\n",
       "      <th>ExperienceYearsAtThisCompany</th>\n",
       "      <th>ExperienceYearsInCurrentRole</th>\n",
       "      <th>YearsSinceLastPromotion</th>\n",
       "      <th>YearsWithCurrManager</th>\n",
       "      <th>Attrition</th>\n",
       "      <th>PerformanceRating</th>\n",
       "    </tr>\n",
       "  </thead>\n",
       "  <tbody>\n",
       "  </tbody>\n",
       "</table>\n",
       "<p>0 rows × 28 columns</p>\n",
       "</div>"
      ],
      "text/plain": [
       "Empty DataFrame\n",
       "Columns: [EmpNumber, Age, Gender, EducationBackground, MaritalStatus, EmpDepartment, EmpJobRole, BusinessTravelFrequency, DistanceFromHome, EmpEducationLevel, EmpEnvironmentSatisfaction, EmpHourlyRate, EmpJobInvolvement, EmpJobLevel, EmpJobSatisfaction, NumCompaniesWorked, OverTime, EmpLastSalaryHikePercent, EmpRelationshipSatisfaction, TotalWorkExperienceInYears, TrainingTimesLastYear, EmpWorkLifeBalance, ExperienceYearsAtThisCompany, ExperienceYearsInCurrentRole, YearsSinceLastPromotion, YearsWithCurrManager, Attrition, PerformanceRating]\n",
       "Index: []\n",
       "\n",
       "[0 rows x 28 columns]"
      ]
     },
     "execution_count": 8,
     "metadata": {},
     "output_type": "execute_result"
    }
   ],
   "source": [
    "# Checking for the duplicated values\n",
    "df[df.duplicated()]"
   ]
  },
  {
   "cell_type": "code",
   "execution_count": 9,
   "id": "695626d8",
   "metadata": {},
   "outputs": [
    {
     "data": {
      "text/html": [
       "<div>\n",
       "<style scoped>\n",
       "    .dataframe tbody tr th:only-of-type {\n",
       "        vertical-align: middle;\n",
       "    }\n",
       "\n",
       "    .dataframe tbody tr th {\n",
       "        vertical-align: top;\n",
       "    }\n",
       "\n",
       "    .dataframe thead th {\n",
       "        text-align: right;\n",
       "    }\n",
       "</style>\n",
       "<table border=\"1\" class=\"dataframe\">\n",
       "  <thead>\n",
       "    <tr style=\"text-align: right;\">\n",
       "      <th></th>\n",
       "      <th>Age</th>\n",
       "      <th>DistanceFromHome</th>\n",
       "      <th>EmpEducationLevel</th>\n",
       "      <th>EmpEnvironmentSatisfaction</th>\n",
       "      <th>EmpHourlyRate</th>\n",
       "      <th>EmpJobInvolvement</th>\n",
       "      <th>EmpJobLevel</th>\n",
       "      <th>EmpJobSatisfaction</th>\n",
       "      <th>NumCompaniesWorked</th>\n",
       "      <th>EmpLastSalaryHikePercent</th>\n",
       "      <th>EmpRelationshipSatisfaction</th>\n",
       "      <th>TotalWorkExperienceInYears</th>\n",
       "      <th>TrainingTimesLastYear</th>\n",
       "      <th>EmpWorkLifeBalance</th>\n",
       "      <th>ExperienceYearsAtThisCompany</th>\n",
       "      <th>ExperienceYearsInCurrentRole</th>\n",
       "      <th>YearsSinceLastPromotion</th>\n",
       "      <th>YearsWithCurrManager</th>\n",
       "      <th>PerformanceRating</th>\n",
       "    </tr>\n",
       "  </thead>\n",
       "  <tbody>\n",
       "    <tr>\n",
       "      <th>count</th>\n",
       "      <td>1200.000000</td>\n",
       "      <td>1200.000000</td>\n",
       "      <td>1200.00000</td>\n",
       "      <td>1200.000000</td>\n",
       "      <td>1200.000000</td>\n",
       "      <td>1200.000000</td>\n",
       "      <td>1200.000000</td>\n",
       "      <td>1200.000000</td>\n",
       "      <td>1200.000000</td>\n",
       "      <td>1200.000000</td>\n",
       "      <td>1200.000000</td>\n",
       "      <td>1200.000000</td>\n",
       "      <td>1200.000000</td>\n",
       "      <td>1200.000000</td>\n",
       "      <td>1200.000000</td>\n",
       "      <td>1200.000000</td>\n",
       "      <td>1200.000000</td>\n",
       "      <td>1200.000000</td>\n",
       "      <td>1200.000000</td>\n",
       "    </tr>\n",
       "    <tr>\n",
       "      <th>mean</th>\n",
       "      <td>36.918333</td>\n",
       "      <td>9.165833</td>\n",
       "      <td>2.89250</td>\n",
       "      <td>2.715833</td>\n",
       "      <td>65.981667</td>\n",
       "      <td>2.731667</td>\n",
       "      <td>2.067500</td>\n",
       "      <td>2.732500</td>\n",
       "      <td>2.665000</td>\n",
       "      <td>15.222500</td>\n",
       "      <td>2.725000</td>\n",
       "      <td>11.330000</td>\n",
       "      <td>2.785833</td>\n",
       "      <td>2.744167</td>\n",
       "      <td>7.077500</td>\n",
       "      <td>4.291667</td>\n",
       "      <td>2.194167</td>\n",
       "      <td>4.105000</td>\n",
       "      <td>2.948333</td>\n",
       "    </tr>\n",
       "    <tr>\n",
       "      <th>std</th>\n",
       "      <td>9.087289</td>\n",
       "      <td>8.176636</td>\n",
       "      <td>1.04412</td>\n",
       "      <td>1.090599</td>\n",
       "      <td>20.211302</td>\n",
       "      <td>0.707164</td>\n",
       "      <td>1.107836</td>\n",
       "      <td>1.100888</td>\n",
       "      <td>2.469384</td>\n",
       "      <td>3.625918</td>\n",
       "      <td>1.075642</td>\n",
       "      <td>7.797228</td>\n",
       "      <td>1.263446</td>\n",
       "      <td>0.699374</td>\n",
       "      <td>6.236899</td>\n",
       "      <td>3.613744</td>\n",
       "      <td>3.221560</td>\n",
       "      <td>3.541576</td>\n",
       "      <td>0.518866</td>\n",
       "    </tr>\n",
       "    <tr>\n",
       "      <th>min</th>\n",
       "      <td>18.000000</td>\n",
       "      <td>1.000000</td>\n",
       "      <td>1.00000</td>\n",
       "      <td>1.000000</td>\n",
       "      <td>30.000000</td>\n",
       "      <td>1.000000</td>\n",
       "      <td>1.000000</td>\n",
       "      <td>1.000000</td>\n",
       "      <td>0.000000</td>\n",
       "      <td>11.000000</td>\n",
       "      <td>1.000000</td>\n",
       "      <td>0.000000</td>\n",
       "      <td>0.000000</td>\n",
       "      <td>1.000000</td>\n",
       "      <td>0.000000</td>\n",
       "      <td>0.000000</td>\n",
       "      <td>0.000000</td>\n",
       "      <td>0.000000</td>\n",
       "      <td>2.000000</td>\n",
       "    </tr>\n",
       "    <tr>\n",
       "      <th>25%</th>\n",
       "      <td>30.000000</td>\n",
       "      <td>2.000000</td>\n",
       "      <td>2.00000</td>\n",
       "      <td>2.000000</td>\n",
       "      <td>48.000000</td>\n",
       "      <td>2.000000</td>\n",
       "      <td>1.000000</td>\n",
       "      <td>2.000000</td>\n",
       "      <td>1.000000</td>\n",
       "      <td>12.000000</td>\n",
       "      <td>2.000000</td>\n",
       "      <td>6.000000</td>\n",
       "      <td>2.000000</td>\n",
       "      <td>2.000000</td>\n",
       "      <td>3.000000</td>\n",
       "      <td>2.000000</td>\n",
       "      <td>0.000000</td>\n",
       "      <td>2.000000</td>\n",
       "      <td>3.000000</td>\n",
       "    </tr>\n",
       "    <tr>\n",
       "      <th>50%</th>\n",
       "      <td>36.000000</td>\n",
       "      <td>7.000000</td>\n",
       "      <td>3.00000</td>\n",
       "      <td>3.000000</td>\n",
       "      <td>66.000000</td>\n",
       "      <td>3.000000</td>\n",
       "      <td>2.000000</td>\n",
       "      <td>3.000000</td>\n",
       "      <td>2.000000</td>\n",
       "      <td>14.000000</td>\n",
       "      <td>3.000000</td>\n",
       "      <td>10.000000</td>\n",
       "      <td>3.000000</td>\n",
       "      <td>3.000000</td>\n",
       "      <td>5.000000</td>\n",
       "      <td>3.000000</td>\n",
       "      <td>1.000000</td>\n",
       "      <td>3.000000</td>\n",
       "      <td>3.000000</td>\n",
       "    </tr>\n",
       "    <tr>\n",
       "      <th>75%</th>\n",
       "      <td>43.000000</td>\n",
       "      <td>14.000000</td>\n",
       "      <td>4.00000</td>\n",
       "      <td>4.000000</td>\n",
       "      <td>83.000000</td>\n",
       "      <td>3.000000</td>\n",
       "      <td>3.000000</td>\n",
       "      <td>4.000000</td>\n",
       "      <td>4.000000</td>\n",
       "      <td>18.000000</td>\n",
       "      <td>4.000000</td>\n",
       "      <td>15.000000</td>\n",
       "      <td>3.000000</td>\n",
       "      <td>3.000000</td>\n",
       "      <td>10.000000</td>\n",
       "      <td>7.000000</td>\n",
       "      <td>3.000000</td>\n",
       "      <td>7.000000</td>\n",
       "      <td>3.000000</td>\n",
       "    </tr>\n",
       "    <tr>\n",
       "      <th>max</th>\n",
       "      <td>60.000000</td>\n",
       "      <td>29.000000</td>\n",
       "      <td>5.00000</td>\n",
       "      <td>4.000000</td>\n",
       "      <td>100.000000</td>\n",
       "      <td>4.000000</td>\n",
       "      <td>5.000000</td>\n",
       "      <td>4.000000</td>\n",
       "      <td>9.000000</td>\n",
       "      <td>25.000000</td>\n",
       "      <td>4.000000</td>\n",
       "      <td>40.000000</td>\n",
       "      <td>6.000000</td>\n",
       "      <td>4.000000</td>\n",
       "      <td>40.000000</td>\n",
       "      <td>18.000000</td>\n",
       "      <td>15.000000</td>\n",
       "      <td>17.000000</td>\n",
       "      <td>4.000000</td>\n",
       "    </tr>\n",
       "  </tbody>\n",
       "</table>\n",
       "</div>"
      ],
      "text/plain": [
       "               Age  DistanceFromHome  EmpEducationLevel  \\\n",
       "count  1200.000000       1200.000000         1200.00000   \n",
       "mean     36.918333          9.165833            2.89250   \n",
       "std       9.087289          8.176636            1.04412   \n",
       "min      18.000000          1.000000            1.00000   \n",
       "25%      30.000000          2.000000            2.00000   \n",
       "50%      36.000000          7.000000            3.00000   \n",
       "75%      43.000000         14.000000            4.00000   \n",
       "max      60.000000         29.000000            5.00000   \n",
       "\n",
       "       EmpEnvironmentSatisfaction  EmpHourlyRate  EmpJobInvolvement  \\\n",
       "count                 1200.000000    1200.000000        1200.000000   \n",
       "mean                     2.715833      65.981667           2.731667   \n",
       "std                      1.090599      20.211302           0.707164   \n",
       "min                      1.000000      30.000000           1.000000   \n",
       "25%                      2.000000      48.000000           2.000000   \n",
       "50%                      3.000000      66.000000           3.000000   \n",
       "75%                      4.000000      83.000000           3.000000   \n",
       "max                      4.000000     100.000000           4.000000   \n",
       "\n",
       "       EmpJobLevel  EmpJobSatisfaction  NumCompaniesWorked  \\\n",
       "count  1200.000000         1200.000000         1200.000000   \n",
       "mean      2.067500            2.732500            2.665000   \n",
       "std       1.107836            1.100888            2.469384   \n",
       "min       1.000000            1.000000            0.000000   \n",
       "25%       1.000000            2.000000            1.000000   \n",
       "50%       2.000000            3.000000            2.000000   \n",
       "75%       3.000000            4.000000            4.000000   \n",
       "max       5.000000            4.000000            9.000000   \n",
       "\n",
       "       EmpLastSalaryHikePercent  EmpRelationshipSatisfaction  \\\n",
       "count               1200.000000                  1200.000000   \n",
       "mean                  15.222500                     2.725000   \n",
       "std                    3.625918                     1.075642   \n",
       "min                   11.000000                     1.000000   \n",
       "25%                   12.000000                     2.000000   \n",
       "50%                   14.000000                     3.000000   \n",
       "75%                   18.000000                     4.000000   \n",
       "max                   25.000000                     4.000000   \n",
       "\n",
       "       TotalWorkExperienceInYears  TrainingTimesLastYear  EmpWorkLifeBalance  \\\n",
       "count                 1200.000000            1200.000000         1200.000000   \n",
       "mean                    11.330000               2.785833            2.744167   \n",
       "std                      7.797228               1.263446            0.699374   \n",
       "min                      0.000000               0.000000            1.000000   \n",
       "25%                      6.000000               2.000000            2.000000   \n",
       "50%                     10.000000               3.000000            3.000000   \n",
       "75%                     15.000000               3.000000            3.000000   \n",
       "max                     40.000000               6.000000            4.000000   \n",
       "\n",
       "       ExperienceYearsAtThisCompany  ExperienceYearsInCurrentRole  \\\n",
       "count                   1200.000000                   1200.000000   \n",
       "mean                       7.077500                      4.291667   \n",
       "std                        6.236899                      3.613744   \n",
       "min                        0.000000                      0.000000   \n",
       "25%                        3.000000                      2.000000   \n",
       "50%                        5.000000                      3.000000   \n",
       "75%                       10.000000                      7.000000   \n",
       "max                       40.000000                     18.000000   \n",
       "\n",
       "       YearsSinceLastPromotion  YearsWithCurrManager  PerformanceRating  \n",
       "count              1200.000000           1200.000000        1200.000000  \n",
       "mean                  2.194167              4.105000           2.948333  \n",
       "std                   3.221560              3.541576           0.518866  \n",
       "min                   0.000000              0.000000           2.000000  \n",
       "25%                   0.000000              2.000000           3.000000  \n",
       "50%                   1.000000              3.000000           3.000000  \n",
       "75%                   3.000000              7.000000           3.000000  \n",
       "max                  15.000000             17.000000           4.000000  "
      ]
     },
     "execution_count": 9,
     "metadata": {},
     "output_type": "execute_result"
    }
   ],
   "source": [
    "# Status of the dataset\n",
    "df.describe()"
   ]
  },
  {
   "cell_type": "code",
   "execution_count": 10,
   "id": "a04effa9",
   "metadata": {
    "scrolled": true
   },
   "outputs": [
    {
     "data": {
      "text/plain": [
       "3    874\n",
       "2    194\n",
       "4    132\n",
       "Name: PerformanceRating, dtype: int64"
      ]
     },
     "execution_count": 10,
     "metadata": {},
     "output_type": "execute_result"
    }
   ],
   "source": [
    "df[\"PerformanceRating\"].value_counts()"
   ]
  },
  {
   "cell_type": "markdown",
   "id": "ded66fce",
   "metadata": {},
   "source": [
    " -  There are 3 unique value presented in the labled data "
   ]
  },
  {
   "cell_type": "markdown",
   "id": "e6aac73c",
   "metadata": {},
   "source": [
    "# Analysis of Department wise Perfomance"
   ]
  },
  {
   "cell_type": "code",
   "execution_count": 11,
   "id": "b58c5ffe",
   "metadata": {},
   "outputs": [],
   "source": [
    "# A new pandas Dataframe is created to analyze department wise performance as asked.\n",
    "dept = df.iloc[:,[5,27]].copy()\n",
    "dept_per = dept.copy()"
   ]
  },
  {
   "cell_type": "code",
   "execution_count": 12,
   "id": "e402e8f3",
   "metadata": {},
   "outputs": [
    {
     "data": {
      "text/plain": [
       "EmpDepartment\n",
       "Data Science              3.050000\n",
       "Development               3.085873\n",
       "Finance                   2.775510\n",
       "Human Resources           2.925926\n",
       "Research & Development    2.921283\n",
       "Sales                     2.860590\n",
       "Name: PerformanceRating, dtype: float64"
      ]
     },
     "execution_count": 12,
     "metadata": {},
     "output_type": "execute_result"
    }
   ],
   "source": [
    "# Finding out the mean performance of all the departments and plotting its bar graph using seaborn.\n",
    "dept_per.groupby(by='EmpDepartment')['PerformanceRating'].mean()"
   ]
  },
  {
   "cell_type": "code",
   "execution_count": 13,
   "id": "5a4f3a9d",
   "metadata": {},
   "outputs": [
    {
     "data": {
      "text/plain": [
       "<AxesSubplot:xlabel='EmpDepartment', ylabel='PerformanceRating'>"
      ]
     },
     "execution_count": 13,
     "metadata": {},
     "output_type": "execute_result"
    },
    {
     "data": {
      "image/png": "[encoded data removed]",
      "text/plain": [
       "<Figure size 720x324 with 1 Axes>"
      ]
     },
     "metadata": {
      "needs_background": "light"
     },
     "output_type": "display_data"
    }
   ],
   "source": [
    "plt.figure(figsize=(10,4.5))\n",
    "sns.barplot(dept_per['EmpDepartment'],dept_per['PerformanceRating'])"
   ]
  },
  {
   "cell_type": "markdown",
   "id": "28e14925",
   "metadata": {},
   "source": [
    "- The development has the best performance compared to others\n",
    "- The Finance has the lowest performance "
   ]
  },
  {
   "cell_type": "code",
   "execution_count": 14,
   "id": "fa4b0d4a",
   "metadata": {
    "scrolled": false
   },
   "outputs": [
    {
     "data": {
      "text/plain": [
       "EmpDepartment           PerformanceRating\n",
       "Data Science            3                     17\n",
       "                        4                      2\n",
       "                        2                      1\n",
       "Development             3                    304\n",
       "                        4                     44\n",
       "                        2                     13\n",
       "Finance                 3                     30\n",
       "                        2                     15\n",
       "                        4                      4\n",
       "Human Resources         3                     38\n",
       "                        2                     10\n",
       "                        4                      6\n",
       "Research & Development  3                    234\n",
       "                        2                     68\n",
       "                        4                     41\n",
       "Sales                   3                    251\n",
       "                        2                     87\n",
       "                        4                     35\n",
       "Name: PerformanceRating, dtype: int64"
      ]
     },
     "execution_count": 14,
     "metadata": {},
     "output_type": "execute_result"
    }
   ],
   "source": [
    "# Analyze each department separately\n",
    "dept_per.groupby(by='EmpDepartment')['PerformanceRating'].value_counts()"
   ]
  },
  {
   "cell_type": "code",
   "execution_count": 15,
   "id": "4f738aa2",
   "metadata": {},
   "outputs": [],
   "source": [
    "# Creating a new dataframe to analyze each department separately\n",
    "department = pd.get_dummies(dept_per['EmpDepartment'])\n",
    "performance = pd.DataFrame(dept_per['PerformanceRating'])\n",
    "dept_rating = pd.concat([department,performance],axis=1)"
   ]
  },
  {
   "cell_type": "code",
   "execution_count": 16,
   "id": "e68cdc1f",
   "metadata": {},
   "outputs": [
    {
     "data": {
      "image/png": "[encoded data removed]",
      "text/plain": [
       "<Figure size 1080x720 with 6 Axes>"
      ]
     },
     "metadata": {
      "needs_background": "light"
     },
     "output_type": "display_data"
    }
   ],
   "source": [
    "# Plotting a separate bar graph for performance of each department using seaborn\n",
    "plt.figure(figsize=(15,10))\n",
    "plt.subplot(2,3,1)\n",
    "sns.barplot(dept_rating['PerformanceRating'],dept_rating['Sales'])\n",
    "plt.subplot(2,3,2)\n",
    "sns.barplot(dept_rating['PerformanceRating'],dept_rating['Development'])\n",
    "plt.subplot(2,3,3)\n",
    "sns.barplot(dept_rating['PerformanceRating'],dept_rating['Research & Development'])\n",
    "plt.subplot(2,3,4)\n",
    "sns.barplot(dept_rating['PerformanceRating'],dept_rating['Human Resources'])\n",
    "plt.subplot(2,3,5)\n",
    "sns.barplot(dept_rating['PerformanceRating'],dept_rating['Finance'])\n",
    "plt.subplot(2,3,6)\n",
    "sns.barplot(dept_rating['PerformanceRating'],dept_rating['Data Science'])\n",
    "plt.show()"
   ]
  },
  {
   "cell_type": "markdown",
   "id": "99691ee2",
   "metadata": {},
   "source": [
    "-  Analyze each department separately\n",
    "- The Sales has the highest Performance rating"
   ]
  },
  {
   "cell_type": "markdown",
   "id": "71f5ac97",
   "metadata": {},
   "source": [
    "# Top 3 Important Factors effecting employee performance"
   ]
  },
  {
   "cell_type": "code",
   "execution_count": 17,
   "id": "2ac2f886",
   "metadata": {},
   "outputs": [
    {
     "data": {
      "image/png": "[encoded data removed]",
      "text/plain": [
       "<Figure size 432x288 with 1 Axes>"
      ]
     },
     "metadata": {
      "needs_background": "light"
     },
     "output_type": "display_data"
    }
   ],
   "source": [
    "# calculate mean importance of factors for each performance rating\n",
    "factors = ['EmpEnvironmentSatisfaction', 'EmpJobSatisfaction', 'EmpWorkLifeBalance', 'EmpJobInvolvement', 'EmpJobLevel']\n",
    "performance_factors = df.groupby('PerformanceRating')[factors].mean()\n",
    "\n",
    "# calculate top 3 factors for each performance rating\n",
    "top3 = performance_factors.apply(lambda x: pd.Series(x.nlargest(3).index), axis=1)\n",
    "\n",
    "# calculate count of each factor among top 3 factors\n",
    "factor_counts = top3.stack().value_counts()\n",
    "\n",
    "# create stacked bar chart\n",
    "factor_counts.plot(kind='bar', stacked=True)\n",
    "\n",
    "# set axis labels and title\n",
    "plt.xlabel('Factors')\n",
    "plt.ylabel('Count')\n",
    "plt.title('Top 3 Factors Affecting Employee Performance')\n",
    "\n",
    "plt.show()"
   ]
  },
  {
   "cell_type": "markdown",
   "id": "64496205",
   "metadata": {},
   "source": [
    "-  The EmpWorkLifeBalance,EmpJobSatisfaction, EmpJobInvolvement this are the top 3 factors affecting the employee Performance"
   ]
  },
  {
   "cell_type": "code",
   "execution_count": 18,
   "id": "1fa5790f",
   "metadata": {},
   "outputs": [
    {
     "data": {
      "image/png": "[encoded data removed]",
      "text/plain": [
       "<Figure size 432x288 with 1 Axes>"
      ]
     },
     "metadata": {
      "needs_background": "light"
     },
     "output_type": "display_data"
    }
   ],
   "source": [
    "# plot histogram\n",
    "plt.hist(df['TotalWorkExperienceInYears'], bins=10)\n",
    "\n",
    "# set axis labels and title\n",
    "plt.xlabel('Years of Experience')\n",
    "plt.ylabel('Frequency')\n",
    "plt.title('Distribution of Total Work Experience')\n",
    "\n",
    "plt.show()"
   ]
  },
  {
   "cell_type": "markdown",
   "id": "de187827",
   "metadata": {},
   "source": [
    "- The average work experiance people are lie between 5 to 15"
   ]
  }
 ],
 "metadata": {
  "kernelspec": {
   "display_name": "Python 3 (ipykernel)",
   "language": "python",
   "name": "python3"
  },
  "language_info": {
   "codemirror_mode": {
    "name": "ipython",
    "version": 3
   },
   "file_extension": ".py",
   "mimetype": "text/x-python",
   "name": "python",
   "nbconvert_exporter": "python",
   "pygments_lexer": "ipython3",
   "version": "3.9.12"
  }
 },
 "nbformat": 4,
 "nbformat_minor": 5
}
