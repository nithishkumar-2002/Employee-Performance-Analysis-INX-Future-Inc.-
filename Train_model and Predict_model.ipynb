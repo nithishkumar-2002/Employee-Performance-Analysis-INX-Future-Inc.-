{
 "cells": [
  {
   "cell_type": "code",
   "execution_count": 1,
   "id": "8984b35a",
   "metadata": {},
   "outputs": [
    {
     "data": {
      "text/html": [
       "        <script type=\"text/javascript\">\n",
       "        window.PlotlyConfig = {MathJaxConfig: 'local'};\n",
       "        if (window.MathJax) {MathJax.Hub.Config({SVG: {font: \"STIX-Web\"}});}\n",
       "        if (typeof require !== 'undefined') {\n",
       "        require.undef(\"plotly\");\n",
       "        requirejs.config({\n",
       "            paths: {\n",
       "                'plotly': ['https://cdn.plot.ly/plotly-2.9.0.min']\n",
       "            }\n",
       "        });\n",
       "        require(['plotly'], function(Plotly) {\n",
       "            window._Plotly = Plotly;\n",
       "        });\n",
       "        }\n",
       "        </script>\n",
       "        "
      ]
     },
     "metadata": {},
     "output_type": "display_data"
    },
    {
     "data": {
      "text/html": [
       "        <script type=\"text/javascript\">\n",
       "        window.PlotlyConfig = {MathJaxConfig: 'local'};\n",
       "        if (window.MathJax) {MathJax.Hub.Config({SVG: {font: \"STIX-Web\"}});}\n",
       "        if (typeof require !== 'undefined') {\n",
       "        require.undef(\"plotly\");\n",
       "        requirejs.config({\n",
       "            paths: {\n",
       "                'plotly': ['https://cdn.plot.ly/plotly-2.9.0.min']\n",
       "            }\n",
       "        });\n",
       "        require(['plotly'], function(Plotly) {\n",
       "            window._Plotly = Plotly;\n",
       "        });\n",
       "        }\n",
       "        </script>\n",
       "        "
      ]
     },
     "metadata": {},
     "output_type": "display_data"
    }
   ],
   "source": [
    "# data analysis and wrangling\n",
    "import pandas as pd\n",
    "import numpy as np\n",
    "import random as rnd\n",
    "\n",
    "\n",
    "# visualization\n",
    "import seaborn as sns\n",
    "import matplotlib.pyplot as plt\n",
    "%matplotlib inline\n",
    "\n",
    "# Import statements required for Plotly \n",
    "import plotly.offline as py\n",
    "py.init_notebook_mode(connected=True)\n",
    "import plotly.graph_objs as go\n",
    "import plotly.tools as tls\n",
    "\n",
    "# machine learning\n",
    "from sklearn.linear_model import LogisticRegression\n",
    "from sklearn.svm import SVC, LinearSVC\n",
    "from sklearn.ensemble import RandomForestClassifier\n",
    "from sklearn.neighbors import KNeighborsClassifier\n",
    "from sklearn.naive_bayes import GaussianNB\n",
    "from sklearn.linear_model import Perceptron\n",
    "from sklearn.linear_model import SGDClassifier\n",
    "from sklearn.tree import DecisionTreeClassifier\n",
    "from sklearn.preprocessing import LabelEncoder\n",
    "from sklearn.model_selection import train_test_split\n",
    "from sklearn.preprocessing import LabelEncoder, StandardScaler\n",
    "from sklearn.metrics import confusion_matrix\n",
    "from sklearn.metrics import classification_report\n",
    "from sklearn.metrics import roc_auc_score\n",
    "from sklearn.metrics import mean_squared_error,r2_score\n",
    "from math import sqrt\n",
    "from sklearn import tree\n",
    "from prettytable import PrettyTable\n",
    "\n",
    "# for warnings \n",
    "import warnings\n",
    "warnings.filterwarnings('ignore')\n",
    "\n",
    "\n",
    "\n",
    "import numpy as np # linear algebra\n",
    "import pandas as pd # data processing, CSV file I/O (e.g. pd.read_csv)\n",
    "import seaborn as sns\n",
    "import matplotlib.pyplot as plt\n",
    "%matplotlib inline\n",
    "\n",
    "# Import statements required for Plotly \n",
    "import plotly.offline as py\n",
    "py.init_notebook_mode(connected=True)\n",
    "import plotly.graph_objs as go\n",
    "import plotly.tools as tls\n",
    "\n",
    "\n",
    "from sklearn.ensemble import RandomForestClassifier, GradientBoostingClassifier\n",
    "from sklearn.linear_model import LogisticRegression\n",
    "from sklearn.metrics import accuracy_score, log_loss\n",
    "from imblearn.over_sampling import SMOTE\n",
    "#import xgboost\n",
    "\n",
    "# Import and suppress warnings\n",
    "import warnings\n",
    "warnings.filterwarnings('ignore')"
   ]
  },
  {
   "cell_type": "code",
   "execution_count": 2,
   "id": "ef842c53",
   "metadata": {},
   "outputs": [],
   "source": [
    "# Importing the excel file\n",
    "file=r\"C:\\Users\\nithi\\Desktop\\INX-Future-INC---Employee-Performance-Analysis--master\\INX-Future-INC---Employee-Performance-Analysis--master\\2. Data\\1. Raw Data\\INX_Future_Inc_Employee_Performance_CDS_Project2_Data_V1.8.xls\"\n",
    "df=pd.read_excel(file)"
   ]
  },
  {
   "cell_type": "code",
   "execution_count": 3,
   "id": "0077f3e3",
   "metadata": {},
   "outputs": [
    {
     "data": {
      "text/html": [
       "<div>\n",
       "<style scoped>\n",
       "    .dataframe tbody tr th:only-of-type {\n",
       "        vertical-align: middle;\n",
       "    }\n",
       "\n",
       "    .dataframe tbody tr th {\n",
       "        vertical-align: top;\n",
       "    }\n",
       "\n",
       "    .dataframe thead th {\n",
       "        text-align: right;\n",
       "    }\n",
       "</style>\n",
       "<table border=\"1\" class=\"dataframe\">\n",
       "  <thead>\n",
       "    <tr style=\"text-align: right;\">\n",
       "      <th></th>\n",
       "      <th>EmpNumber</th>\n",
       "      <th>Age</th>\n",
       "      <th>Gender</th>\n",
       "      <th>EducationBackground</th>\n",
       "      <th>MaritalStatus</th>\n",
       "      <th>EmpDepartment</th>\n",
       "      <th>EmpJobRole</th>\n",
       "      <th>BusinessTravelFrequency</th>\n",
       "      <th>DistanceFromHome</th>\n",
       "      <th>EmpEducationLevel</th>\n",
       "      <th>...</th>\n",
       "      <th>EmpRelationshipSatisfaction</th>\n",
       "      <th>TotalWorkExperienceInYears</th>\n",
       "      <th>TrainingTimesLastYear</th>\n",
       "      <th>EmpWorkLifeBalance</th>\n",
       "      <th>ExperienceYearsAtThisCompany</th>\n",
       "      <th>ExperienceYearsInCurrentRole</th>\n",
       "      <th>YearsSinceLastPromotion</th>\n",
       "      <th>YearsWithCurrManager</th>\n",
       "      <th>Attrition</th>\n",
       "      <th>PerformanceRating</th>\n",
       "    </tr>\n",
       "  </thead>\n",
       "  <tbody>\n",
       "    <tr>\n",
       "      <th>0</th>\n",
       "      <td>E1001000</td>\n",
       "      <td>32</td>\n",
       "      <td>Male</td>\n",
       "      <td>Marketing</td>\n",
       "      <td>Single</td>\n",
       "      <td>Sales</td>\n",
       "      <td>Sales Executive</td>\n",
       "      <td>Travel_Rarely</td>\n",
       "      <td>10</td>\n",
       "      <td>3</td>\n",
       "      <td>...</td>\n",
       "      <td>4</td>\n",
       "      <td>10</td>\n",
       "      <td>2</td>\n",
       "      <td>2</td>\n",
       "      <td>10</td>\n",
       "      <td>7</td>\n",
       "      <td>0</td>\n",
       "      <td>8</td>\n",
       "      <td>No</td>\n",
       "      <td>3</td>\n",
       "    </tr>\n",
       "    <tr>\n",
       "      <th>1</th>\n",
       "      <td>E1001006</td>\n",
       "      <td>47</td>\n",
       "      <td>Male</td>\n",
       "      <td>Marketing</td>\n",
       "      <td>Single</td>\n",
       "      <td>Sales</td>\n",
       "      <td>Sales Executive</td>\n",
       "      <td>Travel_Rarely</td>\n",
       "      <td>14</td>\n",
       "      <td>4</td>\n",
       "      <td>...</td>\n",
       "      <td>4</td>\n",
       "      <td>20</td>\n",
       "      <td>2</td>\n",
       "      <td>3</td>\n",
       "      <td>7</td>\n",
       "      <td>7</td>\n",
       "      <td>1</td>\n",
       "      <td>7</td>\n",
       "      <td>No</td>\n",
       "      <td>3</td>\n",
       "    </tr>\n",
       "    <tr>\n",
       "      <th>2</th>\n",
       "      <td>E1001007</td>\n",
       "      <td>40</td>\n",
       "      <td>Male</td>\n",
       "      <td>Life Sciences</td>\n",
       "      <td>Married</td>\n",
       "      <td>Sales</td>\n",
       "      <td>Sales Executive</td>\n",
       "      <td>Travel_Frequently</td>\n",
       "      <td>5</td>\n",
       "      <td>4</td>\n",
       "      <td>...</td>\n",
       "      <td>3</td>\n",
       "      <td>20</td>\n",
       "      <td>2</td>\n",
       "      <td>3</td>\n",
       "      <td>18</td>\n",
       "      <td>13</td>\n",
       "      <td>1</td>\n",
       "      <td>12</td>\n",
       "      <td>No</td>\n",
       "      <td>4</td>\n",
       "    </tr>\n",
       "    <tr>\n",
       "      <th>3</th>\n",
       "      <td>E1001009</td>\n",
       "      <td>41</td>\n",
       "      <td>Male</td>\n",
       "      <td>Human Resources</td>\n",
       "      <td>Divorced</td>\n",
       "      <td>Human Resources</td>\n",
       "      <td>Manager</td>\n",
       "      <td>Travel_Rarely</td>\n",
       "      <td>10</td>\n",
       "      <td>4</td>\n",
       "      <td>...</td>\n",
       "      <td>2</td>\n",
       "      <td>23</td>\n",
       "      <td>2</td>\n",
       "      <td>2</td>\n",
       "      <td>21</td>\n",
       "      <td>6</td>\n",
       "      <td>12</td>\n",
       "      <td>6</td>\n",
       "      <td>No</td>\n",
       "      <td>3</td>\n",
       "    </tr>\n",
       "    <tr>\n",
       "      <th>4</th>\n",
       "      <td>E1001010</td>\n",
       "      <td>60</td>\n",
       "      <td>Male</td>\n",
       "      <td>Marketing</td>\n",
       "      <td>Single</td>\n",
       "      <td>Sales</td>\n",
       "      <td>Sales Executive</td>\n",
       "      <td>Travel_Rarely</td>\n",
       "      <td>16</td>\n",
       "      <td>4</td>\n",
       "      <td>...</td>\n",
       "      <td>4</td>\n",
       "      <td>10</td>\n",
       "      <td>1</td>\n",
       "      <td>3</td>\n",
       "      <td>2</td>\n",
       "      <td>2</td>\n",
       "      <td>2</td>\n",
       "      <td>2</td>\n",
       "      <td>No</td>\n",
       "      <td>3</td>\n",
       "    </tr>\n",
       "  </tbody>\n",
       "</table>\n",
       "<p>5 rows × 28 columns</p>\n",
       "</div>"
      ],
      "text/plain": [
       "  EmpNumber  Age Gender EducationBackground MaritalStatus    EmpDepartment  \\\n",
       "0  E1001000   32   Male           Marketing        Single            Sales   \n",
       "1  E1001006   47   Male           Marketing        Single            Sales   \n",
       "2  E1001007   40   Male       Life Sciences       Married            Sales   \n",
       "3  E1001009   41   Male     Human Resources      Divorced  Human Resources   \n",
       "4  E1001010   60   Male           Marketing        Single            Sales   \n",
       "\n",
       "        EmpJobRole BusinessTravelFrequency  DistanceFromHome  \\\n",
       "0  Sales Executive           Travel_Rarely                10   \n",
       "1  Sales Executive           Travel_Rarely                14   \n",
       "2  Sales Executive       Travel_Frequently                 5   \n",
       "3          Manager           Travel_Rarely                10   \n",
       "4  Sales Executive           Travel_Rarely                16   \n",
       "\n",
       "   EmpEducationLevel  ...  EmpRelationshipSatisfaction  \\\n",
       "0                  3  ...                            4   \n",
       "1                  4  ...                            4   \n",
       "2                  4  ...                            3   \n",
       "3                  4  ...                            2   \n",
       "4                  4  ...                            4   \n",
       "\n",
       "   TotalWorkExperienceInYears  TrainingTimesLastYear  EmpWorkLifeBalance  \\\n",
       "0                          10                      2                   2   \n",
       "1                          20                      2                   3   \n",
       "2                          20                      2                   3   \n",
       "3                          23                      2                   2   \n",
       "4                          10                      1                   3   \n",
       "\n",
       "   ExperienceYearsAtThisCompany  ExperienceYearsInCurrentRole  \\\n",
       "0                            10                             7   \n",
       "1                             7                             7   \n",
       "2                            18                            13   \n",
       "3                            21                             6   \n",
       "4                             2                             2   \n",
       "\n",
       "  YearsSinceLastPromotion  YearsWithCurrManager  Attrition  PerformanceRating  \n",
       "0                       0                     8         No                  3  \n",
       "1                       1                     7         No                  3  \n",
       "2                       1                    12         No                  4  \n",
       "3                      12                     6         No                  3  \n",
       "4                       2                     2         No                  3  \n",
       "\n",
       "[5 rows x 28 columns]"
      ]
     },
     "execution_count": 3,
     "metadata": {},
     "output_type": "execute_result"
    }
   ],
   "source": [
    "df.head()"
   ]
  },
  {
   "cell_type": "markdown",
   "id": "756ec342",
   "metadata": {},
   "source": [
    "# Feature Selection"
   ]
  },
  {
   "cell_type": "markdown",
   "id": "8ff0e254",
   "metadata": {},
   "source": [
    "-     There are a lot of columns in the predictor variable. So, the correlation coeffecient is calculated to see which of them are important and these are then used for training methods. From there, we also get the top factors which affect performance. We can see that the most important features selectd were Department, Job Role, Environment Satisfaction, Last Salary Hike Percent, Work Life Balance, Experience Years At This Company, Experience Years In Current Role, Years Since Last Promotion, Years With Current Manager. These were selected because their correlation coeffecient with Performance Rating was more than 0.1. \n",
    "-     Standardization and Label Encoding was also used for feature transformation.\n",
    "-     A separate analysis considering all the predictors was carried out but it resulted in decreasing the accuracy. Similarly, Principal Component Analysis also reduces the accuracy.\n",
    "-     Top 3 factors which affect the employee performance are 1. Employee EnvironmentSatisfaction, 2. Employee Last Salary Hike Percent and 3. Years Since Last Promotion"
   ]
  },
  {
   "cell_type": "code",
   "execution_count": 4,
   "id": "75b38df6",
   "metadata": {},
   "outputs": [
    {
     "data": {
      "text/html": [
       "<div>\n",
       "<style scoped>\n",
       "    .dataframe tbody tr th:only-of-type {\n",
       "        vertical-align: middle;\n",
       "    }\n",
       "\n",
       "    .dataframe tbody tr th {\n",
       "        vertical-align: top;\n",
       "    }\n",
       "\n",
       "    .dataframe thead th {\n",
       "        text-align: right;\n",
       "    }\n",
       "</style>\n",
       "<table border=\"1\" class=\"dataframe\">\n",
       "  <thead>\n",
       "    <tr style=\"text-align: right;\">\n",
       "      <th></th>\n",
       "      <th>Age</th>\n",
       "      <th>DistanceFromHome</th>\n",
       "      <th>EmpEducationLevel</th>\n",
       "      <th>EmpEnvironmentSatisfaction</th>\n",
       "      <th>EmpHourlyRate</th>\n",
       "      <th>EmpJobInvolvement</th>\n",
       "      <th>EmpJobLevel</th>\n",
       "      <th>EmpJobSatisfaction</th>\n",
       "      <th>NumCompaniesWorked</th>\n",
       "      <th>EmpLastSalaryHikePercent</th>\n",
       "      <th>EmpRelationshipSatisfaction</th>\n",
       "      <th>TotalWorkExperienceInYears</th>\n",
       "      <th>TrainingTimesLastYear</th>\n",
       "      <th>EmpWorkLifeBalance</th>\n",
       "      <th>ExperienceYearsAtThisCompany</th>\n",
       "      <th>ExperienceYearsInCurrentRole</th>\n",
       "      <th>YearsSinceLastPromotion</th>\n",
       "      <th>YearsWithCurrManager</th>\n",
       "      <th>PerformanceRating</th>\n",
       "    </tr>\n",
       "  </thead>\n",
       "  <tbody>\n",
       "    <tr>\n",
       "      <th>Age</th>\n",
       "      <td>1.000000</td>\n",
       "      <td>0.020937</td>\n",
       "      <td>0.207313</td>\n",
       "      <td>0.013814</td>\n",
       "      <td>0.062867</td>\n",
       "      <td>0.027216</td>\n",
       "      <td>0.509139</td>\n",
       "      <td>-0.002436</td>\n",
       "      <td>0.284408</td>\n",
       "      <td>-0.006105</td>\n",
       "      <td>0.049749</td>\n",
       "      <td>0.680886</td>\n",
       "      <td>-0.016053</td>\n",
       "      <td>-0.019563</td>\n",
       "      <td>0.318852</td>\n",
       "      <td>0.217163</td>\n",
       "      <td>0.228199</td>\n",
       "      <td>0.205098</td>\n",
       "      <td>-0.040164</td>\n",
       "    </tr>\n",
       "    <tr>\n",
       "      <th>DistanceFromHome</th>\n",
       "      <td>0.020937</td>\n",
       "      <td>1.000000</td>\n",
       "      <td>0.045856</td>\n",
       "      <td>-0.017719</td>\n",
       "      <td>0.013730</td>\n",
       "      <td>0.003231</td>\n",
       "      <td>0.017270</td>\n",
       "      <td>-0.003036</td>\n",
       "      <td>-0.021411</td>\n",
       "      <td>0.044974</td>\n",
       "      <td>-0.009509</td>\n",
       "      <td>0.027306</td>\n",
       "      <td>-0.032082</td>\n",
       "      <td>-0.044788</td>\n",
       "      <td>0.021908</td>\n",
       "      <td>0.019898</td>\n",
       "      <td>0.013246</td>\n",
       "      <td>0.017860</td>\n",
       "      <td>-0.046142</td>\n",
       "    </tr>\n",
       "    <tr>\n",
       "      <th>EmpEducationLevel</th>\n",
       "      <td>0.207313</td>\n",
       "      <td>0.045856</td>\n",
       "      <td>1.000000</td>\n",
       "      <td>-0.037103</td>\n",
       "      <td>0.014095</td>\n",
       "      <td>0.027544</td>\n",
       "      <td>0.100734</td>\n",
       "      <td>0.000357</td>\n",
       "      <td>0.128674</td>\n",
       "      <td>0.002358</td>\n",
       "      <td>-0.016690</td>\n",
       "      <td>0.151062</td>\n",
       "      <td>-0.013674</td>\n",
       "      <td>0.010276</td>\n",
       "      <td>0.076332</td>\n",
       "      <td>0.066672</td>\n",
       "      <td>0.054313</td>\n",
       "      <td>0.088988</td>\n",
       "      <td>0.020529</td>\n",
       "    </tr>\n",
       "    <tr>\n",
       "      <th>EmpEnvironmentSatisfaction</th>\n",
       "      <td>0.013814</td>\n",
       "      <td>-0.017719</td>\n",
       "      <td>-0.037103</td>\n",
       "      <td>1.000000</td>\n",
       "      <td>-0.049501</td>\n",
       "      <td>0.004865</td>\n",
       "      <td>-0.008272</td>\n",
       "      <td>-0.004319</td>\n",
       "      <td>0.017270</td>\n",
       "      <td>-0.047271</td>\n",
       "      <td>-0.010504</td>\n",
       "      <td>-0.012894</td>\n",
       "      <td>0.001192</td>\n",
       "      <td>-0.000262</td>\n",
       "      <td>-0.000561</td>\n",
       "      <td>0.025491</td>\n",
       "      <td>0.010732</td>\n",
       "      <td>-0.011702</td>\n",
       "      <td>0.395561</td>\n",
       "    </tr>\n",
       "    <tr>\n",
       "      <th>EmpHourlyRate</th>\n",
       "      <td>0.062867</td>\n",
       "      <td>0.013730</td>\n",
       "      <td>0.014095</td>\n",
       "      <td>-0.049501</td>\n",
       "      <td>1.000000</td>\n",
       "      <td>0.054741</td>\n",
       "      <td>-0.018606</td>\n",
       "      <td>-0.066417</td>\n",
       "      <td>0.040484</td>\n",
       "      <td>-0.015934</td>\n",
       "      <td>0.008783</td>\n",
       "      <td>0.026034</td>\n",
       "      <td>-0.024160</td>\n",
       "      <td>0.016189</td>\n",
       "      <td>-0.000399</td>\n",
       "      <td>-0.011871</td>\n",
       "      <td>-0.010000</td>\n",
       "      <td>-0.004576</td>\n",
       "      <td>-0.043116</td>\n",
       "    </tr>\n",
       "    <tr>\n",
       "      <th>EmpJobInvolvement</th>\n",
       "      <td>0.027216</td>\n",
       "      <td>0.003231</td>\n",
       "      <td>0.027544</td>\n",
       "      <td>0.004865</td>\n",
       "      <td>0.054741</td>\n",
       "      <td>1.000000</td>\n",
       "      <td>-0.034349</td>\n",
       "      <td>-0.005501</td>\n",
       "      <td>0.018211</td>\n",
       "      <td>-0.001742</td>\n",
       "      <td>0.018037</td>\n",
       "      <td>-0.028851</td>\n",
       "      <td>-0.025168</td>\n",
       "      <td>-0.014129</td>\n",
       "      <td>-0.039720</td>\n",
       "      <td>0.002910</td>\n",
       "      <td>-0.019944</td>\n",
       "      <td>0.012924</td>\n",
       "      <td>-0.010539</td>\n",
       "    </tr>\n",
       "    <tr>\n",
       "      <th>EmpJobLevel</th>\n",
       "      <td>0.509139</td>\n",
       "      <td>0.017270</td>\n",
       "      <td>0.100734</td>\n",
       "      <td>-0.008272</td>\n",
       "      <td>-0.018606</td>\n",
       "      <td>-0.034349</td>\n",
       "      <td>1.000000</td>\n",
       "      <td>-0.011853</td>\n",
       "      <td>0.127477</td>\n",
       "      <td>-0.020975</td>\n",
       "      <td>0.002992</td>\n",
       "      <td>0.784229</td>\n",
       "      <td>-0.000389</td>\n",
       "      <td>0.049218</td>\n",
       "      <td>0.540377</td>\n",
       "      <td>0.399235</td>\n",
       "      <td>0.360880</td>\n",
       "      <td>0.374872</td>\n",
       "      <td>-0.076632</td>\n",
       "    </tr>\n",
       "    <tr>\n",
       "      <th>EmpJobSatisfaction</th>\n",
       "      <td>-0.002436</td>\n",
       "      <td>-0.003036</td>\n",
       "      <td>0.000357</td>\n",
       "      <td>-0.004319</td>\n",
       "      <td>-0.066417</td>\n",
       "      <td>-0.005501</td>\n",
       "      <td>-0.011853</td>\n",
       "      <td>1.000000</td>\n",
       "      <td>-0.049865</td>\n",
       "      <td>0.031847</td>\n",
       "      <td>-0.022028</td>\n",
       "      <td>-0.026824</td>\n",
       "      <td>-0.028031</td>\n",
       "      <td>-0.018548</td>\n",
       "      <td>0.001807</td>\n",
       "      <td>0.002018</td>\n",
       "      <td>-0.006508</td>\n",
       "      <td>-0.022096</td>\n",
       "      <td>0.000606</td>\n",
       "    </tr>\n",
       "    <tr>\n",
       "      <th>NumCompaniesWorked</th>\n",
       "      <td>0.284408</td>\n",
       "      <td>-0.021411</td>\n",
       "      <td>0.128674</td>\n",
       "      <td>0.017270</td>\n",
       "      <td>0.040484</td>\n",
       "      <td>0.018211</td>\n",
       "      <td>0.127477</td>\n",
       "      <td>-0.049865</td>\n",
       "      <td>1.000000</td>\n",
       "      <td>-0.011788</td>\n",
       "      <td>0.057917</td>\n",
       "      <td>0.221505</td>\n",
       "      <td>-0.050817</td>\n",
       "      <td>0.002489</td>\n",
       "      <td>-0.129797</td>\n",
       "      <td>-0.097271</td>\n",
       "      <td>-0.031656</td>\n",
       "      <td>-0.109937</td>\n",
       "      <td>0.020980</td>\n",
       "    </tr>\n",
       "    <tr>\n",
       "      <th>EmpLastSalaryHikePercent</th>\n",
       "      <td>-0.006105</td>\n",
       "      <td>0.044974</td>\n",
       "      <td>0.002358</td>\n",
       "      <td>-0.047271</td>\n",
       "      <td>-0.015934</td>\n",
       "      <td>-0.001742</td>\n",
       "      <td>-0.020975</td>\n",
       "      <td>0.031847</td>\n",
       "      <td>-0.011788</td>\n",
       "      <td>1.000000</td>\n",
       "      <td>-0.042892</td>\n",
       "      <td>-0.005933</td>\n",
       "      <td>-0.013439</td>\n",
       "      <td>-0.017001</td>\n",
       "      <td>-0.019830</td>\n",
       "      <td>-0.004957</td>\n",
       "      <td>-0.015911</td>\n",
       "      <td>-0.007666</td>\n",
       "      <td>0.333722</td>\n",
       "    </tr>\n",
       "    <tr>\n",
       "      <th>EmpRelationshipSatisfaction</th>\n",
       "      <td>0.049749</td>\n",
       "      <td>-0.009509</td>\n",
       "      <td>-0.016690</td>\n",
       "      <td>-0.010504</td>\n",
       "      <td>0.008783</td>\n",
       "      <td>0.018037</td>\n",
       "      <td>0.002992</td>\n",
       "      <td>-0.022028</td>\n",
       "      <td>0.057917</td>\n",
       "      <td>-0.042892</td>\n",
       "      <td>1.000000</td>\n",
       "      <td>0.018089</td>\n",
       "      <td>0.025975</td>\n",
       "      <td>-0.004906</td>\n",
       "      <td>0.015612</td>\n",
       "      <td>-0.032131</td>\n",
       "      <td>0.026253</td>\n",
       "      <td>-0.006426</td>\n",
       "      <td>-0.019502</td>\n",
       "    </tr>\n",
       "    <tr>\n",
       "      <th>TotalWorkExperienceInYears</th>\n",
       "      <td>0.680886</td>\n",
       "      <td>0.027306</td>\n",
       "      <td>0.151062</td>\n",
       "      <td>-0.012894</td>\n",
       "      <td>0.026034</td>\n",
       "      <td>-0.028851</td>\n",
       "      <td>0.784229</td>\n",
       "      <td>-0.026824</td>\n",
       "      <td>0.221505</td>\n",
       "      <td>-0.005933</td>\n",
       "      <td>0.018089</td>\n",
       "      <td>1.000000</td>\n",
       "      <td>-0.022113</td>\n",
       "      <td>0.015495</td>\n",
       "      <td>0.633555</td>\n",
       "      <td>0.460700</td>\n",
       "      <td>0.412781</td>\n",
       "      <td>0.460783</td>\n",
       "      <td>-0.068141</td>\n",
       "    </tr>\n",
       "    <tr>\n",
       "      <th>TrainingTimesLastYear</th>\n",
       "      <td>-0.016053</td>\n",
       "      <td>-0.032082</td>\n",
       "      <td>-0.013674</td>\n",
       "      <td>0.001192</td>\n",
       "      <td>-0.024160</td>\n",
       "      <td>-0.025168</td>\n",
       "      <td>-0.000389</td>\n",
       "      <td>-0.028031</td>\n",
       "      <td>-0.050817</td>\n",
       "      <td>-0.013439</td>\n",
       "      <td>0.025975</td>\n",
       "      <td>-0.022113</td>\n",
       "      <td>1.000000</td>\n",
       "      <td>0.037048</td>\n",
       "      <td>0.008564</td>\n",
       "      <td>0.010222</td>\n",
       "      <td>0.018831</td>\n",
       "      <td>-0.013237</td>\n",
       "      <td>-0.005443</td>\n",
       "    </tr>\n",
       "    <tr>\n",
       "      <th>EmpWorkLifeBalance</th>\n",
       "      <td>-0.019563</td>\n",
       "      <td>-0.044788</td>\n",
       "      <td>0.010276</td>\n",
       "      <td>-0.000262</td>\n",
       "      <td>0.016189</td>\n",
       "      <td>-0.014129</td>\n",
       "      <td>0.049218</td>\n",
       "      <td>-0.018548</td>\n",
       "      <td>0.002489</td>\n",
       "      <td>-0.017001</td>\n",
       "      <td>-0.004906</td>\n",
       "      <td>0.015495</td>\n",
       "      <td>0.037048</td>\n",
       "      <td>1.000000</td>\n",
       "      <td>0.023479</td>\n",
       "      <td>0.045719</td>\n",
       "      <td>0.015773</td>\n",
       "      <td>0.010518</td>\n",
       "      <td>0.124429</td>\n",
       "    </tr>\n",
       "    <tr>\n",
       "      <th>ExperienceYearsAtThisCompany</th>\n",
       "      <td>0.318852</td>\n",
       "      <td>0.021908</td>\n",
       "      <td>0.076332</td>\n",
       "      <td>-0.000561</td>\n",
       "      <td>-0.000399</td>\n",
       "      <td>-0.039720</td>\n",
       "      <td>0.540377</td>\n",
       "      <td>0.001807</td>\n",
       "      <td>-0.129797</td>\n",
       "      <td>-0.019830</td>\n",
       "      <td>0.015612</td>\n",
       "      <td>0.633555</td>\n",
       "      <td>0.008564</td>\n",
       "      <td>0.023479</td>\n",
       "      <td>1.000000</td>\n",
       "      <td>0.764102</td>\n",
       "      <td>0.620230</td>\n",
       "      <td>0.759258</td>\n",
       "      <td>-0.111645</td>\n",
       "    </tr>\n",
       "    <tr>\n",
       "      <th>ExperienceYearsInCurrentRole</th>\n",
       "      <td>0.217163</td>\n",
       "      <td>0.019898</td>\n",
       "      <td>0.066672</td>\n",
       "      <td>0.025491</td>\n",
       "      <td>-0.011871</td>\n",
       "      <td>0.002910</td>\n",
       "      <td>0.399235</td>\n",
       "      <td>0.002018</td>\n",
       "      <td>-0.097271</td>\n",
       "      <td>-0.004957</td>\n",
       "      <td>-0.032131</td>\n",
       "      <td>0.460700</td>\n",
       "      <td>0.010222</td>\n",
       "      <td>0.045719</td>\n",
       "      <td>0.764102</td>\n",
       "      <td>1.000000</td>\n",
       "      <td>0.540600</td>\n",
       "      <td>0.728973</td>\n",
       "      <td>-0.147638</td>\n",
       "    </tr>\n",
       "    <tr>\n",
       "      <th>YearsSinceLastPromotion</th>\n",
       "      <td>0.228199</td>\n",
       "      <td>0.013246</td>\n",
       "      <td>0.054313</td>\n",
       "      <td>0.010732</td>\n",
       "      <td>-0.010000</td>\n",
       "      <td>-0.019944</td>\n",
       "      <td>0.360880</td>\n",
       "      <td>-0.006508</td>\n",
       "      <td>-0.031656</td>\n",
       "      <td>-0.015911</td>\n",
       "      <td>0.026253</td>\n",
       "      <td>0.412781</td>\n",
       "      <td>0.018831</td>\n",
       "      <td>0.015773</td>\n",
       "      <td>0.620230</td>\n",
       "      <td>0.540600</td>\n",
       "      <td>1.000000</td>\n",
       "      <td>0.491199</td>\n",
       "      <td>-0.167629</td>\n",
       "    </tr>\n",
       "    <tr>\n",
       "      <th>YearsWithCurrManager</th>\n",
       "      <td>0.205098</td>\n",
       "      <td>0.017860</td>\n",
       "      <td>0.088988</td>\n",
       "      <td>-0.011702</td>\n",
       "      <td>-0.004576</td>\n",
       "      <td>0.012924</td>\n",
       "      <td>0.374872</td>\n",
       "      <td>-0.022096</td>\n",
       "      <td>-0.109937</td>\n",
       "      <td>-0.007666</td>\n",
       "      <td>-0.006426</td>\n",
       "      <td>0.460783</td>\n",
       "      <td>-0.013237</td>\n",
       "      <td>0.010518</td>\n",
       "      <td>0.759258</td>\n",
       "      <td>0.728973</td>\n",
       "      <td>0.491199</td>\n",
       "      <td>1.000000</td>\n",
       "      <td>-0.122313</td>\n",
       "    </tr>\n",
       "    <tr>\n",
       "      <th>PerformanceRating</th>\n",
       "      <td>-0.040164</td>\n",
       "      <td>-0.046142</td>\n",
       "      <td>0.020529</td>\n",
       "      <td>0.395561</td>\n",
       "      <td>-0.043116</td>\n",
       "      <td>-0.010539</td>\n",
       "      <td>-0.076632</td>\n",
       "      <td>0.000606</td>\n",
       "      <td>0.020980</td>\n",
       "      <td>0.333722</td>\n",
       "      <td>-0.019502</td>\n",
       "      <td>-0.068141</td>\n",
       "      <td>-0.005443</td>\n",
       "      <td>0.124429</td>\n",
       "      <td>-0.111645</td>\n",
       "      <td>-0.147638</td>\n",
       "      <td>-0.167629</td>\n",
       "      <td>-0.122313</td>\n",
       "      <td>1.000000</td>\n",
       "    </tr>\n",
       "  </tbody>\n",
       "</table>\n",
       "</div>"
      ],
      "text/plain": [
       "                                   Age  DistanceFromHome  EmpEducationLevel  \\\n",
       "Age                           1.000000          0.020937           0.207313   \n",
       "DistanceFromHome              0.020937          1.000000           0.045856   \n",
       "EmpEducationLevel             0.207313          0.045856           1.000000   \n",
       "EmpEnvironmentSatisfaction    0.013814         -0.017719          -0.037103   \n",
       "EmpHourlyRate                 0.062867          0.013730           0.014095   \n",
       "EmpJobInvolvement             0.027216          0.003231           0.027544   \n",
       "EmpJobLevel                   0.509139          0.017270           0.100734   \n",
       "EmpJobSatisfaction           -0.002436         -0.003036           0.000357   \n",
       "NumCompaniesWorked            0.284408         -0.021411           0.128674   \n",
       "EmpLastSalaryHikePercent     -0.006105          0.044974           0.002358   \n",
       "EmpRelationshipSatisfaction   0.049749         -0.009509          -0.016690   \n",
       "TotalWorkExperienceInYears    0.680886          0.027306           0.151062   \n",
       "TrainingTimesLastYear        -0.016053         -0.032082          -0.013674   \n",
       "EmpWorkLifeBalance           -0.019563         -0.044788           0.010276   \n",
       "ExperienceYearsAtThisCompany  0.318852          0.021908           0.076332   \n",
       "ExperienceYearsInCurrentRole  0.217163          0.019898           0.066672   \n",
       "YearsSinceLastPromotion       0.228199          0.013246           0.054313   \n",
       "YearsWithCurrManager          0.205098          0.017860           0.088988   \n",
       "PerformanceRating            -0.040164         -0.046142           0.020529   \n",
       "\n",
       "                              EmpEnvironmentSatisfaction  EmpHourlyRate  \\\n",
       "Age                                             0.013814       0.062867   \n",
       "DistanceFromHome                               -0.017719       0.013730   \n",
       "EmpEducationLevel                              -0.037103       0.014095   \n",
       "EmpEnvironmentSatisfaction                      1.000000      -0.049501   \n",
       "EmpHourlyRate                                  -0.049501       1.000000   \n",
       "EmpJobInvolvement                               0.004865       0.054741   \n",
       "EmpJobLevel                                    -0.008272      -0.018606   \n",
       "EmpJobSatisfaction                             -0.004319      -0.066417   \n",
       "NumCompaniesWorked                              0.017270       0.040484   \n",
       "EmpLastSalaryHikePercent                       -0.047271      -0.015934   \n",
       "EmpRelationshipSatisfaction                    -0.010504       0.008783   \n",
       "TotalWorkExperienceInYears                     -0.012894       0.026034   \n",
       "TrainingTimesLastYear                           0.001192      -0.024160   \n",
       "EmpWorkLifeBalance                             -0.000262       0.016189   \n",
       "ExperienceYearsAtThisCompany                   -0.000561      -0.000399   \n",
       "ExperienceYearsInCurrentRole                    0.025491      -0.011871   \n",
       "YearsSinceLastPromotion                         0.010732      -0.010000   \n",
       "YearsWithCurrManager                           -0.011702      -0.004576   \n",
       "PerformanceRating                               0.395561      -0.043116   \n",
       "\n",
       "                              EmpJobInvolvement  EmpJobLevel  \\\n",
       "Age                                    0.027216     0.509139   \n",
       "DistanceFromHome                       0.003231     0.017270   \n",
       "EmpEducationLevel                      0.027544     0.100734   \n",
       "EmpEnvironmentSatisfaction             0.004865    -0.008272   \n",
       "EmpHourlyRate                          0.054741    -0.018606   \n",
       "EmpJobInvolvement                      1.000000    -0.034349   \n",
       "EmpJobLevel                           -0.034349     1.000000   \n",
       "EmpJobSatisfaction                    -0.005501    -0.011853   \n",
       "NumCompaniesWorked                     0.018211     0.127477   \n",
       "EmpLastSalaryHikePercent              -0.001742    -0.020975   \n",
       "EmpRelationshipSatisfaction            0.018037     0.002992   \n",
       "TotalWorkExperienceInYears            -0.028851     0.784229   \n",
       "TrainingTimesLastYear                 -0.025168    -0.000389   \n",
       "EmpWorkLifeBalance                    -0.014129     0.049218   \n",
       "ExperienceYearsAtThisCompany          -0.039720     0.540377   \n",
       "ExperienceYearsInCurrentRole           0.002910     0.399235   \n",
       "YearsSinceLastPromotion               -0.019944     0.360880   \n",
       "YearsWithCurrManager                   0.012924     0.374872   \n",
       "PerformanceRating                     -0.010539    -0.076632   \n",
       "\n",
       "                              EmpJobSatisfaction  NumCompaniesWorked  \\\n",
       "Age                                    -0.002436            0.284408   \n",
       "DistanceFromHome                       -0.003036           -0.021411   \n",
       "EmpEducationLevel                       0.000357            0.128674   \n",
       "EmpEnvironmentSatisfaction             -0.004319            0.017270   \n",
       "EmpHourlyRate                          -0.066417            0.040484   \n",
       "EmpJobInvolvement                      -0.005501            0.018211   \n",
       "EmpJobLevel                            -0.011853            0.127477   \n",
       "EmpJobSatisfaction                      1.000000           -0.049865   \n",
       "NumCompaniesWorked                     -0.049865            1.000000   \n",
       "EmpLastSalaryHikePercent                0.031847           -0.011788   \n",
       "EmpRelationshipSatisfaction            -0.022028            0.057917   \n",
       "TotalWorkExperienceInYears             -0.026824            0.221505   \n",
       "TrainingTimesLastYear                  -0.028031           -0.050817   \n",
       "EmpWorkLifeBalance                     -0.018548            0.002489   \n",
       "ExperienceYearsAtThisCompany            0.001807           -0.129797   \n",
       "ExperienceYearsInCurrentRole            0.002018           -0.097271   \n",
       "YearsSinceLastPromotion                -0.006508           -0.031656   \n",
       "YearsWithCurrManager                   -0.022096           -0.109937   \n",
       "PerformanceRating                       0.000606            0.020980   \n",
       "\n",
       "                              EmpLastSalaryHikePercent  \\\n",
       "Age                                          -0.006105   \n",
       "DistanceFromHome                              0.044974   \n",
       "EmpEducationLevel                             0.002358   \n",
       "EmpEnvironmentSatisfaction                   -0.047271   \n",
       "EmpHourlyRate                                -0.015934   \n",
       "EmpJobInvolvement                            -0.001742   \n",
       "EmpJobLevel                                  -0.020975   \n",
       "EmpJobSatisfaction                            0.031847   \n",
       "NumCompaniesWorked                           -0.011788   \n",
       "EmpLastSalaryHikePercent                      1.000000   \n",
       "EmpRelationshipSatisfaction                  -0.042892   \n",
       "TotalWorkExperienceInYears                   -0.005933   \n",
       "TrainingTimesLastYear                        -0.013439   \n",
       "EmpWorkLifeBalance                           -0.017001   \n",
       "ExperienceYearsAtThisCompany                 -0.019830   \n",
       "ExperienceYearsInCurrentRole                 -0.004957   \n",
       "YearsSinceLastPromotion                      -0.015911   \n",
       "YearsWithCurrManager                         -0.007666   \n",
       "PerformanceRating                             0.333722   \n",
       "\n",
       "                              EmpRelationshipSatisfaction  \\\n",
       "Age                                              0.049749   \n",
       "DistanceFromHome                                -0.009509   \n",
       "EmpEducationLevel                               -0.016690   \n",
       "EmpEnvironmentSatisfaction                      -0.010504   \n",
       "EmpHourlyRate                                    0.008783   \n",
       "EmpJobInvolvement                                0.018037   \n",
       "EmpJobLevel                                      0.002992   \n",
       "EmpJobSatisfaction                              -0.022028   \n",
       "NumCompaniesWorked                               0.057917   \n",
       "EmpLastSalaryHikePercent                        -0.042892   \n",
       "EmpRelationshipSatisfaction                      1.000000   \n",
       "TotalWorkExperienceInYears                       0.018089   \n",
       "TrainingTimesLastYear                            0.025975   \n",
       "EmpWorkLifeBalance                              -0.004906   \n",
       "ExperienceYearsAtThisCompany                     0.015612   \n",
       "ExperienceYearsInCurrentRole                    -0.032131   \n",
       "YearsSinceLastPromotion                          0.026253   \n",
       "YearsWithCurrManager                            -0.006426   \n",
       "PerformanceRating                               -0.019502   \n",
       "\n",
       "                              TotalWorkExperienceInYears  \\\n",
       "Age                                             0.680886   \n",
       "DistanceFromHome                                0.027306   \n",
       "EmpEducationLevel                               0.151062   \n",
       "EmpEnvironmentSatisfaction                     -0.012894   \n",
       "EmpHourlyRate                                   0.026034   \n",
       "EmpJobInvolvement                              -0.028851   \n",
       "EmpJobLevel                                     0.784229   \n",
       "EmpJobSatisfaction                             -0.026824   \n",
       "NumCompaniesWorked                              0.221505   \n",
       "EmpLastSalaryHikePercent                       -0.005933   \n",
       "EmpRelationshipSatisfaction                     0.018089   \n",
       "TotalWorkExperienceInYears                      1.000000   \n",
       "TrainingTimesLastYear                          -0.022113   \n",
       "EmpWorkLifeBalance                              0.015495   \n",
       "ExperienceYearsAtThisCompany                    0.633555   \n",
       "ExperienceYearsInCurrentRole                    0.460700   \n",
       "YearsSinceLastPromotion                         0.412781   \n",
       "YearsWithCurrManager                            0.460783   \n",
       "PerformanceRating                              -0.068141   \n",
       "\n",
       "                              TrainingTimesLastYear  EmpWorkLifeBalance  \\\n",
       "Age                                       -0.016053           -0.019563   \n",
       "DistanceFromHome                          -0.032082           -0.044788   \n",
       "EmpEducationLevel                         -0.013674            0.010276   \n",
       "EmpEnvironmentSatisfaction                 0.001192           -0.000262   \n",
       "EmpHourlyRate                             -0.024160            0.016189   \n",
       "EmpJobInvolvement                         -0.025168           -0.014129   \n",
       "EmpJobLevel                               -0.000389            0.049218   \n",
       "EmpJobSatisfaction                        -0.028031           -0.018548   \n",
       "NumCompaniesWorked                        -0.050817            0.002489   \n",
       "EmpLastSalaryHikePercent                  -0.013439           -0.017001   \n",
       "EmpRelationshipSatisfaction                0.025975           -0.004906   \n",
       "TotalWorkExperienceInYears                -0.022113            0.015495   \n",
       "TrainingTimesLastYear                      1.000000            0.037048   \n",
       "EmpWorkLifeBalance                         0.037048            1.000000   \n",
       "ExperienceYearsAtThisCompany               0.008564            0.023479   \n",
       "ExperienceYearsInCurrentRole               0.010222            0.045719   \n",
       "YearsSinceLastPromotion                    0.018831            0.015773   \n",
       "YearsWithCurrManager                      -0.013237            0.010518   \n",
       "PerformanceRating                         -0.005443            0.124429   \n",
       "\n",
       "                              ExperienceYearsAtThisCompany  \\\n",
       "Age                                               0.318852   \n",
       "DistanceFromHome                                  0.021908   \n",
       "EmpEducationLevel                                 0.076332   \n",
       "EmpEnvironmentSatisfaction                       -0.000561   \n",
       "EmpHourlyRate                                    -0.000399   \n",
       "EmpJobInvolvement                                -0.039720   \n",
       "EmpJobLevel                                       0.540377   \n",
       "EmpJobSatisfaction                                0.001807   \n",
       "NumCompaniesWorked                               -0.129797   \n",
       "EmpLastSalaryHikePercent                         -0.019830   \n",
       "EmpRelationshipSatisfaction                       0.015612   \n",
       "TotalWorkExperienceInYears                        0.633555   \n",
       "TrainingTimesLastYear                             0.008564   \n",
       "EmpWorkLifeBalance                                0.023479   \n",
       "ExperienceYearsAtThisCompany                      1.000000   \n",
       "ExperienceYearsInCurrentRole                      0.764102   \n",
       "YearsSinceLastPromotion                           0.620230   \n",
       "YearsWithCurrManager                              0.759258   \n",
       "PerformanceRating                                -0.111645   \n",
       "\n",
       "                              ExperienceYearsInCurrentRole  \\\n",
       "Age                                               0.217163   \n",
       "DistanceFromHome                                  0.019898   \n",
       "EmpEducationLevel                                 0.066672   \n",
       "EmpEnvironmentSatisfaction                        0.025491   \n",
       "EmpHourlyRate                                    -0.011871   \n",
       "EmpJobInvolvement                                 0.002910   \n",
       "EmpJobLevel                                       0.399235   \n",
       "EmpJobSatisfaction                                0.002018   \n",
       "NumCompaniesWorked                               -0.097271   \n",
       "EmpLastSalaryHikePercent                         -0.004957   \n",
       "EmpRelationshipSatisfaction                      -0.032131   \n",
       "TotalWorkExperienceInYears                        0.460700   \n",
       "TrainingTimesLastYear                             0.010222   \n",
       "EmpWorkLifeBalance                                0.045719   \n",
       "ExperienceYearsAtThisCompany                      0.764102   \n",
       "ExperienceYearsInCurrentRole                      1.000000   \n",
       "YearsSinceLastPromotion                           0.540600   \n",
       "YearsWithCurrManager                              0.728973   \n",
       "PerformanceRating                                -0.147638   \n",
       "\n",
       "                              YearsSinceLastPromotion  YearsWithCurrManager  \\\n",
       "Age                                          0.228199              0.205098   \n",
       "DistanceFromHome                             0.013246              0.017860   \n",
       "EmpEducationLevel                            0.054313              0.088988   \n",
       "EmpEnvironmentSatisfaction                   0.010732             -0.011702   \n",
       "EmpHourlyRate                               -0.010000             -0.004576   \n",
       "EmpJobInvolvement                           -0.019944              0.012924   \n",
       "EmpJobLevel                                  0.360880              0.374872   \n",
       "EmpJobSatisfaction                          -0.006508             -0.022096   \n",
       "NumCompaniesWorked                          -0.031656             -0.109937   \n",
       "EmpLastSalaryHikePercent                    -0.015911             -0.007666   \n",
       "EmpRelationshipSatisfaction                  0.026253             -0.006426   \n",
       "TotalWorkExperienceInYears                   0.412781              0.460783   \n",
       "TrainingTimesLastYear                        0.018831             -0.013237   \n",
       "EmpWorkLifeBalance                           0.015773              0.010518   \n",
       "ExperienceYearsAtThisCompany                 0.620230              0.759258   \n",
       "ExperienceYearsInCurrentRole                 0.540600              0.728973   \n",
       "YearsSinceLastPromotion                      1.000000              0.491199   \n",
       "YearsWithCurrManager                         0.491199              1.000000   \n",
       "PerformanceRating                           -0.167629             -0.122313   \n",
       "\n",
       "                              PerformanceRating  \n",
       "Age                                   -0.040164  \n",
       "DistanceFromHome                      -0.046142  \n",
       "EmpEducationLevel                      0.020529  \n",
       "EmpEnvironmentSatisfaction             0.395561  \n",
       "EmpHourlyRate                         -0.043116  \n",
       "EmpJobInvolvement                     -0.010539  \n",
       "EmpJobLevel                           -0.076632  \n",
       "EmpJobSatisfaction                     0.000606  \n",
       "NumCompaniesWorked                     0.020980  \n",
       "EmpLastSalaryHikePercent               0.333722  \n",
       "EmpRelationshipSatisfaction           -0.019502  \n",
       "TotalWorkExperienceInYears            -0.068141  \n",
       "TrainingTimesLastYear                 -0.005443  \n",
       "EmpWorkLifeBalance                     0.124429  \n",
       "ExperienceYearsAtThisCompany          -0.111645  \n",
       "ExperienceYearsInCurrentRole          -0.147638  \n",
       "YearsSinceLastPromotion               -0.167629  \n",
       "YearsWithCurrManager                  -0.122313  \n",
       "PerformanceRating                      1.000000  "
      ]
     },
     "execution_count": 4,
     "metadata": {},
     "output_type": "execute_result"
    }
   ],
   "source": [
    "# Finding out the correlation coeffecient to find out which predictors are significant.\n",
    "df.corr()"
   ]
  },
  {
   "cell_type": "code",
   "execution_count": 5,
   "id": "eab088d7",
   "metadata": {},
   "outputs": [
    {
     "data": {
      "text/html": [
       "<div>\n",
       "<style scoped>\n",
       "    .dataframe tbody tr th:only-of-type {\n",
       "        vertical-align: middle;\n",
       "    }\n",
       "\n",
       "    .dataframe tbody tr th {\n",
       "        vertical-align: top;\n",
       "    }\n",
       "\n",
       "    .dataframe thead th {\n",
       "        text-align: right;\n",
       "    }\n",
       "</style>\n",
       "<table border=\"1\" class=\"dataframe\">\n",
       "  <thead>\n",
       "    <tr style=\"text-align: right;\">\n",
       "      <th></th>\n",
       "      <th>EmpNumber</th>\n",
       "      <th>Age</th>\n",
       "      <th>Gender</th>\n",
       "      <th>EducationBackground</th>\n",
       "      <th>MaritalStatus</th>\n",
       "      <th>EmpDepartment</th>\n",
       "      <th>EmpJobRole</th>\n",
       "      <th>BusinessTravelFrequency</th>\n",
       "      <th>DistanceFromHome</th>\n",
       "      <th>EmpEducationLevel</th>\n",
       "      <th>...</th>\n",
       "      <th>EmpRelationshipSatisfaction</th>\n",
       "      <th>TotalWorkExperienceInYears</th>\n",
       "      <th>TrainingTimesLastYear</th>\n",
       "      <th>EmpWorkLifeBalance</th>\n",
       "      <th>ExperienceYearsAtThisCompany</th>\n",
       "      <th>ExperienceYearsInCurrentRole</th>\n",
       "      <th>YearsSinceLastPromotion</th>\n",
       "      <th>YearsWithCurrManager</th>\n",
       "      <th>Attrition</th>\n",
       "      <th>PerformanceRating</th>\n",
       "    </tr>\n",
       "  </thead>\n",
       "  <tbody>\n",
       "    <tr>\n",
       "      <th>0</th>\n",
       "      <td>E1001000</td>\n",
       "      <td>32</td>\n",
       "      <td>1</td>\n",
       "      <td>2</td>\n",
       "      <td>2</td>\n",
       "      <td>5</td>\n",
       "      <td>13</td>\n",
       "      <td>2</td>\n",
       "      <td>10</td>\n",
       "      <td>3</td>\n",
       "      <td>...</td>\n",
       "      <td>4</td>\n",
       "      <td>10</td>\n",
       "      <td>2</td>\n",
       "      <td>2</td>\n",
       "      <td>10</td>\n",
       "      <td>7</td>\n",
       "      <td>0</td>\n",
       "      <td>8</td>\n",
       "      <td>0</td>\n",
       "      <td>3</td>\n",
       "    </tr>\n",
       "    <tr>\n",
       "      <th>1</th>\n",
       "      <td>E1001006</td>\n",
       "      <td>47</td>\n",
       "      <td>1</td>\n",
       "      <td>2</td>\n",
       "      <td>2</td>\n",
       "      <td>5</td>\n",
       "      <td>13</td>\n",
       "      <td>2</td>\n",
       "      <td>14</td>\n",
       "      <td>4</td>\n",
       "      <td>...</td>\n",
       "      <td>4</td>\n",
       "      <td>20</td>\n",
       "      <td>2</td>\n",
       "      <td>3</td>\n",
       "      <td>7</td>\n",
       "      <td>7</td>\n",
       "      <td>1</td>\n",
       "      <td>7</td>\n",
       "      <td>0</td>\n",
       "      <td>3</td>\n",
       "    </tr>\n",
       "    <tr>\n",
       "      <th>2</th>\n",
       "      <td>E1001007</td>\n",
       "      <td>40</td>\n",
       "      <td>1</td>\n",
       "      <td>1</td>\n",
       "      <td>1</td>\n",
       "      <td>5</td>\n",
       "      <td>13</td>\n",
       "      <td>1</td>\n",
       "      <td>5</td>\n",
       "      <td>4</td>\n",
       "      <td>...</td>\n",
       "      <td>3</td>\n",
       "      <td>20</td>\n",
       "      <td>2</td>\n",
       "      <td>3</td>\n",
       "      <td>18</td>\n",
       "      <td>13</td>\n",
       "      <td>1</td>\n",
       "      <td>12</td>\n",
       "      <td>0</td>\n",
       "      <td>4</td>\n",
       "    </tr>\n",
       "    <tr>\n",
       "      <th>3</th>\n",
       "      <td>E1001009</td>\n",
       "      <td>41</td>\n",
       "      <td>1</td>\n",
       "      <td>0</td>\n",
       "      <td>0</td>\n",
       "      <td>3</td>\n",
       "      <td>8</td>\n",
       "      <td>2</td>\n",
       "      <td>10</td>\n",
       "      <td>4</td>\n",
       "      <td>...</td>\n",
       "      <td>2</td>\n",
       "      <td>23</td>\n",
       "      <td>2</td>\n",
       "      <td>2</td>\n",
       "      <td>21</td>\n",
       "      <td>6</td>\n",
       "      <td>12</td>\n",
       "      <td>6</td>\n",
       "      <td>0</td>\n",
       "      <td>3</td>\n",
       "    </tr>\n",
       "    <tr>\n",
       "      <th>4</th>\n",
       "      <td>E1001010</td>\n",
       "      <td>60</td>\n",
       "      <td>1</td>\n",
       "      <td>2</td>\n",
       "      <td>2</td>\n",
       "      <td>5</td>\n",
       "      <td>13</td>\n",
       "      <td>2</td>\n",
       "      <td>16</td>\n",
       "      <td>4</td>\n",
       "      <td>...</td>\n",
       "      <td>4</td>\n",
       "      <td>10</td>\n",
       "      <td>1</td>\n",
       "      <td>3</td>\n",
       "      <td>2</td>\n",
       "      <td>2</td>\n",
       "      <td>2</td>\n",
       "      <td>2</td>\n",
       "      <td>0</td>\n",
       "      <td>3</td>\n",
       "    </tr>\n",
       "  </tbody>\n",
       "</table>\n",
       "<p>5 rows × 28 columns</p>\n",
       "</div>"
      ],
      "text/plain": [
       "  EmpNumber  Age  Gender  EducationBackground  MaritalStatus  EmpDepartment  \\\n",
       "0  E1001000   32       1                    2              2              5   \n",
       "1  E1001006   47       1                    2              2              5   \n",
       "2  E1001007   40       1                    1              1              5   \n",
       "3  E1001009   41       1                    0              0              3   \n",
       "4  E1001010   60       1                    2              2              5   \n",
       "\n",
       "   EmpJobRole  BusinessTravelFrequency  DistanceFromHome  EmpEducationLevel  \\\n",
       "0          13                        2                10                  3   \n",
       "1          13                        2                14                  4   \n",
       "2          13                        1                 5                  4   \n",
       "3           8                        2                10                  4   \n",
       "4          13                        2                16                  4   \n",
       "\n",
       "   ...  EmpRelationshipSatisfaction  TotalWorkExperienceInYears  \\\n",
       "0  ...                            4                          10   \n",
       "1  ...                            4                          20   \n",
       "2  ...                            3                          20   \n",
       "3  ...                            2                          23   \n",
       "4  ...                            4                          10   \n",
       "\n",
       "   TrainingTimesLastYear  EmpWorkLifeBalance  ExperienceYearsAtThisCompany  \\\n",
       "0                      2                   2                            10   \n",
       "1                      2                   3                             7   \n",
       "2                      2                   3                            18   \n",
       "3                      2                   2                            21   \n",
       "4                      1                   3                             2   \n",
       "\n",
       "   ExperienceYearsInCurrentRole  YearsSinceLastPromotion  \\\n",
       "0                             7                        0   \n",
       "1                             7                        1   \n",
       "2                            13                        1   \n",
       "3                             6                       12   \n",
       "4                             2                        2   \n",
       "\n",
       "   YearsWithCurrManager  Attrition  PerformanceRating  \n",
       "0                     8          0                  3  \n",
       "1                     7          0                  3  \n",
       "2                    12          0                  4  \n",
       "3                     6          0                  3  \n",
       "4                     2          0                  3  \n",
       "\n",
       "[5 rows x 28 columns]"
      ]
     },
     "execution_count": 5,
     "metadata": {},
     "output_type": "execute_result"
    }
   ],
   "source": [
    "# Encoding all the ordinal columns and creating a dummy variable for them to see if there are any effects on Performance Rating\n",
    "enc = LabelEncoder()\n",
    "for i in (2,3,4,5,6,7,16,26):\n",
    "    df.iloc[:,i] = enc.fit_transform(df.iloc[:,i])\n",
    "df.head()"
   ]
  },
  {
   "cell_type": "code",
   "execution_count": 6,
   "id": "a4b155e2",
   "metadata": {},
   "outputs": [],
   "source": [
    "# Dropping the first columns as it is of no use for analysis.\n",
    "df.drop(['EmpNumber'],inplace=True,axis=1)"
   ]
  },
  {
   "cell_type": "code",
   "execution_count": 7,
   "id": "8ca8fc4b",
   "metadata": {},
   "outputs": [
    {
     "data": {
      "text/html": [
       "<div>\n",
       "<style scoped>\n",
       "    .dataframe tbody tr th:only-of-type {\n",
       "        vertical-align: middle;\n",
       "    }\n",
       "\n",
       "    .dataframe tbody tr th {\n",
       "        vertical-align: top;\n",
       "    }\n",
       "\n",
       "    .dataframe thead th {\n",
       "        text-align: right;\n",
       "    }\n",
       "</style>\n",
       "<table border=\"1\" class=\"dataframe\">\n",
       "  <thead>\n",
       "    <tr style=\"text-align: right;\">\n",
       "      <th></th>\n",
       "      <th>EmpDepartment</th>\n",
       "      <th>EmpJobRole</th>\n",
       "      <th>EmpEnvironmentSatisfaction</th>\n",
       "      <th>EmpLastSalaryHikePercent</th>\n",
       "      <th>EmpWorkLifeBalance</th>\n",
       "      <th>ExperienceYearsAtThisCompany</th>\n",
       "      <th>ExperienceYearsInCurrentRole</th>\n",
       "      <th>YearsSinceLastPromotion</th>\n",
       "      <th>YearsWithCurrManager</th>\n",
       "    </tr>\n",
       "  </thead>\n",
       "  <tbody>\n",
       "    <tr>\n",
       "      <th>0</th>\n",
       "      <td>5</td>\n",
       "      <td>13</td>\n",
       "      <td>4</td>\n",
       "      <td>12</td>\n",
       "      <td>2</td>\n",
       "      <td>10</td>\n",
       "      <td>7</td>\n",
       "      <td>0</td>\n",
       "      <td>8</td>\n",
       "    </tr>\n",
       "    <tr>\n",
       "      <th>1</th>\n",
       "      <td>5</td>\n",
       "      <td>13</td>\n",
       "      <td>4</td>\n",
       "      <td>12</td>\n",
       "      <td>3</td>\n",
       "      <td>7</td>\n",
       "      <td>7</td>\n",
       "      <td>1</td>\n",
       "      <td>7</td>\n",
       "    </tr>\n",
       "    <tr>\n",
       "      <th>2</th>\n",
       "      <td>5</td>\n",
       "      <td>13</td>\n",
       "      <td>4</td>\n",
       "      <td>21</td>\n",
       "      <td>3</td>\n",
       "      <td>18</td>\n",
       "      <td>13</td>\n",
       "      <td>1</td>\n",
       "      <td>12</td>\n",
       "    </tr>\n",
       "    <tr>\n",
       "      <th>3</th>\n",
       "      <td>3</td>\n",
       "      <td>8</td>\n",
       "      <td>2</td>\n",
       "      <td>15</td>\n",
       "      <td>2</td>\n",
       "      <td>21</td>\n",
       "      <td>6</td>\n",
       "      <td>12</td>\n",
       "      <td>6</td>\n",
       "    </tr>\n",
       "    <tr>\n",
       "      <th>4</th>\n",
       "      <td>5</td>\n",
       "      <td>13</td>\n",
       "      <td>1</td>\n",
       "      <td>14</td>\n",
       "      <td>3</td>\n",
       "      <td>2</td>\n",
       "      <td>2</td>\n",
       "      <td>2</td>\n",
       "      <td>2</td>\n",
       "    </tr>\n",
       "  </tbody>\n",
       "</table>\n",
       "</div>"
      ],
      "text/plain": [
       "   EmpDepartment  EmpJobRole  EmpEnvironmentSatisfaction  \\\n",
       "0              5          13                           4   \n",
       "1              5          13                           4   \n",
       "2              5          13                           4   \n",
       "3              3           8                           2   \n",
       "4              5          13                           1   \n",
       "\n",
       "   EmpLastSalaryHikePercent  EmpWorkLifeBalance  ExperienceYearsAtThisCompany  \\\n",
       "0                        12                   2                            10   \n",
       "1                        12                   3                             7   \n",
       "2                        21                   3                            18   \n",
       "3                        15                   2                            21   \n",
       "4                        14                   3                             2   \n",
       "\n",
       "   ExperienceYearsInCurrentRole  YearsSinceLastPromotion  YearsWithCurrManager  \n",
       "0                             7                        0                     8  \n",
       "1                             7                        1                     7  \n",
       "2                            13                        1                    12  \n",
       "3                             6                       12                     6  \n",
       "4                             2                        2                     2  "
      ]
     },
     "execution_count": 7,
     "metadata": {},
     "output_type": "execute_result"
    }
   ],
   "source": [
    "# Here we have selected only the important columns\n",
    "\n",
    "y = df.PerformanceRating\n",
    "#X = df.iloc[:,0:-1]  All predictors were selected it resulted in dropping of accuracy.\n",
    "X = df.iloc[:,[4,5,9,16,20,21,22,23,24]] # Taking only variables with correlation coeffecient greater than 0.1\n",
    "X.head()"
   ]
  },
  {
   "cell_type": "markdown",
   "id": "37ed9b67",
   "metadata": {},
   "source": [
    "## Splitting Data into Train and Test sets\n"
   ]
  },
  {
   "cell_type": "code",
   "execution_count": 8,
   "id": "c2c4eb44",
   "metadata": {},
   "outputs": [],
   "source": [
    "# Splitting into train and test for calculating the accuracy\n",
    "X_train, X_test, y_train, y_test = train_test_split(X,y,test_size=0.3,random_state=10)"
   ]
  },
  {
   "cell_type": "code",
   "execution_count": 9,
   "id": "1c39422e",
   "metadata": {},
   "outputs": [],
   "source": [
    "# Standardization technique is used\n",
    "\n",
    "sc = StandardScaler()\n",
    "X_train = sc.fit_transform(X_train)\n",
    "X_test = sc.transform(X_test)"
   ]
  },
  {
   "cell_type": "code",
   "execution_count": 10,
   "id": "8c6e1ce6",
   "metadata": {},
   "outputs": [
    {
     "data": {
      "text/plain": [
       "(840, 9)"
      ]
     },
     "execution_count": 10,
     "metadata": {},
     "output_type": "execute_result"
    }
   ],
   "source": [
    "X_train.shape"
   ]
  },
  {
   "cell_type": "code",
   "execution_count": 11,
   "id": "36441b5f",
   "metadata": {},
   "outputs": [
    {
     "data": {
      "text/plain": [
       "(360, 9)"
      ]
     },
     "execution_count": 11,
     "metadata": {},
     "output_type": "execute_result"
    }
   ],
   "source": [
    "X_test.shape"
   ]
  },
  {
   "cell_type": "markdown",
   "id": "70d38d7d",
   "metadata": {},
   "source": [
    "##  1. Logistic Regression"
   ]
  },
  {
   "cell_type": "code",
   "execution_count": 12,
   "id": "62003e1a",
   "metadata": {},
   "outputs": [],
   "source": [
    "# loading the logistic regression model\n",
    "\n",
    "model=LogisticRegression(multi_class=\"ovr\") "
   ]
  },
  {
   "cell_type": "code",
   "execution_count": 13,
   "id": "8ee0713b",
   "metadata": {},
   "outputs": [
    {
     "data": {
      "text/html": [
       "<style>#sk-container-id-1 {color: black;background-color: white;}#sk-container-id-1 pre{padding: 0;}#sk-container-id-1 div.sk-toggleable {background-color: white;}#sk-container-id-1 label.sk-toggleable__label {cursor: pointer;display: block;width: 100%;margin-bottom: 0;padding: 0.3em;box-sizing: border-box;text-align: center;}#sk-container-id-1 label.sk-toggleable__label-arrow:before {content: \"▸\";float: left;margin-right: 0.25em;color: #696969;}#sk-container-id-1 label.sk-toggleable__label-arrow:hover:before {color: black;}#sk-container-id-1 div.sk-estimator:hover label.sk-toggleable__label-arrow:before {color: black;}#sk-container-id-1 div.sk-toggleable__content {max-height: 0;max-width: 0;overflow: hidden;text-align: left;background-color: #f0f8ff;}#sk-container-id-1 div.sk-toggleable__content pre {margin: 0.2em;color: black;border-radius: 0.25em;background-color: #f0f8ff;}#sk-container-id-1 input.sk-toggleable__control:checked~div.sk-toggleable__content {max-height: 200px;max-width: 100%;overflow: auto;}#sk-container-id-1 input.sk-toggleable__control:checked~label.sk-toggleable__label-arrow:before {content: \"▾\";}#sk-container-id-1 div.sk-estimator input.sk-toggleable__control:checked~label.sk-toggleable__label {background-color: #d4ebff;}#sk-container-id-1 div.sk-label input.sk-toggleable__control:checked~label.sk-toggleable__label {background-color: #d4ebff;}#sk-container-id-1 input.sk-hidden--visually {border: 0;clip: rect(1px 1px 1px 1px);clip: rect(1px, 1px, 1px, 1px);height: 1px;margin: -1px;overflow: hidden;padding: 0;position: absolute;width: 1px;}#sk-container-id-1 div.sk-estimator {font-family: monospace;background-color: #f0f8ff;border: 1px dotted black;border-radius: 0.25em;box-sizing: border-box;margin-bottom: 0.5em;}#sk-container-id-1 div.sk-estimator:hover {background-color: #d4ebff;}#sk-container-id-1 div.sk-parallel-item::after {content: \"\";width: 100%;border-bottom: 1px solid gray;flex-grow: 1;}#sk-container-id-1 div.sk-label:hover label.sk-toggleable__label {background-color: #d4ebff;}#sk-container-id-1 div.sk-serial::before {content: \"\";position: absolute;border-left: 1px solid gray;box-sizing: border-box;top: 0;bottom: 0;left: 50%;z-index: 0;}#sk-container-id-1 div.sk-serial {display: flex;flex-direction: column;align-items: center;background-color: white;padding-right: 0.2em;padding-left: 0.2em;position: relative;}#sk-container-id-1 div.sk-item {position: relative;z-index: 1;}#sk-container-id-1 div.sk-parallel {display: flex;align-items: stretch;justify-content: center;background-color: white;position: relative;}#sk-container-id-1 div.sk-item::before, #sk-container-id-1 div.sk-parallel-item::before {content: \"\";position: absolute;border-left: 1px solid gray;box-sizing: border-box;top: 0;bottom: 0;left: 50%;z-index: -1;}#sk-container-id-1 div.sk-parallel-item {display: flex;flex-direction: column;z-index: 1;position: relative;background-color: white;}#sk-container-id-1 div.sk-parallel-item:first-child::after {align-self: flex-end;width: 50%;}#sk-container-id-1 div.sk-parallel-item:last-child::after {align-self: flex-start;width: 50%;}#sk-container-id-1 div.sk-parallel-item:only-child::after {width: 0;}#sk-container-id-1 div.sk-dashed-wrapped {border: 1px dashed gray;margin: 0 0.4em 0.5em 0.4em;box-sizing: border-box;padding-bottom: 0.4em;background-color: white;}#sk-container-id-1 div.sk-label label {font-family: monospace;font-weight: bold;display: inline-block;line-height: 1.2em;}#sk-container-id-1 div.sk-label-container {text-align: center;}#sk-container-id-1 div.sk-container {/* jupyter's `normalize.less` sets `[hidden] { display: none; }` but bootstrap.min.css set `[hidden] { display: none !important; }` so we also need the `!important` here to be able to override the default hidden behavior on the sphinx rendered scikit-learn.org. See: https://github.com/scikit-learn/scikit-learn/issues/21755 */display: inline-block !important;position: relative;}#sk-container-id-1 div.sk-text-repr-fallback {display: none;}</style><div id=\"sk-container-id-1\" class=\"sk-top-container\"><div class=\"sk-text-repr-fallback\"><pre>LogisticRegression(multi_class=&#x27;ovr&#x27;)</pre><b>In a Jupyter environment, please rerun this cell to show the HTML representation or trust the notebook. <br />On GitHub, the HTML representation is unable to render, please try loading this page with nbviewer.org.</b></div><div class=\"sk-container\" hidden><div class=\"sk-item\"><div class=\"sk-estimator sk-toggleable\"><input class=\"sk-toggleable__control sk-hidden--visually\" id=\"sk-estimator-id-1\" type=\"checkbox\" checked><label for=\"sk-estimator-id-1\" class=\"sk-toggleable__label sk-toggleable__label-arrow\">LogisticRegression</label><div class=\"sk-toggleable__content\"><pre>LogisticRegression(multi_class=&#x27;ovr&#x27;)</pre></div></div></div></div></div>"
      ],
      "text/plain": [
       "LogisticRegression(multi_class='ovr')"
      ]
     },
     "execution_count": 13,
     "metadata": {},
     "output_type": "execute_result"
    }
   ],
   "source": [
    "# fitting the data in the model\n",
    "\n",
    "model.fit(X_train,y_train)"
   ]
  },
  {
   "cell_type": "code",
   "execution_count": 14,
   "id": "b68972f7",
   "metadata": {},
   "outputs": [],
   "source": [
    "#pred the model with train and test data\n",
    "logmodel_pred=model.predict(X_train)\n",
    "logmodel_pred_test = model.predict(X_test)"
   ]
  },
  {
   "cell_type": "code",
   "execution_count": 15,
   "id": "2f7aa056",
   "metadata": {},
   "outputs": [
    {
     "name": "stdout",
     "output_type": "stream",
     "text": [
      "[[ 25  35   3]\n",
      " [  9 253   2]\n",
      " [  3  13  17]]\n"
     ]
    }
   ],
   "source": [
    " # confusion matrix of the test data\n",
    "print(confusion_matrix(y_test,logmodel_pred_test))"
   ]
  },
  {
   "cell_type": "code",
   "execution_count": 16,
   "id": "0d811360",
   "metadata": {},
   "outputs": [
    {
     "data": {
      "text/html": [
       "<div>\n",
       "<style scoped>\n",
       "    .dataframe tbody tr th:only-of-type {\n",
       "        vertical-align: middle;\n",
       "    }\n",
       "\n",
       "    .dataframe tbody tr th {\n",
       "        vertical-align: top;\n",
       "    }\n",
       "\n",
       "    .dataframe thead th {\n",
       "        text-align: right;\n",
       "    }\n",
       "</style>\n",
       "<table border=\"1\" class=\"dataframe\">\n",
       "  <thead>\n",
       "    <tr style=\"text-align: right;\">\n",
       "      <th></th>\n",
       "      <th>2</th>\n",
       "      <th>3</th>\n",
       "      <th>4</th>\n",
       "      <th>accuracy</th>\n",
       "      <th>macro avg</th>\n",
       "      <th>weighted avg</th>\n",
       "    </tr>\n",
       "  </thead>\n",
       "  <tbody>\n",
       "    <tr>\n",
       "      <th>precision</th>\n",
       "      <td>0.593023</td>\n",
       "      <td>0.821221</td>\n",
       "      <td>0.803030</td>\n",
       "      <td>0.796429</td>\n",
       "      <td>0.739091</td>\n",
       "      <td>0.783489</td>\n",
       "    </tr>\n",
       "    <tr>\n",
       "      <th>recall</th>\n",
       "      <td>0.389313</td>\n",
       "      <td>0.926230</td>\n",
       "      <td>0.535354</td>\n",
       "      <td>0.796429</td>\n",
       "      <td>0.616965</td>\n",
       "      <td>0.796429</td>\n",
       "    </tr>\n",
       "    <tr>\n",
       "      <th>f1-score</th>\n",
       "      <td>0.470046</td>\n",
       "      <td>0.870570</td>\n",
       "      <td>0.642424</td>\n",
       "      <td>0.796429</td>\n",
       "      <td>0.661013</td>\n",
       "      <td>0.781219</td>\n",
       "    </tr>\n",
       "    <tr>\n",
       "      <th>support</th>\n",
       "      <td>131.000000</td>\n",
       "      <td>610.000000</td>\n",
       "      <td>99.000000</td>\n",
       "      <td>0.796429</td>\n",
       "      <td>840.000000</td>\n",
       "      <td>840.000000</td>\n",
       "    </tr>\n",
       "  </tbody>\n",
       "</table>\n",
       "</div>"
      ],
      "text/plain": [
       "                    2           3          4  accuracy   macro avg  \\\n",
       "precision    0.593023    0.821221   0.803030  0.796429    0.739091   \n",
       "recall       0.389313    0.926230   0.535354  0.796429    0.616965   \n",
       "f1-score     0.470046    0.870570   0.642424  0.796429    0.661013   \n",
       "support    131.000000  610.000000  99.000000  0.796429  840.000000   \n",
       "\n",
       "           weighted avg  \n",
       "precision      0.783489  \n",
       "recall         0.796429  \n",
       "f1-score       0.781219  \n",
       "support      840.000000  "
      ]
     },
     "execution_count": 16,
     "metadata": {},
     "output_type": "execute_result"
    }
   ],
   "source": [
    "# classification report of the training dataset\n",
    "pd.DataFrame(classification_report(y_train,logmodel_pred,output_dict=True))"
   ]
  },
  {
   "cell_type": "code",
   "execution_count": 17,
   "id": "70f0e873",
   "metadata": {},
   "outputs": [
    {
     "data": {
      "text/html": [
       "<div>\n",
       "<style scoped>\n",
       "    .dataframe tbody tr th:only-of-type {\n",
       "        vertical-align: middle;\n",
       "    }\n",
       "\n",
       "    .dataframe tbody tr th {\n",
       "        vertical-align: top;\n",
       "    }\n",
       "\n",
       "    .dataframe thead th {\n",
       "        text-align: right;\n",
       "    }\n",
       "</style>\n",
       "<table border=\"1\" class=\"dataframe\">\n",
       "  <thead>\n",
       "    <tr style=\"text-align: right;\">\n",
       "      <th></th>\n",
       "      <th>2</th>\n",
       "      <th>3</th>\n",
       "      <th>4</th>\n",
       "      <th>accuracy</th>\n",
       "      <th>macro avg</th>\n",
       "      <th>weighted avg</th>\n",
       "    </tr>\n",
       "  </thead>\n",
       "  <tbody>\n",
       "    <tr>\n",
       "      <th>precision</th>\n",
       "      <td>0.675676</td>\n",
       "      <td>0.840532</td>\n",
       "      <td>0.772727</td>\n",
       "      <td>0.819444</td>\n",
       "      <td>0.762978</td>\n",
       "      <td>0.805466</td>\n",
       "    </tr>\n",
       "    <tr>\n",
       "      <th>recall</th>\n",
       "      <td>0.396825</td>\n",
       "      <td>0.958333</td>\n",
       "      <td>0.515152</td>\n",
       "      <td>0.819444</td>\n",
       "      <td>0.623437</td>\n",
       "      <td>0.819444</td>\n",
       "    </tr>\n",
       "    <tr>\n",
       "      <th>f1-score</th>\n",
       "      <td>0.500000</td>\n",
       "      <td>0.895575</td>\n",
       "      <td>0.618182</td>\n",
       "      <td>0.819444</td>\n",
       "      <td>0.671252</td>\n",
       "      <td>0.800922</td>\n",
       "    </tr>\n",
       "    <tr>\n",
       "      <th>support</th>\n",
       "      <td>63.000000</td>\n",
       "      <td>264.000000</td>\n",
       "      <td>33.000000</td>\n",
       "      <td>0.819444</td>\n",
       "      <td>360.000000</td>\n",
       "      <td>360.000000</td>\n",
       "    </tr>\n",
       "  </tbody>\n",
       "</table>\n",
       "</div>"
      ],
      "text/plain": [
       "                   2           3          4  accuracy   macro avg  \\\n",
       "precision   0.675676    0.840532   0.772727  0.819444    0.762978   \n",
       "recall      0.396825    0.958333   0.515152  0.819444    0.623437   \n",
       "f1-score    0.500000    0.895575   0.618182  0.819444    0.671252   \n",
       "support    63.000000  264.000000  33.000000  0.819444  360.000000   \n",
       "\n",
       "           weighted avg  \n",
       "precision      0.805466  \n",
       "recall         0.819444  \n",
       "f1-score       0.800922  \n",
       "support      360.000000  "
      ]
     },
     "execution_count": 17,
     "metadata": {},
     "output_type": "execute_result"
    }
   ],
   "source": [
    "# classification report of the test dataset\n",
    "\n",
    "pd.DataFrame(classification_report(y_test,logmodel_pred_test,output_dict=True))"
   ]
  },
  {
   "cell_type": "code",
   "execution_count": 18,
   "id": "b3aceb8c",
   "metadata": {},
   "outputs": [
    {
     "data": {
      "text/plain": [
       "0.7964285714285714"
      ]
     },
     "execution_count": 18,
     "metadata": {},
     "output_type": "execute_result"
    }
   ],
   "source": [
    "# The accuracy of the model with train data\n",
    "\n",
    "accuracy_score(y_train,logmodel_pred)"
   ]
  },
  {
   "cell_type": "code",
   "execution_count": 19,
   "id": "5dffc159",
   "metadata": {},
   "outputs": [
    {
     "data": {
      "text/plain": [
       "0.8194444444444444"
      ]
     },
     "execution_count": 19,
     "metadata": {},
     "output_type": "execute_result"
    }
   ],
   "source": [
    "# The accuracy of the model with test data\n",
    "\n",
    "accuracy_score(y_test,logmodel_pred_test)"
   ]
  },
  {
   "cell_type": "markdown",
   "id": "ec8e62d9",
   "metadata": {},
   "source": [
    "##### ✔️   With test data, we achieved an accuracy of 81%, and with training data, we achieved an accuracy of 79% in RandomForestClassifier"
   ]
  },
  {
   "cell_type": "markdown",
   "id": "d31d51e8",
   "metadata": {},
   "source": [
    "# 2. Support Vector Machine"
   ]
  },
  {
   "cell_type": "code",
   "execution_count": 20,
   "id": "cbf325b3",
   "metadata": {},
   "outputs": [],
   "source": [
    "# Training the model\n",
    "from sklearn.svm import SVC\n",
    "rbf_svc = SVC(kernel='rbf', C=100, random_state=10).fit(X_train,y_train)"
   ]
  },
  {
   "cell_type": "code",
   "execution_count": 21,
   "id": "82868042",
   "metadata": {},
   "outputs": [],
   "source": [
    "# Predicting the model\n",
    "y_predict_svm_train = rbf_svc.predict(X_train)\n",
    "y_predict_svm = rbf_svc.predict(X_test)"
   ]
  },
  {
   "cell_type": "code",
   "execution_count": 22,
   "id": "b23cd01c",
   "metadata": {},
   "outputs": [
    {
     "data": {
      "text/plain": [
       "array([[ 49,  13,   1],\n",
       "       [ 13, 233,  18],\n",
       "       [  4,   7,  22]], dtype=int64)"
      ]
     },
     "execution_count": 22,
     "metadata": {},
     "output_type": "execute_result"
    }
   ],
   "source": [
    "confusion_matrix(y_test,y_predict_svm)"
   ]
  },
  {
   "cell_type": "code",
   "execution_count": 23,
   "id": "a0825ce1",
   "metadata": {},
   "outputs": [
    {
     "name": "stdout",
     "output_type": "stream",
     "text": [
      "0.9892857142857143\n"
     ]
    },
    {
     "data": {
      "text/html": [
       "<div>\n",
       "<style scoped>\n",
       "    .dataframe tbody tr th:only-of-type {\n",
       "        vertical-align: middle;\n",
       "    }\n",
       "\n",
       "    .dataframe tbody tr th {\n",
       "        vertical-align: top;\n",
       "    }\n",
       "\n",
       "    .dataframe thead th {\n",
       "        text-align: right;\n",
       "    }\n",
       "</style>\n",
       "<table border=\"1\" class=\"dataframe\">\n",
       "  <thead>\n",
       "    <tr style=\"text-align: right;\">\n",
       "      <th></th>\n",
       "      <th>2</th>\n",
       "      <th>3</th>\n",
       "      <th>4</th>\n",
       "      <th>accuracy</th>\n",
       "      <th>macro avg</th>\n",
       "      <th>weighted avg</th>\n",
       "    </tr>\n",
       "  </thead>\n",
       "  <tbody>\n",
       "    <tr>\n",
       "      <th>precision</th>\n",
       "      <td>0.977099</td>\n",
       "      <td>0.990212</td>\n",
       "      <td>1.000000</td>\n",
       "      <td>0.989286</td>\n",
       "      <td>0.989104</td>\n",
       "      <td>0.989321</td>\n",
       "    </tr>\n",
       "    <tr>\n",
       "      <th>recall</th>\n",
       "      <td>0.977099</td>\n",
       "      <td>0.995082</td>\n",
       "      <td>0.969697</td>\n",
       "      <td>0.989286</td>\n",
       "      <td>0.980626</td>\n",
       "      <td>0.989286</td>\n",
       "    </tr>\n",
       "    <tr>\n",
       "      <th>f1-score</th>\n",
       "      <td>0.977099</td>\n",
       "      <td>0.992641</td>\n",
       "      <td>0.984615</td>\n",
       "      <td>0.989286</td>\n",
       "      <td>0.984785</td>\n",
       "      <td>0.989271</td>\n",
       "    </tr>\n",
       "    <tr>\n",
       "      <th>support</th>\n",
       "      <td>131.000000</td>\n",
       "      <td>610.000000</td>\n",
       "      <td>99.000000</td>\n",
       "      <td>0.989286</td>\n",
       "      <td>840.000000</td>\n",
       "      <td>840.000000</td>\n",
       "    </tr>\n",
       "  </tbody>\n",
       "</table>\n",
       "</div>"
      ],
      "text/plain": [
       "                    2           3          4  accuracy   macro avg  \\\n",
       "precision    0.977099    0.990212   1.000000  0.989286    0.989104   \n",
       "recall       0.977099    0.995082   0.969697  0.989286    0.980626   \n",
       "f1-score     0.977099    0.992641   0.984615  0.989286    0.984785   \n",
       "support    131.000000  610.000000  99.000000  0.989286  840.000000   \n",
       "\n",
       "           weighted avg  \n",
       "precision      0.989321  \n",
       "recall         0.989286  \n",
       "f1-score       0.989271  \n",
       "support      840.000000  "
      ]
     },
     "execution_count": 23,
     "metadata": {},
     "output_type": "execute_result"
    }
   ],
   "source": [
    "# Finding accuracy, precision, recall and confusion matrix of the training data \n",
    "print(accuracy_score(y_train,y_predict_svm_train))\n",
    "pd.DataFrame(classification_report(y_train,y_predict_svm_train,output_dict=True))"
   ]
  },
  {
   "cell_type": "code",
   "execution_count": 24,
   "id": "e16c6009",
   "metadata": {
    "scrolled": true
   },
   "outputs": [
    {
     "name": "stdout",
     "output_type": "stream",
     "text": [
      "0.8444444444444444\n"
     ]
    },
    {
     "data": {
      "text/html": [
       "<div>\n",
       "<style scoped>\n",
       "    .dataframe tbody tr th:only-of-type {\n",
       "        vertical-align: middle;\n",
       "    }\n",
       "\n",
       "    .dataframe tbody tr th {\n",
       "        vertical-align: top;\n",
       "    }\n",
       "\n",
       "    .dataframe thead th {\n",
       "        text-align: right;\n",
       "    }\n",
       "</style>\n",
       "<table border=\"1\" class=\"dataframe\">\n",
       "  <thead>\n",
       "    <tr style=\"text-align: right;\">\n",
       "      <th></th>\n",
       "      <th>2</th>\n",
       "      <th>3</th>\n",
       "      <th>4</th>\n",
       "      <th>accuracy</th>\n",
       "      <th>macro avg</th>\n",
       "      <th>weighted avg</th>\n",
       "    </tr>\n",
       "  </thead>\n",
       "  <tbody>\n",
       "    <tr>\n",
       "      <th>precision</th>\n",
       "      <td>0.742424</td>\n",
       "      <td>0.920949</td>\n",
       "      <td>0.536585</td>\n",
       "      <td>0.844444</td>\n",
       "      <td>0.733319</td>\n",
       "      <td>0.854474</td>\n",
       "    </tr>\n",
       "    <tr>\n",
       "      <th>recall</th>\n",
       "      <td>0.777778</td>\n",
       "      <td>0.882576</td>\n",
       "      <td>0.666667</td>\n",
       "      <td>0.844444</td>\n",
       "      <td>0.775673</td>\n",
       "      <td>0.844444</td>\n",
       "    </tr>\n",
       "    <tr>\n",
       "      <th>f1-score</th>\n",
       "      <td>0.759690</td>\n",
       "      <td>0.901354</td>\n",
       "      <td>0.594595</td>\n",
       "      <td>0.844444</td>\n",
       "      <td>0.751879</td>\n",
       "      <td>0.848443</td>\n",
       "    </tr>\n",
       "    <tr>\n",
       "      <th>support</th>\n",
       "      <td>63.000000</td>\n",
       "      <td>264.000000</td>\n",
       "      <td>33.000000</td>\n",
       "      <td>0.844444</td>\n",
       "      <td>360.000000</td>\n",
       "      <td>360.000000</td>\n",
       "    </tr>\n",
       "  </tbody>\n",
       "</table>\n",
       "</div>"
      ],
      "text/plain": [
       "                   2           3          4  accuracy   macro avg  \\\n",
       "precision   0.742424    0.920949   0.536585  0.844444    0.733319   \n",
       "recall      0.777778    0.882576   0.666667  0.844444    0.775673   \n",
       "f1-score    0.759690    0.901354   0.594595  0.844444    0.751879   \n",
       "support    63.000000  264.000000  33.000000  0.844444  360.000000   \n",
       "\n",
       "           weighted avg  \n",
       "precision      0.854474  \n",
       "recall         0.844444  \n",
       "f1-score       0.848443  \n",
       "support      360.000000  "
      ]
     },
     "execution_count": 24,
     "metadata": {},
     "output_type": "execute_result"
    }
   ],
   "source": [
    "# Finding accuracy, precision, recall and confusion matrix of the test data \n",
    "print(accuracy_score(y_test,y_predict_svm))\n",
    "pd.DataFrame(classification_report(y_test,y_predict_svm,output_dict=True))"
   ]
  },
  {
   "cell_type": "markdown",
   "id": "92b7938b",
   "metadata": {},
   "source": [
    "##### ✔️   With test data, we achieved an accuracy of 84%, and with training data, we achieved an accuracy of 98% in RandomForestClassifier"
   ]
  },
  {
   "cell_type": "markdown",
   "id": "584e8109",
   "metadata": {},
   "source": [
    "## 3. K-Nearest Neighbor"
   ]
  },
  {
   "cell_type": "code",
   "execution_count": 25,
   "id": "c8746a81",
   "metadata": {},
   "outputs": [],
   "source": [
    "# Iterating n_neighbors from 1 to 40 to get best value of K\n",
    "\n",
    "error_rate = []\n",
    "\n",
    "\n",
    "for i in range(1,20,2):\n",
    "    KNN = KNeighborsClassifier(n_neighbors=i,n_jobs=-1)\n",
    "    KNN.fit(X_train, y_train)  \n",
    "    X_pred = KNN.predict(X_test) \n",
    "    error = sqrt(mean_squared_error(y_test,X_pred)) \n",
    "    error_rate.append(error) "
   ]
  },
  {
   "cell_type": "code",
   "execution_count": 26,
   "id": "7e24377a",
   "metadata": {},
   "outputs": [
    {
     "data": {
      "image/png": "[encoded data removed]",
      "text/plain": [
       "<Figure size 1080x648 with 1 Axes>"
      ]
     },
     "metadata": {
      "needs_background": "light"
     },
     "output_type": "display_data"
    }
   ],
   "source": [
    "#Plotting the error rate So,that we can choose the value of K using Elbow Method\n",
    "\n",
    "plt.figure(figsize=(15,9))\n",
    "plt.plot(range(1,20,2),error_rate,color='blue', linestyle='dashed',marker='o',markerfacecolor='red', markersize=10)\n",
    "plt.title('Error Rate vs. K Value')\n",
    "plt.xlabel('K- Value')\n",
    "plt.xticks(range(1,20,2))\n",
    "plt.ylabel('Error Rate')\n",
    "None"
   ]
  },
  {
   "cell_type": "code",
   "execution_count": 27,
   "id": "10393d1a",
   "metadata": {},
   "outputs": [
    {
     "data": {
      "text/plain": [
       "{'n_neighbors': 5}"
      ]
     },
     "execution_count": 27,
     "metadata": {},
     "output_type": "execute_result"
    }
   ],
   "source": [
    "# Using the Grid Search CV Method\n",
    "\n",
    "from sklearn.model_selection import GridSearchCV\n",
    "params = {'n_neighbors':[1,3,5,7,9,11,13,15,17]}\n",
    "\n",
    "model = KNeighborsClassifier()\n",
    "\n",
    "model = GridSearchCV(model, params, cv=10)\n",
    "model.fit(X_train,y_train)\n",
    "model.best_params_"
   ]
  },
  {
   "cell_type": "code",
   "execution_count": 28,
   "id": "c4ab90ce",
   "metadata": {},
   "outputs": [],
   "source": [
    "#load the model\n",
    "model=KNeighborsClassifier(n_neighbors=5,n_jobs=-1)"
   ]
  },
  {
   "cell_type": "code",
   "execution_count": 29,
   "id": "f485429d",
   "metadata": {},
   "outputs": [
    {
     "data": {
      "text/html": [
       "<style>#sk-container-id-2 {color: black;background-color: white;}#sk-container-id-2 pre{padding: 0;}#sk-container-id-2 div.sk-toggleable {background-color: white;}#sk-container-id-2 label.sk-toggleable__label {cursor: pointer;display: block;width: 100%;margin-bottom: 0;padding: 0.3em;box-sizing: border-box;text-align: center;}#sk-container-id-2 label.sk-toggleable__label-arrow:before {content: \"▸\";float: left;margin-right: 0.25em;color: #696969;}#sk-container-id-2 label.sk-toggleable__label-arrow:hover:before {color: black;}#sk-container-id-2 div.sk-estimator:hover label.sk-toggleable__label-arrow:before {color: black;}#sk-container-id-2 div.sk-toggleable__content {max-height: 0;max-width: 0;overflow: hidden;text-align: left;background-color: #f0f8ff;}#sk-container-id-2 div.sk-toggleable__content pre {margin: 0.2em;color: black;border-radius: 0.25em;background-color: #f0f8ff;}#sk-container-id-2 input.sk-toggleable__control:checked~div.sk-toggleable__content {max-height: 200px;max-width: 100%;overflow: auto;}#sk-container-id-2 input.sk-toggleable__control:checked~label.sk-toggleable__label-arrow:before {content: \"▾\";}#sk-container-id-2 div.sk-estimator input.sk-toggleable__control:checked~label.sk-toggleable__label {background-color: #d4ebff;}#sk-container-id-2 div.sk-label input.sk-toggleable__control:checked~label.sk-toggleable__label {background-color: #d4ebff;}#sk-container-id-2 input.sk-hidden--visually {border: 0;clip: rect(1px 1px 1px 1px);clip: rect(1px, 1px, 1px, 1px);height: 1px;margin: -1px;overflow: hidden;padding: 0;position: absolute;width: 1px;}#sk-container-id-2 div.sk-estimator {font-family: monospace;background-color: #f0f8ff;border: 1px dotted black;border-radius: 0.25em;box-sizing: border-box;margin-bottom: 0.5em;}#sk-container-id-2 div.sk-estimator:hover {background-color: #d4ebff;}#sk-container-id-2 div.sk-parallel-item::after {content: \"\";width: 100%;border-bottom: 1px solid gray;flex-grow: 1;}#sk-container-id-2 div.sk-label:hover label.sk-toggleable__label {background-color: #d4ebff;}#sk-container-id-2 div.sk-serial::before {content: \"\";position: absolute;border-left: 1px solid gray;box-sizing: border-box;top: 0;bottom: 0;left: 50%;z-index: 0;}#sk-container-id-2 div.sk-serial {display: flex;flex-direction: column;align-items: center;background-color: white;padding-right: 0.2em;padding-left: 0.2em;position: relative;}#sk-container-id-2 div.sk-item {position: relative;z-index: 1;}#sk-container-id-2 div.sk-parallel {display: flex;align-items: stretch;justify-content: center;background-color: white;position: relative;}#sk-container-id-2 div.sk-item::before, #sk-container-id-2 div.sk-parallel-item::before {content: \"\";position: absolute;border-left: 1px solid gray;box-sizing: border-box;top: 0;bottom: 0;left: 50%;z-index: -1;}#sk-container-id-2 div.sk-parallel-item {display: flex;flex-direction: column;z-index: 1;position: relative;background-color: white;}#sk-container-id-2 div.sk-parallel-item:first-child::after {align-self: flex-end;width: 50%;}#sk-container-id-2 div.sk-parallel-item:last-child::after {align-self: flex-start;width: 50%;}#sk-container-id-2 div.sk-parallel-item:only-child::after {width: 0;}#sk-container-id-2 div.sk-dashed-wrapped {border: 1px dashed gray;margin: 0 0.4em 0.5em 0.4em;box-sizing: border-box;padding-bottom: 0.4em;background-color: white;}#sk-container-id-2 div.sk-label label {font-family: monospace;font-weight: bold;display: inline-block;line-height: 1.2em;}#sk-container-id-2 div.sk-label-container {text-align: center;}#sk-container-id-2 div.sk-container {/* jupyter's `normalize.less` sets `[hidden] { display: none; }` but bootstrap.min.css set `[hidden] { display: none !important; }` so we also need the `!important` here to be able to override the default hidden behavior on the sphinx rendered scikit-learn.org. See: https://github.com/scikit-learn/scikit-learn/issues/21755 */display: inline-block !important;position: relative;}#sk-container-id-2 div.sk-text-repr-fallback {display: none;}</style><div id=\"sk-container-id-2\" class=\"sk-top-container\"><div class=\"sk-text-repr-fallback\"><pre>KNeighborsClassifier(n_jobs=-1)</pre><b>In a Jupyter environment, please rerun this cell to show the HTML representation or trust the notebook. <br />On GitHub, the HTML representation is unable to render, please try loading this page with nbviewer.org.</b></div><div class=\"sk-container\" hidden><div class=\"sk-item\"><div class=\"sk-estimator sk-toggleable\"><input class=\"sk-toggleable__control sk-hidden--visually\" id=\"sk-estimator-id-2\" type=\"checkbox\" checked><label for=\"sk-estimator-id-2\" class=\"sk-toggleable__label sk-toggleable__label-arrow\">KNeighborsClassifier</label><div class=\"sk-toggleable__content\"><pre>KNeighborsClassifier(n_jobs=-1)</pre></div></div></div></div></div>"
      ],
      "text/plain": [
       "KNeighborsClassifier(n_jobs=-1)"
      ]
     },
     "execution_count": 29,
     "metadata": {},
     "output_type": "execute_result"
    }
   ],
   "source": [
    "# fitting the model\n",
    "model.fit(X_train,y_train)"
   ]
  },
  {
   "cell_type": "code",
   "execution_count": 30,
   "id": "f7c87ffa",
   "metadata": {},
   "outputs": [],
   "source": [
    "# preding the model with train data\n",
    "knn_pred_train=model.predict(X_train)"
   ]
  },
  {
   "cell_type": "code",
   "execution_count": 31,
   "id": "71db45a7",
   "metadata": {},
   "outputs": [],
   "source": [
    "# preding the model with test data\n",
    "knn_pred=model.predict(X_test)"
   ]
  },
  {
   "cell_type": "code",
   "execution_count": 32,
   "id": "7f14b7ee",
   "metadata": {},
   "outputs": [
    {
     "name": "stdout",
     "output_type": "stream",
     "text": [
      "[[ 36  24   3]\n",
      " [ 15 245   4]\n",
      " [  3  13  17]]\n"
     ]
    }
   ],
   "source": [
    "# confusion matrix of the test data\n",
    "\n",
    "print(confusion_matrix(y_test,knn_pred))"
   ]
  },
  {
   "cell_type": "code",
   "execution_count": 33,
   "id": "3e219459",
   "metadata": {},
   "outputs": [
    {
     "data": {
      "text/html": [
       "<div>\n",
       "<style scoped>\n",
       "    .dataframe tbody tr th:only-of-type {\n",
       "        vertical-align: middle;\n",
       "    }\n",
       "\n",
       "    .dataframe tbody tr th {\n",
       "        vertical-align: top;\n",
       "    }\n",
       "\n",
       "    .dataframe thead th {\n",
       "        text-align: right;\n",
       "    }\n",
       "</style>\n",
       "<table border=\"1\" class=\"dataframe\">\n",
       "  <thead>\n",
       "    <tr style=\"text-align: right;\">\n",
       "      <th></th>\n",
       "      <th>2</th>\n",
       "      <th>3</th>\n",
       "      <th>4</th>\n",
       "      <th>accuracy</th>\n",
       "      <th>macro avg</th>\n",
       "      <th>weighted avg</th>\n",
       "    </tr>\n",
       "  </thead>\n",
       "  <tbody>\n",
       "    <tr>\n",
       "      <th>precision</th>\n",
       "      <td>0.666667</td>\n",
       "      <td>0.868794</td>\n",
       "      <td>0.708333</td>\n",
       "      <td>0.827778</td>\n",
       "      <td>0.747931</td>\n",
       "      <td>0.818713</td>\n",
       "    </tr>\n",
       "    <tr>\n",
       "      <th>recall</th>\n",
       "      <td>0.571429</td>\n",
       "      <td>0.928030</td>\n",
       "      <td>0.515152</td>\n",
       "      <td>0.827778</td>\n",
       "      <td>0.671537</td>\n",
       "      <td>0.827778</td>\n",
       "    </tr>\n",
       "    <tr>\n",
       "      <th>f1-score</th>\n",
       "      <td>0.615385</td>\n",
       "      <td>0.897436</td>\n",
       "      <td>0.596491</td>\n",
       "      <td>0.827778</td>\n",
       "      <td>0.703104</td>\n",
       "      <td>0.820490</td>\n",
       "    </tr>\n",
       "    <tr>\n",
       "      <th>support</th>\n",
       "      <td>63.000000</td>\n",
       "      <td>264.000000</td>\n",
       "      <td>33.000000</td>\n",
       "      <td>0.827778</td>\n",
       "      <td>360.000000</td>\n",
       "      <td>360.000000</td>\n",
       "    </tr>\n",
       "  </tbody>\n",
       "</table>\n",
       "</div>"
      ],
      "text/plain": [
       "                   2           3          4  accuracy   macro avg  \\\n",
       "precision   0.666667    0.868794   0.708333  0.827778    0.747931   \n",
       "recall      0.571429    0.928030   0.515152  0.827778    0.671537   \n",
       "f1-score    0.615385    0.897436   0.596491  0.827778    0.703104   \n",
       "support    63.000000  264.000000  33.000000  0.827778  360.000000   \n",
       "\n",
       "           weighted avg  \n",
       "precision      0.818713  \n",
       "recall         0.827778  \n",
       "f1-score       0.820490  \n",
       "support      360.000000  "
      ]
     },
     "execution_count": 33,
     "metadata": {},
     "output_type": "execute_result"
    }
   ],
   "source": [
    "# classification report of test data \n",
    "\n",
    "pd.DataFrame(classification_report(y_test,knn_pred,output_dict=True))"
   ]
  },
  {
   "cell_type": "code",
   "execution_count": 34,
   "id": "37c13219",
   "metadata": {},
   "outputs": [
    {
     "data": {
      "text/plain": [
       "0.9"
      ]
     },
     "execution_count": 34,
     "metadata": {},
     "output_type": "execute_result"
    }
   ],
   "source": [
    "# The accuracy of the model with train data\n",
    "accuracy_score(knn_pred_train,y_train)"
   ]
  },
  {
   "cell_type": "code",
   "execution_count": 35,
   "id": "e953b41f",
   "metadata": {},
   "outputs": [
    {
     "data": {
      "text/plain": [
       "0.8277777777777777"
      ]
     },
     "execution_count": 35,
     "metadata": {},
     "output_type": "execute_result"
    }
   ],
   "source": [
    "# The accuracy of the model with test data\n",
    "accuracy_score(knn_pred,y_test)"
   ]
  },
  {
   "cell_type": "markdown",
   "id": "624b4000",
   "metadata": {},
   "source": [
    "##### ✔️   With test data, we achieved an accuracy of 82%, and with training data, we achieved an accuracy of 90% in RandomForestClassifier"
   ]
  },
  {
   "cell_type": "markdown",
   "id": "2cca0443",
   "metadata": {},
   "source": [
    "# 4. Decision Tree with GridSearchCV"
   ]
  },
  {
   "cell_type": "code",
   "execution_count": 36,
   "id": "cc2e62da",
   "metadata": {},
   "outputs": [
    {
     "data": {
      "text/html": [
       "<style>#sk-container-id-3 {color: black;background-color: white;}#sk-container-id-3 pre{padding: 0;}#sk-container-id-3 div.sk-toggleable {background-color: white;}#sk-container-id-3 label.sk-toggleable__label {cursor: pointer;display: block;width: 100%;margin-bottom: 0;padding: 0.3em;box-sizing: border-box;text-align: center;}#sk-container-id-3 label.sk-toggleable__label-arrow:before {content: \"▸\";float: left;margin-right: 0.25em;color: #696969;}#sk-container-id-3 label.sk-toggleable__label-arrow:hover:before {color: black;}#sk-container-id-3 div.sk-estimator:hover label.sk-toggleable__label-arrow:before {color: black;}#sk-container-id-3 div.sk-toggleable__content {max-height: 0;max-width: 0;overflow: hidden;text-align: left;background-color: #f0f8ff;}#sk-container-id-3 div.sk-toggleable__content pre {margin: 0.2em;color: black;border-radius: 0.25em;background-color: #f0f8ff;}#sk-container-id-3 input.sk-toggleable__control:checked~div.sk-toggleable__content {max-height: 200px;max-width: 100%;overflow: auto;}#sk-container-id-3 input.sk-toggleable__control:checked~label.sk-toggleable__label-arrow:before {content: \"▾\";}#sk-container-id-3 div.sk-estimator input.sk-toggleable__control:checked~label.sk-toggleable__label {background-color: #d4ebff;}#sk-container-id-3 div.sk-label input.sk-toggleable__control:checked~label.sk-toggleable__label {background-color: #d4ebff;}#sk-container-id-3 input.sk-hidden--visually {border: 0;clip: rect(1px 1px 1px 1px);clip: rect(1px, 1px, 1px, 1px);height: 1px;margin: -1px;overflow: hidden;padding: 0;position: absolute;width: 1px;}#sk-container-id-3 div.sk-estimator {font-family: monospace;background-color: #f0f8ff;border: 1px dotted black;border-radius: 0.25em;box-sizing: border-box;margin-bottom: 0.5em;}#sk-container-id-3 div.sk-estimator:hover {background-color: #d4ebff;}#sk-container-id-3 div.sk-parallel-item::after {content: \"\";width: 100%;border-bottom: 1px solid gray;flex-grow: 1;}#sk-container-id-3 div.sk-label:hover label.sk-toggleable__label {background-color: #d4ebff;}#sk-container-id-3 div.sk-serial::before {content: \"\";position: absolute;border-left: 1px solid gray;box-sizing: border-box;top: 0;bottom: 0;left: 50%;z-index: 0;}#sk-container-id-3 div.sk-serial {display: flex;flex-direction: column;align-items: center;background-color: white;padding-right: 0.2em;padding-left: 0.2em;position: relative;}#sk-container-id-3 div.sk-item {position: relative;z-index: 1;}#sk-container-id-3 div.sk-parallel {display: flex;align-items: stretch;justify-content: center;background-color: white;position: relative;}#sk-container-id-3 div.sk-item::before, #sk-container-id-3 div.sk-parallel-item::before {content: \"\";position: absolute;border-left: 1px solid gray;box-sizing: border-box;top: 0;bottom: 0;left: 50%;z-index: -1;}#sk-container-id-3 div.sk-parallel-item {display: flex;flex-direction: column;z-index: 1;position: relative;background-color: white;}#sk-container-id-3 div.sk-parallel-item:first-child::after {align-self: flex-end;width: 50%;}#sk-container-id-3 div.sk-parallel-item:last-child::after {align-self: flex-start;width: 50%;}#sk-container-id-3 div.sk-parallel-item:only-child::after {width: 0;}#sk-container-id-3 div.sk-dashed-wrapped {border: 1px dashed gray;margin: 0 0.4em 0.5em 0.4em;box-sizing: border-box;padding-bottom: 0.4em;background-color: white;}#sk-container-id-3 div.sk-label label {font-family: monospace;font-weight: bold;display: inline-block;line-height: 1.2em;}#sk-container-id-3 div.sk-label-container {text-align: center;}#sk-container-id-3 div.sk-container {/* jupyter's `normalize.less` sets `[hidden] { display: none; }` but bootstrap.min.css set `[hidden] { display: none !important; }` so we also need the `!important` here to be able to override the default hidden behavior on the sphinx rendered scikit-learn.org. See: https://github.com/scikit-learn/scikit-learn/issues/21755 */display: inline-block !important;position: relative;}#sk-container-id-3 div.sk-text-repr-fallback {display: none;}</style><div id=\"sk-container-id-3\" class=\"sk-top-container\"><div class=\"sk-text-repr-fallback\"><pre>GridSearchCV(cv=10, estimator=DecisionTreeClassifier(random_state=42),\n",
       "             param_grid=[{&#x27;criterion&#x27;: [&#x27;gini&#x27;],\n",
       "                          &#x27;min_samples_split&#x27;: [2, 3, 4, 5]},\n",
       "                         {&#x27;criterion&#x27;: [&#x27;entropy&#x27;],\n",
       "                          &#x27;min_samples_split&#x27;: [2, 3, 4, 5]}],\n",
       "             scoring=&#x27;accuracy&#x27;)</pre><b>In a Jupyter environment, please rerun this cell to show the HTML representation or trust the notebook. <br />On GitHub, the HTML representation is unable to render, please try loading this page with nbviewer.org.</b></div><div class=\"sk-container\" hidden><div class=\"sk-item sk-dashed-wrapped\"><div class=\"sk-label-container\"><div class=\"sk-label sk-toggleable\"><input class=\"sk-toggleable__control sk-hidden--visually\" id=\"sk-estimator-id-3\" type=\"checkbox\" ><label for=\"sk-estimator-id-3\" class=\"sk-toggleable__label sk-toggleable__label-arrow\">GridSearchCV</label><div class=\"sk-toggleable__content\"><pre>GridSearchCV(cv=10, estimator=DecisionTreeClassifier(random_state=42),\n",
       "             param_grid=[{&#x27;criterion&#x27;: [&#x27;gini&#x27;],\n",
       "                          &#x27;min_samples_split&#x27;: [2, 3, 4, 5]},\n",
       "                         {&#x27;criterion&#x27;: [&#x27;entropy&#x27;],\n",
       "                          &#x27;min_samples_split&#x27;: [2, 3, 4, 5]}],\n",
       "             scoring=&#x27;accuracy&#x27;)</pre></div></div></div><div class=\"sk-parallel\"><div class=\"sk-parallel-item\"><div class=\"sk-item\"><div class=\"sk-label-container\"><div class=\"sk-label sk-toggleable\"><input class=\"sk-toggleable__control sk-hidden--visually\" id=\"sk-estimator-id-4\" type=\"checkbox\" ><label for=\"sk-estimator-id-4\" class=\"sk-toggleable__label sk-toggleable__label-arrow\">estimator: DecisionTreeClassifier</label><div class=\"sk-toggleable__content\"><pre>DecisionTreeClassifier(random_state=42)</pre></div></div></div><div class=\"sk-serial\"><div class=\"sk-item\"><div class=\"sk-estimator sk-toggleable\"><input class=\"sk-toggleable__control sk-hidden--visually\" id=\"sk-estimator-id-5\" type=\"checkbox\" ><label for=\"sk-estimator-id-5\" class=\"sk-toggleable__label sk-toggleable__label-arrow\">DecisionTreeClassifier</label><div class=\"sk-toggleable__content\"><pre>DecisionTreeClassifier(random_state=42)</pre></div></div></div></div></div></div></div></div></div></div>"
      ],
      "text/plain": [
       "GridSearchCV(cv=10, estimator=DecisionTreeClassifier(random_state=42),\n",
       "             param_grid=[{'criterion': ['gini'],\n",
       "                          'min_samples_split': [2, 3, 4, 5]},\n",
       "                         {'criterion': ['entropy'],\n",
       "                          'min_samples_split': [2, 3, 4, 5]}],\n",
       "             scoring='accuracy')"
      ]
     },
     "execution_count": 36,
     "metadata": {},
     "output_type": "execute_result"
    }
   ],
   "source": [
    "# Training the model\n",
    "from sklearn.tree import DecisionTreeClassifier\n",
    "\n",
    "classifier_dtg=DecisionTreeClassifier(random_state=42,splitter='best')\n",
    "parameters=[{'min_samples_split':[2,3,4,5],'criterion':['gini']},\n",
    "            {'min_samples_split':[2,3,4,5],'criterion':['entropy']}]\n",
    "\n",
    "model_griddtree=GridSearchCV(estimator=classifier_dtg, param_grid=parameters, scoring='accuracy',cv=10)\n",
    "model_griddtree.fit(X_train,y_train)"
   ]
  },
  {
   "cell_type": "code",
   "execution_count": 37,
   "id": "612c42c5",
   "metadata": {},
   "outputs": [],
   "source": [
    "# load the model\n",
    "\n",
    "dtc=tree.DecisionTreeClassifier(max_depth=4,min_samples_split=2,)"
   ]
  },
  {
   "cell_type": "code",
   "execution_count": 38,
   "id": "16224004",
   "metadata": {},
   "outputs": [
    {
     "data": {
      "text/html": [
       "<style>#sk-container-id-4 {color: black;background-color: white;}#sk-container-id-4 pre{padding: 0;}#sk-container-id-4 div.sk-toggleable {background-color: white;}#sk-container-id-4 label.sk-toggleable__label {cursor: pointer;display: block;width: 100%;margin-bottom: 0;padding: 0.3em;box-sizing: border-box;text-align: center;}#sk-container-id-4 label.sk-toggleable__label-arrow:before {content: \"▸\";float: left;margin-right: 0.25em;color: #696969;}#sk-container-id-4 label.sk-toggleable__label-arrow:hover:before {color: black;}#sk-container-id-4 div.sk-estimator:hover label.sk-toggleable__label-arrow:before {color: black;}#sk-container-id-4 div.sk-toggleable__content {max-height: 0;max-width: 0;overflow: hidden;text-align: left;background-color: #f0f8ff;}#sk-container-id-4 div.sk-toggleable__content pre {margin: 0.2em;color: black;border-radius: 0.25em;background-color: #f0f8ff;}#sk-container-id-4 input.sk-toggleable__control:checked~div.sk-toggleable__content {max-height: 200px;max-width: 100%;overflow: auto;}#sk-container-id-4 input.sk-toggleable__control:checked~label.sk-toggleable__label-arrow:before {content: \"▾\";}#sk-container-id-4 div.sk-estimator input.sk-toggleable__control:checked~label.sk-toggleable__label {background-color: #d4ebff;}#sk-container-id-4 div.sk-label input.sk-toggleable__control:checked~label.sk-toggleable__label {background-color: #d4ebff;}#sk-container-id-4 input.sk-hidden--visually {border: 0;clip: rect(1px 1px 1px 1px);clip: rect(1px, 1px, 1px, 1px);height: 1px;margin: -1px;overflow: hidden;padding: 0;position: absolute;width: 1px;}#sk-container-id-4 div.sk-estimator {font-family: monospace;background-color: #f0f8ff;border: 1px dotted black;border-radius: 0.25em;box-sizing: border-box;margin-bottom: 0.5em;}#sk-container-id-4 div.sk-estimator:hover {background-color: #d4ebff;}#sk-container-id-4 div.sk-parallel-item::after {content: \"\";width: 100%;border-bottom: 1px solid gray;flex-grow: 1;}#sk-container-id-4 div.sk-label:hover label.sk-toggleable__label {background-color: #d4ebff;}#sk-container-id-4 div.sk-serial::before {content: \"\";position: absolute;border-left: 1px solid gray;box-sizing: border-box;top: 0;bottom: 0;left: 50%;z-index: 0;}#sk-container-id-4 div.sk-serial {display: flex;flex-direction: column;align-items: center;background-color: white;padding-right: 0.2em;padding-left: 0.2em;position: relative;}#sk-container-id-4 div.sk-item {position: relative;z-index: 1;}#sk-container-id-4 div.sk-parallel {display: flex;align-items: stretch;justify-content: center;background-color: white;position: relative;}#sk-container-id-4 div.sk-item::before, #sk-container-id-4 div.sk-parallel-item::before {content: \"\";position: absolute;border-left: 1px solid gray;box-sizing: border-box;top: 0;bottom: 0;left: 50%;z-index: -1;}#sk-container-id-4 div.sk-parallel-item {display: flex;flex-direction: column;z-index: 1;position: relative;background-color: white;}#sk-container-id-4 div.sk-parallel-item:first-child::after {align-self: flex-end;width: 50%;}#sk-container-id-4 div.sk-parallel-item:last-child::after {align-self: flex-start;width: 50%;}#sk-container-id-4 div.sk-parallel-item:only-child::after {width: 0;}#sk-container-id-4 div.sk-dashed-wrapped {border: 1px dashed gray;margin: 0 0.4em 0.5em 0.4em;box-sizing: border-box;padding-bottom: 0.4em;background-color: white;}#sk-container-id-4 div.sk-label label {font-family: monospace;font-weight: bold;display: inline-block;line-height: 1.2em;}#sk-container-id-4 div.sk-label-container {text-align: center;}#sk-container-id-4 div.sk-container {/* jupyter's `normalize.less` sets `[hidden] { display: none; }` but bootstrap.min.css set `[hidden] { display: none !important; }` so we also need the `!important` here to be able to override the default hidden behavior on the sphinx rendered scikit-learn.org. See: https://github.com/scikit-learn/scikit-learn/issues/21755 */display: inline-block !important;position: relative;}#sk-container-id-4 div.sk-text-repr-fallback {display: none;}</style><div id=\"sk-container-id-4\" class=\"sk-top-container\"><div class=\"sk-text-repr-fallback\"><pre>DecisionTreeClassifier(max_depth=4)</pre><b>In a Jupyter environment, please rerun this cell to show the HTML representation or trust the notebook. <br />On GitHub, the HTML representation is unable to render, please try loading this page with nbviewer.org.</b></div><div class=\"sk-container\" hidden><div class=\"sk-item\"><div class=\"sk-estimator sk-toggleable\"><input class=\"sk-toggleable__control sk-hidden--visually\" id=\"sk-estimator-id-6\" type=\"checkbox\" checked><label for=\"sk-estimator-id-6\" class=\"sk-toggleable__label sk-toggleable__label-arrow\">DecisionTreeClassifier</label><div class=\"sk-toggleable__content\"><pre>DecisionTreeClassifier(max_depth=4)</pre></div></div></div></div></div>"
      ],
      "text/plain": [
       "DecisionTreeClassifier(max_depth=4)"
      ]
     },
     "execution_count": 38,
     "metadata": {},
     "output_type": "execute_result"
    }
   ],
   "source": [
    "# fit the model\n",
    "\n",
    "dtc.fit(X_train,y_train)"
   ]
  },
  {
   "cell_type": "code",
   "execution_count": 39,
   "id": "8ef93db5",
   "metadata": {},
   "outputs": [
    {
     "data": {
      "text/plain": [
       "[Text(0.5446428571428571, 0.9, 'X[3] <= 1.185\\ngini = 0.434\\nsamples = 840\\nvalue = [131, 610, 99]'),\n",
       " Text(0.2857142857142857, 0.7, 'X[2] <= -0.182\\ngini = 0.31\\nsamples = 712\\nvalue = [115, 580, 17]'),\n",
       " Text(0.14285714285714285, 0.5, 'X[7] <= -0.516\\ngini = 0.51\\nsamples = 287\\nvalue = [113, 166, 8]'),\n",
       " Text(0.07142857142857142, 0.3, 'X[1] <= -1.783\\ngini = 0.144\\nsamples = 117\\nvalue = [2, 108, 7]'),\n",
       " Text(0.03571428571428571, 0.1, 'gini = 0.48\\nsamples = 5\\nvalue = [0, 3, 2]'),\n",
       " Text(0.10714285714285714, 0.1, 'gini = 0.119\\nsamples = 112\\nvalue = [2, 105, 5]'),\n",
       " Text(0.21428571428571427, 0.3, 'X[0] <= -0.997\\ngini = 0.457\\nsamples = 170\\nvalue = [111, 58, 1]'),\n",
       " Text(0.17857142857142858, 0.1, 'gini = 0.368\\nsamples = 51\\nvalue = [11, 39, 1]'),\n",
       " Text(0.25, 0.1, 'gini = 0.268\\nsamples = 119\\nvalue = [100, 19, 0]'),\n",
       " Text(0.42857142857142855, 0.5, 'X[4] <= 1.083\\ngini = 0.051\\nsamples = 425\\nvalue = [2, 414, 9]'),\n",
       " Text(0.35714285714285715, 0.3, 'X[4] <= -1.837\\ngini = 0.01\\nsamples = 380\\nvalue = [2, 378, 0]'),\n",
       " Text(0.32142857142857145, 0.1, 'gini = 0.198\\nsamples = 18\\nvalue = [2, 16, 0]'),\n",
       " Text(0.39285714285714285, 0.1, 'gini = 0.0\\nsamples = 362\\nvalue = [0, 362, 0]'),\n",
       " Text(0.5, 0.3, 'X[7] <= -0.21\\ngini = 0.32\\nsamples = 45\\nvalue = [0, 36, 9]'),\n",
       " Text(0.4642857142857143, 0.1, 'gini = 0.426\\nsamples = 26\\nvalue = [0, 18, 8]'),\n",
       " Text(0.5357142857142857, 0.1, 'gini = 0.1\\nsamples = 19\\nvalue = [0, 18, 1]'),\n",
       " Text(0.8035714285714286, 0.7, 'X[2] <= -0.182\\ngini = 0.519\\nsamples = 128\\nvalue = [16, 30, 82]'),\n",
       " Text(0.7142857142857143, 0.5, 'X[7] <= -0.516\\ngini = 0.606\\nsamples = 52\\nvalue = [16, 27, 9]'),\n",
       " Text(0.6428571428571429, 0.3, 'X[5] <= -0.799\\ngini = 0.4\\nsamples = 29\\nvalue = [0, 21, 8]'),\n",
       " Text(0.6071428571428571, 0.1, 'gini = 0.219\\nsamples = 8\\nvalue = [0, 1, 7]'),\n",
       " Text(0.6785714285714286, 0.1, 'gini = 0.091\\nsamples = 21\\nvalue = [0, 20, 1]'),\n",
       " Text(0.7857142857142857, 0.3, 'X[0] <= -0.405\\ngini = 0.446\\nsamples = 23\\nvalue = [16, 6, 1]'),\n",
       " Text(0.75, 0.1, 'gini = 0.0\\nsamples = 4\\nvalue = [0, 4, 0]'),\n",
       " Text(0.8214285714285714, 0.1, 'gini = 0.277\\nsamples = 19\\nvalue = [16, 2, 1]'),\n",
       " Text(0.8928571428571429, 0.5, 'X[4] <= -1.837\\ngini = 0.076\\nsamples = 76\\nvalue = [0, 3, 73]'),\n",
       " Text(0.8571428571428571, 0.3, 'gini = 0.0\\nsamples = 2\\nvalue = [0, 2, 0]'),\n",
       " Text(0.9285714285714286, 0.3, 'X[3] <= 2.571\\ngini = 0.027\\nsamples = 74\\nvalue = [0, 1, 73]'),\n",
       " Text(0.8928571428571429, 0.1, 'gini = 0.0\\nsamples = 70\\nvalue = [0, 0, 70]'),\n",
       " Text(0.9642857142857143, 0.1, 'gini = 0.375\\nsamples = 4\\nvalue = [0, 1, 3]')]"
      ]
     },
     "execution_count": 39,
     "metadata": {},
     "output_type": "execute_result"
    },
    {
     "data": {
      "image/png": "[encoded data removed]",
      "text/plain": [
       "<Figure size 1440x1080 with 1 Axes>"
      ]
     },
     "metadata": {
      "needs_background": "light"
     },
     "output_type": "display_data"
    }
   ],
   "source": [
    "plt.figure(figsize=(20,15))\n",
    "tree.plot_tree(dtc,filled=True)"
   ]
  },
  {
   "cell_type": "code",
   "execution_count": 40,
   "id": "aa4b66ac",
   "metadata": {},
   "outputs": [
    {
     "data": {
      "text/plain": [
       "{'criterion': 'entropy', 'min_samples_split': 5}"
      ]
     },
     "execution_count": 40,
     "metadata": {},
     "output_type": "execute_result"
    }
   ],
   "source": [
    "model_griddtree.best_params_"
   ]
  },
  {
   "cell_type": "code",
   "execution_count": 41,
   "id": "b458f97a",
   "metadata": {},
   "outputs": [],
   "source": [
    "# Predicting the model with training data\n",
    "y_predict_dtree_train = model_griddtree.predict(X_train)"
   ]
  },
  {
   "cell_type": "code",
   "execution_count": 42,
   "id": "08c18b50",
   "metadata": {},
   "outputs": [],
   "source": [
    "# Predicting the model with test data\n",
    "y_predict_dtree = model_griddtree.predict(X_test)"
   ]
  },
  {
   "cell_type": "code",
   "execution_count": 43,
   "id": "157e4102",
   "metadata": {},
   "outputs": [
    {
     "data": {
      "text/plain": [
       "array([[ 52,  10,   1],\n",
       "       [  7, 250,   7],\n",
       "       [  2,   7,  24]], dtype=int64)"
      ]
     },
     "execution_count": 43,
     "metadata": {},
     "output_type": "execute_result"
    }
   ],
   "source": [
    "confusion_matrix(y_test,y_predict_dtree)"
   ]
  },
  {
   "cell_type": "code",
   "execution_count": 44,
   "id": "575e051f",
   "metadata": {},
   "outputs": [
    {
     "name": "stdout",
     "output_type": "stream",
     "text": [
      "0.9821428571428571\n"
     ]
    },
    {
     "data": {
      "text/html": [
       "<div>\n",
       "<style scoped>\n",
       "    .dataframe tbody tr th:only-of-type {\n",
       "        vertical-align: middle;\n",
       "    }\n",
       "\n",
       "    .dataframe tbody tr th {\n",
       "        vertical-align: top;\n",
       "    }\n",
       "\n",
       "    .dataframe thead th {\n",
       "        text-align: right;\n",
       "    }\n",
       "</style>\n",
       "<table border=\"1\" class=\"dataframe\">\n",
       "  <thead>\n",
       "    <tr style=\"text-align: right;\">\n",
       "      <th></th>\n",
       "      <th>2</th>\n",
       "      <th>3</th>\n",
       "      <th>4</th>\n",
       "      <th>accuracy</th>\n",
       "      <th>macro avg</th>\n",
       "      <th>weighted avg</th>\n",
       "    </tr>\n",
       "  </thead>\n",
       "  <tbody>\n",
       "    <tr>\n",
       "      <th>precision</th>\n",
       "      <td>0.955882</td>\n",
       "      <td>0.986907</td>\n",
       "      <td>0.989247</td>\n",
       "      <td>0.982143</td>\n",
       "      <td>0.977345</td>\n",
       "      <td>0.982344</td>\n",
       "    </tr>\n",
       "    <tr>\n",
       "      <th>recall</th>\n",
       "      <td>0.992366</td>\n",
       "      <td>0.988525</td>\n",
       "      <td>0.929293</td>\n",
       "      <td>0.982143</td>\n",
       "      <td>0.970061</td>\n",
       "      <td>0.982143</td>\n",
       "    </tr>\n",
       "    <tr>\n",
       "      <th>f1-score</th>\n",
       "      <td>0.973783</td>\n",
       "      <td>0.987715</td>\n",
       "      <td>0.958333</td>\n",
       "      <td>0.982143</td>\n",
       "      <td>0.973277</td>\n",
       "      <td>0.982079</td>\n",
       "    </tr>\n",
       "    <tr>\n",
       "      <th>support</th>\n",
       "      <td>131.000000</td>\n",
       "      <td>610.000000</td>\n",
       "      <td>99.000000</td>\n",
       "      <td>0.982143</td>\n",
       "      <td>840.000000</td>\n",
       "      <td>840.000000</td>\n",
       "    </tr>\n",
       "  </tbody>\n",
       "</table>\n",
       "</div>"
      ],
      "text/plain": [
       "                    2           3          4  accuracy   macro avg  \\\n",
       "precision    0.955882    0.986907   0.989247  0.982143    0.977345   \n",
       "recall       0.992366    0.988525   0.929293  0.982143    0.970061   \n",
       "f1-score     0.973783    0.987715   0.958333  0.982143    0.973277   \n",
       "support    131.000000  610.000000  99.000000  0.982143  840.000000   \n",
       "\n",
       "           weighted avg  \n",
       "precision      0.982344  \n",
       "recall         0.982143  \n",
       "f1-score       0.982079  \n",
       "support      840.000000  "
      ]
     },
     "execution_count": 44,
     "metadata": {},
     "output_type": "execute_result"
    }
   ],
   "source": [
    "# Finding accuracy, precision, recall and confusion matrix\n",
    "print(accuracy_score(y_train,y_predict_dtree_train))\n",
    "pd.DataFrame(classification_report(y_train,y_predict_dtree_train,output_dict=True))"
   ]
  },
  {
   "cell_type": "code",
   "execution_count": 45,
   "id": "358fc53a",
   "metadata": {},
   "outputs": [
    {
     "name": "stdout",
     "output_type": "stream",
     "text": [
      "0.9055555555555556\n"
     ]
    },
    {
     "data": {
      "text/html": [
       "<div>\n",
       "<style scoped>\n",
       "    .dataframe tbody tr th:only-of-type {\n",
       "        vertical-align: middle;\n",
       "    }\n",
       "\n",
       "    .dataframe tbody tr th {\n",
       "        vertical-align: top;\n",
       "    }\n",
       "\n",
       "    .dataframe thead th {\n",
       "        text-align: right;\n",
       "    }\n",
       "</style>\n",
       "<table border=\"1\" class=\"dataframe\">\n",
       "  <thead>\n",
       "    <tr style=\"text-align: right;\">\n",
       "      <th></th>\n",
       "      <th>2</th>\n",
       "      <th>3</th>\n",
       "      <th>4</th>\n",
       "      <th>accuracy</th>\n",
       "      <th>macro avg</th>\n",
       "      <th>weighted avg</th>\n",
       "    </tr>\n",
       "  </thead>\n",
       "  <tbody>\n",
       "    <tr>\n",
       "      <th>precision</th>\n",
       "      <td>0.852459</td>\n",
       "      <td>0.93633</td>\n",
       "      <td>0.750000</td>\n",
       "      <td>0.905556</td>\n",
       "      <td>0.846263</td>\n",
       "      <td>0.904572</td>\n",
       "    </tr>\n",
       "    <tr>\n",
       "      <th>recall</th>\n",
       "      <td>0.825397</td>\n",
       "      <td>0.94697</td>\n",
       "      <td>0.727273</td>\n",
       "      <td>0.905556</td>\n",
       "      <td>0.833213</td>\n",
       "      <td>0.905556</td>\n",
       "    </tr>\n",
       "    <tr>\n",
       "      <th>f1-score</th>\n",
       "      <td>0.838710</td>\n",
       "      <td>0.94162</td>\n",
       "      <td>0.738462</td>\n",
       "      <td>0.905556</td>\n",
       "      <td>0.839597</td>\n",
       "      <td>0.904988</td>\n",
       "    </tr>\n",
       "    <tr>\n",
       "      <th>support</th>\n",
       "      <td>63.000000</td>\n",
       "      <td>264.00000</td>\n",
       "      <td>33.000000</td>\n",
       "      <td>0.905556</td>\n",
       "      <td>360.000000</td>\n",
       "      <td>360.000000</td>\n",
       "    </tr>\n",
       "  </tbody>\n",
       "</table>\n",
       "</div>"
      ],
      "text/plain": [
       "                   2          3          4  accuracy   macro avg  weighted avg\n",
       "precision   0.852459    0.93633   0.750000  0.905556    0.846263      0.904572\n",
       "recall      0.825397    0.94697   0.727273  0.905556    0.833213      0.905556\n",
       "f1-score    0.838710    0.94162   0.738462  0.905556    0.839597      0.904988\n",
       "support    63.000000  264.00000  33.000000  0.905556  360.000000    360.000000"
      ]
     },
     "execution_count": 45,
     "metadata": {},
     "output_type": "execute_result"
    }
   ],
   "source": [
    "# Finding accuracy, precision, recall and confusion matrix\n",
    "print(accuracy_score(y_test,y_predict_dtree))\n",
    "pd.DataFrame(classification_report(y_test,y_predict_dtree,output_dict=True))"
   ]
  },
  {
   "cell_type": "markdown",
   "id": "969fc6d3",
   "metadata": {},
   "source": [
    "##### ✔️   With test data, we achieved an accuracy of 90%, and with training data, we achieved an accuracy of 98% in RandomForestClassifier"
   ]
  },
  {
   "cell_type": "markdown",
   "id": "fd4bf36b",
   "metadata": {},
   "source": [
    "## 5. Random Forest with GridSearchCV"
   ]
  },
  {
   "cell_type": "code",
   "execution_count": 46,
   "id": "ab50252a",
   "metadata": {},
   "outputs": [
    {
     "data": {
      "text/html": [
       "<style>#sk-container-id-5 {color: black;background-color: white;}#sk-container-id-5 pre{padding: 0;}#sk-container-id-5 div.sk-toggleable {background-color: white;}#sk-container-id-5 label.sk-toggleable__label {cursor: pointer;display: block;width: 100%;margin-bottom: 0;padding: 0.3em;box-sizing: border-box;text-align: center;}#sk-container-id-5 label.sk-toggleable__label-arrow:before {content: \"▸\";float: left;margin-right: 0.25em;color: #696969;}#sk-container-id-5 label.sk-toggleable__label-arrow:hover:before {color: black;}#sk-container-id-5 div.sk-estimator:hover label.sk-toggleable__label-arrow:before {color: black;}#sk-container-id-5 div.sk-toggleable__content {max-height: 0;max-width: 0;overflow: hidden;text-align: left;background-color: #f0f8ff;}#sk-container-id-5 div.sk-toggleable__content pre {margin: 0.2em;color: black;border-radius: 0.25em;background-color: #f0f8ff;}#sk-container-id-5 input.sk-toggleable__control:checked~div.sk-toggleable__content {max-height: 200px;max-width: 100%;overflow: auto;}#sk-container-id-5 input.sk-toggleable__control:checked~label.sk-toggleable__label-arrow:before {content: \"▾\";}#sk-container-id-5 div.sk-estimator input.sk-toggleable__control:checked~label.sk-toggleable__label {background-color: #d4ebff;}#sk-container-id-5 div.sk-label input.sk-toggleable__control:checked~label.sk-toggleable__label {background-color: #d4ebff;}#sk-container-id-5 input.sk-hidden--visually {border: 0;clip: rect(1px 1px 1px 1px);clip: rect(1px, 1px, 1px, 1px);height: 1px;margin: -1px;overflow: hidden;padding: 0;position: absolute;width: 1px;}#sk-container-id-5 div.sk-estimator {font-family: monospace;background-color: #f0f8ff;border: 1px dotted black;border-radius: 0.25em;box-sizing: border-box;margin-bottom: 0.5em;}#sk-container-id-5 div.sk-estimator:hover {background-color: #d4ebff;}#sk-container-id-5 div.sk-parallel-item::after {content: \"\";width: 100%;border-bottom: 1px solid gray;flex-grow: 1;}#sk-container-id-5 div.sk-label:hover label.sk-toggleable__label {background-color: #d4ebff;}#sk-container-id-5 div.sk-serial::before {content: \"\";position: absolute;border-left: 1px solid gray;box-sizing: border-box;top: 0;bottom: 0;left: 50%;z-index: 0;}#sk-container-id-5 div.sk-serial {display: flex;flex-direction: column;align-items: center;background-color: white;padding-right: 0.2em;padding-left: 0.2em;position: relative;}#sk-container-id-5 div.sk-item {position: relative;z-index: 1;}#sk-container-id-5 div.sk-parallel {display: flex;align-items: stretch;justify-content: center;background-color: white;position: relative;}#sk-container-id-5 div.sk-item::before, #sk-container-id-5 div.sk-parallel-item::before {content: \"\";position: absolute;border-left: 1px solid gray;box-sizing: border-box;top: 0;bottom: 0;left: 50%;z-index: -1;}#sk-container-id-5 div.sk-parallel-item {display: flex;flex-direction: column;z-index: 1;position: relative;background-color: white;}#sk-container-id-5 div.sk-parallel-item:first-child::after {align-self: flex-end;width: 50%;}#sk-container-id-5 div.sk-parallel-item:last-child::after {align-self: flex-start;width: 50%;}#sk-container-id-5 div.sk-parallel-item:only-child::after {width: 0;}#sk-container-id-5 div.sk-dashed-wrapped {border: 1px dashed gray;margin: 0 0.4em 0.5em 0.4em;box-sizing: border-box;padding-bottom: 0.4em;background-color: white;}#sk-container-id-5 div.sk-label label {font-family: monospace;font-weight: bold;display: inline-block;line-height: 1.2em;}#sk-container-id-5 div.sk-label-container {text-align: center;}#sk-container-id-5 div.sk-container {/* jupyter's `normalize.less` sets `[hidden] { display: none; }` but bootstrap.min.css set `[hidden] { display: none !important; }` so we also need the `!important` here to be able to override the default hidden behavior on the sphinx rendered scikit-learn.org. See: https://github.com/scikit-learn/scikit-learn/issues/21755 */display: inline-block !important;position: relative;}#sk-container-id-5 div.sk-text-repr-fallback {display: none;}</style><div id=\"sk-container-id-5\" class=\"sk-top-container\"><div class=\"sk-text-repr-fallback\"><pre>GridSearchCV(cv=10, estimator=RandomForestClassifier(random_state=33),\n",
       "             param_grid=[{&#x27;criterion&#x27;: [&#x27;gini&#x27;, &#x27;entropy&#x27;],\n",
       "                          &#x27;max_depth&#x27;: [2, 3, 4, 5, 6, 7, 8, 9, 10, 11, 12, 13,\n",
       "                                        14],\n",
       "                          &#x27;min_samples_leaf&#x27;: [1, 2, 3],\n",
       "                          &#x27;min_samples_split&#x27;: [2, 3, 4, 5]}],\n",
       "             scoring=&#x27;accuracy&#x27;)</pre><b>In a Jupyter environment, please rerun this cell to show the HTML representation or trust the notebook. <br />On GitHub, the HTML representation is unable to render, please try loading this page with nbviewer.org.</b></div><div class=\"sk-container\" hidden><div class=\"sk-item sk-dashed-wrapped\"><div class=\"sk-label-container\"><div class=\"sk-label sk-toggleable\"><input class=\"sk-toggleable__control sk-hidden--visually\" id=\"sk-estimator-id-7\" type=\"checkbox\" ><label for=\"sk-estimator-id-7\" class=\"sk-toggleable__label sk-toggleable__label-arrow\">GridSearchCV</label><div class=\"sk-toggleable__content\"><pre>GridSearchCV(cv=10, estimator=RandomForestClassifier(random_state=33),\n",
       "             param_grid=[{&#x27;criterion&#x27;: [&#x27;gini&#x27;, &#x27;entropy&#x27;],\n",
       "                          &#x27;max_depth&#x27;: [2, 3, 4, 5, 6, 7, 8, 9, 10, 11, 12, 13,\n",
       "                                        14],\n",
       "                          &#x27;min_samples_leaf&#x27;: [1, 2, 3],\n",
       "                          &#x27;min_samples_split&#x27;: [2, 3, 4, 5]}],\n",
       "             scoring=&#x27;accuracy&#x27;)</pre></div></div></div><div class=\"sk-parallel\"><div class=\"sk-parallel-item\"><div class=\"sk-item\"><div class=\"sk-label-container\"><div class=\"sk-label sk-toggleable\"><input class=\"sk-toggleable__control sk-hidden--visually\" id=\"sk-estimator-id-8\" type=\"checkbox\" ><label for=\"sk-estimator-id-8\" class=\"sk-toggleable__label sk-toggleable__label-arrow\">estimator: RandomForestClassifier</label><div class=\"sk-toggleable__content\"><pre>RandomForestClassifier(random_state=33)</pre></div></div></div><div class=\"sk-serial\"><div class=\"sk-item\"><div class=\"sk-estimator sk-toggleable\"><input class=\"sk-toggleable__control sk-hidden--visually\" id=\"sk-estimator-id-9\" type=\"checkbox\" ><label for=\"sk-estimator-id-9\" class=\"sk-toggleable__label sk-toggleable__label-arrow\">RandomForestClassifier</label><div class=\"sk-toggleable__content\"><pre>RandomForestClassifier(random_state=33)</pre></div></div></div></div></div></div></div></div></div></div>"
      ],
      "text/plain": [
       "GridSearchCV(cv=10, estimator=RandomForestClassifier(random_state=33),\n",
       "             param_grid=[{'criterion': ['gini', 'entropy'],\n",
       "                          'max_depth': [2, 3, 4, 5, 6, 7, 8, 9, 10, 11, 12, 13,\n",
       "                                        14],\n",
       "                          'min_samples_leaf': [1, 2, 3],\n",
       "                          'min_samples_split': [2, 3, 4, 5]}],\n",
       "             scoring='accuracy')"
      ]
     },
     "execution_count": 46,
     "metadata": {},
     "output_type": "execute_result"
    }
   ],
   "source": [
    "# Training the model\n",
    "from sklearn.ensemble import RandomForestClassifier\n",
    "\n",
    "classifier_rfg=RandomForestClassifier(random_state=33)\n",
    "parameters=[{'min_samples_split':[2,3,4,5],\n",
    "             'criterion':['gini','entropy'],\n",
    "             'min_samples_leaf':[1,2,3], \n",
    "             'max_depth': list(range(2,15))}]\n",
    "\n",
    "model_gridrf=GridSearchCV(estimator=classifier_rfg, param_grid=parameters, scoring='accuracy',cv=10)\n",
    "model_gridrf.fit(X_train,y_train)\n",
    "#   'n_estimators': list(range(100,501,100)),'max_features' : ['sqrt', 'log2']"
   ]
  },
  {
   "cell_type": "code",
   "execution_count": 47,
   "id": "12c4a0e6",
   "metadata": {},
   "outputs": [
    {
     "data": {
      "text/plain": [
       "{'criterion': 'entropy',\n",
       " 'max_depth': 7,\n",
       " 'min_samples_leaf': 1,\n",
       " 'min_samples_split': 2}"
      ]
     },
     "execution_count": 47,
     "metadata": {},
     "output_type": "execute_result"
    }
   ],
   "source": [
    "model_gridrf.best_params_"
   ]
  },
  {
   "cell_type": "code",
   "execution_count": 48,
   "id": "34710af4",
   "metadata": {},
   "outputs": [],
   "source": [
    "# Predicting the model\n",
    "rfc_pred_train = model_gridrf.predict(X_train)"
   ]
  },
  {
   "cell_type": "code",
   "execution_count": 49,
   "id": "6b1542ce",
   "metadata": {},
   "outputs": [],
   "source": [
    "# Predicting the model\n",
    "y_predict_rf = model_gridrf.predict(X_test)"
   ]
  },
  {
   "cell_type": "code",
   "execution_count": 50,
   "id": "f068e41d",
   "metadata": {},
   "outputs": [
    {
     "data": {
      "text/plain": [
       "array([[ 56,   7,   0],\n",
       "       [  4, 255,   5],\n",
       "       [  1,   7,  25]], dtype=int64)"
      ]
     },
     "execution_count": 50,
     "metadata": {},
     "output_type": "execute_result"
    }
   ],
   "source": [
    "confusion_matrix(y_test,y_predict_rf)"
   ]
  },
  {
   "cell_type": "code",
   "execution_count": 51,
   "id": "929760c4",
   "metadata": {},
   "outputs": [
    {
     "data": {
      "text/html": [
       "<div>\n",
       "<style scoped>\n",
       "    .dataframe tbody tr th:only-of-type {\n",
       "        vertical-align: middle;\n",
       "    }\n",
       "\n",
       "    .dataframe tbody tr th {\n",
       "        vertical-align: top;\n",
       "    }\n",
       "\n",
       "    .dataframe thead th {\n",
       "        text-align: right;\n",
       "    }\n",
       "</style>\n",
       "<table border=\"1\" class=\"dataframe\">\n",
       "  <thead>\n",
       "    <tr style=\"text-align: right;\">\n",
       "      <th></th>\n",
       "      <th>2</th>\n",
       "      <th>3</th>\n",
       "      <th>4</th>\n",
       "      <th>accuracy</th>\n",
       "      <th>macro avg</th>\n",
       "      <th>weighted avg</th>\n",
       "    </tr>\n",
       "  </thead>\n",
       "  <tbody>\n",
       "    <tr>\n",
       "      <th>precision</th>\n",
       "      <td>0.918033</td>\n",
       "      <td>0.947955</td>\n",
       "      <td>0.833333</td>\n",
       "      <td>0.933333</td>\n",
       "      <td>0.899774</td>\n",
       "      <td>0.932212</td>\n",
       "    </tr>\n",
       "    <tr>\n",
       "      <th>recall</th>\n",
       "      <td>0.888889</td>\n",
       "      <td>0.965909</td>\n",
       "      <td>0.757576</td>\n",
       "      <td>0.933333</td>\n",
       "      <td>0.870791</td>\n",
       "      <td>0.933333</td>\n",
       "    </tr>\n",
       "    <tr>\n",
       "      <th>f1-score</th>\n",
       "      <td>0.903226</td>\n",
       "      <td>0.956848</td>\n",
       "      <td>0.793651</td>\n",
       "      <td>0.933333</td>\n",
       "      <td>0.884575</td>\n",
       "      <td>0.932504</td>\n",
       "    </tr>\n",
       "    <tr>\n",
       "      <th>support</th>\n",
       "      <td>63.000000</td>\n",
       "      <td>264.000000</td>\n",
       "      <td>33.000000</td>\n",
       "      <td>0.933333</td>\n",
       "      <td>360.000000</td>\n",
       "      <td>360.000000</td>\n",
       "    </tr>\n",
       "  </tbody>\n",
       "</table>\n",
       "</div>"
      ],
      "text/plain": [
       "                   2           3          4  accuracy   macro avg  \\\n",
       "precision   0.918033    0.947955   0.833333  0.933333    0.899774   \n",
       "recall      0.888889    0.965909   0.757576  0.933333    0.870791   \n",
       "f1-score    0.903226    0.956848   0.793651  0.933333    0.884575   \n",
       "support    63.000000  264.000000  33.000000  0.933333  360.000000   \n",
       "\n",
       "           weighted avg  \n",
       "precision      0.932212  \n",
       "recall         0.933333  \n",
       "f1-score       0.932504  \n",
       "support      360.000000  "
      ]
     },
     "execution_count": 51,
     "metadata": {},
     "output_type": "execute_result"
    }
   ],
   "source": [
    "# The classification report of the model with train data\n",
    "\n",
    "pd.DataFrame(classification_report(y_test,y_predict_rf,output_dict=True))"
   ]
  },
  {
   "cell_type": "code",
   "execution_count": 52,
   "id": "064eb055",
   "metadata": {},
   "outputs": [
    {
     "data": {
      "text/plain": [
       "0.9619047619047619"
      ]
     },
     "execution_count": 52,
     "metadata": {},
     "output_type": "execute_result"
    }
   ],
   "source": [
    "# The accuracy score of the model with train data\n",
    "\n",
    "accuracy_score(y_train,rfc_pred_train)"
   ]
  },
  {
   "cell_type": "code",
   "execution_count": 53,
   "id": "4133df1f",
   "metadata": {},
   "outputs": [
    {
     "data": {
      "text/plain": [
       "0.9333333333333333"
      ]
     },
     "execution_count": 53,
     "metadata": {},
     "output_type": "execute_result"
    }
   ],
   "source": [
    "# The accuracy score of the model with test data\n",
    "\n",
    "accuracy_score(y_test,y_predict_rf)\n"
   ]
  },
  {
   "cell_type": "markdown",
   "id": "e8d31883",
   "metadata": {},
   "source": [
    "##### ✔️   With test data, we achieved an accuracy of 93%, and with training data, we achieved an accuracy of 96% in RandomForestClassifier"
   ]
  },
  {
   "cell_type": "markdown",
   "id": "17117f7c",
   "metadata": {},
   "source": [
    "## 7. Artificial Neural Network"
   ]
  },
  {
   "cell_type": "code",
   "execution_count": 54,
   "id": "e309c8c9",
   "metadata": {},
   "outputs": [
    {
     "data": {
      "text/html": [
       "<style>#sk-container-id-6 {color: black;background-color: white;}#sk-container-id-6 pre{padding: 0;}#sk-container-id-6 div.sk-toggleable {background-color: white;}#sk-container-id-6 label.sk-toggleable__label {cursor: pointer;display: block;width: 100%;margin-bottom: 0;padding: 0.3em;box-sizing: border-box;text-align: center;}#sk-container-id-6 label.sk-toggleable__label-arrow:before {content: \"▸\";float: left;margin-right: 0.25em;color: #696969;}#sk-container-id-6 label.sk-toggleable__label-arrow:hover:before {color: black;}#sk-container-id-6 div.sk-estimator:hover label.sk-toggleable__label-arrow:before {color: black;}#sk-container-id-6 div.sk-toggleable__content {max-height: 0;max-width: 0;overflow: hidden;text-align: left;background-color: #f0f8ff;}#sk-container-id-6 div.sk-toggleable__content pre {margin: 0.2em;color: black;border-radius: 0.25em;background-color: #f0f8ff;}#sk-container-id-6 input.sk-toggleable__control:checked~div.sk-toggleable__content {max-height: 200px;max-width: 100%;overflow: auto;}#sk-container-id-6 input.sk-toggleable__control:checked~label.sk-toggleable__label-arrow:before {content: \"▾\";}#sk-container-id-6 div.sk-estimator input.sk-toggleable__control:checked~label.sk-toggleable__label {background-color: #d4ebff;}#sk-container-id-6 div.sk-label input.sk-toggleable__control:checked~label.sk-toggleable__label {background-color: #d4ebff;}#sk-container-id-6 input.sk-hidden--visually {border: 0;clip: rect(1px 1px 1px 1px);clip: rect(1px, 1px, 1px, 1px);height: 1px;margin: -1px;overflow: hidden;padding: 0;position: absolute;width: 1px;}#sk-container-id-6 div.sk-estimator {font-family: monospace;background-color: #f0f8ff;border: 1px dotted black;border-radius: 0.25em;box-sizing: border-box;margin-bottom: 0.5em;}#sk-container-id-6 div.sk-estimator:hover {background-color: #d4ebff;}#sk-container-id-6 div.sk-parallel-item::after {content: \"\";width: 100%;border-bottom: 1px solid gray;flex-grow: 1;}#sk-container-id-6 div.sk-label:hover label.sk-toggleable__label {background-color: #d4ebff;}#sk-container-id-6 div.sk-serial::before {content: \"\";position: absolute;border-left: 1px solid gray;box-sizing: border-box;top: 0;bottom: 0;left: 50%;z-index: 0;}#sk-container-id-6 div.sk-serial {display: flex;flex-direction: column;align-items: center;background-color: white;padding-right: 0.2em;padding-left: 0.2em;position: relative;}#sk-container-id-6 div.sk-item {position: relative;z-index: 1;}#sk-container-id-6 div.sk-parallel {display: flex;align-items: stretch;justify-content: center;background-color: white;position: relative;}#sk-container-id-6 div.sk-item::before, #sk-container-id-6 div.sk-parallel-item::before {content: \"\";position: absolute;border-left: 1px solid gray;box-sizing: border-box;top: 0;bottom: 0;left: 50%;z-index: -1;}#sk-container-id-6 div.sk-parallel-item {display: flex;flex-direction: column;z-index: 1;position: relative;background-color: white;}#sk-container-id-6 div.sk-parallel-item:first-child::after {align-self: flex-end;width: 50%;}#sk-container-id-6 div.sk-parallel-item:last-child::after {align-self: flex-start;width: 50%;}#sk-container-id-6 div.sk-parallel-item:only-child::after {width: 0;}#sk-container-id-6 div.sk-dashed-wrapped {border: 1px dashed gray;margin: 0 0.4em 0.5em 0.4em;box-sizing: border-box;padding-bottom: 0.4em;background-color: white;}#sk-container-id-6 div.sk-label label {font-family: monospace;font-weight: bold;display: inline-block;line-height: 1.2em;}#sk-container-id-6 div.sk-label-container {text-align: center;}#sk-container-id-6 div.sk-container {/* jupyter's `normalize.less` sets `[hidden] { display: none; }` but bootstrap.min.css set `[hidden] { display: none !important; }` so we also need the `!important` here to be able to override the default hidden behavior on the sphinx rendered scikit-learn.org. See: https://github.com/scikit-learn/scikit-learn/issues/21755 */display: inline-block !important;position: relative;}#sk-container-id-6 div.sk-text-repr-fallback {display: none;}</style><div id=\"sk-container-id-6\" class=\"sk-top-container\"><div class=\"sk-text-repr-fallback\"><pre>MLPClassifier(batch_size=10, hidden_layer_sizes=(100, 100, 100),\n",
       "              learning_rate_init=0.01, max_iter=2000, random_state=10)</pre><b>In a Jupyter environment, please rerun this cell to show the HTML representation or trust the notebook. <br />On GitHub, the HTML representation is unable to render, please try loading this page with nbviewer.org.</b></div><div class=\"sk-container\" hidden><div class=\"sk-item\"><div class=\"sk-estimator sk-toggleable\"><input class=\"sk-toggleable__control sk-hidden--visually\" id=\"sk-estimator-id-10\" type=\"checkbox\" checked><label for=\"sk-estimator-id-10\" class=\"sk-toggleable__label sk-toggleable__label-arrow\">MLPClassifier</label><div class=\"sk-toggleable__content\"><pre>MLPClassifier(batch_size=10, hidden_layer_sizes=(100, 100, 100),\n",
       "              learning_rate_init=0.01, max_iter=2000, random_state=10)</pre></div></div></div></div></div>"
      ],
      "text/plain": [
       "MLPClassifier(batch_size=10, hidden_layer_sizes=(100, 100, 100),\n",
       "              learning_rate_init=0.01, max_iter=2000, random_state=10)"
      ]
     },
     "execution_count": 54,
     "metadata": {},
     "output_type": "execute_result"
    }
   ],
   "source": [
    "# Training the model\n",
    "from sklearn.neural_network import MLPClassifier\n",
    "model_mlp = MLPClassifier(hidden_layer_sizes=(100,100,100),batch_size=10,learning_rate_init=0.01,max_iter=2000,random_state=10)\n",
    "model_mlp.fit(X_train,y_train)"
   ]
  },
  {
   "cell_type": "code",
   "execution_count": 55,
   "id": "829e0c2d",
   "metadata": {},
   "outputs": [],
   "source": [
    "# Predicting the model\n",
    "y_predict_mlp = model_mlp.predict(X_test)"
   ]
  },
  {
   "cell_type": "code",
   "execution_count": 56,
   "id": "7ac599a3",
   "metadata": {},
   "outputs": [
    {
     "name": "stdout",
     "output_type": "stream",
     "text": [
      "0.8916666666666667\n",
      "              precision    recall  f1-score   support\n",
      "\n",
      "           2       0.78      0.81      0.80        63\n",
      "           3       0.93      0.94      0.93       264\n",
      "           4       0.81      0.67      0.73        33\n",
      "\n",
      "    accuracy                           0.89       360\n",
      "   macro avg       0.84      0.81      0.82       360\n",
      "weighted avg       0.89      0.89      0.89       360\n",
      "\n"
     ]
    }
   ],
   "source": [
    "# Finding accuracy, precision, recall and confusion matrix\n",
    "print(accuracy_score(y_test,y_predict_mlp))\n",
    "print(classification_report(y_test,y_predict_mlp))"
   ]
  },
  {
   "cell_type": "markdown",
   "id": "e3e4a7aa",
   "metadata": {},
   "source": [
    "##### ✔️   With test data, we achieved an accuracy of 89%, and with training data, we achieved an accuracy of 95% in RandomForestClassifier"
   ]
  },
  {
   "cell_type": "markdown",
   "id": "7b963090",
   "metadata": {},
   "source": [
    "# Model Compression"
   ]
  },
  {
   "cell_type": "code",
   "execution_count": 57,
   "id": "8d76c513",
   "metadata": {},
   "outputs": [],
   "source": [
    "x=PrettyTable()"
   ]
  },
  {
   "cell_type": "code",
   "execution_count": 58,
   "id": "e82f6f3d",
   "metadata": {},
   "outputs": [],
   "source": [
    "# Creating the table to compare the model accuracy\n",
    "\n",
    "x.field_names = [\"Model\",\"(test)Accuracy\", \"(train)Accuracy\"]\n",
    "x.add_row([\"Logistic Regression\",'81 %','79%'])\n",
    "x.add_row([\"K-Nearest Neighbor\", '82 %','90 %'])\n",
    "x.add_row([\"Support Vector Classifier\",'84 %','98 %'])\n",
    "x.add_row([\"Decision Trees Classifier with GridsearchCV\",'90 %','98 %'])\n",
    "x.add_row([\"Random Forest with GridsearchCV\",' 93 %','96 %'])\n",
    "x.add_row([\"Artificial Neural Networkt\", '89 %','95 %'])"
   ]
  },
  {
   "cell_type": "markdown",
   "id": "54f1157d",
   "metadata": {},
   "source": [
    "## The accuracy of the every model"
   ]
  },
  {
   "cell_type": "code",
   "execution_count": 59,
   "id": "0bb4ca81",
   "metadata": {},
   "outputs": [
    {
     "name": "stdout",
     "output_type": "stream",
     "text": [
      "+---------------------------------------------+----------------+-----------------+\n",
      "|                    Model                    | (test)Accuracy | (train)Accuracy |\n",
      "+---------------------------------------------+----------------+-----------------+\n",
      "|             Logistic Regression             |      81 %      |       79%       |\n",
      "|              K-Nearest Neighbor             |      82 %      |       90 %      |\n",
      "|          Support Vector Classifier          |      84 %      |       98 %      |\n",
      "| Decision Trees Classifier with GridsearchCV |      90 %      |       98 %      |\n",
      "|       Random Forest with GridsearchCV       |      93 %      |       96 %      |\n",
      "|          Artificial Neural Networkt         |      89 %      |       95 %      |\n",
      "+---------------------------------------------+----------------+-----------------+\n"
     ]
    }
   ],
   "source": [
    "print(x)"
   ]
  },
  {
   "cell_type": "markdown",
   "id": "61c8d87d",
   "metadata": {},
   "source": [
    "####  Based on the observations above, we can conclude thatRandom Forest with GridsearchCV is the best-fitting model with the  test data, we achieved an accuracy of 93%, and with training data, we achieved an accuracy of 96% accuracy for the given problem"
   ]
  },
  {
   "cell_type": "markdown",
   "id": "998f1bc7",
   "metadata": {},
   "source": [
    "# Conclusion"
   ]
  },
  {
   "cell_type": "markdown",
   "id": "4cc7223b",
   "metadata": {},
   "source": [
    "The overall employee performance can be achieved by employee environment satisfaction. The company needs to focus more on the employee environment.The salary hike will give the boost to the employees to perform well financially and psychologically.The promotion will help the employees to achieve more performance by giving the chance to be more responsible and leadership qualities."
   ]
  }
 ],
 "metadata": {
  "kernelspec": {
   "display_name": "Python 3 (ipykernel)",
   "language": "python",
   "name": "python3"
  },
  "language_info": {
   "codemirror_mode": {
    "name": "ipython",
    "version": 3
   },
   "file_extension": ".py",
   "mimetype": "text/x-python",
   "name": "python",
   "nbconvert_exporter": "python",
   "pygments_lexer": "ipython3",
   "version": "3.9.12"
  }
 },
 "nbformat": 4,
 "nbformat_minor": 5
}
